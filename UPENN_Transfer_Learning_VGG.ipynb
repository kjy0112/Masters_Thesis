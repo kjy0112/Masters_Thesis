{
  "nbformat": 4,
  "nbformat_minor": 0,
  "metadata": {
    "colab": {
      "name": "UPENN_Transfer_Learning_VGG.ipynb",
      "provenance": [],
      "collapsed_sections": [],
      "machine_shape": "hm"
    },
    "kernelspec": {
      "display_name": "Python 3",
      "name": "python3"
    },
    "language_info": {
      "name": "python"
    },
    "accelerator": "GPU",
    "widgets": {
      "application/vnd.jupyter.widget-state+json": {
        "fe246c83f0f84421b525c0c4e8b390fa": {
          "model_module": "@jupyter-widgets/controls",
          "model_name": "HBoxModel",
          "state": {
            "_view_name": "HBoxView",
            "_dom_classes": [],
            "_model_name": "HBoxModel",
            "_view_module": "@jupyter-widgets/controls",
            "_model_module_version": "1.5.0",
            "_view_count": null,
            "_view_module_version": "1.5.0",
            "box_style": "",
            "layout": "IPY_MODEL_d5d831c3cdcc4d299ede77c0e6a10a5b",
            "_model_module": "@jupyter-widgets/controls",
            "children": [
              "IPY_MODEL_3a4382fa686c41999c5c2ed6245a6a0e",
              "IPY_MODEL_68bc6039ee144954b54fb8034e868fb2"
            ]
          }
        },
        "d5d831c3cdcc4d299ede77c0e6a10a5b": {
          "model_module": "@jupyter-widgets/base",
          "model_name": "LayoutModel",
          "state": {
            "_view_name": "LayoutView",
            "grid_template_rows": null,
            "right": null,
            "justify_content": null,
            "_view_module": "@jupyter-widgets/base",
            "overflow": null,
            "_model_module_version": "1.2.0",
            "_view_count": null,
            "flex_flow": null,
            "width": null,
            "min_width": null,
            "border": null,
            "align_items": null,
            "bottom": null,
            "_model_module": "@jupyter-widgets/base",
            "top": null,
            "grid_column": null,
            "overflow_y": null,
            "overflow_x": null,
            "grid_auto_flow": null,
            "grid_area": null,
            "grid_template_columns": null,
            "flex": null,
            "_model_name": "LayoutModel",
            "justify_items": null,
            "grid_row": null,
            "max_height": null,
            "align_content": null,
            "visibility": null,
            "align_self": null,
            "height": null,
            "min_height": null,
            "padding": null,
            "grid_auto_rows": null,
            "grid_gap": null,
            "max_width": null,
            "order": null,
            "_view_module_version": "1.2.0",
            "grid_template_areas": null,
            "object_position": null,
            "object_fit": null,
            "grid_auto_columns": null,
            "margin": null,
            "display": null,
            "left": null
          }
        },
        "3a4382fa686c41999c5c2ed6245a6a0e": {
          "model_module": "@jupyter-widgets/controls",
          "model_name": "FloatProgressModel",
          "state": {
            "_view_name": "ProgressView",
            "style": "IPY_MODEL_92ff8e42a90d45c4b2953d245eb3d211",
            "_dom_classes": [],
            "description": "100%",
            "_model_name": "FloatProgressModel",
            "bar_style": "success",
            "max": 553433881,
            "_view_module": "@jupyter-widgets/controls",
            "_model_module_version": "1.5.0",
            "value": 553433881,
            "_view_count": null,
            "_view_module_version": "1.5.0",
            "orientation": "horizontal",
            "min": 0,
            "description_tooltip": null,
            "_model_module": "@jupyter-widgets/controls",
            "layout": "IPY_MODEL_3f93ce381fbe4a508946af38959b3839"
          }
        },
        "68bc6039ee144954b54fb8034e868fb2": {
          "model_module": "@jupyter-widgets/controls",
          "model_name": "HTMLModel",
          "state": {
            "_view_name": "HTMLView",
            "style": "IPY_MODEL_7659f0bec3fb464a82509074941c741c",
            "_dom_classes": [],
            "description": "",
            "_model_name": "HTMLModel",
            "placeholder": "​",
            "_view_module": "@jupyter-widgets/controls",
            "_model_module_version": "1.5.0",
            "value": " 528M/528M [15:38&lt;00:00, 590kB/s]",
            "_view_count": null,
            "_view_module_version": "1.5.0",
            "description_tooltip": null,
            "_model_module": "@jupyter-widgets/controls",
            "layout": "IPY_MODEL_956ca3d064ad467da13aecf96649f0aa"
          }
        },
        "92ff8e42a90d45c4b2953d245eb3d211": {
          "model_module": "@jupyter-widgets/controls",
          "model_name": "ProgressStyleModel",
          "state": {
            "_view_name": "StyleView",
            "_model_name": "ProgressStyleModel",
            "description_width": "initial",
            "_view_module": "@jupyter-widgets/base",
            "_model_module_version": "1.5.0",
            "_view_count": null,
            "_view_module_version": "1.2.0",
            "bar_color": null,
            "_model_module": "@jupyter-widgets/controls"
          }
        },
        "3f93ce381fbe4a508946af38959b3839": {
          "model_module": "@jupyter-widgets/base",
          "model_name": "LayoutModel",
          "state": {
            "_view_name": "LayoutView",
            "grid_template_rows": null,
            "right": null,
            "justify_content": null,
            "_view_module": "@jupyter-widgets/base",
            "overflow": null,
            "_model_module_version": "1.2.0",
            "_view_count": null,
            "flex_flow": null,
            "width": null,
            "min_width": null,
            "border": null,
            "align_items": null,
            "bottom": null,
            "_model_module": "@jupyter-widgets/base",
            "top": null,
            "grid_column": null,
            "overflow_y": null,
            "overflow_x": null,
            "grid_auto_flow": null,
            "grid_area": null,
            "grid_template_columns": null,
            "flex": null,
            "_model_name": "LayoutModel",
            "justify_items": null,
            "grid_row": null,
            "max_height": null,
            "align_content": null,
            "visibility": null,
            "align_self": null,
            "height": null,
            "min_height": null,
            "padding": null,
            "grid_auto_rows": null,
            "grid_gap": null,
            "max_width": null,
            "order": null,
            "_view_module_version": "1.2.0",
            "grid_template_areas": null,
            "object_position": null,
            "object_fit": null,
            "grid_auto_columns": null,
            "margin": null,
            "display": null,
            "left": null
          }
        },
        "7659f0bec3fb464a82509074941c741c": {
          "model_module": "@jupyter-widgets/controls",
          "model_name": "DescriptionStyleModel",
          "state": {
            "_view_name": "StyleView",
            "_model_name": "DescriptionStyleModel",
            "description_width": "",
            "_view_module": "@jupyter-widgets/base",
            "_model_module_version": "1.5.0",
            "_view_count": null,
            "_view_module_version": "1.2.0",
            "_model_module": "@jupyter-widgets/controls"
          }
        },
        "956ca3d064ad467da13aecf96649f0aa": {
          "model_module": "@jupyter-widgets/base",
          "model_name": "LayoutModel",
          "state": {
            "_view_name": "LayoutView",
            "grid_template_rows": null,
            "right": null,
            "justify_content": null,
            "_view_module": "@jupyter-widgets/base",
            "overflow": null,
            "_model_module_version": "1.2.0",
            "_view_count": null,
            "flex_flow": null,
            "width": null,
            "min_width": null,
            "border": null,
            "align_items": null,
            "bottom": null,
            "_model_module": "@jupyter-widgets/base",
            "top": null,
            "grid_column": null,
            "overflow_y": null,
            "overflow_x": null,
            "grid_auto_flow": null,
            "grid_area": null,
            "grid_template_columns": null,
            "flex": null,
            "_model_name": "LayoutModel",
            "justify_items": null,
            "grid_row": null,
            "max_height": null,
            "align_content": null,
            "visibility": null,
            "align_self": null,
            "height": null,
            "min_height": null,
            "padding": null,
            "grid_auto_rows": null,
            "grid_gap": null,
            "max_width": null,
            "order": null,
            "_view_module_version": "1.2.0",
            "grid_template_areas": null,
            "object_position": null,
            "object_fit": null,
            "grid_auto_columns": null,
            "margin": null,
            "display": null,
            "left": null
          }
        }
      }
    }
  },
  "cells": [
    {
      "cell_type": "code",
      "metadata": {
        "colab": {
          "base_uri": "https://localhost:8080/"
        },
        "id": "33HjYiHx16SC",
        "outputId": "848a36a4-6748-42b0-a7c3-36c5235a02b5"
      },
      "source": [
        "from google.colab import drive\n",
        "drive.mount('/content/drive')"
      ],
      "execution_count": 2,
      "outputs": [
        {
          "output_type": "stream",
          "text": [
            "Drive already mounted at /content/drive; to attempt to forcibly remount, call drive.mount(\"/content/drive\", force_remount=True).\n"
          ],
          "name": "stdout"
        }
      ]
    },
    {
      "cell_type": "code",
      "metadata": {
        "colab": {
          "base_uri": "https://localhost:8080/"
        },
        "id": "rI5lJteb17Lr",
        "outputId": "7c913fb5-11da-4aa3-d2cd-a2a252525915"
      },
      "source": [
        "gpu_info = !nvidia-smi\n",
        "gpu_info = '\\n'.join(gpu_info)\n",
        "if gpu_info.find('failed') >= 0:\n",
        "  print('Select the Runtime > \"Change runtime type\" menu to enable a GPU accelerator, ')\n",
        "  print('and then re-execute this cell.')\n",
        "else:\n",
        "  print(gpu_info)"
      ],
      "execution_count": 3,
      "outputs": [
        {
          "output_type": "stream",
          "text": [
            "Sat May 15 23:06:58 2021       \n",
            "+-----------------------------------------------------------------------------+\n",
            "| NVIDIA-SMI 465.19.01    Driver Version: 460.32.03    CUDA Version: 11.2     |\n",
            "|-------------------------------+----------------------+----------------------+\n",
            "| GPU  Name        Persistence-M| Bus-Id        Disp.A | Volatile Uncorr. ECC |\n",
            "| Fan  Temp  Perf  Pwr:Usage/Cap|         Memory-Usage | GPU-Util  Compute M. |\n",
            "|                               |                      |               MIG M. |\n",
            "|===============================+======================+======================|\n",
            "|   0  Tesla P100-PCIE...  Off  | 00000000:00:04.0 Off |                    0 |\n",
            "| N/A   41C    P0    27W / 250W |      0MiB / 16280MiB |      0%      Default |\n",
            "|                               |                      |                  N/A |\n",
            "+-------------------------------+----------------------+----------------------+\n",
            "                                                                               \n",
            "+-----------------------------------------------------------------------------+\n",
            "| Processes:                                                                  |\n",
            "|  GPU   GI   CI        PID   Type   Process name                  GPU Memory |\n",
            "|        ID   ID                                                   Usage      |\n",
            "|=============================================================================|\n",
            "|  No running processes found                                                 |\n",
            "+-----------------------------------------------------------------------------+\n"
          ],
          "name": "stdout"
        }
      ]
    },
    {
      "cell_type": "code",
      "metadata": {
        "colab": {
          "base_uri": "https://localhost:8080/"
        },
        "id": "eSF6HSv817OB",
        "outputId": "8dadb75a-3a9c-4e59-dc15-c0556904115a"
      },
      "source": [
        "from psutil import virtual_memory\n",
        "ram_gb = virtual_memory().total / 1e9\n",
        "print('Your runtime has {:.1f} gigabytes of available RAM\\n'.format(ram_gb))\n",
        "\n",
        "if ram_gb < 20:\n",
        "  print('To enable a high-RAM runtime, select the Runtime > \"Change runtime type\"')\n",
        "  print('menu, and then select High-RAM in the Runtime shape dropdown. Then, ')\n",
        "  print('re-execute this cell.')\n",
        "else:\n",
        "  print('You are using a high-RAM runtime!')"
      ],
      "execution_count": 4,
      "outputs": [
        {
          "output_type": "stream",
          "text": [
            "Your runtime has 27.3 gigabytes of available RAM\n",
            "\n",
            "You are using a high-RAM runtime!\n"
          ],
          "name": "stdout"
        }
      ]
    },
    {
      "cell_type": "code",
      "metadata": {
        "colab": {
          "base_uri": "https://localhost:8080/"
        },
        "id": "9Dfz-asa17Rx",
        "outputId": "6f453a8e-4280-4edf-d563-ba2a78531ed6"
      },
      "source": [
        "pip install pytesseract"
      ],
      "execution_count": 5,
      "outputs": [
        {
          "output_type": "stream",
          "text": [
            "Collecting pytesseract\n",
            "  Downloading https://files.pythonhosted.org/packages/a0/e6/a4e9fc8a93c1318540e8de6d8d4beb5749b7960388a7c7f27799fc2dd016/pytesseract-0.3.7.tar.gz\n",
            "Requirement already satisfied: Pillow in /usr/local/lib/python3.7/dist-packages (from pytesseract) (7.1.2)\n",
            "Building wheels for collected packages: pytesseract\n",
            "  Building wheel for pytesseract (setup.py) ... \u001b[?25l\u001b[?25hdone\n",
            "  Created wheel for pytesseract: filename=pytesseract-0.3.7-py2.py3-none-any.whl size=13945 sha256=3822fb6d7220efbfcc41dff91f5b868b22fdf14db340c2594447824af1a92731\n",
            "  Stored in directory: /root/.cache/pip/wheels/81/20/7e/1dd0daad1575d5260916bb1e9781246430647adaef4b3ca3b3\n",
            "Successfully built pytesseract\n",
            "Installing collected packages: pytesseract\n",
            "Successfully installed pytesseract-0.3.7\n"
          ],
          "name": "stdout"
        }
      ]
    },
    {
      "cell_type": "code",
      "metadata": {
        "colab": {
          "base_uri": "https://localhost:8080/"
        },
        "id": "05wlkKBb17UJ",
        "outputId": "746a0b9c-278e-4930-9546-453e75554eb0"
      },
      "source": [
        "pip install pydicom"
      ],
      "execution_count": 6,
      "outputs": [
        {
          "output_type": "stream",
          "text": [
            "Collecting pydicom\n",
            "\u001b[?25l  Downloading https://files.pythonhosted.org/packages/f4/15/df16546bc59bfca390cf072d473fb2c8acd4231636f64356593a63137e55/pydicom-2.1.2-py3-none-any.whl (1.9MB)\n",
            "\u001b[K     |████████████████████████████████| 1.9MB 11.3MB/s \n",
            "\u001b[?25hInstalling collected packages: pydicom\n",
            "Successfully installed pydicom-2.1.2\n"
          ],
          "name": "stdout"
        }
      ]
    },
    {
      "cell_type": "code",
      "metadata": {
        "colab": {
          "base_uri": "https://localhost:8080/"
        },
        "id": "QqN0_ix117YR",
        "outputId": "b105db02-4127-4b91-92a1-d77f90d12ee3"
      },
      "source": [
        "pip install albumentations"
      ],
      "execution_count": 7,
      "outputs": [
        {
          "output_type": "stream",
          "text": [
            "Requirement already satisfied: albumentations in /usr/local/lib/python3.7/dist-packages (0.1.12)\n",
            "Requirement already satisfied: scipy in /usr/local/lib/python3.7/dist-packages (from albumentations) (1.4.1)\n",
            "Requirement already satisfied: opencv-python in /usr/local/lib/python3.7/dist-packages (from albumentations) (4.1.2.30)\n",
            "Requirement already satisfied: numpy>=1.11.1 in /usr/local/lib/python3.7/dist-packages (from albumentations) (1.19.5)\n",
            "Collecting imgaug<0.2.7,>=0.2.5\n",
            "\u001b[?25l  Downloading https://files.pythonhosted.org/packages/ad/2e/748dbb7bb52ec8667098bae9b585f448569ae520031932687761165419a2/imgaug-0.2.6.tar.gz (631kB)\n",
            "\u001b[K     |████████████████████████████████| 634kB 10.5MB/s \n",
            "\u001b[?25hRequirement already satisfied: scikit-image>=0.11.0 in /usr/local/lib/python3.7/dist-packages (from imgaug<0.2.7,>=0.2.5->albumentations) (0.16.2)\n",
            "Requirement already satisfied: six in /usr/local/lib/python3.7/dist-packages (from imgaug<0.2.7,>=0.2.5->albumentations) (1.15.0)\n",
            "Requirement already satisfied: PyWavelets>=0.4.0 in /usr/local/lib/python3.7/dist-packages (from scikit-image>=0.11.0->imgaug<0.2.7,>=0.2.5->albumentations) (1.1.1)\n",
            "Requirement already satisfied: imageio>=2.3.0 in /usr/local/lib/python3.7/dist-packages (from scikit-image>=0.11.0->imgaug<0.2.7,>=0.2.5->albumentations) (2.4.1)\n",
            "Requirement already satisfied: matplotlib!=3.0.0,>=2.0.0 in /usr/local/lib/python3.7/dist-packages (from scikit-image>=0.11.0->imgaug<0.2.7,>=0.2.5->albumentations) (3.2.2)\n",
            "Requirement already satisfied: networkx>=2.0 in /usr/local/lib/python3.7/dist-packages (from scikit-image>=0.11.0->imgaug<0.2.7,>=0.2.5->albumentations) (2.5.1)\n",
            "Requirement already satisfied: pillow>=4.3.0 in /usr/local/lib/python3.7/dist-packages (from scikit-image>=0.11.0->imgaug<0.2.7,>=0.2.5->albumentations) (7.1.2)\n",
            "Requirement already satisfied: kiwisolver>=1.0.1 in /usr/local/lib/python3.7/dist-packages (from matplotlib!=3.0.0,>=2.0.0->scikit-image>=0.11.0->imgaug<0.2.7,>=0.2.5->albumentations) (1.3.1)\n",
            "Requirement already satisfied: python-dateutil>=2.1 in /usr/local/lib/python3.7/dist-packages (from matplotlib!=3.0.0,>=2.0.0->scikit-image>=0.11.0->imgaug<0.2.7,>=0.2.5->albumentations) (2.8.1)\n",
            "Requirement already satisfied: pyparsing!=2.0.4,!=2.1.2,!=2.1.6,>=2.0.1 in /usr/local/lib/python3.7/dist-packages (from matplotlib!=3.0.0,>=2.0.0->scikit-image>=0.11.0->imgaug<0.2.7,>=0.2.5->albumentations) (2.4.7)\n",
            "Requirement already satisfied: cycler>=0.10 in /usr/local/lib/python3.7/dist-packages (from matplotlib!=3.0.0,>=2.0.0->scikit-image>=0.11.0->imgaug<0.2.7,>=0.2.5->albumentations) (0.10.0)\n",
            "Requirement already satisfied: decorator<5,>=4.3 in /usr/local/lib/python3.7/dist-packages (from networkx>=2.0->scikit-image>=0.11.0->imgaug<0.2.7,>=0.2.5->albumentations) (4.4.2)\n",
            "Building wheels for collected packages: imgaug\n",
            "  Building wheel for imgaug (setup.py) ... \u001b[?25l\u001b[?25hdone\n",
            "  Created wheel for imgaug: filename=imgaug-0.2.6-cp37-none-any.whl size=654019 sha256=2ca19245a2412025e412e3186390a15e1362bfb4bb0abcb504a472a6bb5099ac\n",
            "  Stored in directory: /root/.cache/pip/wheels/97/ec/48/0d25896c417b715af6236dbcef8f0bed136a1a5e52972fc6d0\n",
            "Successfully built imgaug\n",
            "Installing collected packages: imgaug\n",
            "  Found existing installation: imgaug 0.2.9\n",
            "    Uninstalling imgaug-0.2.9:\n",
            "      Successfully uninstalled imgaug-0.2.9\n",
            "Successfully installed imgaug-0.2.6\n"
          ],
          "name": "stdout"
        }
      ]
    },
    {
      "cell_type": "code",
      "metadata": {
        "id": "pltpPiiv20OS"
      },
      "source": [
        "import time\n",
        "import csv\n",
        "import os\n",
        "import copy\n",
        "import re\n",
        "import shutil\n",
        "import pydicom\n",
        "import pytesseract\n",
        "import cv2\n",
        "import numpy as np\n",
        "import pandas as pd\n",
        "from matplotlib import pyplot as plt\n",
        "import torch\n",
        "import torch.nn as nn\n",
        "import torch.nn.functional as F\n",
        "import torch.optim as optim\n",
        "from torchvision import datasets, models, transforms\n",
        "from torch.utils.data import Dataset, DataLoader\n",
        "from sklearn.metrics import precision_score, recall_score, f1_score, roc_curve, auc\n",
        "import albumentations as A\n",
        "from albumentations.pytorch import ToTensor\n",
        "from scipy import interp"
      ],
      "execution_count": 8,
      "outputs": []
    },
    {
      "cell_type": "code",
      "metadata": {
        "colab": {
          "base_uri": "https://localhost:8080/"
        },
        "id": "My9rZfv121Pc",
        "outputId": "2b11fcb4-42fa-4e2c-a0db-a8892b7ed52d"
      },
      "source": [
        "device = torch.device(\"cuda:0\" if torch.cuda.is_available() else \"cpu\")\n",
        "device"
      ],
      "execution_count": 9,
      "outputs": [
        {
          "output_type": "execute_result",
          "data": {
            "text/plain": [
              "device(type='cuda', index=0)"
            ]
          },
          "metadata": {
            "tags": []
          },
          "execution_count": 9
        }
      ]
    },
    {
      "cell_type": "code",
      "metadata": {
        "id": "CAfoM6k322W8"
      },
      "source": [
        "class ImageDataset(Dataset):\n",
        "  def __init__(self, df, transform=None):\n",
        "    self.df = df\n",
        "    self.transform = transform         \n",
        "  \n",
        "  def __len__(self):\n",
        "    return len(self.df)\n",
        "\n",
        "  def __getitem__(self, idx):\n",
        "    img_name = self.df.iloc[idx,0]\n",
        "    data = pydicom.dcmread(img_name) # read dicom file\n",
        "    arr = data.pixel_array # read image into pixel data\n",
        "    shape = arr.shape\n",
        "    if len(shape) == 4:\n",
        "      arr = arr[0,:,:,0] # get the first slide of image\n",
        "    elif len(shape) == 3:\n",
        "      arr = arr[:,:,0] # get the first slide of image\n",
        "    else:\n",
        "      arr = arr\n",
        "    image = cv2.cvtColor(arr, cv2.COLOR_BGR2RGB)\n",
        "\n",
        "    labels = np.array(self.df.drop(['image_name'],axis=1))\n",
        "    label = labels[idx]\n",
        "\n",
        "    if self.transform:\n",
        "      image = self.transform(image=image)[\"image\"]\n",
        "    \n",
        "    return image, label"
      ],
      "execution_count": 10,
      "outputs": []
    },
    {
      "cell_type": "code",
      "metadata": {
        "id": "oTMYeb3b23Qc"
      },
      "source": [
        "from sklearn.model_selection import train_test_split\n",
        "\n",
        "df = pd.read_csv(\"/content/drive/MyDrive/Data_testing/file_names.csv\")\n",
        "\n",
        "means=(0.485, 0.456, 0.406)\n",
        "stds=(0.229, 0.224, 0.225)\n",
        "\n",
        "albumentation_train_transform = A.Compose([\n",
        "                                      A.Resize(256,256),\n",
        "                                      A.ShiftScaleRotate(shift_limit=0.05, scale_limit=0.05, rotate_limit=15, p=0.5),\n",
        "                                      A.RandomCrop(height=224, width=224),\n",
        "                                      A.RGBShift(r_shift_limit=15, g_shift_limit=15, b_shift_limit=15, p=0.5),\n",
        "                                      A.RandomBrightnessContrast(p=0.5),\n",
        "                                      A.Normalize(mean=means, std=stds),\n",
        "                                      ToTensor(),\n",
        "                                    ])\n",
        "albumentation_val_transform = A.Compose([\n",
        "                                      A.Resize(256,256),\n",
        "                                      A.CenterCrop(height=224, width=224),\n",
        "                                      A.Normalize(mean=means, std=stds),\n",
        "                                      ToTensor(),\n",
        "                                  ])\n",
        "\n",
        "(train_df, val_df) = train_test_split(df, test_size = 0.4)\n",
        "(val_df, test_df) = train_test_split(val_df, test_size = 0.5)\n",
        "\n",
        "train_dataset = ImageDataset(train_df, transform=albumentation_train_transform)\n",
        "val_dataset = ImageDataset(val_df, transform=albumentation_val_transform)\n",
        "test_dataset = ImageDataset(test_df, transform=albumentation_val_transform)\n",
        "\n",
        "batch_num = 64\n",
        "\n",
        "train_dataloader = DataLoader(train_dataset, batch_size=batch_num, shuffle=True, num_workers=2, pin_memory=True)\n",
        "val_dataloader = DataLoader(val_dataset, batch_size=batch_num//4, shuffle=False, num_workers=2, pin_memory=True)\n",
        "test_dataloader = DataLoader(test_dataset, batch_size=batch_num//4, shuffle=False, num_workers=2, pin_memory=True)"
      ],
      "execution_count": 11,
      "outputs": []
    },
    {
      "cell_type": "code",
      "metadata": {
        "id": "QgHfqNuB24U0"
      },
      "source": [
        "class MultiLabelVGG(nn.Module):\n",
        "  def __init__(self):\n",
        "    super(MultiLabelVGG, self).__init__()\n",
        "    self.vgg16 = models.vgg16(pretrained=True) \n",
        "    self.linear = nn.Linear(1000, 4)\n",
        "    self.relu = nn.ReLU()\n",
        "    self.sigmoid = nn.Sigmoid()\n",
        "\n",
        "  def forward(self, x):\n",
        "    x = self.vgg16(x)\n",
        "    x = self.relu(x)\n",
        "    x = self.linear(x)\n",
        "    x = self.sigmoid(x)\n",
        "    \n",
        "    return x"
      ],
      "execution_count": 12,
      "outputs": []
    },
    {
      "cell_type": "code",
      "metadata": {
        "id": "FlOhv6EA4Dk0"
      },
      "source": [
        "def calculate_metric(pred, label):\n",
        "  return {\n",
        "      \"micro_f1\":f1_score(y_true=label, y_pred=pred, average='micro'),\n",
        "      \"macro_f1\":f1_score(y_true=label, y_pred=pred, average='macro'),\n",
        "  }"
      ],
      "execution_count": 13,
      "outputs": []
    },
    {
      "cell_type": "code",
      "metadata": {
        "id": "gOtetGvU4E7c"
      },
      "source": [
        "def train_model(train_dataloader, val_dataloader, optimizer, criterion, net, threshold, num_epochs):\n",
        "  since = time.time()\n",
        "\n",
        "  tot_train_loss = []\n",
        "  tot_val_loss = []\n",
        "\n",
        "  tot_train_acc = []\n",
        "  tot_val_acc = []\n",
        "  \n",
        "  for epoch in range(num_epochs):\n",
        "    print(\"Epoch: {}/{}\".format(epoch, num_epochs-1))\n",
        "    print('-' * 10)\n",
        "\n",
        "    net.train()\n",
        "    \n",
        "    train_running_loss = 0.0\n",
        "    train_loss_values = []\n",
        "\n",
        "    train_outputs = []\n",
        "    train_labels = []\n",
        "\n",
        "    for idx, data in enumerate(train_dataloader):\n",
        "      img, label = data\n",
        "      img = img.to(device)\n",
        "      label = label.to(device)\n",
        "\n",
        "      optimizer.zero_grad()\n",
        "\n",
        "      outputs = net(img)\n",
        "      loss = criterion(outputs, label.type(torch.float))\n",
        "\n",
        "      pred = outputs.data > threshold\n",
        "      pred = pred.type(torch.float)\n",
        "\n",
        "      loss.backward()\n",
        "      optimizer.step()\n",
        "      \n",
        "      train_loss_values.append(loss.item())\n",
        "      train_running_loss += loss.item()\n",
        "\n",
        "      train_outputs.extend(pred.cpu().to(torch.int).numpy())\n",
        "      train_labels.extend(label.cpu().to(torch.int).numpy())\n",
        "\n",
        "    train_result = calculate_metric(np.array(train_outputs), np.array(train_labels))\n",
        "\n",
        "    net.eval()\n",
        "\n",
        "    validation_running_loss = 0.0\n",
        "    val_loss_values = []\n",
        "\n",
        "    with torch.no_grad():\n",
        "      val_outputs = []\n",
        "      val_labels = []\n",
        "      for val_idx, val_data in enumerate(val_dataloader):\n",
        "        val_img, val_label = val_data\n",
        "        val_img = val_img.to(device) \n",
        "        val_label = val_label.to(device)\n",
        "\n",
        "        val_output = net(val_img)\n",
        "\n",
        "        val_loss = criterion(val_output, val_label.type(torch.float))\n",
        "\n",
        "        val_pred = val_output.data > threshold\n",
        "        val_pred = val_pred.type(torch.float)\n",
        "\n",
        "        val_outputs.extend(val_pred.cpu().to(torch.int).numpy())\n",
        "        val_labels.extend(val_label.cpu().to(torch.int).numpy())\n",
        "\n",
        "        val_loss_values.append(val_loss.item())\n",
        "        validation_running_loss += val_loss.item()\n",
        "\n",
        "    val_result = calculate_metric(np.array(val_outputs), np.array(val_labels))\n",
        "\n",
        "    final_train_loss = train_running_loss/len(train_dataloader)\n",
        "    final_val_loss = validation_running_loss/len(val_dataloader)\n",
        "\n",
        "    tot_train_loss.append(final_train_loss)\n",
        "    tot_val_loss.append(final_val_loss)\n",
        "\n",
        "    tot_train_acc.append(train_result)\n",
        "    tot_val_acc.append(val_result)\n",
        "\n",
        "    print(\"train loss: {}\".format(final_train_loss))\n",
        "    print(\"validation loss: {}\".format(final_val_loss))\n",
        "    print(\"train accuracy:\\n\",train_result)\n",
        "    print(\"validation accuracy:\\n\",val_result)\n",
        "    print()\n",
        "\n",
        "  tot_time = time.time() - since\n",
        "  print('Training complete in {:.0f}m {:.0f}s'.format(tot_time // 60, tot_time % 60))\n",
        "\n",
        "  return net, tot_train_loss, tot_val_loss, tot_train_acc, tot_val_acc "
      ],
      "execution_count": 14,
      "outputs": []
    },
    {
      "cell_type": "code",
      "metadata": {
        "id": "pgD0tG6k4F_c",
        "colab": {
          "base_uri": "https://localhost:8080/",
          "height": 85,
          "referenced_widgets": [
            "fe246c83f0f84421b525c0c4e8b390fa",
            "d5d831c3cdcc4d299ede77c0e6a10a5b",
            "3a4382fa686c41999c5c2ed6245a6a0e",
            "68bc6039ee144954b54fb8034e868fb2",
            "92ff8e42a90d45c4b2953d245eb3d211",
            "3f93ce381fbe4a508946af38959b3839",
            "7659f0bec3fb464a82509074941c741c",
            "956ca3d064ad467da13aecf96649f0aa"
          ]
        },
        "outputId": "600c6e1f-4c2a-4fc1-81e7-e569f24a61e3"
      },
      "source": [
        "network = MultiLabelVGG()\n",
        "network = network.to(device)\n",
        "criterion = torch.nn.BCELoss()\n",
        "optimizer = optim.Adam(network.parameters(), lr=0.00001)"
      ],
      "execution_count": 15,
      "outputs": [
        {
          "output_type": "stream",
          "text": [
            "Downloading: \"https://download.pytorch.org/models/vgg16-397923af.pth\" to /root/.cache/torch/hub/checkpoints/vgg16-397923af.pth\n"
          ],
          "name": "stderr"
        },
        {
          "output_type": "display_data",
          "data": {
            "application/vnd.jupyter.widget-view+json": {
              "model_id": "fe246c83f0f84421b525c0c4e8b390fa",
              "version_minor": 0,
              "version_major": 2
            },
            "text/plain": [
              "HBox(children=(FloatProgress(value=0.0, max=553433881.0), HTML(value='')))"
            ]
          },
          "metadata": {
            "tags": []
          }
        },
        {
          "output_type": "stream",
          "text": [
            "\n"
          ],
          "name": "stdout"
        }
      ]
    },
    {
      "cell_type": "code",
      "metadata": {
        "colab": {
          "base_uri": "https://localhost:8080/"
        },
        "id": "OAU2MoZW4Ids",
        "outputId": "3e41e1a3-4ada-408f-d991-724652353567"
      },
      "source": [
        "train_ft, vgg_train_loss, vgg_val_loss, vgg_train_result, vgg_val_result = train_model(train_dataloader, val_dataloader, optimizer, criterion, network, 0.5, 41)"
      ],
      "execution_count": 16,
      "outputs": [
        {
          "output_type": "stream",
          "text": [
            "Epoch: 0/40\n",
            "----------\n",
            "train loss: 0.5539396875783017\n",
            "validation loss: 0.46389758825302124\n",
            "train accuracy:\n",
            " {'micro_f1': 0.6360097323600973, 'macro_f1': 0.495592874704418}\n",
            "validation accuracy:\n",
            " {'micro_f1': 0.6978470675575351, 'macro_f1': 0.6102604656501898}\n",
            "\n",
            "Epoch: 1/40\n",
            "----------\n",
            "train loss: 0.4188241942932731\n",
            "validation loss: 0.3603786075115204\n",
            "train accuracy:\n",
            " {'micro_f1': 0.7623382846190705, 'macro_f1': 0.7169906466805085}\n",
            "validation accuracy:\n",
            " {'micro_f1': 0.8058455114822548, 'macro_f1': 0.7806892829606115}\n",
            "\n",
            "Epoch: 2/40\n",
            "----------\n",
            "train loss: 0.33528132187692744\n",
            "validation loss: 0.28496572852134705\n",
            "train accuracy:\n",
            " {'micro_f1': 0.8195876288659794, 'macro_f1': 0.7944097842548277}\n",
            "validation accuracy:\n",
            " {'micro_f1': 0.8607068607068608, 'macro_f1': 0.8434706473910861}\n",
            "\n",
            "Epoch: 3/40\n",
            "----------\n",
            "train loss: 0.2687529035304722\n",
            "validation loss: 0.2504146134853363\n",
            "train accuracy:\n",
            " {'micro_f1': 0.864066466651281, 'macro_f1': 0.8481808653161456}\n",
            "validation accuracy:\n",
            " {'micro_f1': 0.8858321870701513, 'macro_f1': 0.8731207759413923}\n",
            "\n",
            "Epoch: 4/40\n",
            "----------\n",
            "train loss: 0.22027042351270976\n",
            "validation loss: 0.22848850786685942\n",
            "train accuracy:\n",
            " {'micro_f1': 0.897014579958343, 'macro_f1': 0.8849304332631736}\n",
            "validation accuracy:\n",
            " {'micro_f1': 0.8924949290060852, 'macro_f1': 0.8834583721471118}\n",
            "\n",
            "Epoch: 5/40\n",
            "----------\n",
            "train loss: 0.21213540121128685\n",
            "validation loss: 0.19799894571304322\n",
            "train accuracy:\n",
            " {'micro_f1': 0.9005283712382266, 'macro_f1': 0.890776792293591}\n",
            "validation accuracy:\n",
            " {'micro_f1': 0.9025221540558964, 'macro_f1': 0.895091240750519}\n",
            "\n",
            "Epoch: 6/40\n",
            "----------\n",
            "train loss: 0.1801601993410211\n",
            "validation loss: 0.21486457973718642\n",
            "train accuracy:\n",
            " {'micro_f1': 0.9168580615525953, 'macro_f1': 0.908446651141192}\n",
            "validation accuracy:\n",
            " {'micro_f1': 0.8941335131490222, 'macro_f1': 0.8867571371102366}\n",
            "\n",
            "Epoch: 7/40\n",
            "----------\n",
            "train loss: 0.1568441489025166\n",
            "validation loss: 0.1895534098148346\n",
            "train accuracy:\n",
            " {'micro_f1': 0.9321994943691105, 'macro_f1': 0.9264565375171973}\n",
            "validation accuracy:\n",
            " {'micro_f1': 0.9103169251517196, 'macro_f1': 0.9040998328253749}\n",
            "\n",
            "Epoch: 8/40\n",
            "----------\n",
            "train loss: 0.1318213849475509\n",
            "validation loss: 0.1769220384955406\n",
            "train accuracy:\n",
            " {'micro_f1': 0.9416628387689482, 'macro_f1': 0.9364039792576327}\n",
            "validation accuracy:\n",
            " {'micro_f1': 0.91854893908282, 'macro_f1': 0.9121234094704367}\n",
            "\n",
            "Epoch: 9/40\n",
            "----------\n",
            "train loss: 0.11683910496925053\n",
            "validation loss: 0.17744163811206817\n",
            "train accuracy:\n",
            " {'micro_f1': 0.9466452942523471, 'macro_f1': 0.9419194812665128}\n",
            "validation accuracy:\n",
            " {'micro_f1': 0.9180771834800271, 'macro_f1': 0.9124156849116527}\n",
            "\n",
            "Epoch: 10/40\n",
            "----------\n",
            "train loss: 0.11093188037997798\n",
            "validation loss: 0.17293398439884186\n",
            "train accuracy:\n",
            " {'micro_f1': 0.9511803804721521, 'macro_f1': 0.9474578540808332}\n",
            "validation accuracy:\n",
            " {'micro_f1': 0.9276139410187668, 'macro_f1': 0.9232867818058796}\n",
            "\n",
            "Epoch: 11/40\n",
            "----------\n",
            "train loss: 0.11183043196797371\n",
            "validation loss: 0.17693127200007439\n",
            "train accuracy:\n",
            " {'micro_f1': 0.955367360952163, 'macro_f1': 0.9519885493528711}\n",
            "validation accuracy:\n",
            " {'micro_f1': 0.9212121212121211, 'macro_f1': 0.9165251249231632}\n",
            "\n",
            "Epoch: 12/40\n",
            "----------\n",
            "train loss: 0.1018312718523176\n",
            "validation loss: 0.18160800576210023\n",
            "train accuracy:\n",
            " {'micro_f1': 0.9574614853989423, 'macro_f1': 0.9541821011009028}\n",
            "validation accuracy:\n",
            " {'micro_f1': 0.9280868385345997, 'macro_f1': 0.9229112162512677}\n",
            "\n",
            "Epoch: 13/40\n",
            "----------\n",
            "train loss: 0.07694711281280768\n",
            "validation loss: 0.16257350586354732\n",
            "train accuracy:\n",
            " {'micro_f1': 0.9704737926298924, 'macro_f1': 0.9680011664924335}\n",
            "validation accuracy:\n",
            " {'micro_f1': 0.9313392250169953, 'macro_f1': 0.9259666526130068}\n",
            "\n",
            "Epoch: 14/40\n",
            "----------\n",
            "train loss: 0.07717370183060043\n",
            "validation loss: 0.15635211199522017\n",
            "train accuracy:\n",
            " {'micro_f1': 0.9722921914357683, 'macro_f1': 0.9702032925087561}\n",
            "validation accuracy:\n",
            " {'micro_f1': 0.9368131868131868, 'macro_f1': 0.9316608989712231}\n",
            "\n",
            "Epoch: 15/40\n",
            "----------\n",
            "train loss: 0.06302082852313393\n",
            "validation loss: 0.16577584765851497\n",
            "train accuracy:\n",
            " {'micro_f1': 0.9770957398076042, 'macro_f1': 0.974699651602916}\n",
            "validation accuracy:\n",
            " {'micro_f1': 0.9376285126799178, 'macro_f1': 0.9317772980468011}\n",
            "\n",
            "Epoch: 16/40\n",
            "----------\n",
            "train loss: 0.055618458672573694\n",
            "validation loss: 0.16427773497998716\n",
            "train accuracy:\n",
            " {'micro_f1': 0.9786843914737567, 'macro_f1': 0.977073549226228}\n",
            "validation accuracy:\n",
            " {'micro_f1': 0.9396252602359473, 'macro_f1': 0.9335380469502093}\n",
            "\n",
            "Epoch: 17/40\n",
            "----------\n",
            "train loss: 0.047529998970659154\n",
            "validation loss: 0.1577204390987754\n",
            "train accuracy:\n",
            " {'micro_f1': 0.9811753902662994, 'macro_f1': 0.9797652696771209}\n",
            "validation accuracy:\n",
            " {'micro_f1': 0.9420689655172414, 'macro_f1': 0.9366872695733184}\n",
            "\n",
            "Epoch: 18/40\n",
            "----------\n",
            "train loss: 0.03944495202679383\n",
            "validation loss: 0.19888425286859274\n",
            "train accuracy:\n",
            " {'micro_f1': 0.9834558823529411, 'macro_f1': 0.9813748618615867}\n",
            "validation accuracy:\n",
            " {'micro_f1': 0.9297520661157026, 'macro_f1': 0.923049090267038}\n",
            "\n",
            "Epoch: 19/40\n",
            "----------\n",
            "train loss: 0.051095634208698025\n",
            "validation loss: 0.18551931980997324\n",
            "train accuracy:\n",
            " {'micro_f1': 0.9781859931113663, 'macro_f1': 0.9765841897140075}\n",
            "validation accuracy:\n",
            " {'micro_f1': 0.9363762102351314, 'macro_f1': 0.9304802293276292}\n",
            "\n",
            "Epoch: 20/40\n",
            "----------\n",
            "train loss: 0.03675470898221982\n",
            "validation loss: 0.16467746544629336\n",
            "train accuracy:\n",
            " {'micro_f1': 0.986739826245999, 'macro_f1': 0.9857848958438675}\n",
            "validation accuracy:\n",
            " {'micro_f1': 0.945983379501385, 'macro_f1': 0.9406565662081309}\n",
            "\n",
            "Epoch: 21/40\n",
            "----------\n",
            "train loss: 0.03695429400785973\n",
            "validation loss: 0.1685354195535183\n",
            "train accuracy:\n",
            " {'micro_f1': 0.9880459770114942, 'macro_f1': 0.986841195649122}\n",
            "validation accuracy:\n",
            " {'micro_f1': 0.9424657534246575, 'macro_f1': 0.9382637276297416}\n",
            "\n",
            "Epoch: 22/40\n",
            "----------\n",
            "train loss: 0.031148256537945646\n",
            "validation loss: 0.17638910621404646\n",
            "train accuracy:\n",
            " {'micro_f1': 0.9873475960432482, 'macro_f1': 0.9860830899802697}\n",
            "validation accuracy:\n",
            " {'micro_f1': 0.9439124487004105, 'macro_f1': 0.9399051248032007}\n",
            "\n",
            "Epoch: 23/40\n",
            "----------\n",
            "train loss: 0.034670239804606685\n",
            "validation loss: 0.18841865722090007\n",
            "train accuracy:\n",
            " {'micro_f1': 0.9864647855012618, 'macro_f1': 0.9852837887820736}\n",
            "validation accuracy:\n",
            " {'micro_f1': 0.9422283356258597, 'macro_f1': 0.9369536506948857}\n",
            "\n",
            "Epoch: 24/40\n",
            "----------\n",
            "train loss: 0.0269652512414675\n",
            "validation loss: 0.1819446727260947\n",
            "train accuracy:\n",
            " {'micro_f1': 0.9924225028702641, 'macro_f1': 0.992061664858587}\n",
            "validation accuracy:\n",
            " {'micro_f1': 0.9443298969072166, 'macro_f1': 0.9393950135351351}\n",
            "\n",
            "Epoch: 25/40\n",
            "----------\n",
            "train loss: 0.025483435142393176\n",
            "validation loss: 0.18785205107182265\n",
            "train accuracy:\n",
            " {'micro_f1': 0.9892374627891001, 'macro_f1': 0.9885358462599869}\n",
            "validation accuracy:\n",
            " {'micro_f1': 0.9419174247725681, 'macro_f1': 0.9356155452327822}\n",
            "\n",
            "Epoch: 26/40\n",
            "----------\n",
            "train loss: 0.023430945817381144\n",
            "validation loss: 0.18685990175232292\n",
            "train accuracy:\n",
            " {'micro_f1': 0.989207807118255, 'macro_f1': 0.9881247366688013}\n",
            "validation accuracy:\n",
            " {'micro_f1': 0.945983379501385, 'macro_f1': 0.9406611103709193}\n",
            "\n",
            "Epoch: 27/40\n",
            "----------\n",
            "train loss: 0.026250956261432486\n",
            "validation loss: 0.19435652201995254\n",
            "train accuracy:\n",
            " {'micro_f1': 0.9908214777420835, 'macro_f1': 0.9893013552438067}\n",
            "validation accuracy:\n",
            " {'micro_f1': 0.9444825222755312, 'macro_f1': 0.9388420055659169}\n",
            "\n",
            "Epoch: 28/40\n",
            "----------\n",
            "train loss: 0.0222254586651137\n",
            "validation loss: 0.17659868124872447\n",
            "train accuracy:\n",
            " {'micro_f1': 0.9912764003673095, 'macro_f1': 0.9905987304855035}\n",
            "validation accuracy:\n",
            " {'micro_f1': 0.9451303155006858, 'macro_f1': 0.9406460681499306}\n",
            "\n",
            "Epoch: 29/40\n",
            "----------\n",
            "train loss: 0.012465042380714103\n",
            "validation loss: 0.18343758378177882\n",
            "train accuracy:\n",
            " {'micro_f1': 0.9960946473696302, 'macro_f1': 0.9958111353003298}\n",
            "validation accuracy:\n",
            " {'micro_f1': 0.9488243430152143, 'macro_f1': 0.9443838711905873}\n",
            "\n",
            "Epoch: 30/40\n",
            "----------\n",
            "train loss: 0.014335348969325423\n",
            "validation loss: 0.18743772879242898\n",
            "train accuracy:\n",
            " {'micro_f1': 0.9949448529411765, 'macro_f1': 0.9943206592986615}\n",
            "validation accuracy:\n",
            " {'micro_f1': 0.9493150684931507, 'macro_f1': 0.945592407770003}\n",
            "\n",
            "Epoch: 31/40\n",
            "----------\n",
            "train loss: 0.012724055884111869\n",
            "validation loss: 0.19102280045859515\n",
            "train accuracy:\n",
            " {'micro_f1': 0.9951801698416342, 'macro_f1': 0.994808438124339}\n",
            "validation accuracy:\n",
            " {'micro_f1': 0.9444063143445436, 'macro_f1': 0.940030988684035}\n",
            "\n",
            "Epoch: 32/40\n",
            "----------\n",
            "train loss: 0.014953862152699577\n",
            "validation loss: 0.1985786364832893\n",
            "train accuracy:\n",
            " {'micro_f1': 0.9940284795590262, 'macro_f1': 0.9931644666367777}\n",
            "validation accuracy:\n",
            " {'micro_f1': 0.9442532690984171, 'macro_f1': 0.9392340707143778}\n",
            "\n",
            "Epoch: 33/40\n",
            "----------\n",
            "train loss: 0.011654158257634231\n",
            "validation loss: 0.2543960869126022\n",
            "train accuracy:\n",
            " {'micro_f1': 0.9958715596330275, 'macro_f1': 0.9955617964910362}\n",
            "validation accuracy:\n",
            " {'micro_f1': 0.9379310344827587, 'macro_f1': 0.9311884089111402}\n",
            "\n",
            "Epoch: 34/40\n",
            "----------\n",
            "train loss: 0.014642654158371059\n",
            "validation loss: 0.20469574567861856\n",
            "train accuracy:\n",
            " {'micro_f1': 0.9947235604496444, 'macro_f1': 0.9944371181119349}\n",
            "validation accuracy:\n",
            " {'micro_f1': 0.9415855354659248, 'macro_f1': 0.9357257471778466}\n",
            "\n",
            "Epoch: 35/40\n",
            "----------\n",
            "train loss: 0.012786803105355878\n",
            "validation loss: 0.22013740392401815\n",
            "train accuracy:\n",
            " {'micro_f1': 0.9951735233279707, 'macro_f1': 0.9949088570502678}\n",
            "validation accuracy:\n",
            " {'micro_f1': 0.9449035812672176, 'macro_f1': 0.9398876223480139}\n",
            "\n",
            "Epoch: 36/40\n",
            "----------\n",
            "train loss: 0.01694872047703125\n",
            "validation loss: 0.22945137467235327\n",
            "train accuracy:\n",
            " {'micro_f1': 0.9931097841065686, 'macro_f1': 0.9925618860510805}\n",
            "validation accuracy:\n",
            " {'micro_f1': 0.9451303155006858, 'macro_f1': 0.9395094974815015}\n",
            "\n",
            "Epoch: 37/40\n",
            "----------\n",
            "train loss: 0.008657707575414526\n",
            "validation loss: 0.22299623976927252\n",
            "train accuracy:\n",
            " {'micro_f1': 0.9972401103955841, 'macro_f1': 0.9970212067941584}\n",
            "validation accuracy:\n",
            " {'micro_f1': 0.9436813186813188, 'macro_f1': 0.9387496671659411}\n",
            "\n",
            "Epoch: 38/40\n",
            "----------\n",
            "train loss: 0.009352361746622543\n",
            "validation loss: 0.21654225481674075\n",
            "train accuracy:\n",
            " {'micro_f1': 0.9963235294117647, 'macro_f1': 0.9960434161263272}\n",
            "validation accuracy:\n",
            " {'micro_f1': 0.9440654843110504, 'macro_f1': 0.9398219314365245}\n",
            "\n",
            "Epoch: 39/40\n",
            "----------\n",
            "train loss: 0.013681829514864245\n",
            "validation loss: 0.2327090728096664\n",
            "train accuracy:\n",
            " {'micro_f1': 0.9954065227377124, 'macro_f1': 0.9950512361104562}\n",
            "validation accuracy:\n",
            " {'micro_f1': 0.9467213114754098, 'macro_f1': 0.9415718005377702}\n",
            "\n",
            "Epoch: 40/40\n",
            "----------\n",
            "train loss: 0.021402768104484205\n",
            "validation loss: 0.19883678208570926\n",
            "train accuracy:\n",
            " {'micro_f1': 0.9954086317722682, 'macro_f1': 0.9950588235294118}\n",
            "validation accuracy:\n",
            " {'micro_f1': 0.9461325966850829, 'macro_f1': 0.940232286298404}\n",
            "\n",
            "Training complete in 19m 14s\n"
          ],
          "name": "stdout"
        }
      ]
    },
    {
      "cell_type": "code",
      "metadata": {
        "colab": {
          "base_uri": "https://localhost:8080/",
          "height": 295
        },
        "id": "wyRDoFcy4Kqc",
        "outputId": "d4db886c-19e7-4a44-ed4e-bff23b4a6a62"
      },
      "source": [
        "plt.plot(vgg_train_loss, label='Train Loss')\n",
        "plt.plot(vgg_val_loss, label='Validation Loss')\n",
        "plt.legend()\n",
        "plt.title(\"Loss curves\")\n",
        "plt.xlabel(\"Epoch\")\n",
        "plt.ylabel(\"Loss\")\n",
        "plt.grid()"
      ],
      "execution_count": 17,
      "outputs": [
        {
          "output_type": "display_data",
          "data": {
            "image/png": "[encoded data removed]",
            "text/plain": [
              "<Figure size 432x288 with 1 Axes>"
            ]
          },
          "metadata": {
            "tags": [],
            "needs_background": "light"
          }
        }
      ]
    },
    {
      "cell_type": "code",
      "metadata": {
        "colab": {
          "base_uri": "https://localhost:8080/",
          "height": 295
        },
        "id": "4x2L2hi54LOb",
        "outputId": "8b1a8b45-79a5-4971-d757-53798fc7caf4"
      },
      "source": [
        "a = []\n",
        "b = []\n",
        "for result in vgg_train_result:\n",
        "  a.append(result[\"micro_f1\"]*100)\n",
        "\n",
        "for result in vgg_val_result:\n",
        "  b.append(result[\"micro_f1\"]*100)\n",
        "\n",
        "plt.plot(a, label='Train Accuracy')\n",
        "plt.plot(b, label='Validation Accuracy')\n",
        "plt.legend()\n",
        "plt.title(\"Accuracy curves for micro f1\")\n",
        "plt.xlabel(\"Epoch\")\n",
        "plt.ylabel(\"Accuracy\")\n",
        "plt.grid()"
      ],
      "execution_count": 18,
      "outputs": [
        {
          "output_type": "display_data",
          "data": {
            "image/png": "[encoded data removed]",
            "text/plain": [
              "<Figure size 432x288 with 1 Axes>"
            ]
          },
          "metadata": {
            "tags": [],
            "needs_background": "light"
          }
        }
      ]
    },
    {
      "cell_type": "code",
      "metadata": {
        "colab": {
          "base_uri": "https://localhost:8080/",
          "height": 295
        },
        "id": "-EhD1zS_4LQq",
        "outputId": "37afb934-677c-478a-8e34-b7d4c6b69da3"
      },
      "source": [
        "a = []\n",
        "b = []\n",
        "for result in vgg_train_result:\n",
        "  a.append(result[\"macro_f1\"]*100)\n",
        "\n",
        "for result in vgg_val_result:\n",
        "  b.append(result[\"macro_f1\"]*100)\n",
        "\n",
        "plt.plot(a, label='Train Accuracy')\n",
        "plt.plot(b, label='Validation Accuracy')\n",
        "plt.legend()\n",
        "plt.title(\"Accuracy curves for macro f1\")\n",
        "plt.xlabel(\"Epoch\")\n",
        "plt.ylabel(\"Accuracy\")\n",
        "plt.grid()"
      ],
      "execution_count": 19,
      "outputs": [
        {
          "output_type": "display_data",
          "data": {
            "image/png": "[encoded data removed]",
            "text/plain": [
              "<Figure size 432x288 with 1 Axes>"
            ]
          },
          "metadata": {
            "tags": [],
            "needs_background": "light"
          }
        }
      ]
    },
    {
      "cell_type": "code",
      "metadata": {
        "id": "6ZFfFTRQ4LTL"
      },
      "source": [
        "def test_model(test_dataloader, optimizer, criterion, net, threshold):\n",
        "  test_outputs = []\n",
        "  test_labels = []\n",
        "  since = time.time()\n",
        "\n",
        "  net.eval()\n",
        "\n",
        "  for idx, data in enumerate(test_dataloader):\n",
        "    img, label = data\n",
        "    img = img.to(device)\n",
        "    label = label.to(device)\n",
        "\n",
        "    outputs = net(img)\n",
        "\n",
        "    pred = outputs.data > threshold\n",
        "    pred = pred.type(torch.float)\n",
        "      \n",
        "    test_outputs.extend(pred.cpu().to(torch.int).numpy())\n",
        "    test_labels.extend(label.cpu().to(torch.int).numpy())\n",
        "\n",
        "  test_result = calculate_metric(np.array(test_outputs), np.array(test_labels))\n",
        "  \n",
        "  tot_time = time.time() - since\n",
        "  print('Testing complete in {:.0f}m {:.0f}s'.format(tot_time // 60, tot_time % 60))\n",
        "\n",
        "  return np.asarray(test_outputs), np.asarray(test_labels), test_result "
      ],
      "execution_count": 20,
      "outputs": []
    },
    {
      "cell_type": "code",
      "metadata": {
        "id": "6brari0D4LVa",
        "colab": {
          "base_uri": "https://localhost:8080/"
        },
        "outputId": "d2f5a356-a20a-497d-e7ab-8194100c49e1"
      },
      "source": [
        "vgg_test_outputs, vgg_test_labels, vgg_test_result = test_model(test_dataloader, optimizer, criterion, train_ft, 0.5)"
      ],
      "execution_count": 21,
      "outputs": [
        {
          "output_type": "stream",
          "text": [
            "Testing complete in 2m 19s\n"
          ],
          "name": "stdout"
        }
      ]
    },
    {
      "cell_type": "code",
      "metadata": {
        "colab": {
          "base_uri": "https://localhost:8080/"
        },
        "id": "O8y8BF6O4LZa",
        "outputId": "1c08ec27-3161-43cb-b04a-89a5fbe1f414"
      },
      "source": [
        "vgg_test_result"
      ],
      "execution_count": 22,
      "outputs": [
        {
          "output_type": "execute_result",
          "data": {
            "text/plain": [
              "{'macro_f1': 0.943186564180033, 'micro_f1': 0.9476584022038567}"
            ]
          },
          "metadata": {
            "tags": []
          },
          "execution_count": 22
        }
      ]
    },
    {
      "cell_type": "code",
      "metadata": {
        "colab": {
          "base_uri": "https://localhost:8080/"
        },
        "id": "NmotruPQ4Ld6",
        "outputId": "4711bed6-6413-4d21-bbc9-8ba7fe0e8a93"
      },
      "source": [
        "fpr = dict()\n",
        "tpr = dict()\n",
        "roc_auc = dict()\n",
        "\n",
        "for idx in range(4):\n",
        "    fpr[idx], tpr[idx], _ = roc_curve(vgg_test_labels[:, idx], vgg_test_outputs[:, idx])\n",
        "    roc_auc[idx] = auc(fpr[idx], tpr[idx])\n",
        "\n",
        "fpr[\"micro\"], tpr[\"micro\"], _ = roc_curve(vgg_test_labels.ravel(), vgg_test_outputs.ravel())\n",
        "roc_auc[\"micro\"] = auc(fpr[\"micro\"], tpr[\"micro\"])\n",
        "\n",
        "all_fpr = np.unique(np.concatenate([fpr[i] for i in range(4)]))\n",
        "\n",
        "mean_tpr = np.zeros_like(all_fpr)\n",
        "for i in range(4):\n",
        "    mean_tpr += interp(all_fpr, fpr[i], tpr[i])\n",
        "\n",
        "mean_tpr /= 4\n",
        "\n",
        "fpr[\"macro\"] = all_fpr\n",
        "tpr[\"macro\"] = mean_tpr\n",
        "roc_auc[\"macro\"] = auc(fpr[\"macro\"], tpr[\"macro\"])"
      ],
      "execution_count": 23,
      "outputs": [
        {
          "output_type": "stream",
          "text": [
            "/usr/local/lib/python3.7/dist-packages/ipykernel_launcher.py:16: DeprecationWarning: scipy.interp is deprecated and will be removed in SciPy 2.0.0, use numpy.interp instead\n",
            "  app.launch_new_instance()\n"
          ],
          "name": "stderr"
        }
      ]
    },
    {
      "cell_type": "code",
      "metadata": {
        "colab": {
          "base_uri": "https://localhost:8080/",
          "height": 301
        },
        "id": "bPr8Zcsk4hBc",
        "outputId": "7d5a5b09-9574-478c-87a1-94938ec58c49"
      },
      "source": [
        "x = np.linspace(0,1)\n",
        "y = x\n",
        "plt.plot(x,y,linestyle=\"dashed\",color='black')\n",
        "plt.plot(fpr[\"micro\"], tpr[\"micro\"],\n",
        "         label='micro-average ROC curve (area = {0:0.2f})'.format(roc_auc[\"micro\"]))\n",
        "plt.plot(fpr[\"macro\"], tpr[\"macro\"],\n",
        "         label='macro-average ROC curve (area = {0:0.2f})'.format(roc_auc[\"macro\"]))\n",
        "plt.xlim([0,1])\n",
        "plt.ylim([0,1])\n",
        "plt.xlabel(\"False Positive Rate\")\n",
        "plt.ylabel(\"True Positive Rate\")\n",
        "plt.legend()"
      ],
      "execution_count": 24,
      "outputs": [
        {
          "output_type": "execute_result",
          "data": {
            "text/plain": [
              "<matplotlib.legend.Legend at 0x7f7eb859bd10>"
            ]
          },
          "metadata": {
            "tags": []
          },
          "execution_count": 24
        },
        {
          "output_type": "display_data",
          "data": {
            "image/png": "[encoded data removed]",
            "text/plain": [
              "<Figure size 432x288 with 1 Axes>"
            ]
          },
          "metadata": {
            "tags": [],
            "needs_background": "light"
          }
        }
      ]
    },
    {
      "cell_type": "code",
      "metadata": {
        "id": "jCE_bpAV4hDy"
      },
      "source": [
        "final_df = pd.DataFrame(data=vgg_train_loss, columns=[\"train_loss\"])\n",
        "final_df[\"train_result_micro\"] = [data['micro_f1'] for data in vgg_train_result]\n",
        "final_df[\"train_result_macro\"] = [data['macro_f1'] for data in vgg_train_result]\n",
        "final_df[\"val_loss\"] = vgg_val_loss\n",
        "final_df[\"val_result_micro\"] = [data['micro_f1'] for data in vgg_val_result]\n",
        "final_df[\"val_result_macro\"] = [data['macro_f1'] for data in vgg_val_result]\n",
        "\n",
        "final_df.to_csv(\"/content/drive/MyDrive/Output/vgg_train\",index=False)"
      ],
      "execution_count": 25,
      "outputs": []
    },
    {
      "cell_type": "code",
      "metadata": {
        "id": "RzgQJr8N4jnL"
      },
      "source": [
        "final_df_train = pd.DataFrame(data=vgg_test_labels, columns=[\"label1\",\"label2\",\"label3\",\"label4\"])\n",
        "final_df_train[\"pred1\"] = vgg_test_outputs[:,0]\n",
        "final_df_train[\"pred2\"] = vgg_test_outputs[:,1]\n",
        "final_df_train[\"pred3\"] = vgg_test_outputs[:,2]\n",
        "final_df_train[\"pred4\"] = vgg_test_outputs[:,3]\n",
        "\n",
        "final_df_train.to_csv(\"/content/drive/MyDrive/Output/vgg_test\",index=False)"
      ],
      "execution_count": 26,
      "outputs": []
    },
    {
      "cell_type": "code",
      "metadata": {
        "id": "q0q6E8jTDFcc"
      },
      "source": [
        ""
      ],
      "execution_count": 26,
      "outputs": []
    }
  ]
}