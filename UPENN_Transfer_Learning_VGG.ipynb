{
  "nbformat": 4,
  "nbformat_minor": 0,
  "metadata": {
    "colab": {
      "name": "UPENN_Transfer_Learning_VGG.ipynb",
      "provenance": [],
      "collapsed_sections": [],
      "machine_shape": "hm"
    },
    "kernelspec": {
      "display_name": "Python 3",
      "name": "python3"
    },
    "language_info": {
      "name": "python"
    },
    "accelerator": "GPU",
    "widgets": {
      "application/vnd.jupyter.widget-state+json": {
        "34bd66f1028a48779599e30ff6ede9b1": {
          "model_module": "@jupyter-widgets/controls",
          "model_name": "HBoxModel",
          "state": {
            "_view_name": "HBoxView",
            "_dom_classes": [],
            "_model_name": "HBoxModel",
            "_view_module": "@jupyter-widgets/controls",
            "_model_module_version": "1.5.0",
            "_view_count": null,
            "_view_module_version": "1.5.0",
            "box_style": "",
            "layout": "IPY_MODEL_5bf51a801ac8424999a5c540833566e8",
            "_model_module": "@jupyter-widgets/controls",
            "children": [
              "IPY_MODEL_9ff46f5f525347b7a25b8b920cc6f0e7",
              "IPY_MODEL_982871729d244bc7a0b7cce7e4accbc6"
            ]
          }
        },
        "5bf51a801ac8424999a5c540833566e8": {
          "model_module": "@jupyter-widgets/base",
          "model_name": "LayoutModel",
          "state": {
            "_view_name": "LayoutView",
            "grid_template_rows": null,
            "right": null,
            "justify_content": null,
            "_view_module": "@jupyter-widgets/base",
            "overflow": null,
            "_model_module_version": "1.2.0",
            "_view_count": null,
            "flex_flow": null,
            "width": null,
            "min_width": null,
            "border": null,
            "align_items": null,
            "bottom": null,
            "_model_module": "@jupyter-widgets/base",
            "top": null,
            "grid_column": null,
            "overflow_y": null,
            "overflow_x": null,
            "grid_auto_flow": null,
            "grid_area": null,
            "grid_template_columns": null,
            "flex": null,
            "_model_name": "LayoutModel",
            "justify_items": null,
            "grid_row": null,
            "max_height": null,
            "align_content": null,
            "visibility": null,
            "align_self": null,
            "height": null,
            "min_height": null,
            "padding": null,
            "grid_auto_rows": null,
            "grid_gap": null,
            "max_width": null,
            "order": null,
            "_view_module_version": "1.2.0",
            "grid_template_areas": null,
            "object_position": null,
            "object_fit": null,
            "grid_auto_columns": null,
            "margin": null,
            "display": null,
            "left": null
          }
        },
        "9ff46f5f525347b7a25b8b920cc6f0e7": {
          "model_module": "@jupyter-widgets/controls",
          "model_name": "FloatProgressModel",
          "state": {
            "_view_name": "ProgressView",
            "style": "IPY_MODEL_43d5d4e4580d4fdfb2dcd7ff48766ff3",
            "_dom_classes": [],
            "description": "100%",
            "_model_name": "FloatProgressModel",
            "bar_style": "success",
            "max": 553433881,
            "_view_module": "@jupyter-widgets/controls",
            "_model_module_version": "1.5.0",
            "value": 553433881,
            "_view_count": null,
            "_view_module_version": "1.5.0",
            "orientation": "horizontal",
            "min": 0,
            "description_tooltip": null,
            "_model_module": "@jupyter-widgets/controls",
            "layout": "IPY_MODEL_ae4785a6856a43b5a112a046a3b59939"
          }
        },
        "982871729d244bc7a0b7cce7e4accbc6": {
          "model_module": "@jupyter-widgets/controls",
          "model_name": "HTMLModel",
          "state": {
            "_view_name": "HTMLView",
            "style": "IPY_MODEL_d7f36bc76f5c4a95a9410b63102d4ad5",
            "_dom_classes": [],
            "description": "",
            "_model_name": "HTMLModel",
            "placeholder": "​",
            "_view_module": "@jupyter-widgets/controls",
            "_model_module_version": "1.5.0",
            "value": " 528M/528M [10:51&lt;00:00, 849kB/s]",
            "_view_count": null,
            "_view_module_version": "1.5.0",
            "description_tooltip": null,
            "_model_module": "@jupyter-widgets/controls",
            "layout": "IPY_MODEL_fdc61bc42e734a33a974945406692647"
          }
        },
        "43d5d4e4580d4fdfb2dcd7ff48766ff3": {
          "model_module": "@jupyter-widgets/controls",
          "model_name": "ProgressStyleModel",
          "state": {
            "_view_name": "StyleView",
            "_model_name": "ProgressStyleModel",
            "description_width": "initial",
            "_view_module": "@jupyter-widgets/base",
            "_model_module_version": "1.5.0",
            "_view_count": null,
            "_view_module_version": "1.2.0",
            "bar_color": null,
            "_model_module": "@jupyter-widgets/controls"
          }
        },
        "ae4785a6856a43b5a112a046a3b59939": {
          "model_module": "@jupyter-widgets/base",
          "model_name": "LayoutModel",
          "state": {
            "_view_name": "LayoutView",
            "grid_template_rows": null,
            "right": null,
            "justify_content": null,
            "_view_module": "@jupyter-widgets/base",
            "overflow": null,
            "_model_module_version": "1.2.0",
            "_view_count": null,
            "flex_flow": null,
            "width": null,
            "min_width": null,
            "border": null,
            "align_items": null,
            "bottom": null,
            "_model_module": "@jupyter-widgets/base",
            "top": null,
            "grid_column": null,
            "overflow_y": null,
            "overflow_x": null,
            "grid_auto_flow": null,
            "grid_area": null,
            "grid_template_columns": null,
            "flex": null,
            "_model_name": "LayoutModel",
            "justify_items": null,
            "grid_row": null,
            "max_height": null,
            "align_content": null,
            "visibility": null,
            "align_self": null,
            "height": null,
            "min_height": null,
            "padding": null,
            "grid_auto_rows": null,
            "grid_gap": null,
            "max_width": null,
            "order": null,
            "_view_module_version": "1.2.0",
            "grid_template_areas": null,
            "object_position": null,
            "object_fit": null,
            "grid_auto_columns": null,
            "margin": null,
            "display": null,
            "left": null
          }
        },
        "d7f36bc76f5c4a95a9410b63102d4ad5": {
          "model_module": "@jupyter-widgets/controls",
          "model_name": "DescriptionStyleModel",
          "state": {
            "_view_name": "StyleView",
            "_model_name": "DescriptionStyleModel",
            "description_width": "",
            "_view_module": "@jupyter-widgets/base",
            "_model_module_version": "1.5.0",
            "_view_count": null,
            "_view_module_version": "1.2.0",
            "_model_module": "@jupyter-widgets/controls"
          }
        },
        "fdc61bc42e734a33a974945406692647": {
          "model_module": "@jupyter-widgets/base",
          "model_name": "LayoutModel",
          "state": {
            "_view_name": "LayoutView",
            "grid_template_rows": null,
            "right": null,
            "justify_content": null,
            "_view_module": "@jupyter-widgets/base",
            "overflow": null,
            "_model_module_version": "1.2.0",
            "_view_count": null,
            "flex_flow": null,
            "width": null,
            "min_width": null,
            "border": null,
            "align_items": null,
            "bottom": null,
            "_model_module": "@jupyter-widgets/base",
            "top": null,
            "grid_column": null,
            "overflow_y": null,
            "overflow_x": null,
            "grid_auto_flow": null,
            "grid_area": null,
            "grid_template_columns": null,
            "flex": null,
            "_model_name": "LayoutModel",
            "justify_items": null,
            "grid_row": null,
            "max_height": null,
            "align_content": null,
            "visibility": null,
            "align_self": null,
            "height": null,
            "min_height": null,
            "padding": null,
            "grid_auto_rows": null,
            "grid_gap": null,
            "max_width": null,
            "order": null,
            "_view_module_version": "1.2.0",
            "grid_template_areas": null,
            "object_position": null,
            "object_fit": null,
            "grid_auto_columns": null,
            "margin": null,
            "display": null,
            "left": null
          }
        }
      }
    }
  },
  "cells": [
    {
      "cell_type": "code",
      "metadata": {
        "colab": {
          "base_uri": "https://localhost:8080/"
        },
        "id": "33HjYiHx16SC",
        "outputId": "42a09b52-03a6-4576-f6d0-3cc9d7199b21"
      },
      "source": [
        "from google.colab import drive\n",
        "drive.mount('/content/drive')"
      ],
      "execution_count": 1,
      "outputs": [
        {
          "output_type": "stream",
          "text": [
            "Drive already mounted at /content/drive; to attempt to forcibly remount, call drive.mount(\"/content/drive\", force_remount=True).\n"
          ],
          "name": "stdout"
        }
      ]
    },
    {
      "cell_type": "code",
      "metadata": {
        "colab": {
          "base_uri": "https://localhost:8080/"
        },
        "id": "rI5lJteb17Lr",
        "outputId": "4493539a-a728-4d33-e48e-2ad96482cf24"
      },
      "source": [
        "gpu_info = !nvidia-smi\n",
        "gpu_info = '\\n'.join(gpu_info)\n",
        "if gpu_info.find('failed') >= 0:\n",
        "  print('Select the Runtime > \"Change runtime type\" menu to enable a GPU accelerator, ')\n",
        "  print('and then re-execute this cell.')\n",
        "else:\n",
        "  print(gpu_info)"
      ],
      "execution_count": 2,
      "outputs": [
        {
          "output_type": "stream",
          "text": [
            "Sun Apr 25 21:09:02 2021       \n",
            "+-----------------------------------------------------------------------------+\n",
            "| NVIDIA-SMI 465.19.01    Driver Version: 460.32.03    CUDA Version: 11.2     |\n",
            "|-------------------------------+----------------------+----------------------+\n",
            "| GPU  Name        Persistence-M| Bus-Id        Disp.A | Volatile Uncorr. ECC |\n",
            "| Fan  Temp  Perf  Pwr:Usage/Cap|         Memory-Usage | GPU-Util  Compute M. |\n",
            "|                               |                      |               MIG M. |\n",
            "|===============================+======================+======================|\n",
            "|   0  Tesla P100-PCIE...  Off  | 00000000:00:04.0 Off |                    0 |\n",
            "| N/A   42C    P0    29W / 250W |      0MiB / 16280MiB |      0%      Default |\n",
            "|                               |                      |                  N/A |\n",
            "+-------------------------------+----------------------+----------------------+\n",
            "                                                                               \n",
            "+-----------------------------------------------------------------------------+\n",
            "| Processes:                                                                  |\n",
            "|  GPU   GI   CI        PID   Type   Process name                  GPU Memory |\n",
            "|        ID   ID                                                   Usage      |\n",
            "|=============================================================================|\n",
            "|  No running processes found                                                 |\n",
            "+-----------------------------------------------------------------------------+\n"
          ],
          "name": "stdout"
        }
      ]
    },
    {
      "cell_type": "code",
      "metadata": {
        "colab": {
          "base_uri": "https://localhost:8080/"
        },
        "id": "eSF6HSv817OB",
        "outputId": "376740fe-7333-4660-cea3-eea9543ac47a"
      },
      "source": [
        "from psutil import virtual_memory\n",
        "ram_gb = virtual_memory().total / 1e9\n",
        "print('Your runtime has {:.1f} gigabytes of available RAM\\n'.format(ram_gb))\n",
        "\n",
        "if ram_gb < 20:\n",
        "  print('To enable a high-RAM runtime, select the Runtime > \"Change runtime type\"')\n",
        "  print('menu, and then select High-RAM in the Runtime shape dropdown. Then, ')\n",
        "  print('re-execute this cell.')\n",
        "else:\n",
        "  print('You are using a high-RAM runtime!')"
      ],
      "execution_count": 3,
      "outputs": [
        {
          "output_type": "stream",
          "text": [
            "Your runtime has 27.4 gigabytes of available RAM\n",
            "\n",
            "You are using a high-RAM runtime!\n"
          ],
          "name": "stdout"
        }
      ]
    },
    {
      "cell_type": "code",
      "metadata": {
        "colab": {
          "base_uri": "https://localhost:8080/"
        },
        "id": "9Dfz-asa17Rx",
        "outputId": "eec2f7e3-918a-4b1f-fd05-f9f6a6c05f11"
      },
      "source": [
        "pip install pytesseract"
      ],
      "execution_count": 4,
      "outputs": [
        {
          "output_type": "stream",
          "text": [
            "Collecting pytesseract\n",
            "  Downloading https://files.pythonhosted.org/packages/a0/e6/a4e9fc8a93c1318540e8de6d8d4beb5749b7960388a7c7f27799fc2dd016/pytesseract-0.3.7.tar.gz\n",
            "Requirement already satisfied: Pillow in /usr/local/lib/python3.7/dist-packages (from pytesseract) (7.1.2)\n",
            "Building wheels for collected packages: pytesseract\n",
            "  Building wheel for pytesseract (setup.py) ... \u001b[?25l\u001b[?25hdone\n",
            "  Created wheel for pytesseract: filename=pytesseract-0.3.7-py2.py3-none-any.whl size=13945 sha256=d1707134f56a80adbe726de1e2d55bf0fba8a409e8d9326c4181661da082970b\n",
            "  Stored in directory: /root/.cache/pip/wheels/81/20/7e/1dd0daad1575d5260916bb1e9781246430647adaef4b3ca3b3\n",
            "Successfully built pytesseract\n",
            "Installing collected packages: pytesseract\n",
            "Successfully installed pytesseract-0.3.7\n"
          ],
          "name": "stdout"
        }
      ]
    },
    {
      "cell_type": "code",
      "metadata": {
        "colab": {
          "base_uri": "https://localhost:8080/"
        },
        "id": "05wlkKBb17UJ",
        "outputId": "6d9e98fa-03a2-4c54-86e0-37d09b75afd6"
      },
      "source": [
        "pip install pydicom"
      ],
      "execution_count": 5,
      "outputs": [
        {
          "output_type": "stream",
          "text": [
            "Collecting pydicom\n",
            "\u001b[?25l  Downloading https://files.pythonhosted.org/packages/f4/15/df16546bc59bfca390cf072d473fb2c8acd4231636f64356593a63137e55/pydicom-2.1.2-py3-none-any.whl (1.9MB)\n",
            "\u001b[K     |████████████████████████████████| 1.9MB 8.0MB/s \n",
            "\u001b[?25hInstalling collected packages: pydicom\n",
            "Successfully installed pydicom-2.1.2\n"
          ],
          "name": "stdout"
        }
      ]
    },
    {
      "cell_type": "code",
      "metadata": {
        "colab": {
          "base_uri": "https://localhost:8080/"
        },
        "id": "QqN0_ix117YR",
        "outputId": "49cf0f8f-f941-4117-fee5-ee7487866883"
      },
      "source": [
        "pip install albumentations"
      ],
      "execution_count": 6,
      "outputs": [
        {
          "output_type": "stream",
          "text": [
            "Requirement already satisfied: albumentations in /usr/local/lib/python3.7/dist-packages (0.1.12)\n",
            "Requirement already satisfied: numpy>=1.11.1 in /usr/local/lib/python3.7/dist-packages (from albumentations) (1.19.5)\n",
            "Requirement already satisfied: scipy in /usr/local/lib/python3.7/dist-packages (from albumentations) (1.4.1)\n",
            "Requirement already satisfied: opencv-python in /usr/local/lib/python3.7/dist-packages (from albumentations) (4.1.2.30)\n",
            "Collecting imgaug<0.2.7,>=0.2.5\n",
            "\u001b[?25l  Downloading https://files.pythonhosted.org/packages/ad/2e/748dbb7bb52ec8667098bae9b585f448569ae520031932687761165419a2/imgaug-0.2.6.tar.gz (631kB)\n",
            "\u001b[K     |████████████████████████████████| 634kB 7.5MB/s \n",
            "\u001b[?25hRequirement already satisfied: scikit-image>=0.11.0 in /usr/local/lib/python3.7/dist-packages (from imgaug<0.2.7,>=0.2.5->albumentations) (0.16.2)\n",
            "Requirement already satisfied: six in /usr/local/lib/python3.7/dist-packages (from imgaug<0.2.7,>=0.2.5->albumentations) (1.15.0)\n",
            "Requirement already satisfied: pillow>=4.3.0 in /usr/local/lib/python3.7/dist-packages (from scikit-image>=0.11.0->imgaug<0.2.7,>=0.2.5->albumentations) (7.1.2)\n",
            "Requirement already satisfied: PyWavelets>=0.4.0 in /usr/local/lib/python3.7/dist-packages (from scikit-image>=0.11.0->imgaug<0.2.7,>=0.2.5->albumentations) (1.1.1)\n",
            "Requirement already satisfied: networkx>=2.0 in /usr/local/lib/python3.7/dist-packages (from scikit-image>=0.11.0->imgaug<0.2.7,>=0.2.5->albumentations) (2.5.1)\n",
            "Requirement already satisfied: imageio>=2.3.0 in /usr/local/lib/python3.7/dist-packages (from scikit-image>=0.11.0->imgaug<0.2.7,>=0.2.5->albumentations) (2.4.1)\n",
            "Requirement already satisfied: matplotlib!=3.0.0,>=2.0.0 in /usr/local/lib/python3.7/dist-packages (from scikit-image>=0.11.0->imgaug<0.2.7,>=0.2.5->albumentations) (3.2.2)\n",
            "Requirement already satisfied: decorator<5,>=4.3 in /usr/local/lib/python3.7/dist-packages (from networkx>=2.0->scikit-image>=0.11.0->imgaug<0.2.7,>=0.2.5->albumentations) (4.4.2)\n",
            "Requirement already satisfied: pyparsing!=2.0.4,!=2.1.2,!=2.1.6,>=2.0.1 in /usr/local/lib/python3.7/dist-packages (from matplotlib!=3.0.0,>=2.0.0->scikit-image>=0.11.0->imgaug<0.2.7,>=0.2.5->albumentations) (2.4.7)\n",
            "Requirement already satisfied: python-dateutil>=2.1 in /usr/local/lib/python3.7/dist-packages (from matplotlib!=3.0.0,>=2.0.0->scikit-image>=0.11.0->imgaug<0.2.7,>=0.2.5->albumentations) (2.8.1)\n",
            "Requirement already satisfied: cycler>=0.10 in /usr/local/lib/python3.7/dist-packages (from matplotlib!=3.0.0,>=2.0.0->scikit-image>=0.11.0->imgaug<0.2.7,>=0.2.5->albumentations) (0.10.0)\n",
            "Requirement already satisfied: kiwisolver>=1.0.1 in /usr/local/lib/python3.7/dist-packages (from matplotlib!=3.0.0,>=2.0.0->scikit-image>=0.11.0->imgaug<0.2.7,>=0.2.5->albumentations) (1.3.1)\n",
            "Building wheels for collected packages: imgaug\n",
            "  Building wheel for imgaug (setup.py) ... \u001b[?25l\u001b[?25hdone\n",
            "  Created wheel for imgaug: filename=imgaug-0.2.6-cp37-none-any.whl size=654019 sha256=172eefdd4327b5f051258f0efc8144063cf89c47bc6978a80ec9051b1600b530\n",
            "  Stored in directory: /root/.cache/pip/wheels/97/ec/48/0d25896c417b715af6236dbcef8f0bed136a1a5e52972fc6d0\n",
            "Successfully built imgaug\n",
            "Installing collected packages: imgaug\n",
            "  Found existing installation: imgaug 0.2.9\n",
            "    Uninstalling imgaug-0.2.9:\n",
            "      Successfully uninstalled imgaug-0.2.9\n",
            "Successfully installed imgaug-0.2.6\n"
          ],
          "name": "stdout"
        }
      ]
    },
    {
      "cell_type": "code",
      "metadata": {
        "id": "pltpPiiv20OS"
      },
      "source": [
        "import time\n",
        "import csv\n",
        "import os\n",
        "import copy\n",
        "import re\n",
        "import shutil\n",
        "import pydicom\n",
        "import pytesseract\n",
        "import cv2\n",
        "import numpy as np\n",
        "import pandas as pd\n",
        "from matplotlib import pyplot as plt\n",
        "import torch\n",
        "import torch.nn as nn\n",
        "import torch.nn.functional as F\n",
        "import torch.optim as optim\n",
        "from torchvision import datasets, models, transforms\n",
        "from torch.utils.data import Dataset, DataLoader\n",
        "from sklearn.metrics import precision_score, recall_score, f1_score, roc_curve, auc\n",
        "import albumentations as A\n",
        "from albumentations.pytorch import ToTensor\n",
        "from scipy import interp"
      ],
      "execution_count": 7,
      "outputs": []
    },
    {
      "cell_type": "code",
      "metadata": {
        "colab": {
          "base_uri": "https://localhost:8080/"
        },
        "id": "My9rZfv121Pc",
        "outputId": "51dce19b-d2b3-456a-9412-6c8c18ea2293"
      },
      "source": [
        "device = torch.device(\"cuda:0\" if torch.cuda.is_available() else \"cpu\")\n",
        "device"
      ],
      "execution_count": 8,
      "outputs": [
        {
          "output_type": "execute_result",
          "data": {
            "text/plain": [
              "device(type='cuda', index=0)"
            ]
          },
          "metadata": {
            "tags": []
          },
          "execution_count": 8
        }
      ]
    },
    {
      "cell_type": "code",
      "metadata": {
        "id": "CAfoM6k322W8"
      },
      "source": [
        "class ImageDataset(Dataset):\n",
        "  def __init__(self, df, transform=None):\n",
        "    self.df = df\n",
        "    self.transform = transform         \n",
        "  \n",
        "  def __len__(self):\n",
        "    return len(self.df)\n",
        "\n",
        "  def __getitem__(self, idx):\n",
        "    img_name = self.df.iloc[idx,0]\n",
        "    data = pydicom.dcmread(img_name) # read dicom file\n",
        "    arr = data.pixel_array # read image into pixel data\n",
        "    shape = arr.shape\n",
        "    if len(shape) == 4:\n",
        "      arr = arr[0,:,:,0] # get the first slide of image\n",
        "    elif len(shape) == 3:\n",
        "      arr = arr[:,:,0] # get the first slide of image\n",
        "    else:\n",
        "      arr = arr\n",
        "    image = cv2.cvtColor(arr, cv2.COLOR_BGR2RGB)\n",
        "\n",
        "    labels = np.array(self.df.drop(['image_name'],axis=1))\n",
        "    label = labels[idx]\n",
        "\n",
        "    if self.transform:\n",
        "      image = self.transform(image=image)[\"image\"]\n",
        "    \n",
        "    return image, label"
      ],
      "execution_count": 9,
      "outputs": []
    },
    {
      "cell_type": "code",
      "metadata": {
        "id": "oTMYeb3b23Qc"
      },
      "source": [
        "from sklearn.model_selection import train_test_split\n",
        "\n",
        "df = pd.read_csv(\"/content/drive/MyDrive/Data_testing/file_names.csv\")\n",
        "\n",
        "means=(0.485, 0.456, 0.406)\n",
        "stds=(0.229, 0.224, 0.225)\n",
        "\n",
        "albumentation_train_transform = A.Compose([\n",
        "                                      A.Resize(256,256),\n",
        "                                      A.ShiftScaleRotate(shift_limit=0.05, scale_limit=0.05, rotate_limit=15, p=0.5),\n",
        "                                      A.RandomCrop(height=224, width=224),\n",
        "                                      A.RGBShift(r_shift_limit=15, g_shift_limit=15, b_shift_limit=15, p=0.5),\n",
        "                                      A.RandomBrightnessContrast(p=0.5),\n",
        "                                      A.Normalize(mean=means, std=stds),\n",
        "                                      ToTensor(),\n",
        "                                    ])\n",
        "albumentation_val_transform = A.Compose([\n",
        "                                      A.Resize(256,256),\n",
        "                                      A.CenterCrop(height=224, width=224),\n",
        "                                      A.Normalize(mean=means, std=stds),\n",
        "                                      ToTensor(),\n",
        "                                  ])\n",
        "\n",
        "(train_df, val_df) = train_test_split(df, test_size = 0.4)\n",
        "(val_df, test_df) = train_test_split(val_df, test_size = 0.5)\n",
        "\n",
        "train_dataset = ImageDataset(train_df, transform=albumentation_train_transform)\n",
        "val_dataset = ImageDataset(val_df, transform=albumentation_val_transform)\n",
        "test_dataset = ImageDataset(test_df, transform=albumentation_val_transform)\n",
        "\n",
        "batch_num = 64\n",
        "\n",
        "train_dataloader = DataLoader(train_dataset, batch_size=batch_num, shuffle=True, num_workers=2, pin_memory=True)\n",
        "val_dataloader = DataLoader(val_dataset, batch_size=batch_num//4, shuffle=False, num_workers=2, pin_memory=True)\n",
        "test_dataloader = DataLoader(test_dataset, batch_size=batch_num//4, shuffle=False, num_workers=2, pin_memory=True)"
      ],
      "execution_count": 10,
      "outputs": []
    },
    {
      "cell_type": "code",
      "metadata": {
        "id": "QgHfqNuB24U0"
      },
      "source": [
        "class MultiLabelVGG(nn.Module):\n",
        "  def __init__(self):\n",
        "    super(MultiLabelVGG, self).__init__()\n",
        "    self.vgg16 = models.vgg16(pretrained=True) \n",
        "    self.linear = nn.Linear(1000, 4)\n",
        "    self.relu = nn.ReLU()\n",
        "    self.sigmoid = nn.Sigmoid()\n",
        "\n",
        "  def forward(self, x):\n",
        "    x = self.vgg16(x)\n",
        "    x = self.relu(x)\n",
        "    x = self.linear(x)\n",
        "    x = self.sigmoid(x)\n",
        "    \n",
        "    return x"
      ],
      "execution_count": 11,
      "outputs": []
    },
    {
      "cell_type": "code",
      "metadata": {
        "id": "FlOhv6EA4Dk0"
      },
      "source": [
        "def calculate_metric(pred, label):\n",
        "  return {\n",
        "      \"micro_f1\":f1_score(y_true=label, y_pred=pred, average='micro'),\n",
        "      \"macro_f1\":f1_score(y_true=label, y_pred=pred, average='macro'),\n",
        "  }"
      ],
      "execution_count": 12,
      "outputs": []
    },
    {
      "cell_type": "code",
      "metadata": {
        "id": "gOtetGvU4E7c"
      },
      "source": [
        "def train_model(train_dataloader, val_dataloader, optimizer, criterion, net, threshold, num_epochs):\n",
        "  since = time.time()\n",
        "\n",
        "  tot_train_loss = []\n",
        "  tot_val_loss = []\n",
        "\n",
        "  tot_train_acc = []\n",
        "  tot_val_acc = []\n",
        "  \n",
        "  for epoch in range(num_epochs):\n",
        "    print(\"Epoch: {}/{}\".format(epoch, num_epochs-1))\n",
        "    print('-' * 10)\n",
        "\n",
        "    net.train()\n",
        "    \n",
        "    train_running_loss = 0.0\n",
        "    train_loss_values = []\n",
        "\n",
        "    train_outputs = []\n",
        "    train_labels = []\n",
        "\n",
        "    for idx, data in enumerate(train_dataloader):\n",
        "      img, label = data\n",
        "      img = img.to(device)\n",
        "      label = label.to(device)\n",
        "\n",
        "      optimizer.zero_grad()\n",
        "\n",
        "      outputs = net(img)\n",
        "      loss = criterion(outputs, label.type(torch.float))\n",
        "\n",
        "      pred = outputs.data > threshold\n",
        "      pred = pred.type(torch.float)\n",
        "\n",
        "      loss.backward()\n",
        "      optimizer.step()\n",
        "      \n",
        "      train_loss_values.append(loss.item())\n",
        "      train_running_loss += loss.item()\n",
        "\n",
        "      train_outputs.extend(pred.cpu().to(torch.int).numpy())\n",
        "      train_labels.extend(label.cpu().to(torch.int).numpy())\n",
        "\n",
        "    train_result = calculate_metric(np.array(train_outputs), np.array(train_labels))\n",
        "\n",
        "    net.eval()\n",
        "\n",
        "    validation_running_loss = 0.0\n",
        "    val_loss_values = []\n",
        "\n",
        "    with torch.no_grad():\n",
        "      val_outputs = []\n",
        "      val_labels = []\n",
        "      for val_idx, val_data in enumerate(val_dataloader):\n",
        "        val_img, val_label = val_data\n",
        "        val_img = val_img.to(device) \n",
        "        val_label = val_label.to(device)\n",
        "\n",
        "        val_output = net(val_img)\n",
        "\n",
        "        val_loss = criterion(val_output, val_label.type(torch.float))\n",
        "\n",
        "        val_pred = val_output.data > threshold\n",
        "        val_pred = val_pred.type(torch.float)\n",
        "\n",
        "        val_outputs.extend(val_pred.cpu().to(torch.int).numpy())\n",
        "        val_labels.extend(val_label.cpu().to(torch.int).numpy())\n",
        "\n",
        "        val_loss_values.append(val_loss.item())\n",
        "        validation_running_loss += val_loss.item()\n",
        "\n",
        "    val_result = calculate_metric(np.array(val_outputs), np.array(val_labels))\n",
        "\n",
        "    final_train_loss = train_running_loss/len(train_dataloader)\n",
        "    final_val_loss = validation_running_loss/len(val_dataloader)\n",
        "\n",
        "    tot_train_loss.append(final_train_loss)\n",
        "    tot_val_loss.append(final_val_loss)\n",
        "\n",
        "    tot_train_acc.append(train_result)\n",
        "    tot_val_acc.append(val_result)\n",
        "\n",
        "    print(\"train loss: {}\".format(final_train_loss))\n",
        "    print(\"validation loss: {}\".format(final_val_loss))\n",
        "    print(\"train accuracy:\\n\",train_result)\n",
        "    print(\"validation accuracy:\\n\",val_result)\n",
        "    print()\n",
        "\n",
        "  tot_time = time.time() - since\n",
        "  print('Training complete in {:.0f}m {:.0f}s'.format(tot_time // 60, tot_time % 60))\n",
        "\n",
        "  return net, tot_train_loss, tot_val_loss, tot_train_acc, tot_val_acc "
      ],
      "execution_count": 13,
      "outputs": []
    },
    {
      "cell_type": "code",
      "metadata": {
        "id": "pgD0tG6k4F_c",
        "colab": {
          "base_uri": "https://localhost:8080/",
          "height": 85,
          "referenced_widgets": [
            "34bd66f1028a48779599e30ff6ede9b1",
            "5bf51a801ac8424999a5c540833566e8",
            "9ff46f5f525347b7a25b8b920cc6f0e7",
            "982871729d244bc7a0b7cce7e4accbc6",
            "43d5d4e4580d4fdfb2dcd7ff48766ff3",
            "ae4785a6856a43b5a112a046a3b59939",
            "d7f36bc76f5c4a95a9410b63102d4ad5",
            "fdc61bc42e734a33a974945406692647"
          ]
        },
        "outputId": "717a5473-c047-4f45-b3cb-d1d3c345658b"
      },
      "source": [
        "network = MultiLabelVGG()\n",
        "network = network.to(device)\n",
        "criterion = torch.nn.BCELoss()\n",
        "optimizer = optim.Adam(network.parameters(), lr=0.00001)"
      ],
      "execution_count": 14,
      "outputs": [
        {
          "output_type": "stream",
          "text": [
            "Downloading: \"https://download.pytorch.org/models/vgg16-397923af.pth\" to /root/.cache/torch/hub/checkpoints/vgg16-397923af.pth\n"
          ],
          "name": "stderr"
        },
        {
          "output_type": "display_data",
          "data": {
            "application/vnd.jupyter.widget-view+json": {
              "model_id": "34bd66f1028a48779599e30ff6ede9b1",
              "version_minor": 0,
              "version_major": 2
            },
            "text/plain": [
              "HBox(children=(FloatProgress(value=0.0, max=553433881.0), HTML(value='')))"
            ]
          },
          "metadata": {
            "tags": []
          }
        },
        {
          "output_type": "stream",
          "text": [
            "\n"
          ],
          "name": "stdout"
        }
      ]
    },
    {
      "cell_type": "code",
      "metadata": {
        "colab": {
          "base_uri": "https://localhost:8080/"
        },
        "id": "OAU2MoZW4Ids",
        "outputId": "94d7057f-ecd6-40f0-e4f9-82adb7e41a66"
      },
      "source": [
        "train_ft, vgg_train_loss, vgg_val_loss, vgg_train_result, vgg_val_result = train_model(train_dataloader, val_dataloader, optimizer, criterion, network, 0.5, 41)"
      ],
      "execution_count": 15,
      "outputs": [
        {
          "output_type": "stream",
          "text": [
            "Epoch: 0/40\n",
            "----------\n",
            "train loss: 0.5517512999082866\n",
            "validation loss: 0.4798432433605194\n",
            "train accuracy:\n",
            " {'micro_f1': 0.6319606319606319, 'macro_f1': 0.4482515519644219}\n",
            "validation accuracy:\n",
            " {'micro_f1': 0.7254623044096727, 'macro_f1': 0.6712692474295281}\n",
            "\n",
            "Epoch: 1/40\n",
            "----------\n",
            "train loss: 0.41440475928156\n",
            "validation loss: 0.3700497019290924\n",
            "train accuracy:\n",
            " {'micro_f1': 0.7651920272241128, 'macro_f1': 0.7150030506857954}\n",
            "validation accuracy:\n",
            " {'micro_f1': 0.7849538679914834, 'macro_f1': 0.7400772497092251}\n",
            "\n",
            "Epoch: 2/40\n",
            "----------\n",
            "train loss: 0.33165958680604635\n",
            "validation loss: 0.2906501615047455\n",
            "train accuracy:\n",
            " {'micro_f1': 0.8248772504091653, 'macro_f1': 0.8005727300569998}\n",
            "validation accuracy:\n",
            " {'micro_f1': 0.848698099929627, 'macro_f1': 0.8292438308465633}\n",
            "\n",
            "Epoch: 3/40\n",
            "----------\n",
            "train loss: 0.27133874438310923\n",
            "validation loss: 0.2582261782884598\n",
            "train accuracy:\n",
            " {'micro_f1': 0.8683538425818434, 'macro_f1': 0.8523063385473805}\n",
            "validation accuracy:\n",
            " {'micro_f1': 0.8767313019390581, 'macro_f1': 0.8636662666557613}\n",
            "\n",
            "Epoch: 4/40\n",
            "----------\n",
            "train loss: 0.22245808729999944\n",
            "validation loss: 0.23286281004548073\n",
            "train accuracy:\n",
            " {'micro_f1': 0.8945672191528545, 'macro_f1': 0.8832165605789783}\n",
            "validation accuracy:\n",
            " {'micro_f1': 0.8916494133885438, 'macro_f1': 0.8804314376666366}\n",
            "\n",
            "Epoch: 5/40\n",
            "----------\n",
            "train loss: 0.19776684202645956\n",
            "validation loss: 0.21793832272291183\n",
            "train accuracy:\n",
            " {'micro_f1': 0.9105541503793976, 'macro_f1': 0.9014301999943393}\n",
            "validation accuracy:\n",
            " {'micro_f1': 0.897902097902098, 'macro_f1': 0.8856110295417877}\n",
            "\n",
            "Epoch: 6/40\n",
            "----------\n",
            "train loss: 0.17559085864769786\n",
            "validation loss: 0.20444460704922676\n",
            "train accuracy:\n",
            " {'micro_f1': 0.9246323529411765, 'macro_f1': 0.9159305224965917}\n",
            "validation accuracy:\n",
            " {'micro_f1': 0.8997214484679665, 'macro_f1': 0.8880770482459514}\n",
            "\n",
            "Epoch: 7/40\n",
            "----------\n",
            "train loss: 0.15595111525372454\n",
            "validation loss: 0.18300031170248984\n",
            "train accuracy:\n",
            " {'micro_f1': 0.9305747126436782, 'macro_f1': 0.9234264362550322}\n",
            "validation accuracy:\n",
            " {'micro_f1': 0.9179206566347469, 'macro_f1': 0.9104103579404154}\n",
            "\n",
            "Epoch: 8/40\n",
            "----------\n",
            "train loss: 0.1475586432375406\n",
            "validation loss: 0.17863640502095224\n",
            "train accuracy:\n",
            " {'micro_f1': 0.9343735658558973, 'macro_f1': 0.9285261646463817}\n",
            "validation accuracy:\n",
            " {'micro_f1': 0.9196675900277007, 'macro_f1': 0.9107682494540116}\n",
            "\n",
            "Epoch: 9/40\n",
            "----------\n",
            "train loss: 0.1253391755254645\n",
            "validation loss: 0.17215133838355542\n",
            "train accuracy:\n",
            " {'micro_f1': 0.9454042847270214, 'macro_f1': 0.9403015731279538}\n",
            "validation accuracy:\n",
            " {'micro_f1': 0.9178082191780822, 'macro_f1': 0.9091671185092034}\n",
            "\n",
            "Epoch: 10/40\n",
            "----------\n",
            "train loss: 0.10433792166019741\n",
            "validation loss: 0.16962812520563603\n",
            "train accuracy:\n",
            " {'micro_f1': 0.9556267154620312, 'macro_f1': 0.9518671807785071}\n",
            "validation accuracy:\n",
            " {'micro_f1': 0.925311203319502, 'macro_f1': 0.9178317628300374}\n",
            "\n",
            "Epoch: 11/40\n",
            "----------\n",
            "train loss: 0.0952164844462746\n",
            "validation loss: 0.1924997717142105\n",
            "train accuracy:\n",
            " {'micro_f1': 0.958885335769758, 'macro_f1': 0.9552743838444115}\n",
            "validation accuracy:\n",
            " {'micro_f1': 0.9146005509641872, 'macro_f1': 0.9059659720848325}\n",
            "\n",
            "Epoch: 12/40\n",
            "----------\n",
            "train loss: 0.08250999509503967\n",
            "validation loss: 0.16406464383006095\n",
            "train accuracy:\n",
            " {'micro_f1': 0.9671641791044776, 'macro_f1': 0.9645911861911772}\n",
            "validation accuracy:\n",
            " {'micro_f1': 0.9289164941338856, 'macro_f1': 0.9215137090680539}\n",
            "\n",
            "Epoch: 13/40\n",
            "----------\n",
            "train loss: 0.07874695407716852\n",
            "validation loss: 0.16866455130279065\n",
            "train accuracy:\n",
            " {'micro_f1': 0.9661016949152543, 'macro_f1': 0.9632840881081909}\n",
            "validation accuracy:\n",
            " {'micro_f1': 0.9292096219931271, 'macro_f1': 0.9230026291350083}\n",
            "\n",
            "Epoch: 14/40\n",
            "----------\n",
            "train loss: 0.06569607046089675\n",
            "validation loss: 0.1664901711791754\n",
            "train accuracy:\n",
            " {'micro_f1': 0.9715204409738172, 'macro_f1': 0.9692062809585714}\n",
            "validation accuracy:\n",
            " {'micro_f1': 0.9310344827586208, 'macro_f1': 0.9247191417690735}\n",
            "\n",
            "Epoch: 15/40\n",
            "----------\n",
            "train loss: 0.060453013565979506\n",
            "validation loss: 0.1822417148947716\n",
            "train accuracy:\n",
            " {'micro_f1': 0.9734188817598534, 'macro_f1': 0.9713511370401796}\n",
            "validation accuracy:\n",
            " {'micro_f1': 0.929068150208623, 'macro_f1': 0.9212528850417518}\n",
            "\n",
            "Epoch: 16/40\n",
            "----------\n",
            "train loss: 0.056983187500583496\n",
            "validation loss: 0.18468170821666718\n",
            "train accuracy:\n",
            " {'micro_f1': 0.9756433823529411, 'macro_f1': 0.9737721506029373}\n",
            "validation accuracy:\n",
            " {'micro_f1': 0.9283746556473829, 'macro_f1': 0.9211064376014345}\n",
            "\n",
            "Epoch: 17/40\n",
            "----------\n",
            "train loss: 0.052384178693357264\n",
            "validation loss: 0.1635323368012905\n",
            "train accuracy:\n",
            " {'micro_f1': 0.9786843914737567, 'macro_f1': 0.9769315924539598}\n",
            "validation accuracy:\n",
            " {'micro_f1': 0.9355281207133059, 'macro_f1': 0.9295745857614578}\n",
            "\n",
            "Epoch: 18/40\n",
            "----------\n",
            "train loss: 0.03911993201625975\n",
            "validation loss: 0.18452694170176984\n",
            "train accuracy:\n",
            " {'micro_f1': 0.9860252004581901, 'macro_f1': 0.9848114191319758}\n",
            "validation accuracy:\n",
            " {'micro_f1': 0.929264909847434, 'macro_f1': 0.921867577611982}\n",
            "\n",
            "Epoch: 19/40\n",
            "----------\n",
            "train loss: 0.03723453004893504\n",
            "validation loss: 0.18477940421551467\n",
            "train accuracy:\n",
            " {'micro_f1': 0.9857602204869086, 'macro_f1': 0.9847178217578607}\n",
            "validation accuracy:\n",
            " {'micro_f1': 0.9346180316586373, 'macro_f1': 0.9282685008785345}\n",
            "\n",
            "Epoch: 20/40\n",
            "----------\n",
            "train loss: 0.03227431729043785\n",
            "validation loss: 0.17428171987645327\n",
            "train accuracy:\n",
            " {'micro_f1': 0.9862068965517241, 'macro_f1': 0.9851279880905521}\n",
            "validation accuracy:\n",
            " {'micro_f1': 0.9357923497267759, 'macro_f1': 0.9298542810374028}\n",
            "\n",
            "Epoch: 21/40\n",
            "----------\n",
            "train loss: 0.0361248686125404\n",
            "validation loss: 0.1641394501645118\n",
            "train accuracy:\n",
            " {'micro_f1': 0.9873824271621932, 'macro_f1': 0.9859521329832646}\n",
            "validation accuracy:\n",
            " {'micro_f1': 0.9406952965235174, 'macro_f1': 0.9350601017638308}\n",
            "\n",
            "Epoch: 22/40\n",
            "----------\n",
            "train loss: 0.03369960625116762\n",
            "validation loss: 0.20156065322458744\n",
            "train accuracy:\n",
            " {'micro_f1': 0.9859737870774892, 'macro_f1': 0.9850093863772181}\n",
            "validation accuracy:\n",
            " {'micro_f1': 0.9317711922811854, 'macro_f1': 0.9251662300440445}\n",
            "\n",
            "Epoch: 23/40\n",
            "----------\n",
            "train loss: 0.03504466848742021\n",
            "validation loss: 0.18742502123117447\n",
            "train accuracy:\n",
            " {'micro_f1': 0.9859737870774892, 'macro_f1': 0.9843129501098757}\n",
            "validation accuracy:\n",
            " {'micro_f1': 0.9347975291695263, 'macro_f1': 0.929203152167684}\n",
            "\n",
            "Epoch: 24/40\n",
            "----------\n",
            "train loss: 0.029188211419080432\n",
            "validation loss: 0.18005356260342523\n",
            "train accuracy:\n",
            " {'micro_f1': 0.9908130454754249, 'macro_f1': 0.9896635972546961}\n",
            "validation accuracy:\n",
            " {'micro_f1': 0.936518771331058, 'macro_f1': 0.9300349595842711}\n",
            "\n",
            "Epoch: 25/40\n",
            "----------\n",
            "train loss: 0.0279972110629866\n",
            "validation loss: 0.17474891059100628\n",
            "train accuracy:\n",
            " {'micro_f1': 0.9901353521449874, 'macro_f1': 0.9894225279967468}\n",
            "validation accuracy:\n",
            " {'micro_f1': 0.9346314325452016, 'macro_f1': 0.92800097113222}\n",
            "\n",
            "Epoch: 26/40\n",
            "----------\n",
            "train loss: 0.021861355702735875\n",
            "validation loss: 0.19113044082187117\n",
            "train accuracy:\n",
            " {'micro_f1': 0.9924259811797108, 'macro_f1': 0.99186037399473}\n",
            "validation accuracy:\n",
            " {'micro_f1': 0.9363449691991786, 'macro_f1': 0.9311372792363802}\n",
            "\n",
            "Epoch: 27/40\n",
            "----------\n",
            "train loss: 0.023943288888978332\n",
            "validation loss: 0.16497125789290293\n",
            "train accuracy:\n",
            " {'micro_f1': 0.9919706354668503, 'macro_f1': 0.9913680351906158}\n",
            "validation accuracy:\n",
            " {'micro_f1': 0.9446343130553656, 'macro_f1': 0.9394237823721788}\n",
            "\n",
            "Epoch: 28/40\n",
            "----------\n",
            "train loss: 0.020151520736123387\n",
            "validation loss: 0.18574173054657878\n",
            "train accuracy:\n",
            " {'micro_f1': 0.9919595681139444, 'macro_f1': 0.9910046812781065}\n",
            "validation accuracy:\n",
            " {'micro_f1': 0.9388316151202749, 'macro_f1': 0.9322046949344347}\n",
            "\n",
            "Epoch: 29/40\n",
            "----------\n",
            "train loss: 0.01931340602765742\n",
            "validation loss: 0.17044661777094006\n",
            "train accuracy:\n",
            " {'micro_f1': 0.9926571821936668, 'macro_f1': 0.9922197572083928}\n",
            "validation accuracy:\n",
            " {'micro_f1': 0.9418282548476454, 'macro_f1': 0.9356287960683525}\n",
            "\n",
            "Epoch: 30/40\n",
            "----------\n",
            "train loss: 0.017257207122288253\n",
            "validation loss: 0.20077706024167127\n",
            "train accuracy:\n",
            " {'micro_f1': 0.9935691318327975, 'macro_f1': 0.992617320008063}\n",
            "validation accuracy:\n",
            " {'micro_f1': 0.9362577107607951, 'macro_f1': 0.9289531619338461}\n",
            "\n",
            "Epoch: 31/40\n",
            "----------\n",
            "train loss: 0.016994023070621648\n",
            "validation loss: 0.1985714513808489\n",
            "train accuracy:\n",
            " {'micro_f1': 0.9931097841065686, 'macro_f1': 0.9925493085746567}\n",
            "validation accuracy:\n",
            " {'micro_f1': 0.9377593360995851, 'macro_f1': 0.9320083292135322}\n",
            "\n",
            "Epoch: 32/40\n",
            "----------\n",
            "train loss: 0.015320254416254005\n",
            "validation loss: 0.18982374295126647\n",
            "train accuracy:\n",
            " {'micro_f1': 0.9942594718714122, 'macro_f1': 0.993804799918346}\n",
            "validation accuracy:\n",
            " {'micro_f1': 0.937799043062201, 'macro_f1': 0.9327177547393183}\n",
            "\n",
            "Epoch: 33/40\n",
            "----------\n",
            "train loss: 0.011023787175011086\n",
            "validation loss: 0.21471656696870922\n",
            "train accuracy:\n",
            " {'micro_f1': 0.9960946473696302, 'macro_f1': 0.9958115008182276}\n",
            "validation accuracy:\n",
            " {'micro_f1': 0.9341649341649341, 'macro_f1': 0.9271531693610178}\n",
            "\n",
            "Epoch: 34/40\n",
            "----------\n",
            "train loss: 0.01175542128590965\n",
            "validation loss: 0.18752868532668798\n",
            "train accuracy:\n",
            " {'micro_f1': 0.9967801287948482, 'macro_f1': 0.996545988751486}\n",
            "validation accuracy:\n",
            " {'micro_f1': 0.9446343130553656, 'macro_f1': 0.9396258265326267}\n",
            "\n",
            "Epoch: 35/40\n",
            "----------\n",
            "train loss: 0.012760572791050532\n",
            "validation loss: 0.20077327232342213\n",
            "train accuracy:\n",
            " {'micro_f1': 0.996092852217881, 'macro_f1': 0.9957842057240603}\n",
            "validation accuracy:\n",
            " {'micro_f1': 0.9360824742268041, 'macro_f1': 0.930505285788696}\n",
            "\n",
            "Epoch: 36/40\n",
            "----------\n",
            "train loss: 0.01137646715352802\n",
            "validation loss: 0.19388392271474003\n",
            "train accuracy:\n",
            " {'micro_f1': 0.9963269054178145, 'macro_f1': 0.996031376394166}\n",
            "validation accuracy:\n",
            " {'micro_f1': 0.9367616400277972, 'macro_f1': 0.9300147664182805}\n",
            "\n",
            "Epoch: 37/40\n",
            "----------\n",
            "train loss: 0.015958421312174516\n",
            "validation loss: 0.19437947859056293\n",
            "train accuracy:\n",
            " {'micro_f1': 0.9958620689655173, 'macro_f1': 0.9955424817907003}\n",
            "validation accuracy:\n",
            " {'micro_f1': 0.9432672590567327, 'macro_f1': 0.9391608108830634}\n",
            "\n",
            "Epoch: 38/40\n",
            "----------\n",
            "train loss: 0.011436095718588484\n",
            "validation loss: 0.18848667753161863\n",
            "train accuracy:\n",
            " {'micro_f1': 0.9967771639042358, 'macro_f1': 0.996639819125057}\n",
            "validation accuracy:\n",
            " {'micro_f1': 0.943344709897611, 'macro_f1': 0.9374277765255439}\n",
            "\n",
            "Epoch: 39/40\n",
            "----------\n",
            "train loss: 0.01184082145214473\n",
            "validation loss: 0.18588216222822665\n",
            "train accuracy:\n",
            " {'micro_f1': 0.9956371986222733, 'macro_f1': 0.9950107387513849}\n",
            "validation accuracy:\n",
            " {'micro_f1': 0.9362880886426593, 'macro_f1': 0.9290803459737488}\n",
            "\n",
            "Epoch: 40/40\n",
            "----------\n",
            "train loss: 0.01166319211111649\n",
            "validation loss: 0.201196552189067\n",
            "train accuracy:\n",
            " {'micro_f1': 0.9977032613688562, 'macro_f1': 0.9975216761231056}\n",
            "validation accuracy:\n",
            " {'micro_f1': 0.9358178053830227, 'macro_f1': 0.9293413829465191}\n",
            "\n",
            "Training complete in 14m 21s\n"
          ],
          "name": "stdout"
        }
      ]
    },
    {
      "cell_type": "code",
      "metadata": {
        "colab": {
          "base_uri": "https://localhost:8080/",
          "height": 295
        },
        "id": "wyRDoFcy4Kqc",
        "outputId": "2ae083f0-471c-4d86-acbc-5bb766c41aac"
      },
      "source": [
        "plt.plot(vgg_train_loss, label='Train Loss')\n",
        "plt.plot(vgg_val_loss, label='Validation Loss')\n",
        "plt.legend()\n",
        "plt.title(\"Loss curves\")\n",
        "plt.xlabel(\"Epoch\")\n",
        "plt.ylabel(\"Loss\")\n",
        "plt.grid()"
      ],
      "execution_count": 16,
      "outputs": [
        {
          "output_type": "display_data",
          "data": {
            "image/png": "[encoded data removed]",
            "text/plain": [
              "<Figure size 432x288 with 1 Axes>"
            ]
          },
          "metadata": {
            "tags": [],
            "needs_background": "light"
          }
        }
      ]
    },
    {
      "cell_type": "code",
      "metadata": {
        "colab": {
          "base_uri": "https://localhost:8080/",
          "height": 295
        },
        "id": "4x2L2hi54LOb",
        "outputId": "7d331911-c4dc-4ba3-f39a-6f901096e923"
      },
      "source": [
        "a = []\n",
        "b = []\n",
        "for result in vgg_train_result:\n",
        "  a.append(result[\"micro_f1\"]*100)\n",
        "\n",
        "for result in vgg_val_result:\n",
        "  b.append(result[\"micro_f1\"]*100)\n",
        "\n",
        "plt.plot(a, label='Train Accuracy')\n",
        "plt.plot(b, label='Validation Accuracy')\n",
        "plt.legend()\n",
        "plt.title(\"Accuracy curves for micro f1\")\n",
        "plt.xlabel(\"Epoch\")\n",
        "plt.ylabel(\"Accuracy\")\n",
        "plt.grid()"
      ],
      "execution_count": 17,
      "outputs": [
        {
          "output_type": "display_data",
          "data": {
            "image/png": "[encoded data removed]",
            "text/plain": [
              "<Figure size 432x288 with 1 Axes>"
            ]
          },
          "metadata": {
            "tags": [],
            "needs_background": "light"
          }
        }
      ]
    },
    {
      "cell_type": "code",
      "metadata": {
        "colab": {
          "base_uri": "https://localhost:8080/",
          "height": 295
        },
        "id": "-EhD1zS_4LQq",
        "outputId": "cdec7fd3-104e-4344-bede-b71d4a020a42"
      },
      "source": [
        "a = []\n",
        "b = []\n",
        "for result in vgg_train_result:\n",
        "  a.append(result[\"macro_f1\"]*100)\n",
        "\n",
        "for result in vgg_val_result:\n",
        "  b.append(result[\"macro_f1\"]*100)\n",
        "\n",
        "plt.plot(a, label='Train Accuracy')\n",
        "plt.plot(b, label='Validation Accuracy')\n",
        "plt.legend()\n",
        "plt.title(\"Accuracy curves for macro f1\")\n",
        "plt.xlabel(\"Epoch\")\n",
        "plt.ylabel(\"Accuracy\")\n",
        "plt.grid()"
      ],
      "execution_count": 18,
      "outputs": [
        {
          "output_type": "display_data",
          "data": {
            "image/png": "[encoded data removed]",
            "text/plain": [
              "<Figure size 432x288 with 1 Axes>"
            ]
          },
          "metadata": {
            "tags": [],
            "needs_background": "light"
          }
        }
      ]
    },
    {
      "cell_type": "code",
      "metadata": {
        "id": "6ZFfFTRQ4LTL"
      },
      "source": [
        "def test_model(test_dataloader, optimizer, criterion, net, threshold):\n",
        "  test_outputs = []\n",
        "  test_labels = []\n",
        "\n",
        "  net.eval()\n",
        "\n",
        "  for idx, data in enumerate(test_dataloader):\n",
        "    img, label = data\n",
        "    img = img.to(device)\n",
        "    label = label.to(device)\n",
        "\n",
        "    outputs = net(img)\n",
        "\n",
        "    pred = outputs.data > threshold\n",
        "    pred = pred.type(torch.float)\n",
        "      \n",
        "    test_outputs.extend(pred.cpu().to(torch.int).numpy())\n",
        "    test_labels.extend(label.cpu().to(torch.int).numpy())\n",
        "\n",
        "  test_result = calculate_metric(np.array(test_outputs), np.array(test_labels))\n",
        "\n",
        "  return np.asarray(test_outputs), np.asarray(test_labels), test_result "
      ],
      "execution_count": 19,
      "outputs": []
    },
    {
      "cell_type": "code",
      "metadata": {
        "id": "6brari0D4LVa"
      },
      "source": [
        "vgg_test_outputs, vgg_test_labels, vgg_test_result = test_model(test_dataloader, optimizer, criterion, train_ft, 0.5)"
      ],
      "execution_count": 20,
      "outputs": []
    },
    {
      "cell_type": "code",
      "metadata": {
        "colab": {
          "base_uri": "https://localhost:8080/"
        },
        "id": "O8y8BF6O4LZa",
        "outputId": "8eb1c36f-23da-4f13-e768-689b6e5dffab"
      },
      "source": [
        "vgg_test_result"
      ],
      "execution_count": 21,
      "outputs": [
        {
          "output_type": "execute_result",
          "data": {
            "text/plain": [
              "{'macro_f1': 0.9455819695271437, 'micro_f1': 0.9510682288077188}"
            ]
          },
          "metadata": {
            "tags": []
          },
          "execution_count": 21
        }
      ]
    },
    {
      "cell_type": "code",
      "metadata": {
        "colab": {
          "base_uri": "https://localhost:8080/"
        },
        "id": "NmotruPQ4Ld6",
        "outputId": "7fb0cb36-8596-4cf7-982c-7714e0450eae"
      },
      "source": [
        "fpr = dict()\n",
        "tpr = dict()\n",
        "roc_auc = dict()\n",
        "\n",
        "for idx in range(4):\n",
        "    fpr[idx], tpr[idx], _ = roc_curve(vgg_test_labels[:, idx], vgg_test_outputs[:, idx])\n",
        "    roc_auc[idx] = auc(fpr[idx], tpr[idx])\n",
        "\n",
        "fpr[\"micro\"], tpr[\"micro\"], _ = roc_curve(vgg_test_labels.ravel(), vgg_test_outputs.ravel())\n",
        "roc_auc[\"micro\"] = auc(fpr[\"micro\"], tpr[\"micro\"])\n",
        "\n",
        "all_fpr = np.unique(np.concatenate([fpr[i] for i in range(4)]))\n",
        "\n",
        "mean_tpr = np.zeros_like(all_fpr)\n",
        "for i in range(4):\n",
        "    mean_tpr += interp(all_fpr, fpr[i], tpr[i])\n",
        "\n",
        "mean_tpr /= 4\n",
        "\n",
        "fpr[\"macro\"] = all_fpr\n",
        "tpr[\"macro\"] = mean_tpr\n",
        "roc_auc[\"macro\"] = auc(fpr[\"macro\"], tpr[\"macro\"])"
      ],
      "execution_count": 22,
      "outputs": [
        {
          "output_type": "stream",
          "text": [
            "/usr/local/lib/python3.7/dist-packages/ipykernel_launcher.py:16: DeprecationWarning: scipy.interp is deprecated and will be removed in SciPy 2.0.0, use numpy.interp instead\n",
            "  app.launch_new_instance()\n"
          ],
          "name": "stderr"
        }
      ]
    },
    {
      "cell_type": "code",
      "metadata": {
        "colab": {
          "base_uri": "https://localhost:8080/",
          "height": 301
        },
        "id": "bPr8Zcsk4hBc",
        "outputId": "8b0e34bc-bef6-482a-a1d7-85ba42b29e97"
      },
      "source": [
        "x = np.linspace(0,1)\n",
        "y = x\n",
        "plt.plot(x,y,linestyle=\"dashed\",color='black')\n",
        "plt.plot(fpr[\"micro\"], tpr[\"micro\"],\n",
        "         label='micro-average ROC curve (area = {0:0.2f})'.format(roc_auc[\"micro\"]))\n",
        "plt.plot(fpr[\"macro\"], tpr[\"macro\"],\n",
        "         label='macro-average ROC curve (area = {0:0.2f})'.format(roc_auc[\"macro\"]))\n",
        "plt.xlim([0,1])\n",
        "plt.ylim([0,1])\n",
        "plt.xlabel(\"False Positive Rate\")\n",
        "plt.ylabel(\"True Positive Rate\")\n",
        "plt.legend()"
      ],
      "execution_count": 23,
      "outputs": [
        {
          "output_type": "execute_result",
          "data": {
            "text/plain": [
              "<matplotlib.legend.Legend at 0x7f148c2bd110>"
            ]
          },
          "metadata": {
            "tags": []
          },
          "execution_count": 23
        },
        {
          "output_type": "display_data",
          "data": {
            "image/png": "[encoded data removed]",
            "text/plain": [
              "<Figure size 432x288 with 1 Axes>"
            ]
          },
          "metadata": {
            "tags": [],
            "needs_background": "light"
          }
        }
      ]
    },
    {
      "cell_type": "code",
      "metadata": {
        "id": "jCE_bpAV4hDy"
      },
      "source": [
        "final_df = pd.DataFrame(data=vgg_train_loss, columns=[\"train_loss\"])\n",
        "final_df[\"train_result_micro\"] = [data['micro_f1'] for data in vgg_train_result]\n",
        "final_df[\"train_result_macro\"] = [data['macro_f1'] for data in vgg_train_result]\n",
        "final_df[\"val_loss\"] = vgg_val_loss\n",
        "final_df[\"val_result_micro\"] = [data['micro_f1'] for data in vgg_val_result]\n",
        "final_df[\"val_result_macro\"] = [data['macro_f1'] for data in vgg_val_result]\n",
        "\n",
        "final_df.to_csv(\"/content/drive/MyDrive/Output/vgg_train\",index=False)"
      ],
      "execution_count": 24,
      "outputs": []
    },
    {
      "cell_type": "code",
      "metadata": {
        "id": "RzgQJr8N4jnL"
      },
      "source": [
        "final_df_train = pd.DataFrame(data=vgg_test_labels, columns=[\"label1\",\"label2\",\"label3\",\"label4\"])\n",
        "final_df_train[\"pred1\"] = vgg_test_outputs[:,0]\n",
        "final_df_train[\"pred2\"] = vgg_test_outputs[:,1]\n",
        "final_df_train[\"pred3\"] = vgg_test_outputs[:,2]\n",
        "final_df_train[\"pred4\"] = vgg_test_outputs[:,3]\n",
        "\n",
        "final_df_train.to_csv(\"/content/drive/MyDrive/Output/vgg_test\",index=False)"
      ],
      "execution_count": 25,
      "outputs": []
    },
    {
      "cell_type": "code",
      "metadata": {
        "id": "q0q6E8jTDFcc"
      },
      "source": [
        ""
      ],
      "execution_count": 25,
      "outputs": []
    }
  ]
}