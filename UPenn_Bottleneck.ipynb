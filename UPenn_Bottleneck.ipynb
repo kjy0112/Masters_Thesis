{
  "nbformat": 4,
  "nbformat_minor": 0,
  "metadata": {
    "colab": {
      "name": "UPenn_Bottleneck.ipynb",
      "provenance": [],
      "collapsed_sections": [],
      "machine_shape": "hm"
    },
    "kernelspec": {
      "name": "python3",
      "display_name": "Python 3"
    },
    "language_info": {
      "name": "python"
    },
    "accelerator": "GPU"
  },
  "cells": [
    {
      "cell_type": "code",
      "metadata": {
        "colab": {
          "base_uri": "https://localhost:8080/"
        },
        "id": "D1UHJsy6DXKV",
        "outputId": "b8ecef38-9fe4-4418-ce74-8fe54e8624ef"
      },
      "source": [
        "from google.colab import drive\n",
        "drive.mount('/content/drive')"
      ],
      "execution_count": 1,
      "outputs": [
        {
          "output_type": "stream",
          "text": [
            "Drive already mounted at /content/drive; to attempt to forcibly remount, call drive.mount(\"/content/drive\", force_remount=True).\n"
          ],
          "name": "stdout"
        }
      ]
    },
    {
      "cell_type": "code",
      "metadata": {
        "colab": {
          "base_uri": "https://localhost:8080/"
        },
        "id": "S_lBUWtiDSI1",
        "outputId": "3ab3085e-e883-4825-afeb-63a7f4cc0ed0"
      },
      "source": [
        "gpu_info = !nvidia-smi\n",
        "gpu_info = '\\n'.join(gpu_info)\n",
        "if gpu_info.find('failed') >= 0:\n",
        "  print('Select the Runtime > \"Change runtime type\" menu to enable a GPU accelerator, ')\n",
        "  print('and then re-execute this cell.')\n",
        "else:\n",
        "  print(gpu_info)"
      ],
      "execution_count": 2,
      "outputs": [
        {
          "output_type": "stream",
          "text": [
            "Sat May 15 23:45:39 2021       \n",
            "+-----------------------------------------------------------------------------+\n",
            "| NVIDIA-SMI 465.19.01    Driver Version: 460.32.03    CUDA Version: 11.2     |\n",
            "|-------------------------------+----------------------+----------------------+\n",
            "| GPU  Name        Persistence-M| Bus-Id        Disp.A | Volatile Uncorr. ECC |\n",
            "| Fan  Temp  Perf  Pwr:Usage/Cap|         Memory-Usage | GPU-Util  Compute M. |\n",
            "|                               |                      |               MIG M. |\n",
            "|===============================+======================+======================|\n",
            "|   0  Tesla V100-SXM2...  Off  | 00000000:00:04.0 Off |                    0 |\n",
            "| N/A   46C    P0    56W / 300W |      0MiB / 16160MiB |      0%      Default |\n",
            "|                               |                      |                  N/A |\n",
            "+-------------------------------+----------------------+----------------------+\n",
            "                                                                               \n",
            "+-----------------------------------------------------------------------------+\n",
            "| Processes:                                                                  |\n",
            "|  GPU   GI   CI        PID   Type   Process name                  GPU Memory |\n",
            "|        ID   ID                                                   Usage      |\n",
            "|=============================================================================|\n",
            "|  No running processes found                                                 |\n",
            "+-----------------------------------------------------------------------------+\n"
          ],
          "name": "stdout"
        }
      ]
    },
    {
      "cell_type": "code",
      "metadata": {
        "colab": {
          "base_uri": "https://localhost:8080/"
        },
        "id": "N9_nEvu7Dfyn",
        "outputId": "51177dcf-771b-4a64-8ec7-9fff7bb7d44f"
      },
      "source": [
        "from psutil import virtual_memory\n",
        "ram_gb = virtual_memory().total / 1e9\n",
        "print('Your runtime has {:.1f} gigabytes of available RAM\\n'.format(ram_gb))\n",
        "\n",
        "if ram_gb < 20:\n",
        "  print('To enable a high-RAM runtime, select the Runtime > \"Change runtime type\"')\n",
        "  print('menu, and then select High-RAM in the Runtime shape dropdown. Then, ')\n",
        "  print('re-execute this cell.')\n",
        "else:\n",
        "  print('You are using a high-RAM runtime!')"
      ],
      "execution_count": 3,
      "outputs": [
        {
          "output_type": "stream",
          "text": [
            "Your runtime has 27.3 gigabytes of available RAM\n",
            "\n",
            "You are using a high-RAM runtime!\n"
          ],
          "name": "stdout"
        }
      ]
    },
    {
      "cell_type": "code",
      "metadata": {
        "colab": {
          "base_uri": "https://localhost:8080/"
        },
        "id": "jOEp8SRaDgYG",
        "outputId": "25e99562-9924-472c-b498-2e950684f565"
      },
      "source": [
        "pip install pytesseract"
      ],
      "execution_count": 4,
      "outputs": [
        {
          "output_type": "stream",
          "text": [
            "Requirement already satisfied: pytesseract in /usr/local/lib/python3.7/dist-packages (0.3.7)\n",
            "Requirement already satisfied: Pillow in /usr/local/lib/python3.7/dist-packages (from pytesseract) (7.1.2)\n"
          ],
          "name": "stdout"
        }
      ]
    },
    {
      "cell_type": "code",
      "metadata": {
        "colab": {
          "base_uri": "https://localhost:8080/"
        },
        "id": "uaGkgHHyDqZ3",
        "outputId": "1093c36c-dc36-4132-d045-a92fc87d9bdd"
      },
      "source": [
        "pip install pydicom"
      ],
      "execution_count": 5,
      "outputs": [
        {
          "output_type": "stream",
          "text": [
            "Requirement already satisfied: pydicom in /usr/local/lib/python3.7/dist-packages (2.1.2)\n"
          ],
          "name": "stdout"
        }
      ]
    },
    {
      "cell_type": "code",
      "metadata": {
        "colab": {
          "base_uri": "https://localhost:8080/"
        },
        "id": "Wa1-JPXmDrke",
        "outputId": "cc319009-dfe0-4483-834e-b832daf45e14"
      },
      "source": [
        "pip install albumentations"
      ],
      "execution_count": 6,
      "outputs": [
        {
          "output_type": "stream",
          "text": [
            "Requirement already satisfied: albumentations in /usr/local/lib/python3.7/dist-packages (0.1.12)\n",
            "Requirement already satisfied: imgaug<0.2.7,>=0.2.5 in /usr/local/lib/python3.7/dist-packages (from albumentations) (0.2.6)\n",
            "Requirement already satisfied: scipy in /usr/local/lib/python3.7/dist-packages (from albumentations) (1.4.1)\n",
            "Requirement already satisfied: numpy>=1.11.1 in /usr/local/lib/python3.7/dist-packages (from albumentations) (1.19.5)\n",
            "Requirement already satisfied: opencv-python in /usr/local/lib/python3.7/dist-packages (from albumentations) (4.1.2.30)\n",
            "Requirement already satisfied: six in /usr/local/lib/python3.7/dist-packages (from imgaug<0.2.7,>=0.2.5->albumentations) (1.15.0)\n",
            "Requirement already satisfied: scikit-image>=0.11.0 in /usr/local/lib/python3.7/dist-packages (from imgaug<0.2.7,>=0.2.5->albumentations) (0.16.2)\n",
            "Requirement already satisfied: networkx>=2.0 in /usr/local/lib/python3.7/dist-packages (from scikit-image>=0.11.0->imgaug<0.2.7,>=0.2.5->albumentations) (2.5.1)\n",
            "Requirement already satisfied: imageio>=2.3.0 in /usr/local/lib/python3.7/dist-packages (from scikit-image>=0.11.0->imgaug<0.2.7,>=0.2.5->albumentations) (2.4.1)\n",
            "Requirement already satisfied: matplotlib!=3.0.0,>=2.0.0 in /usr/local/lib/python3.7/dist-packages (from scikit-image>=0.11.0->imgaug<0.2.7,>=0.2.5->albumentations) (3.2.2)\n",
            "Requirement already satisfied: PyWavelets>=0.4.0 in /usr/local/lib/python3.7/dist-packages (from scikit-image>=0.11.0->imgaug<0.2.7,>=0.2.5->albumentations) (1.1.1)\n",
            "Requirement already satisfied: pillow>=4.3.0 in /usr/local/lib/python3.7/dist-packages (from scikit-image>=0.11.0->imgaug<0.2.7,>=0.2.5->albumentations) (7.1.2)\n",
            "Requirement already satisfied: decorator<5,>=4.3 in /usr/local/lib/python3.7/dist-packages (from networkx>=2.0->scikit-image>=0.11.0->imgaug<0.2.7,>=0.2.5->albumentations) (4.4.2)\n",
            "Requirement already satisfied: kiwisolver>=1.0.1 in /usr/local/lib/python3.7/dist-packages (from matplotlib!=3.0.0,>=2.0.0->scikit-image>=0.11.0->imgaug<0.2.7,>=0.2.5->albumentations) (1.3.1)\n",
            "Requirement already satisfied: cycler>=0.10 in /usr/local/lib/python3.7/dist-packages (from matplotlib!=3.0.0,>=2.0.0->scikit-image>=0.11.0->imgaug<0.2.7,>=0.2.5->albumentations) (0.10.0)\n",
            "Requirement already satisfied: python-dateutil>=2.1 in /usr/local/lib/python3.7/dist-packages (from matplotlib!=3.0.0,>=2.0.0->scikit-image>=0.11.0->imgaug<0.2.7,>=0.2.5->albumentations) (2.8.1)\n",
            "Requirement already satisfied: pyparsing!=2.0.4,!=2.1.2,!=2.1.6,>=2.0.1 in /usr/local/lib/python3.7/dist-packages (from matplotlib!=3.0.0,>=2.0.0->scikit-image>=0.11.0->imgaug<0.2.7,>=0.2.5->albumentations) (2.4.7)\n"
          ],
          "name": "stdout"
        }
      ]
    },
    {
      "cell_type": "code",
      "metadata": {
        "id": "6ooCyJCuDsnO"
      },
      "source": [
        "import time\n",
        "import csv\n",
        "import os\n",
        "import copy\n",
        "import re\n",
        "import shutil\n",
        "import pydicom\n",
        "import pytesseract\n",
        "import cv2\n",
        "import numpy as np\n",
        "import pandas as pd\n",
        "from matplotlib import pyplot as plt\n",
        "import torch\n",
        "import torch.nn as nn\n",
        "import torch.nn.functional as F\n",
        "import torch.optim as optim\n",
        "from torchvision import datasets, models, transforms\n",
        "from torch.utils.data import Dataset, DataLoader\n",
        "from sklearn.metrics import precision_score, recall_score, f1_score, roc_curve, auc\n",
        "import albumentations as A\n",
        "from albumentations.pytorch import ToTensor\n",
        "from scipy import interp"
      ],
      "execution_count": 7,
      "outputs": []
    },
    {
      "cell_type": "code",
      "metadata": {
        "colab": {
          "base_uri": "https://localhost:8080/"
        },
        "id": "clTSs-TeDt4v",
        "outputId": "78268384-5817-45f8-f07a-c8fea7fd4404"
      },
      "source": [
        "device = torch.device(\"cuda:0\" if torch.cuda.is_available() else \"cpu\")\n",
        "device"
      ],
      "execution_count": 8,
      "outputs": [
        {
          "output_type": "execute_result",
          "data": {
            "text/plain": [
              "device(type='cuda', index=0)"
            ]
          },
          "metadata": {
            "tags": []
          },
          "execution_count": 8
        }
      ]
    },
    {
      "cell_type": "code",
      "metadata": {
        "id": "yP9YMkhFDvQd"
      },
      "source": [
        "class ImageDataset(Dataset):\n",
        "  def __init__(self, df, transform=None):\n",
        "    self.df = df\n",
        "    self.transform = transform         \n",
        "  \n",
        "  def __len__(self):\n",
        "    return len(self.df)\n",
        "\n",
        "  def __getitem__(self, idx):\n",
        "    img_name = self.df.iloc[idx,0]\n",
        "    data = pydicom.dcmread(img_name) # read dicom file\n",
        "    arr = data.pixel_array # read image into pixel data\n",
        "    shape = arr.shape\n",
        "    if len(shape) == 4:\n",
        "      arr = arr[0,:,:,0] # get the first slide of image\n",
        "    elif len(shape) == 3:\n",
        "      arr = arr[:,:,0] # get the first slide of image\n",
        "    else:\n",
        "      arr = arr\n",
        "    image = cv2.cvtColor(arr, cv2.COLOR_BGR2RGB)\n",
        "\n",
        "    labels = np.array(self.df.drop(['image_name'],axis=1))\n",
        "    label = labels[idx]\n",
        "\n",
        "    if self.transform:\n",
        "      image = self.transform(image=image)[\"image\"]\n",
        "    \n",
        "    return image, label"
      ],
      "execution_count": 9,
      "outputs": []
    },
    {
      "cell_type": "code",
      "metadata": {
        "id": "9n-C3B6WDxym"
      },
      "source": [
        "from sklearn.model_selection import train_test_split\n",
        "\n",
        "df = pd.read_csv(\"/content/drive/MyDrive/Data_testing/file_names.csv\")\n",
        "\n",
        "means=(0.485, 0.456, 0.406)\n",
        "stds=(0.229, 0.224, 0.225)\n",
        "\n",
        "albumentation_train_transform = A.Compose([\n",
        "                                      A.Resize(256,256),\n",
        "                                      A.ShiftScaleRotate(shift_limit=0.05, scale_limit=0.05, rotate_limit=15, p=0.5),\n",
        "                                      A.RandomCrop(height=224, width=224),\n",
        "                                      A.RGBShift(r_shift_limit=15, g_shift_limit=15, b_shift_limit=15, p=0.5),\n",
        "                                      A.RandomBrightnessContrast(p=0.5),\n",
        "                                      A.Normalize(mean=means, std=stds),\n",
        "                                      ToTensor(),\n",
        "                                    ])\n",
        "albumentation_val_transform = A.Compose([\n",
        "                                      A.Resize(256,256),\n",
        "                                      A.CenterCrop(height=224, width=224),\n",
        "                                      A.Normalize(mean=means, std=stds),\n",
        "                                      ToTensor(),\n",
        "                                  ])\n",
        "\n",
        "(train_df, val_df) = train_test_split(df, test_size = 0.4)\n",
        "(val_df, test_df) = train_test_split(val_df, test_size = 0.5)\n",
        "\n",
        "train_dataset = ImageDataset(train_df, transform=albumentation_train_transform)\n",
        "val_dataset = ImageDataset(val_df, transform=albumentation_val_transform)\n",
        "test_dataset = ImageDataset(test_df, transform=albumentation_val_transform)\n",
        "\n",
        "batch_num = 64\n",
        "\n",
        "train_dataloader = DataLoader(train_dataset, batch_size=batch_num, shuffle=True, num_workers=2, pin_memory=True)\n",
        "val_dataloader = DataLoader(val_dataset, batch_size=batch_num//4, shuffle=False, num_workers=2, pin_memory=True)\n",
        "test_dataloader = DataLoader(test_dataset, batch_size=batch_num//4, shuffle=False, num_workers=2, pin_memory=True)"
      ],
      "execution_count": 10,
      "outputs": []
    },
    {
      "cell_type": "code",
      "metadata": {
        "id": "OxaXZIylD7HW"
      },
      "source": [
        "def bottleneck_block(in_channel, mid_channel, out_channel):\n",
        "  block = nn.Sequential(\n",
        "      nn.Conv2d(in_channels=in_channel, out_channels=mid_channel, kernel_size=1, bias=False),\n",
        "      nn.BatchNorm2d(mid_channel),\n",
        "      nn.ReLU(inplace=True),\n",
        "      nn.Conv2d(in_channels=mid_channel, out_channels=mid_channel, kernel_size=3, padding=1, bias=False),\n",
        "      nn.BatchNorm2d(mid_channel),\n",
        "      nn.ReLU(inplace=True),\n",
        "      nn.Conv2d(in_channels=mid_channel, out_channels=out_channel, kernel_size=1, bias=False),\n",
        "      nn.BatchNorm2d(out_channel),\n",
        "      nn.ReLU(inplace=True),\n",
        "  )\n",
        "  return block\n",
        "\n",
        "def bottleneck(in_channel, mid_channel, out_channel):\n",
        "  layers = []\n",
        "  layers.append(bottleneck_block(in_channel, mid_channel, out_channel))\n",
        "  return nn.Sequential(*layers)"
      ],
      "execution_count": 11,
      "outputs": []
    },
    {
      "cell_type": "code",
      "metadata": {
        "id": "WQ6cjCdcD_Uh"
      },
      "source": [
        "class CNN_Bottleneck(torch.nn.Module):\n",
        "  def __init__(self):\n",
        "    super(CNN_Bottleneck, self).__init__()                                                                          \n",
        "    self.conv1 = nn.Conv2d(in_channels=3, out_channels=64, kernel_size=3)\n",
        "    self.bn1 = nn.BatchNorm2d(64)\n",
        "    self.block1 = bottleneck(64, 32, 64)\n",
        "    self.conv2 = nn.Conv2d(in_channels=128, out_channels=128, kernel_size=3)\n",
        "    self.bn2 = nn.BatchNorm2d(128)\n",
        "    self.block2 = bottleneck(128, 64, 128)\n",
        "    self.conv3 = nn.Conv2d(in_channels=256, out_channels=256, kernel_size=3)      \n",
        "    self.bn3 = nn.BatchNorm2d(256)     \n",
        "    self.block3 = bottleneck(256, 128, 256)                                                                  \n",
        "    self.conv4 = nn.Conv2d(in_channels=512, out_channels=512, kernel_size=3)\n",
        "    self.bn4 = nn.BatchNorm2d(512)\n",
        "    self.block4 = bottleneck(512, 256, 512)\n",
        "    self.linear1 = nn.Linear(512*12*12, 4096)\n",
        "    self.linear2 = nn.Linear(4096, 1024)\n",
        "    self.linear3 = nn.Linear(1024, 4)\n",
        "    self.sigmoid = nn.Sigmoid()\n",
        "    self.maxpool = nn.MaxPool2d(2,2)\n",
        "    self.relu = nn.ReLU(inplace=True)\n",
        "\n",
        "  def forward(self, x): #224\n",
        "    identity = [None]*3\n",
        "    x = self.maxpool(self.relu(self.bn1(self.conv1(x)))) #113\n",
        "    identity[0] = x\n",
        "    x = self.block1(x)\n",
        "    x = self.maxpool(self.relu(self.bn2(self.conv2(torch.cat([x,identity[0]],1))))) #58\n",
        "    identity[1] = x\n",
        "    x = self.block2(x) \n",
        "    x = self.maxpool(self.relu(self.bn3(self.conv3(torch.cat([x,identity[1]],1))))) #30\n",
        "    identity[2] = x\n",
        "    x = self.block3(x)\n",
        "    x = self.maxpool(self.relu(self.bn4(self.conv4(torch.cat([x,identity[2]],1))))) #16\n",
        "    x = self.block4(x)\n",
        "    x = x.view(x.size(0),-1)\n",
        "    x = self.relu(self.linear1(x))\n",
        "    x = self.relu(self.linear2(x))\n",
        "    x = self.linear3(x)\n",
        "    x = self.sigmoid(x)\n",
        "\n",
        "    return x"
      ],
      "execution_count": 12,
      "outputs": []
    },
    {
      "cell_type": "code",
      "metadata": {
        "id": "0IZ_FFJkERA9"
      },
      "source": [
        "def calculate_metrics(pred, label):\n",
        "  return {\n",
        "      \"micro_f1\":f1_score(y_true=label, y_pred=pred, average='micro'),\n",
        "      \"macro_f1\":f1_score(y_true=label, y_pred=pred, average='macro'),\n",
        "  }"
      ],
      "execution_count": 13,
      "outputs": []
    },
    {
      "cell_type": "code",
      "metadata": {
        "id": "gba6sG0nER5V"
      },
      "source": [
        "def train_model(train_dataloader, val_dataloader, optimizer, criterion, net, threshold, num_epochs):\n",
        "  since = time.time()\n",
        "\n",
        "  tot_train_loss = []\n",
        "  tot_val_loss = []\n",
        "\n",
        "  tot_train_acc = []\n",
        "  tot_val_acc = []\n",
        "  \n",
        "  for epoch in range(num_epochs):\n",
        "    print(\"Epoch: {}/{}\".format(epoch, num_epochs-1))\n",
        "    print('-' * 10)\n",
        "\n",
        "    net.train()\n",
        "    \n",
        "    train_running_loss = 0.0\n",
        "    train_loss_values = []\n",
        "\n",
        "    train_outputs = []\n",
        "    train_labels = []\n",
        "\n",
        "    for idx, data in enumerate(train_dataloader):\n",
        "      img, label = data\n",
        "      img = img.to(device)\n",
        "      label = label.to(device)\n",
        "\n",
        "      optimizer.zero_grad()\n",
        "\n",
        "      outputs = net(img)\n",
        "      loss = criterion(outputs, label.type(torch.float))\n",
        "\n",
        "      pred = outputs.data > threshold\n",
        "      pred = pred.type(torch.float)\n",
        "\n",
        "      loss.backward()\n",
        "      optimizer.step()\n",
        "      \n",
        "      train_loss_values.append(loss.item())\n",
        "      train_running_loss += loss.item()\n",
        "\n",
        "      train_outputs.extend(pred.cpu().to(torch.int).numpy())\n",
        "      train_labels.extend(label.cpu().to(torch.int).numpy())\n",
        "\n",
        "    train_result = calculate_metrics(np.array(train_outputs), np.array(train_labels))\n",
        "\n",
        "    net.eval()\n",
        "\n",
        "    validation_running_loss = 0.0\n",
        "    val_loss_values = []\n",
        "\n",
        "    with torch.no_grad():\n",
        "      val_outputs = []\n",
        "      val_labels = []\n",
        "      for val_idx, val_data in enumerate(val_dataloader):\n",
        "        val_img, val_label = val_data\n",
        "        val_img = val_img.to(device) \n",
        "        val_label = val_label.to(device)\n",
        "\n",
        "        val_output = net(val_img)\n",
        "\n",
        "        val_loss = criterion(val_output, val_label.type(torch.float))\n",
        "\n",
        "        val_pred = val_output.data > threshold\n",
        "        val_pred = val_pred.type(torch.float)\n",
        "\n",
        "        val_outputs.extend(val_pred.cpu().to(torch.int).numpy())\n",
        "        val_labels.extend(val_label.cpu().to(torch.int).numpy())\n",
        "\n",
        "        val_loss_values.append(val_loss.item())\n",
        "        validation_running_loss += val_loss.item()\n",
        "\n",
        "    val_result = calculate_metrics(np.array(val_outputs), np.array(val_labels))\n",
        "\n",
        "    final_train_loss = train_running_loss/len(train_dataloader)\n",
        "    final_val_loss = validation_running_loss/len(val_dataloader)\n",
        "\n",
        "    tot_train_loss.append(final_train_loss)\n",
        "    tot_val_loss.append(final_val_loss)\n",
        "\n",
        "    tot_train_acc.append(train_result)\n",
        "    tot_val_acc.append(val_result)\n",
        "\n",
        "    print(\"train loss: {}\".format(final_train_loss))\n",
        "    print(\"validation loss: {}\".format(final_val_loss))\n",
        "    print(\"train accuracy:\\n\",train_result)\n",
        "    print(\"validation accuracy:\\n\",val_result)\n",
        "    print()\n",
        "\n",
        "  tot_time = time.time() - since\n",
        "  print('Training complete in {:.0f}m {:.0f}s'.format(tot_time // 60, tot_time % 60))\n",
        "  \n",
        "  return net, tot_train_loss, tot_val_loss, tot_train_acc, tot_val_acc "
      ],
      "execution_count": 14,
      "outputs": []
    },
    {
      "cell_type": "code",
      "metadata": {
        "id": "rsJMG0FJES-1"
      },
      "source": [
        "network = CNN_Bottleneck()\n",
        "network = network.to(device)\n",
        "criterion = torch.nn.BCELoss()\n",
        "optimizer = optim.Adam(network.parameters(), lr=0.00001)"
      ],
      "execution_count": 15,
      "outputs": []
    },
    {
      "cell_type": "code",
      "metadata": {
        "colab": {
          "base_uri": "https://localhost:8080/"
        },
        "id": "mW32KpRoEUI1",
        "outputId": "226cf113-6392-4456-e407-a6606b7ec597"
      },
      "source": [
        "train_ft, Bottleneck_train_loss, Bottleneck_val_loss, Bottleneck_train_result, Bottleneck_val_result = train_model(train_dataloader, val_dataloader, optimizer, criterion, network,  0.5, 41)"
      ],
      "execution_count": 16,
      "outputs": [
        {
          "output_type": "stream",
          "text": [
            "Epoch: 0/40\n",
            "----------\n",
            "train loss: 0.5878815274489554\n",
            "validation loss: 0.6481691908836364\n",
            "train accuracy:\n",
            " {'micro_f1': 0.5799725651577504, 'macro_f1': 0.349458074001665}\n",
            "validation accuracy:\n",
            " {'micro_f1': 0.5630026809651475, 'macro_f1': 0.2260758444968971}\n",
            "\n",
            "Epoch: 1/40\n",
            "----------\n",
            "train loss: 0.48394047743395757\n",
            "validation loss: 0.5300362312793732\n",
            "train accuracy:\n",
            " {'micro_f1': 0.6929095354523227, 'macro_f1': 0.5558120737011195}\n",
            "validation accuracy:\n",
            " {'micro_f1': 0.7506925207756232, 'macro_f1': 0.7075628644109768}\n",
            "\n",
            "Epoch: 2/40\n",
            "----------\n",
            "train loss: 0.40411139789380524\n",
            "validation loss: 0.3412542974948883\n",
            "train accuracy:\n",
            " {'micro_f1': 0.7829585798816568, 'macro_f1': 0.7447787908091006}\n",
            "validation accuracy:\n",
            " {'micro_f1': 0.8159645232815963, 'macro_f1': 0.7705973762847573}\n",
            "\n",
            "Epoch: 3/40\n",
            "----------\n",
            "train loss: 0.35493735733785126\n",
            "validation loss: 0.30612778961658477\n",
            "train accuracy:\n",
            " {'micro_f1': 0.8113609467455621, 'macro_f1': 0.7806905331703975}\n",
            "validation accuracy:\n",
            " {'micro_f1': 0.8443197755960729, 'macro_f1': 0.8160341626950354}\n",
            "\n",
            "Epoch: 4/40\n",
            "----------\n",
            "train loss: 0.32417336576863337\n",
            "validation loss: 0.28800064742565157\n",
            "train accuracy:\n",
            " {'micro_f1': 0.8306394940267042, 'macro_f1': 0.806277783128019}\n",
            "validation accuracy:\n",
            " {'micro_f1': 0.8555708390646493, 'macro_f1': 0.8347356818244344}\n",
            "\n",
            "Epoch: 5/40\n",
            "----------\n",
            "train loss: 0.29992050481470006\n",
            "validation loss: 0.2724077385663986\n",
            "train accuracy:\n",
            " {'micro_f1': 0.8410424982390233, 'macro_f1': 0.8185197122796438}\n",
            "validation accuracy:\n",
            " {'micro_f1': 0.8408104196816208, 'macro_f1': 0.8119447477688803}\n",
            "\n",
            "Epoch: 6/40\n",
            "----------\n",
            "train loss: 0.29100580121341507\n",
            "validation loss: 0.2529376447200775\n",
            "train accuracy:\n",
            " {'micro_f1': 0.84340723453909, 'macro_f1': 0.8232931331017215}\n",
            "validation accuracy:\n",
            " {'micro_f1': 0.8733812949640286, 'macro_f1': 0.8533876998537206}\n",
            "\n",
            "Epoch: 7/40\n",
            "----------\n",
            "train loss: 0.2758417349112661\n",
            "validation loss: 0.23693640828132628\n",
            "train accuracy:\n",
            " {'micro_f1': 0.8564090590707448, 'macro_f1': 0.8383710029074027}\n",
            "validation accuracy:\n",
            " {'micro_f1': 0.8931652289316523, 'macro_f1': 0.8844547825384871}\n",
            "\n",
            "Epoch: 8/40\n",
            "----------\n",
            "train loss: 0.2565543643738094\n",
            "validation loss: 0.23502347946166993\n",
            "train accuracy:\n",
            " {'micro_f1': 0.8714748035136385, 'macro_f1': 0.8568461905472456}\n",
            "validation accuracy:\n",
            " {'micro_f1': 0.8772178850248403, 'macro_f1': 0.8566264214762362}\n",
            "\n",
            "Epoch: 9/40\n",
            "----------\n",
            "train loss: 0.23865997634435954\n",
            "validation loss: 0.22030349910259248\n",
            "train accuracy:\n",
            " {'micro_f1': 0.8811674774148713, 'macro_f1': 0.8674998854153051}\n",
            "validation accuracy:\n",
            " {'micro_f1': 0.8970901348474095, 'macro_f1': 0.8811200465187512}\n",
            "\n",
            "Epoch: 10/40\n",
            "----------\n",
            "train loss: 0.23495971764388837\n",
            "validation loss: 0.20777516335248947\n",
            "train accuracy:\n",
            " {'micro_f1': 0.8898617511520738, 'macro_f1': 0.8777649129870262}\n",
            "validation accuracy:\n",
            " {'micro_f1': 0.9023709902370989, 'macro_f1': 0.8906198780643872}\n",
            "\n",
            "Epoch: 11/40\n",
            "----------\n",
            "train loss: 0.2183514880506616\n",
            "validation loss: 0.20619980931282045\n",
            "train accuracy:\n",
            " {'micro_f1': 0.8898678414096917, 'macro_f1': 0.8776696007560639}\n",
            "validation accuracy:\n",
            " {'micro_f1': 0.8912429378531074, 'macro_f1': 0.8758300698632226}\n",
            "\n",
            "Epoch: 12/40\n",
            "----------\n",
            "train loss: 0.20701214357426292\n",
            "validation loss: 0.1866293516755104\n",
            "train accuracy:\n",
            " {'micro_f1': 0.9032407407407407, 'macro_f1': 0.8929627983190129}\n",
            "validation accuracy:\n",
            " {'micro_f1': 0.9157967988865693, 'macro_f1': 0.9052351313938478}\n",
            "\n",
            "Epoch: 13/40\n",
            "----------\n",
            "train loss: 0.197521332063173\n",
            "validation loss: 0.19279478698968888\n",
            "train accuracy:\n",
            " {'micro_f1': 0.9085872576177285, 'macro_f1': 0.8994423941150671}\n",
            "validation accuracy:\n",
            " {'micro_f1': 0.9102040816326532, 'macro_f1': 0.9010979598365985}\n",
            "\n",
            "Epoch: 14/40\n",
            "----------\n",
            "train loss: 0.19366695378956042\n",
            "validation loss: 0.20397646754980087\n",
            "train accuracy:\n",
            " {'micro_f1': 0.9116300366300366, 'macro_f1': 0.9031166284315898}\n",
            "validation accuracy:\n",
            " {'micro_f1': 0.9122302158273381, 'macro_f1': 0.8995958965943408}\n",
            "\n",
            "Epoch: 15/40\n",
            "----------\n",
            "train loss: 0.19197865222629748\n",
            "validation loss: 0.18729452818632125\n",
            "train accuracy:\n",
            " {'micro_f1': 0.9133858267716535, 'macro_f1': 0.9038231089175637}\n",
            "validation accuracy:\n",
            " {'micro_f1': 0.9094736842105263, 'macro_f1': 0.8995075537861439}\n",
            "\n",
            "Epoch: 16/40\n",
            "----------\n",
            "train loss: 0.17510236015445307\n",
            "validation loss: 0.18872344881296158\n",
            "train accuracy:\n",
            " {'micro_f1': 0.9221556886227544, 'macro_f1': 0.9146770737337855}\n",
            "validation accuracy:\n",
            " {'micro_f1': 0.9100743745774171, 'macro_f1': 0.8993316750930147}\n",
            "\n",
            "Epoch: 17/40\n",
            "----------\n",
            "train loss: 0.18404363840818405\n",
            "validation loss: 0.1876513160765171\n",
            "train accuracy:\n",
            " {'micro_f1': 0.9125230202578268, 'macro_f1': 0.9042096733358874}\n",
            "validation accuracy:\n",
            " {'micro_f1': 0.9042039972432805, 'macro_f1': 0.8925596846131589}\n",
            "\n",
            "Epoch: 18/40\n",
            "----------\n",
            "train loss: 0.18187847498216128\n",
            "validation loss: 0.1864107608795166\n",
            "train accuracy:\n",
            " {'micro_f1': 0.9236799631081392, 'macro_f1': 0.9163437034140347}\n",
            "validation accuracy:\n",
            " {'micro_f1': 0.9134412385643913, 'macro_f1': 0.9002263517131608}\n",
            "\n",
            "Epoch: 19/40\n",
            "----------\n",
            "train loss: 0.1621742448524425\n",
            "validation loss: 0.1732573351264\n",
            "train accuracy:\n",
            " {'micro_f1': 0.9278492647058822, 'macro_f1': 0.9208384009700894}\n",
            "validation accuracy:\n",
            " {'micro_f1': 0.9256756756756757, 'macro_f1': 0.9213669013889536}\n",
            "\n",
            "Epoch: 20/40\n",
            "----------\n",
            "train loss: 0.15506591569436223\n",
            "validation loss: 0.15609898597002028\n",
            "train accuracy:\n",
            " {'micro_f1': 0.9377440845393982, 'macro_f1': 0.9322114956762988}\n",
            "validation accuracy:\n",
            " {'micro_f1': 0.9327731092436975, 'macro_f1': 0.9259325809175486}\n",
            "\n",
            "Epoch: 21/40\n",
            "----------\n",
            "train loss: 0.16078865841815346\n",
            "validation loss: 0.14955020621418952\n",
            "train accuracy:\n",
            " {'micro_f1': 0.9296228150873965, 'macro_f1': 0.9230946256075397}\n",
            "validation accuracy:\n",
            " {'micro_f1': 0.9414197105444521, 'macro_f1': 0.9367122317037863}\n",
            "\n",
            "Epoch: 22/40\n",
            "----------\n",
            "train loss: 0.14048851046123004\n",
            "validation loss: 0.20224525809288024\n",
            "train accuracy:\n",
            " {'micro_f1': 0.9428179322964317, 'macro_f1': 0.9375186798302151}\n",
            "validation accuracy:\n",
            " {'micro_f1': 0.9026425591098748, 'macro_f1': 0.8890917233126576}\n",
            "\n",
            "Epoch: 23/40\n",
            "----------\n",
            "train loss: 0.14220928871317914\n",
            "validation loss: 0.1457289347052574\n",
            "train accuracy:\n",
            " {'micro_f1': 0.9397367813438006, 'macro_f1': 0.9342303437128661}\n",
            "validation accuracy:\n",
            " {'micro_f1': 0.9436813186813188, 'macro_f1': 0.9391447672443933}\n",
            "\n",
            "Epoch: 24/40\n",
            "----------\n",
            "train loss: 0.13528276979923248\n",
            "validation loss: 0.19166101783514022\n",
            "train accuracy:\n",
            " {'micro_f1': 0.9466941203385952, 'macro_f1': 0.9426138045111663}\n",
            "validation accuracy:\n",
            " {'micro_f1': 0.9127423822714681, 'macro_f1': 0.899925366388073}\n",
            "\n",
            "Epoch: 25/40\n",
            "----------\n",
            "train loss: 0.1509801200345943\n",
            "validation loss: 0.16366395741701126\n",
            "train accuracy:\n",
            " {'micro_f1': 0.9331802525832377, 'macro_f1': 0.9267711002679389}\n",
            "validation accuracy:\n",
            " {'micro_f1': 0.9308005427408412, 'macro_f1': 0.9236591268006175}\n",
            "\n",
            "Epoch: 26/40\n",
            "----------\n",
            "train loss: 0.12884810253193504\n",
            "validation loss: 0.15019528925418854\n",
            "train accuracy:\n",
            " {'micro_f1': 0.943231441048035, 'macro_f1': 0.9382580183730833}\n",
            "validation accuracy:\n",
            " {'micro_f1': 0.9368494101318529, 'macro_f1': 0.9308621743086805}\n",
            "\n",
            "Epoch: 27/40\n",
            "----------\n",
            "train loss: 0.12574323109890284\n",
            "validation loss: 0.15448375463485717\n",
            "train accuracy:\n",
            " {'micro_f1': 0.9516166016968586, 'macro_f1': 0.9475331829310274}\n",
            "validation accuracy:\n",
            " {'micro_f1': 0.9310344827586207, 'macro_f1': 0.9219056405001044}\n",
            "\n",
            "Epoch: 28/40\n",
            "----------\n",
            "train loss: 0.12001257860346844\n",
            "validation loss: 0.16152121126651764\n",
            "train accuracy:\n",
            " {'micro_f1': 0.9545142857142856, 'macro_f1': 0.9508042995494088}\n",
            "validation accuracy:\n",
            " {'micro_f1': 0.928032899246059, 'macro_f1': 0.9191131050121197}\n",
            "\n",
            "Epoch: 29/40\n",
            "----------\n",
            "train loss: 0.11661473347952492\n",
            "validation loss: 0.13743061631917952\n",
            "train accuracy:\n",
            " {'micro_f1': 0.9506314580941447, 'macro_f1': 0.9464807431923196}\n",
            "validation accuracy:\n",
            " {'micro_f1': 0.9435757987763426, 'macro_f1': 0.938982310859656}\n",
            "\n",
            "Epoch: 30/40\n",
            "----------\n",
            "train loss: 0.1190535324184518\n",
            "validation loss: 0.14729629777371883\n",
            "train accuracy:\n",
            " {'micro_f1': 0.9499770536943553, 'macro_f1': 0.9456341104508427}\n",
            "validation accuracy:\n",
            " {'micro_f1': 0.9338731443994602, 'macro_f1': 0.928740237606464}\n",
            "\n",
            "Epoch: 31/40\n",
            "----------\n",
            "train loss: 0.11671760560650575\n",
            "validation loss: 0.1359952749311924\n",
            "train accuracy:\n",
            " {'micro_f1': 0.9520752121073148, 'macro_f1': 0.9482968950935141}\n",
            "validation accuracy:\n",
            " {'micro_f1': 0.938861560084329, 'macro_f1': 0.9316665052708741}\n",
            "\n",
            "Epoch: 32/40\n",
            "----------\n",
            "train loss: 0.11150591428342618\n",
            "validation loss: 0.19230762302875518\n",
            "train accuracy:\n",
            " {'micro_f1': 0.9570411210659315, 'macro_f1': 0.9533743756395989}\n",
            "validation accuracy:\n",
            " {'micro_f1': 0.9104477611940299, 'macro_f1': 0.9015884582733831}\n",
            "\n",
            "Epoch: 33/40\n",
            "----------\n",
            "train loss: 0.10755224918064318\n",
            "validation loss: 0.15208091646432875\n",
            "train accuracy:\n",
            " {'micro_f1': 0.9581801470588236, 'macro_f1': 0.954739371665934}\n",
            "validation accuracy:\n",
            " {'micro_f1': 0.9324894514767932, 'macro_f1': 0.9222183705740008}\n",
            "\n",
            "Epoch: 34/40\n",
            "----------\n",
            "train loss: 0.10099584021066364\n",
            "validation loss: 0.1382804822921753\n",
            "train accuracy:\n",
            " {'micro_f1': 0.959300988733042, 'macro_f1': 0.9559896526897868}\n",
            "validation accuracy:\n",
            " {'micro_f1': 0.9406077348066297, 'macro_f1': 0.9338403787712544}\n",
            "\n",
            "Epoch: 35/40\n",
            "----------\n",
            "train loss: 0.09572944888158848\n",
            "validation loss: 0.13912270694971085\n",
            "train accuracy:\n",
            " {'micro_f1': 0.9605685465382852, 'macro_f1': 0.9574875160610088}\n",
            "validation accuracy:\n",
            " {'micro_f1': 0.937413073713491, 'macro_f1': 0.9308379766589285}\n",
            "\n",
            "Epoch: 36/40\n",
            "----------\n",
            "train loss: 0.09480830438827213\n",
            "validation loss: 0.17465605035424234\n",
            "train accuracy:\n",
            " {'micro_f1': 0.9634566766260629, 'macro_f1': 0.9601309710016507}\n",
            "validation accuracy:\n",
            " {'micro_f1': 0.9187713310580204, 'macro_f1': 0.9088416056544903}\n",
            "\n",
            "Epoch: 37/40\n",
            "----------\n",
            "train loss: 0.09836162430675406\n",
            "validation loss: 0.14280777767300606\n",
            "train accuracy:\n",
            " {'micro_f1': 0.9595588235294117, 'macro_f1': 0.9561418112317758}\n",
            "validation accuracy:\n",
            " {'micro_f1': 0.9401114206128134, 'macro_f1': 0.933567888043806}\n",
            "\n",
            "Epoch: 38/40\n",
            "----------\n",
            "train loss: 0.08475155638236749\n",
            "validation loss: 0.13843765661120414\n",
            "train accuracy:\n",
            " {'micro_f1': 0.9660706098120128, 'macro_f1': 0.9632913865453979}\n",
            "validation accuracy:\n",
            " {'micro_f1': 0.9372384937238494, 'macro_f1': 0.9282771786772951}\n",
            "\n",
            "Epoch: 39/40\n",
            "----------\n",
            "train loss: 0.08961793427404605\n",
            "validation loss: 0.15061728656291962\n",
            "train accuracy:\n",
            " {'micro_f1': 0.9663230240549828, 'macro_f1': 0.9633312190307477}\n",
            "validation accuracy:\n",
            " {'micro_f1': 0.9373680506685433, 'macro_f1': 0.930715546742698}\n",
            "\n",
            "Epoch: 40/40\n",
            "----------\n",
            "train loss: 0.0849880707499228\n",
            "validation loss: 0.1290872326493263\n",
            "train accuracy:\n",
            " {'micro_f1': 0.9678456591639871, 'macro_f1': 0.9652932848566125}\n",
            "validation accuracy:\n",
            " {'micro_f1': 0.9417475728155341, 'macro_f1': 0.9362585700202686}\n",
            "\n",
            "Training complete in 11m 43s\n"
          ],
          "name": "stdout"
        }
      ]
    },
    {
      "cell_type": "code",
      "metadata": {
        "id": "oFp9Da91Ep9F",
        "colab": {
          "base_uri": "https://localhost:8080/",
          "height": 295
        },
        "outputId": "f152ff6d-40ba-41db-e960-ab26060e317c"
      },
      "source": [
        "plt.plot(Bottleneck_train_loss, label='Train Loss')\n",
        "plt.plot(Bottleneck_val_loss, label='Validation Loss')\n",
        "plt.legend()\n",
        "plt.title(\"Loss curves\")\n",
        "plt.xlabel(\"Epoch\")\n",
        "plt.ylabel(\"Loss\")\n",
        "plt.grid()"
      ],
      "execution_count": 17,
      "outputs": [
        {
          "output_type": "display_data",
          "data": {
            "image/png": "[encoded data removed]",
            "text/plain": [
              "<Figure size 432x288 with 1 Axes>"
            ]
          },
          "metadata": {
            "tags": [],
            "needs_background": "light"
          }
        }
      ]
    },
    {
      "cell_type": "code",
      "metadata": {
        "id": "RXIkbxTyEs7-",
        "colab": {
          "base_uri": "https://localhost:8080/",
          "height": 295
        },
        "outputId": "ed8dcaff-1c52-40c0-a7fc-0d0796577fc6"
      },
      "source": [
        "a = []\n",
        "b = []\n",
        "for result in Bottleneck_train_result:\n",
        "  a.append(result[\"micro_f1\"]*100)\n",
        "\n",
        "for result in Bottleneck_val_result:\n",
        "  b.append(result[\"micro_f1\"]*100)\n",
        "\n",
        "plt.plot(a, label='Train Accuracy')\n",
        "plt.plot(b, label='Validation Accuracy')\n",
        "plt.legend()\n",
        "plt.title(\"Mirco-average F1 metric over 50 epochs\")\n",
        "plt.xlabel(\"Epoch\")\n",
        "plt.ylabel(\"Micro-average F1\")\n",
        "plt.grid()"
      ],
      "execution_count": 18,
      "outputs": [
        {
          "output_type": "display_data",
          "data": {
            "image/png": "[encoded data removed]",
            "text/plain": [
              "<Figure size 432x288 with 1 Axes>"
            ]
          },
          "metadata": {
            "tags": [],
            "needs_background": "light"
          }
        }
      ]
    },
    {
      "cell_type": "code",
      "metadata": {
        "id": "S-nihpkzEt2e",
        "colab": {
          "base_uri": "https://localhost:8080/",
          "height": 295
        },
        "outputId": "71a86c7c-0ea9-4e7c-ac1a-4a6caaf85376"
      },
      "source": [
        "a = []\n",
        "b = []\n",
        "for result in Bottleneck_train_result:\n",
        "  a.append(result[\"macro_f1\"]*100)\n",
        "\n",
        "for result in Bottleneck_val_result:\n",
        "  b.append(result[\"macro_f1\"]*100)\n",
        "\n",
        "plt.plot(a, label='Train Accuracy')\n",
        "plt.plot(b, label='Validation Accuracy')\n",
        "plt.legend()\n",
        "plt.title(\"Marco-average F1 metric over 50 epochs\")\n",
        "plt.xlabel(\"Epoch\")\n",
        "plt.ylabel(\"Macro-average F1\")\n",
        "plt.grid()"
      ],
      "execution_count": 19,
      "outputs": [
        {
          "output_type": "display_data",
          "data": {
            "image/png": "[encoded data removed]",
            "text/plain": [
              "<Figure size 432x288 with 1 Axes>"
            ]
          },
          "metadata": {
            "tags": [],
            "needs_background": "light"
          }
        }
      ]
    },
    {
      "cell_type": "code",
      "metadata": {
        "id": "5snC5oeMEu2F"
      },
      "source": [
        "def test_model(test_dataloader, optimizer, criterion, net, threshold):\n",
        "  test_outputs = []\n",
        "  test_labels = []\n",
        "  since = time.time()\n",
        "\n",
        "  net.eval()\n",
        "\n",
        "  for idx, data in enumerate(test_dataloader):\n",
        "    img, label = data\n",
        "    img = img.to(device)\n",
        "    label = label.to(device)\n",
        "\n",
        "    outputs = net(img)\n",
        "\n",
        "    pred = outputs.data > threshold\n",
        "    pred = pred.type(torch.float)\n",
        "      \n",
        "    test_outputs.extend(pred.cpu().to(torch.int).numpy())\n",
        "    test_labels.extend(label.cpu().to(torch.int).numpy())\n",
        "\n",
        "  test_result = calculate_metrics(np.array(test_outputs), np.array(test_labels))\n",
        "\n",
        "  tot_time = time.time() - since\n",
        "  print('Testing complete in {:.0f}m {:.0f}s'.format(tot_time // 60, tot_time % 60))\n",
        "\n",
        "  return np.asarray(test_outputs), np.asarray(test_labels), test_result "
      ],
      "execution_count": 20,
      "outputs": []
    },
    {
      "cell_type": "code",
      "metadata": {
        "id": "Gk8Vb-_j1Ke8",
        "colab": {
          "base_uri": "https://localhost:8080/"
        },
        "outputId": "00297cad-c718-488f-988c-5d72b4b31e60"
      },
      "source": [
        "Bottleneck_test_outputs, Bottleneck_test_labels, Bottleneck_test_result = test_model(test_dataloader, optimizer, criterion, train_ft, 0.5)"
      ],
      "execution_count": 21,
      "outputs": [
        {
          "output_type": "stream",
          "text": [
            "Testing complete in 0m 35s\n"
          ],
          "name": "stdout"
        }
      ]
    },
    {
      "cell_type": "code",
      "metadata": {
        "colab": {
          "base_uri": "https://localhost:8080/"
        },
        "id": "qUlrjFKE5aQO",
        "outputId": "81b19001-b22a-47b4-9495-2390f4a3767f"
      },
      "source": [
        "Bottleneck_test_result"
      ],
      "execution_count": 22,
      "outputs": [
        {
          "output_type": "execute_result",
          "data": {
            "text/plain": [
              "{'macro_f1': 0.9391727186712637, 'micro_f1': 0.945176960444136}"
            ]
          },
          "metadata": {
            "tags": []
          },
          "execution_count": 22
        }
      ]
    },
    {
      "cell_type": "code",
      "metadata": {
        "colab": {
          "base_uri": "https://localhost:8080/"
        },
        "id": "YB9BIuub5n7w",
        "outputId": "72163704-a62c-45ab-8db9-e997305e22ed"
      },
      "source": [
        "fpr = dict()\n",
        "tpr = dict()\n",
        "roc_auc = dict()\n",
        "\n",
        "for idx in range(4):\n",
        "    fpr[idx], tpr[idx], _ = roc_curve(Bottleneck_test_labels[:, idx], Bottleneck_test_outputs[:, idx])\n",
        "    roc_auc[idx] = auc(fpr[idx], tpr[idx])\n",
        "\n",
        "fpr[\"micro\"], tpr[\"micro\"], _ = roc_curve(Bottleneck_test_labels.ravel(), Bottleneck_test_outputs.ravel())\n",
        "roc_auc[\"micro\"] = auc(fpr[\"micro\"], tpr[\"micro\"])\n",
        "\n",
        "all_fpr = np.unique(np.concatenate([fpr[i] for i in range(4)]))\n",
        "\n",
        "mean_tpr = np.zeros_like(all_fpr)\n",
        "for i in range(4):\n",
        "    mean_tpr += interp(all_fpr, fpr[i], tpr[i])\n",
        "\n",
        "mean_tpr /= 4\n",
        "\n",
        "fpr[\"macro\"] = all_fpr\n",
        "tpr[\"macro\"] = mean_tpr\n",
        "roc_auc[\"macro\"] = auc(fpr[\"macro\"], tpr[\"macro\"])"
      ],
      "execution_count": 23,
      "outputs": [
        {
          "output_type": "stream",
          "text": [
            "/usr/local/lib/python3.7/dist-packages/ipykernel_launcher.py:16: DeprecationWarning: scipy.interp is deprecated and will be removed in SciPy 2.0.0, use numpy.interp instead\n",
            "  app.launch_new_instance()\n"
          ],
          "name": "stderr"
        }
      ]
    },
    {
      "cell_type": "code",
      "metadata": {
        "id": "kPhh_iUC5qr_",
        "colab": {
          "base_uri": "https://localhost:8080/",
          "height": 301
        },
        "outputId": "4a3d03dd-b356-4c85-b1eb-17e8d5753afa"
      },
      "source": [
        "x = np.linspace(0,1)\n",
        "y = x\n",
        "plt.plot(x,y,linestyle=\"dashed\",color='black')\n",
        "plt.plot(fpr[\"micro\"], tpr[\"micro\"],\n",
        "         label='micro-average ROC curve (area = {0:0.2f})'.format(roc_auc[\"micro\"]))\n",
        "plt.plot(fpr[\"macro\"], tpr[\"macro\"],\n",
        "         label='macro-average ROC curve (area = {0:0.2f})'.format(roc_auc[\"macro\"]))\n",
        "plt.xlim([0,1])\n",
        "plt.ylim([0,1])\n",
        "plt.xlabel(\"False Positive Rate\")\n",
        "plt.ylabel(\"True Positive Rate\")\n",
        "plt.legend()"
      ],
      "execution_count": 24,
      "outputs": [
        {
          "output_type": "execute_result",
          "data": {
            "text/plain": [
              "<matplotlib.legend.Legend at 0x7f9ea1b82b10>"
            ]
          },
          "metadata": {
            "tags": []
          },
          "execution_count": 24
        },
        {
          "output_type": "display_data",
          "data": {
            "image/png": "[encoded data removed]",
            "text/plain": [
              "<Figure size 432x288 with 1 Axes>"
            ]
          },
          "metadata": {
            "tags": [],
            "needs_background": "light"
          }
        }
      ]
    },
    {
      "cell_type": "code",
      "metadata": {
        "id": "PeZDiHx9su4B"
      },
      "source": [
        "final_df = pd.DataFrame(data=Bottleneck_train_loss, columns=[\"train_loss\"])\n",
        "final_df[\"train_result_micro\"] = [data['micro_f1'] for data in Bottleneck_train_result]\n",
        "final_df[\"train_result_macro\"] = [data['macro_f1'] for data in Bottleneck_train_result]\n",
        "final_df[\"val_loss\"] = Bottleneck_val_loss\n",
        "final_df[\"val_result_micro\"] = [data['micro_f1'] for data in Bottleneck_val_result]\n",
        "final_df[\"val_result_macro\"] = [data['macro_f1'] for data in Bottleneck_val_result]\n",
        "\n",
        "final_df.to_csv(\"/content/drive/MyDrive/Output/Bottleneck_train\",index=False)"
      ],
      "execution_count": 25,
      "outputs": []
    },
    {
      "cell_type": "code",
      "metadata": {
        "id": "kAiRxIOIuVr4"
      },
      "source": [
        "final_df_train = pd.DataFrame(data=Bottleneck_test_labels, columns=[\"label1\",\"label2\",\"label3\",\"label4\"])\n",
        "final_df_train[\"pred1\"] = Bottleneck_test_outputs[:,0]\n",
        "final_df_train[\"pred2\"] = Bottleneck_test_outputs[:,1]\n",
        "final_df_train[\"pred3\"] = Bottleneck_test_outputs[:,2]\n",
        "final_df_train[\"pred4\"] = Bottleneck_test_outputs[:,3]\n",
        "\n",
        "final_df_train.to_csv(\"/content/drive/MyDrive/Output/Bottleneck_test\",index=False)"
      ],
      "execution_count": 26,
      "outputs": []
    },
    {
      "cell_type": "code",
      "metadata": {
        "id": "gf51XeM5uxzK"
      },
      "source": [
        ""
      ],
      "execution_count": 26,
      "outputs": []
    }
  ]
}