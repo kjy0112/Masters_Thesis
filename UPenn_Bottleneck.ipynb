{
  "nbformat": 4,
  "nbformat_minor": 0,
  "metadata": {
    "colab": {
      "name": "UPenn_Bottleneck.ipynb",
      "provenance": [],
      "collapsed_sections": [],
      "machine_shape": "hm"
    },
    "kernelspec": {
      "name": "python3",
      "display_name": "Python 3"
    },
    "language_info": {
      "name": "python"
    },
    "accelerator": "GPU"
  },
  "cells": [
    {
      "cell_type": "code",
      "metadata": {
        "colab": {
          "base_uri": "https://localhost:8080/"
        },
        "id": "D1UHJsy6DXKV",
        "outputId": "f923d8a8-3869-4db9-b6fa-68620becd957"
      },
      "source": [
        "from google.colab import drive\n",
        "drive.mount('/content/drive')"
      ],
      "execution_count": 1,
      "outputs": [
        {
          "output_type": "stream",
          "text": [
            "Drive already mounted at /content/drive; to attempt to forcibly remount, call drive.mount(\"/content/drive\", force_remount=True).\n"
          ],
          "name": "stdout"
        }
      ]
    },
    {
      "cell_type": "code",
      "metadata": {
        "colab": {
          "base_uri": "https://localhost:8080/"
        },
        "id": "S_lBUWtiDSI1",
        "outputId": "5e426f82-50bf-4e92-f3d0-75e318544d70"
      },
      "source": [
        "gpu_info = !nvidia-smi\n",
        "gpu_info = '\\n'.join(gpu_info)\n",
        "if gpu_info.find('failed') >= 0:\n",
        "  print('Select the Runtime > \"Change runtime type\" menu to enable a GPU accelerator, ')\n",
        "  print('and then re-execute this cell.')\n",
        "else:\n",
        "  print(gpu_info)"
      ],
      "execution_count": 2,
      "outputs": [
        {
          "output_type": "stream",
          "text": [
            "Sun Apr 25 20:54:48 2021       \n",
            "+-----------------------------------------------------------------------------+\n",
            "| NVIDIA-SMI 465.19.01    Driver Version: 460.32.03    CUDA Version: 11.2     |\n",
            "|-------------------------------+----------------------+----------------------+\n",
            "| GPU  Name        Persistence-M| Bus-Id        Disp.A | Volatile Uncorr. ECC |\n",
            "| Fan  Temp  Perf  Pwr:Usage/Cap|         Memory-Usage | GPU-Util  Compute M. |\n",
            "|                               |                      |               MIG M. |\n",
            "|===============================+======================+======================|\n",
            "|   0  Tesla P100-PCIE...  Off  | 00000000:00:04.0 Off |                    0 |\n",
            "| N/A   54C    P0    43W / 250W |      0MiB / 16280MiB |      0%      Default |\n",
            "|                               |                      |                  N/A |\n",
            "+-------------------------------+----------------------+----------------------+\n",
            "                                                                               \n",
            "+-----------------------------------------------------------------------------+\n",
            "| Processes:                                                                  |\n",
            "|  GPU   GI   CI        PID   Type   Process name                  GPU Memory |\n",
            "|        ID   ID                                                   Usage      |\n",
            "|=============================================================================|\n",
            "|  No running processes found                                                 |\n",
            "+-----------------------------------------------------------------------------+\n"
          ],
          "name": "stdout"
        }
      ]
    },
    {
      "cell_type": "code",
      "metadata": {
        "colab": {
          "base_uri": "https://localhost:8080/"
        },
        "id": "N9_nEvu7Dfyn",
        "outputId": "e16deebd-6fc6-44d8-b545-67803a1189c3"
      },
      "source": [
        "from psutil import virtual_memory\n",
        "ram_gb = virtual_memory().total / 1e9\n",
        "print('Your runtime has {:.1f} gigabytes of available RAM\\n'.format(ram_gb))\n",
        "\n",
        "if ram_gb < 20:\n",
        "  print('To enable a high-RAM runtime, select the Runtime > \"Change runtime type\"')\n",
        "  print('menu, and then select High-RAM in the Runtime shape dropdown. Then, ')\n",
        "  print('re-execute this cell.')\n",
        "else:\n",
        "  print('You are using a high-RAM runtime!')"
      ],
      "execution_count": 3,
      "outputs": [
        {
          "output_type": "stream",
          "text": [
            "Your runtime has 27.4 gigabytes of available RAM\n",
            "\n",
            "You are using a high-RAM runtime!\n"
          ],
          "name": "stdout"
        }
      ]
    },
    {
      "cell_type": "code",
      "metadata": {
        "colab": {
          "base_uri": "https://localhost:8080/"
        },
        "id": "jOEp8SRaDgYG",
        "outputId": "539955cb-6067-48bc-b253-be228f62590f"
      },
      "source": [
        "pip install pytesseract"
      ],
      "execution_count": 4,
      "outputs": [
        {
          "output_type": "stream",
          "text": [
            "Requirement already satisfied: pytesseract in /usr/local/lib/python3.7/dist-packages (0.3.7)\n",
            "Requirement already satisfied: Pillow in /usr/local/lib/python3.7/dist-packages (from pytesseract) (7.1.2)\n"
          ],
          "name": "stdout"
        }
      ]
    },
    {
      "cell_type": "code",
      "metadata": {
        "colab": {
          "base_uri": "https://localhost:8080/"
        },
        "id": "uaGkgHHyDqZ3",
        "outputId": "d4430f2a-dbc4-4bd6-a112-a8eaa2daabc7"
      },
      "source": [
        "pip install pydicom"
      ],
      "execution_count": 5,
      "outputs": [
        {
          "output_type": "stream",
          "text": [
            "Requirement already satisfied: pydicom in /usr/local/lib/python3.7/dist-packages (2.1.2)\n"
          ],
          "name": "stdout"
        }
      ]
    },
    {
      "cell_type": "code",
      "metadata": {
        "colab": {
          "base_uri": "https://localhost:8080/"
        },
        "id": "Wa1-JPXmDrke",
        "outputId": "b823cfaf-5eb8-4497-a6fe-a5609e59ff97"
      },
      "source": [
        "pip install albumentations"
      ],
      "execution_count": 6,
      "outputs": [
        {
          "output_type": "stream",
          "text": [
            "Requirement already satisfied: albumentations in /usr/local/lib/python3.7/dist-packages (0.1.12)\n",
            "Requirement already satisfied: numpy>=1.11.1 in /usr/local/lib/python3.7/dist-packages (from albumentations) (1.19.5)\n",
            "Requirement already satisfied: imgaug<0.2.7,>=0.2.5 in /usr/local/lib/python3.7/dist-packages (from albumentations) (0.2.6)\n",
            "Requirement already satisfied: opencv-python in /usr/local/lib/python3.7/dist-packages (from albumentations) (4.1.2.30)\n",
            "Requirement already satisfied: scipy in /usr/local/lib/python3.7/dist-packages (from albumentations) (1.4.1)\n",
            "Requirement already satisfied: scikit-image>=0.11.0 in /usr/local/lib/python3.7/dist-packages (from imgaug<0.2.7,>=0.2.5->albumentations) (0.16.2)\n",
            "Requirement already satisfied: six in /usr/local/lib/python3.7/dist-packages (from imgaug<0.2.7,>=0.2.5->albumentations) (1.15.0)\n",
            "Requirement already satisfied: networkx>=2.0 in /usr/local/lib/python3.7/dist-packages (from scikit-image>=0.11.0->imgaug<0.2.7,>=0.2.5->albumentations) (2.5.1)\n",
            "Requirement already satisfied: PyWavelets>=0.4.0 in /usr/local/lib/python3.7/dist-packages (from scikit-image>=0.11.0->imgaug<0.2.7,>=0.2.5->albumentations) (1.1.1)\n",
            "Requirement already satisfied: pillow>=4.3.0 in /usr/local/lib/python3.7/dist-packages (from scikit-image>=0.11.0->imgaug<0.2.7,>=0.2.5->albumentations) (7.1.2)\n",
            "Requirement already satisfied: imageio>=2.3.0 in /usr/local/lib/python3.7/dist-packages (from scikit-image>=0.11.0->imgaug<0.2.7,>=0.2.5->albumentations) (2.4.1)\n",
            "Requirement already satisfied: matplotlib!=3.0.0,>=2.0.0 in /usr/local/lib/python3.7/dist-packages (from scikit-image>=0.11.0->imgaug<0.2.7,>=0.2.5->albumentations) (3.2.2)\n",
            "Requirement already satisfied: decorator<5,>=4.3 in /usr/local/lib/python3.7/dist-packages (from networkx>=2.0->scikit-image>=0.11.0->imgaug<0.2.7,>=0.2.5->albumentations) (4.4.2)\n",
            "Requirement already satisfied: kiwisolver>=1.0.1 in /usr/local/lib/python3.7/dist-packages (from matplotlib!=3.0.0,>=2.0.0->scikit-image>=0.11.0->imgaug<0.2.7,>=0.2.5->albumentations) (1.3.1)\n",
            "Requirement already satisfied: pyparsing!=2.0.4,!=2.1.2,!=2.1.6,>=2.0.1 in /usr/local/lib/python3.7/dist-packages (from matplotlib!=3.0.0,>=2.0.0->scikit-image>=0.11.0->imgaug<0.2.7,>=0.2.5->albumentations) (2.4.7)\n",
            "Requirement already satisfied: python-dateutil>=2.1 in /usr/local/lib/python3.7/dist-packages (from matplotlib!=3.0.0,>=2.0.0->scikit-image>=0.11.0->imgaug<0.2.7,>=0.2.5->albumentations) (2.8.1)\n",
            "Requirement already satisfied: cycler>=0.10 in /usr/local/lib/python3.7/dist-packages (from matplotlib!=3.0.0,>=2.0.0->scikit-image>=0.11.0->imgaug<0.2.7,>=0.2.5->albumentations) (0.10.0)\n"
          ],
          "name": "stdout"
        }
      ]
    },
    {
      "cell_type": "code",
      "metadata": {
        "id": "6ooCyJCuDsnO"
      },
      "source": [
        "import time\n",
        "import csv\n",
        "import os\n",
        "import copy\n",
        "import re\n",
        "import shutil\n",
        "import pydicom\n",
        "import pytesseract\n",
        "import cv2\n",
        "import numpy as np\n",
        "import pandas as pd\n",
        "from matplotlib import pyplot as plt\n",
        "import torch\n",
        "import torch.nn as nn\n",
        "import torch.nn.functional as F\n",
        "import torch.optim as optim\n",
        "from torchvision import datasets, models, transforms\n",
        "from torch.utils.data import Dataset, DataLoader\n",
        "from sklearn.metrics import precision_score, recall_score, f1_score, roc_curve, auc\n",
        "import albumentations as A\n",
        "from albumentations.pytorch import ToTensor\n",
        "from scipy import interp"
      ],
      "execution_count": 7,
      "outputs": []
    },
    {
      "cell_type": "code",
      "metadata": {
        "colab": {
          "base_uri": "https://localhost:8080/"
        },
        "id": "clTSs-TeDt4v",
        "outputId": "4ef8670c-8eb6-42e1-abe3-e71ef0696073"
      },
      "source": [
        "device = torch.device(\"cuda:0\" if torch.cuda.is_available() else \"cpu\")\n",
        "device"
      ],
      "execution_count": 8,
      "outputs": [
        {
          "output_type": "execute_result",
          "data": {
            "text/plain": [
              "device(type='cuda', index=0)"
            ]
          },
          "metadata": {
            "tags": []
          },
          "execution_count": 8
        }
      ]
    },
    {
      "cell_type": "code",
      "metadata": {
        "id": "yP9YMkhFDvQd"
      },
      "source": [
        "class ImageDataset(Dataset):\n",
        "  def __init__(self, df, transform=None):\n",
        "    self.df = df\n",
        "    self.transform = transform         \n",
        "  \n",
        "  def __len__(self):\n",
        "    return len(self.df)\n",
        "\n",
        "  def __getitem__(self, idx):\n",
        "    img_name = self.df.iloc[idx,0]\n",
        "    data = pydicom.dcmread(img_name) # read dicom file\n",
        "    arr = data.pixel_array # read image into pixel data\n",
        "    shape = arr.shape\n",
        "    if len(shape) == 4:\n",
        "      arr = arr[0,:,:,0] # get the first slide of image\n",
        "    elif len(shape) == 3:\n",
        "      arr = arr[:,:,0] # get the first slide of image\n",
        "    else:\n",
        "      arr = arr\n",
        "    image = cv2.cvtColor(arr, cv2.COLOR_BGR2RGB)\n",
        "\n",
        "    labels = np.array(self.df.drop(['image_name'],axis=1))\n",
        "    label = labels[idx]\n",
        "\n",
        "    if self.transform:\n",
        "      image = self.transform(image=image)[\"image\"]\n",
        "    \n",
        "    return image, label"
      ],
      "execution_count": 9,
      "outputs": []
    },
    {
      "cell_type": "code",
      "metadata": {
        "id": "9n-C3B6WDxym"
      },
      "source": [
        "from sklearn.model_selection import train_test_split\n",
        "\n",
        "df = pd.read_csv(\"/content/drive/MyDrive/Data_testing/file_names.csv\")\n",
        "\n",
        "means=(0.485, 0.456, 0.406)\n",
        "stds=(0.229, 0.224, 0.225)\n",
        "\n",
        "albumentation_train_transform = A.Compose([\n",
        "                                      A.Resize(256,256),\n",
        "                                      A.ShiftScaleRotate(shift_limit=0.05, scale_limit=0.05, rotate_limit=15, p=0.5),\n",
        "                                      A.RandomCrop(height=224, width=224),\n",
        "                                      A.RGBShift(r_shift_limit=15, g_shift_limit=15, b_shift_limit=15, p=0.5),\n",
        "                                      A.RandomBrightnessContrast(p=0.5),\n",
        "                                      A.Normalize(mean=means, std=stds),\n",
        "                                      ToTensor(),\n",
        "                                    ])\n",
        "albumentation_val_transform = A.Compose([\n",
        "                                      A.Resize(256,256),\n",
        "                                      A.CenterCrop(height=224, width=224),\n",
        "                                      A.Normalize(mean=means, std=stds),\n",
        "                                      ToTensor(),\n",
        "                                  ])\n",
        "\n",
        "(train_df, val_df) = train_test_split(df, test_size = 0.4)\n",
        "(val_df, test_df) = train_test_split(val_df, test_size = 0.5)\n",
        "\n",
        "train_dataset = ImageDataset(train_df, transform=albumentation_train_transform)\n",
        "val_dataset = ImageDataset(val_df, transform=albumentation_val_transform)\n",
        "test_dataset = ImageDataset(test_df, transform=albumentation_val_transform)\n",
        "\n",
        "batch_num = 64\n",
        "\n",
        "train_dataloader = DataLoader(train_dataset, batch_size=batch_num, shuffle=True, num_workers=2, pin_memory=True)\n",
        "val_dataloader = DataLoader(val_dataset, batch_size=batch_num//4, shuffle=False, num_workers=2, pin_memory=True)\n",
        "test_dataloader = DataLoader(test_dataset, batch_size=batch_num//4, shuffle=False, num_workers=2, pin_memory=True)"
      ],
      "execution_count": 10,
      "outputs": []
    },
    {
      "cell_type": "code",
      "metadata": {
        "id": "OxaXZIylD7HW"
      },
      "source": [
        "def bottleneck_block(in_channel, mid_channel, out_channel):\n",
        "  block = nn.Sequential(\n",
        "      nn.Conv2d(in_channels=in_channel, out_channels=mid_channel, kernel_size=1, bias=False),\n",
        "      nn.BatchNorm2d(mid_channel),\n",
        "      nn.ReLU(inplace=True),\n",
        "      nn.Conv2d(in_channels=mid_channel, out_channels=mid_channel, kernel_size=3, padding=1, bias=False),\n",
        "      nn.BatchNorm2d(mid_channel),\n",
        "      nn.ReLU(inplace=True),\n",
        "      nn.Conv2d(in_channels=mid_channel, out_channels=out_channel, kernel_size=1, bias=False),\n",
        "      nn.BatchNorm2d(out_channel),\n",
        "      nn.ReLU(inplace=True),\n",
        "  )\n",
        "  return block\n",
        "\n",
        "def bottleneck(in_channel, mid_channel, out_channel):\n",
        "  layers = []\n",
        "  layers.append(bottleneck_block(in_channel, mid_channel, out_channel))\n",
        "  return nn.Sequential(*layers)"
      ],
      "execution_count": 11,
      "outputs": []
    },
    {
      "cell_type": "code",
      "metadata": {
        "id": "WQ6cjCdcD_Uh"
      },
      "source": [
        "class CNN_Bottleneck(torch.nn.Module):\n",
        "  def __init__(self):\n",
        "    super(CNN_Bottleneck, self).__init__()                                                                          \n",
        "    self.conv1 = nn.Conv2d(in_channels=3, out_channels=64, kernel_size=3)\n",
        "    self.bn1 = nn.BatchNorm2d(64)\n",
        "    self.block1 = bottleneck(64, 32, 64)\n",
        "    self.conv2 = nn.Conv2d(in_channels=128, out_channels=128, kernel_size=3)\n",
        "    self.bn2 = nn.BatchNorm2d(128)\n",
        "    self.block2 = bottleneck(128, 64, 128)\n",
        "    self.conv3 = nn.Conv2d(in_channels=256, out_channels=256, kernel_size=3)      \n",
        "    self.bn3 = nn.BatchNorm2d(256)     \n",
        "    self.block3 = bottleneck(256, 128, 256)                                                                  \n",
        "    self.conv4 = nn.Conv2d(in_channels=512, out_channels=512, kernel_size=3)\n",
        "    self.bn4 = nn.BatchNorm2d(512)\n",
        "    self.block4 = bottleneck(512, 256, 512)\n",
        "    self.linear1 = nn.Linear(512*12*12, 4096)\n",
        "    self.linear2 = nn.Linear(4096, 1024)\n",
        "    self.linear3 = nn.Linear(1024, 4)\n",
        "    self.sigmoid = nn.Sigmoid()\n",
        "    self.maxpool = nn.MaxPool2d(2,2)\n",
        "    self.relu = nn.ReLU(inplace=True)\n",
        "\n",
        "  def forward(self, x): #224\n",
        "    identity = [None]*3\n",
        "    x = self.maxpool(self.relu(self.bn1(self.conv1(x)))) #113\n",
        "    identity[0] = x\n",
        "    x = self.block1(x)\n",
        "    x = self.maxpool(self.relu(self.bn2(self.conv2(torch.cat([x,identity[0]],1))))) #58\n",
        "    identity[1] = x\n",
        "    x = self.block2(x) \n",
        "    x = self.maxpool(self.relu(self.bn3(self.conv3(torch.cat([x,identity[1]],1))))) #30\n",
        "    identity[2] = x\n",
        "    x = self.block3(x)\n",
        "    x = self.maxpool(self.relu(self.bn4(self.conv4(torch.cat([x,identity[2]],1))))) #16\n",
        "    x = self.block4(x)\n",
        "    x = x.view(x.size(0),-1)\n",
        "    x = self.relu(self.linear1(x))\n",
        "    x = self.relu(self.linear2(x))\n",
        "    x = self.linear3(x)\n",
        "    x = self.sigmoid(x)\n",
        "\n",
        "    return x"
      ],
      "execution_count": 12,
      "outputs": []
    },
    {
      "cell_type": "code",
      "metadata": {
        "id": "0IZ_FFJkERA9"
      },
      "source": [
        "def calculate_metrics(pred, label):\n",
        "  return {\n",
        "      \"micro_f1\":f1_score(y_true=label, y_pred=pred, average='micro'),\n",
        "      \"macro_f1\":f1_score(y_true=label, y_pred=pred, average='macro'),\n",
        "  }"
      ],
      "execution_count": 13,
      "outputs": []
    },
    {
      "cell_type": "code",
      "metadata": {
        "id": "gba6sG0nER5V"
      },
      "source": [
        "def train_model(train_dataloader, val_dataloader, optimizer, criterion, net, threshold, num_epochs):\n",
        "  since = time.time()\n",
        "\n",
        "  tot_train_loss = []\n",
        "  tot_val_loss = []\n",
        "\n",
        "  tot_train_acc = []\n",
        "  tot_val_acc = []\n",
        "  \n",
        "  for epoch in range(num_epochs):\n",
        "    print(\"Epoch: {}/{}\".format(epoch, num_epochs-1))\n",
        "    print('-' * 10)\n",
        "\n",
        "    net.train()\n",
        "    \n",
        "    train_running_loss = 0.0\n",
        "    train_loss_values = []\n",
        "\n",
        "    train_outputs = []\n",
        "    train_labels = []\n",
        "\n",
        "    for idx, data in enumerate(train_dataloader):\n",
        "      img, label = data\n",
        "      img = img.to(device)\n",
        "      label = label.to(device)\n",
        "\n",
        "      optimizer.zero_grad()\n",
        "\n",
        "      outputs = net(img)\n",
        "      loss = criterion(outputs, label.type(torch.float))\n",
        "\n",
        "      pred = outputs.data > threshold\n",
        "      pred = pred.type(torch.float)\n",
        "\n",
        "      loss.backward()\n",
        "      optimizer.step()\n",
        "      \n",
        "      train_loss_values.append(loss.item())\n",
        "      train_running_loss += loss.item()\n",
        "\n",
        "      train_outputs.extend(pred.cpu().to(torch.int).numpy())\n",
        "      train_labels.extend(label.cpu().to(torch.int).numpy())\n",
        "\n",
        "    train_result = calculate_metrics(np.array(train_outputs), np.array(train_labels))\n",
        "\n",
        "    net.eval()\n",
        "\n",
        "    validation_running_loss = 0.0\n",
        "    val_loss_values = []\n",
        "\n",
        "    with torch.no_grad():\n",
        "      val_outputs = []\n",
        "      val_labels = []\n",
        "      for val_idx, val_data in enumerate(val_dataloader):\n",
        "        val_img, val_label = val_data\n",
        "        val_img = val_img.to(device) \n",
        "        val_label = val_label.to(device)\n",
        "\n",
        "        val_output = net(val_img)\n",
        "\n",
        "        val_loss = criterion(val_output, val_label.type(torch.float))\n",
        "\n",
        "        val_pred = val_output.data > threshold\n",
        "        val_pred = val_pred.type(torch.float)\n",
        "\n",
        "        val_outputs.extend(val_pred.cpu().to(torch.int).numpy())\n",
        "        val_labels.extend(val_label.cpu().to(torch.int).numpy())\n",
        "\n",
        "        val_loss_values.append(val_loss.item())\n",
        "        validation_running_loss += val_loss.item()\n",
        "\n",
        "    val_result = calculate_metrics(np.array(val_outputs), np.array(val_labels))\n",
        "\n",
        "    final_train_loss = train_running_loss/len(train_dataloader)\n",
        "    final_val_loss = validation_running_loss/len(val_dataloader)\n",
        "\n",
        "    tot_train_loss.append(final_train_loss)\n",
        "    tot_val_loss.append(final_val_loss)\n",
        "\n",
        "    tot_train_acc.append(train_result)\n",
        "    tot_val_acc.append(val_result)\n",
        "\n",
        "    print(\"train loss: {}\".format(final_train_loss))\n",
        "    print(\"validation loss: {}\".format(final_val_loss))\n",
        "    print(\"train accuracy:\\n\",train_result)\n",
        "    print(\"validation accuracy:\\n\",val_result)\n",
        "    print()\n",
        "\n",
        "  tot_time = time.time() - since\n",
        "  print('Training complete in {:.0f}m {:.0f}s'.format(tot_time // 60, tot_time % 60))\n",
        "  \n",
        "  return net, tot_train_loss, tot_val_loss, tot_train_acc, tot_val_acc "
      ],
      "execution_count": 14,
      "outputs": []
    },
    {
      "cell_type": "code",
      "metadata": {
        "id": "rsJMG0FJES-1"
      },
      "source": [
        "network = CNN_Bottleneck()\n",
        "network = network.to(device)\n",
        "criterion = torch.nn.BCELoss()\n",
        "optimizer = optim.Adam(network.parameters(), lr=0.00001)"
      ],
      "execution_count": 15,
      "outputs": []
    },
    {
      "cell_type": "code",
      "metadata": {
        "colab": {
          "base_uri": "https://localhost:8080/"
        },
        "id": "mW32KpRoEUI1",
        "outputId": "04cd9158-a4c3-4c47-8c98-2d7cc8742ee7"
      },
      "source": [
        "train_ft, Bottleneck_train_loss, Bottleneck_val_loss, Bottleneck_train_result, Bottleneck_val_result = train_model(train_dataloader, val_dataloader, optimizer, criterion, network,  0.5, 41)"
      ],
      "execution_count": 16,
      "outputs": [
        {
          "output_type": "stream",
          "text": [
            "Epoch: 0/40\n",
            "----------\n",
            "train loss: 0.5610360393398687\n",
            "validation loss: 0.6591151452064514\n",
            "train accuracy:\n",
            " {'micro_f1': 0.6055776892430279, 'macro_f1': 0.3884079452371685}\n",
            "validation accuracy:\n",
            " {'micro_f1': 0.5236818588025023, 'macro_f1': 0.21480938416422288}\n",
            "\n",
            "Epoch: 1/40\n",
            "----------\n",
            "train loss: 0.44292827813248886\n",
            "validation loss: 0.42751171708106994\n",
            "train accuracy:\n",
            " {'micro_f1': 0.7323737496950476, 'macro_f1': 0.658932321235415}\n",
            "validation accuracy:\n",
            " {'micro_f1': 0.7863247863247863, 'macro_f1': 0.7319909423702058}\n",
            "\n",
            "Epoch: 2/40\n",
            "----------\n",
            "train loss: 0.3753870804058878\n",
            "validation loss: 0.32869914412498474\n",
            "train accuracy:\n",
            " {'micro_f1': 0.802375296912114, 'macro_f1': 0.7697842193618125}\n",
            "validation accuracy:\n",
            " {'micro_f1': 0.8312236286919831, 'macro_f1': 0.8068012310072361}\n",
            "\n",
            "Epoch: 3/40\n",
            "----------\n",
            "train loss: 0.3350462427264766\n",
            "validation loss: 0.3056812071800232\n",
            "train accuracy:\n",
            " {'micro_f1': 0.8169887854927225, 'macro_f1': 0.7869386752692351}\n",
            "validation accuracy:\n",
            " {'micro_f1': 0.836734693877551, 'macro_f1': 0.820991014338346}\n",
            "\n",
            "Epoch: 4/40\n",
            "----------\n",
            "train loss: 0.31129719552240875\n",
            "validation loss: 0.2830016165971756\n",
            "train accuracy:\n",
            " {'micro_f1': 0.8354073726226814, 'macro_f1': 0.8121499708094084}\n",
            "validation accuracy:\n",
            " {'micro_f1': 0.8563535911602209, 'macro_f1': 0.8413242029380539}\n",
            "\n",
            "Epoch: 5/40\n",
            "----------\n",
            "train loss: 0.2978825161331578\n",
            "validation loss: 0.26337448477745057\n",
            "train accuracy:\n",
            " {'micro_f1': 0.8431828757561657, 'macro_f1': 0.8217610433395841}\n",
            "validation accuracy:\n",
            " {'micro_f1': 0.8764044943820225, 'macro_f1': 0.8625634728779071}\n",
            "\n",
            "Epoch: 6/40\n",
            "----------\n",
            "train loss: 0.2778518615584624\n",
            "validation loss: 0.2560622304677963\n",
            "train accuracy:\n",
            " {'micro_f1': 0.8624795703945832, 'macro_f1': 0.8443906602476587}\n",
            "validation accuracy:\n",
            " {'micro_f1': 0.8662873399715504, 'macro_f1': 0.8497099225381096}\n",
            "\n",
            "Epoch: 7/40\n",
            "----------\n",
            "train loss: 0.25419794023036957\n",
            "validation loss: 0.23069382309913636\n",
            "train accuracy:\n",
            " {'micro_f1': 0.8701541335824381, 'macro_f1': 0.8541143628457067}\n",
            "validation accuracy:\n",
            " {'micro_f1': 0.8861952861952862, 'macro_f1': 0.8770347070444913}\n",
            "\n",
            "Epoch: 8/40\n",
            "----------\n",
            "train loss: 0.25006161943862315\n",
            "validation loss: 0.2305227267742157\n",
            "train accuracy:\n",
            " {'micro_f1': 0.880204698767155, 'macro_f1': 0.8647883263427485}\n",
            "validation accuracy:\n",
            " {'micro_f1': 0.8867924528301887, 'macro_f1': 0.8785882228021828}\n",
            "\n",
            "Epoch: 9/40\n",
            "----------\n",
            "train loss: 0.22497254766915975\n",
            "validation loss: 0.21691913068294524\n",
            "train accuracy:\n",
            " {'micro_f1': 0.8940305414160111, 'macro_f1': 0.8824628696397981}\n",
            "validation accuracy:\n",
            " {'micro_f1': 0.8922651933701657, 'macro_f1': 0.8822659866409033}\n",
            "\n",
            "Epoch: 10/40\n",
            "----------\n",
            "train loss: 0.20433206189619868\n",
            "validation loss: 0.19953152298927307\n",
            "train accuracy:\n",
            " {'micro_f1': 0.9072450392247347, 'macro_f1': 0.8973464171632328}\n",
            "validation accuracy:\n",
            " {'micro_f1': 0.9011748445058742, 'macro_f1': 0.8908354581556495}\n",
            "\n",
            "Epoch: 11/40\n",
            "----------\n",
            "train loss: 0.22268202508750715\n",
            "validation loss: 0.21750967264175414\n",
            "train accuracy:\n",
            " {'micro_f1': 0.8978085351787775, 'macro_f1': 0.8859247252826117}\n",
            "validation accuracy:\n",
            " {'micro_f1': 0.8902522154055896, 'macro_f1': 0.8757686007265485}\n",
            "\n",
            "Epoch: 12/40\n",
            "----------\n",
            "train loss: 0.20465159729907387\n",
            "validation loss: 0.1953280258178711\n",
            "train accuracy:\n",
            " {'micro_f1': 0.8998621956821314, 'macro_f1': 0.8887978931128031}\n",
            "validation accuracy:\n",
            " {'micro_f1': 0.9128065395095368, 'macro_f1': 0.9062985314906464}\n",
            "\n",
            "Epoch: 13/40\n",
            "----------\n",
            "train loss: 0.19747958528368095\n",
            "validation loss: 0.1897704803943634\n",
            "train accuracy:\n",
            " {'micro_f1': 0.906820809248555, 'macro_f1': 0.8967771706009264}\n",
            "validation accuracy:\n",
            " {'micro_f1': 0.9133425034387895, 'macro_f1': 0.9059760569359019}\n",
            "\n",
            "Epoch: 14/40\n",
            "----------\n",
            "train loss: 0.18965596352752886\n",
            "validation loss: 0.1762761241197586\n",
            "train accuracy:\n",
            " {'micro_f1': 0.912912912912913, 'macro_f1': 0.903969884302356}\n",
            "validation accuracy:\n",
            " {'micro_f1': 0.919917864476386, 'macro_f1': 0.9115349645499939}\n",
            "\n",
            "Epoch: 15/40\n",
            "----------\n",
            "train loss: 0.18218087993170085\n",
            "validation loss: 0.17620460093021392\n",
            "train accuracy:\n",
            " {'micro_f1': 0.9229711141678129, 'macro_f1': 0.9156010034148162}\n",
            "validation accuracy:\n",
            " {'micro_f1': 0.9181446111869032, 'macro_f1': 0.9113036726478646}\n",
            "\n",
            "Epoch: 16/40\n",
            "----------\n",
            "train loss: 0.17358814493605965\n",
            "validation loss: 0.18396632254123688\n",
            "train accuracy:\n",
            " {'micro_f1': 0.9225433526011562, 'macro_f1': 0.9155267222432635}\n",
            "validation accuracy:\n",
            " {'micro_f1': 0.9155617585484996, 'macro_f1': 0.9025655552861013}\n",
            "\n",
            "Epoch: 17/40\n",
            "----------\n",
            "train loss: 0.16746443353201212\n",
            "validation loss: 0.1688784670829773\n",
            "train accuracy:\n",
            " {'micro_f1': 0.9267618608935975, 'macro_f1': 0.9197230802435703}\n",
            "validation accuracy:\n",
            " {'micro_f1': 0.9199457259158751, 'macro_f1': 0.912788487481022}\n",
            "\n",
            "Epoch: 18/40\n",
            "----------\n",
            "train loss: 0.16739824178971743\n",
            "validation loss: 0.15559939056634903\n",
            "train accuracy:\n",
            " {'micro_f1': 0.9212707182320442, 'macro_f1': 0.9122317134572037}\n",
            "validation accuracy:\n",
            " {'micro_f1': 0.9247757073844031, 'macro_f1': 0.9169821128590514}\n",
            "\n",
            "Epoch: 19/40\n",
            "----------\n",
            "train loss: 0.15940796779958824\n",
            "validation loss: 0.2176831567287445\n",
            "train accuracy:\n",
            " {'micro_f1': 0.9283244987324268, 'macro_f1': 0.9212517315796482}\n",
            "validation accuracy:\n",
            " {'micro_f1': 0.8904299583911235, 'macro_f1': 0.8786047286323884}\n",
            "\n",
            "Epoch: 20/40\n",
            "----------\n",
            "train loss: 0.1581447069582186\n",
            "validation loss: 0.17503684312105178\n",
            "train accuracy:\n",
            " {'micro_f1': 0.9306159835127089, 'macro_f1': 0.9238178903651417}\n",
            "validation accuracy:\n",
            " {'micro_f1': 0.9171270718232045, 'macro_f1': 0.910126920017617}\n",
            "\n",
            "Epoch: 21/40\n",
            "----------\n",
            "train loss: 0.15008657190360522\n",
            "validation loss: 0.15324263632297516\n",
            "train accuracy:\n",
            " {'micro_f1': 0.9321955719557194, 'macro_f1': 0.9250186534457232}\n",
            "validation accuracy:\n",
            " {'micro_f1': 0.9301038062283737, 'macro_f1': 0.9208164310663509}\n",
            "\n",
            "Epoch: 22/40\n",
            "----------\n",
            "train loss: 0.1317505867857682\n",
            "validation loss: 0.14749443501234055\n",
            "train accuracy:\n",
            " {'micro_f1': 0.9479981592268752, 'macro_f1': 0.9427836708222994}\n",
            "validation accuracy:\n",
            " {'micro_f1': 0.9292517006802721, 'macro_f1': 0.922567456603912}\n",
            "\n",
            "Epoch: 23/40\n",
            "----------\n",
            "train loss: 0.12321576554524272\n",
            "validation loss: 0.15082516729831696\n",
            "train accuracy:\n",
            " {'micro_f1': 0.9494252873563218, 'macro_f1': 0.9457803543250904}\n",
            "validation accuracy:\n",
            " {'micro_f1': 0.9336099585062241, 'macro_f1': 0.9255714514834393}\n",
            "\n",
            "Epoch: 24/40\n",
            "----------\n",
            "train loss: 0.12057407749326605\n",
            "validation loss: 0.15268884748220443\n",
            "train accuracy:\n",
            " {'micro_f1': 0.9509329647546648, 'macro_f1': 0.9467268606583623}\n",
            "validation accuracy:\n",
            " {'micro_f1': 0.925414364640884, 'macro_f1': 0.9190987276717817}\n",
            "\n",
            "Epoch: 25/40\n",
            "----------\n",
            "train loss: 0.12741186430579737\n",
            "validation loss: 0.14475935846567153\n",
            "train accuracy:\n",
            " {'micro_f1': 0.9441881918819189, 'macro_f1': 0.9386257022760166}\n",
            "validation accuracy:\n",
            " {'micro_f1': 0.9363143631436316, 'macro_f1': 0.9305518553877072}\n",
            "\n",
            "Epoch: 26/40\n",
            "----------\n",
            "train loss: 0.12270015242852662\n",
            "validation loss: 0.14640755832195282\n",
            "train accuracy:\n",
            " {'micro_f1': 0.9490052595472217, 'macro_f1': 0.9440880553282134}\n",
            "validation accuracy:\n",
            " {'micro_f1': 0.9266943291839558, 'macro_f1': 0.9203056954399299}\n",
            "\n",
            "Epoch: 27/40\n",
            "----------\n",
            "train loss: 0.1259975217674908\n",
            "validation loss: 0.14810678690671922\n",
            "train accuracy:\n",
            " {'micro_f1': 0.9478541762805721, 'macro_f1': 0.9425176525075406}\n",
            "validation accuracy:\n",
            " {'micro_f1': 0.9224376731301939, 'macro_f1': 0.9148752769095447}\n",
            "\n",
            "Epoch: 28/40\n",
            "----------\n",
            "train loss: 0.12823601694483505\n",
            "validation loss: 0.15716652125120162\n",
            "train accuracy:\n",
            " {'micro_f1': 0.9447120899288828, 'macro_f1': 0.9398944672276668}\n",
            "validation accuracy:\n",
            " {'micro_f1': 0.9320521619766644, 'macro_f1': 0.9238653648543512}\n",
            "\n",
            "Epoch: 29/40\n",
            "----------\n",
            "train loss: 0.10809261391037389\n",
            "validation loss: 0.14784253180027007\n",
            "train accuracy:\n",
            " {'micro_f1': 0.9553877831159917, 'macro_f1': 0.9515898350810612}\n",
            "validation accuracy:\n",
            " {'micro_f1': 0.9329608938547486, 'macro_f1': 0.92561135461885}\n",
            "\n",
            "Epoch: 30/40\n",
            "----------\n",
            "train loss: 0.10279758627477445\n",
            "validation loss: 0.1319407841563225\n",
            "train accuracy:\n",
            " {'micro_f1': 0.9620602437341917, 'macro_f1': 0.9587841673345799}\n",
            "validation accuracy:\n",
            " {'micro_f1': 0.9428969359331476, 'macro_f1': 0.9359869646182495}\n",
            "\n",
            "Epoch: 31/40\n",
            "----------\n",
            "train loss: 0.11021380851927556\n",
            "validation loss: 0.13607553362846375\n",
            "train accuracy:\n",
            " {'micro_f1': 0.9532796317606445, 'macro_f1': 0.94910328232286}\n",
            "validation accuracy:\n",
            " {'micro_f1': 0.9402173913043479, 'macro_f1': 0.9355031069820239}\n",
            "\n",
            "Epoch: 32/40\n",
            "----------\n",
            "train loss: 0.10248777936947973\n",
            "validation loss: 0.158328877389431\n",
            "train accuracy:\n",
            " {'micro_f1': 0.9605685465382852, 'macro_f1': 0.9570409134124004}\n",
            "validation accuracy:\n",
            " {'micro_f1': 0.9330572808833678, 'macro_f1': 0.9254368500918614}\n",
            "\n",
            "Epoch: 33/40\n",
            "----------\n",
            "train loss: 0.10565361341363505\n",
            "validation loss: 0.13779910504817963\n",
            "train accuracy:\n",
            " {'micro_f1': 0.9583714547118023, 'macro_f1': 0.9544142788785219}\n",
            "validation accuracy:\n",
            " {'micro_f1': 0.9384404924760602, 'macro_f1': 0.9327956989247311}\n",
            "\n",
            "Epoch: 34/40\n",
            "----------\n",
            "train loss: 0.10065186651129472\n",
            "validation loss: 0.1372456195950508\n",
            "train accuracy:\n",
            " {'micro_f1': 0.9580064605445316, 'macro_f1': 0.9537549609377329}\n",
            "validation accuracy:\n",
            " {'micro_f1': 0.9416609471516816, 'macro_f1': 0.9365211789230597}\n",
            "\n",
            "Epoch: 35/40\n",
            "----------\n",
            "train loss: 0.10013117798064884\n",
            "validation loss: 0.14135955154895782\n",
            "train accuracy:\n",
            " {'micro_f1': 0.9589355356733196, 'macro_f1': 0.9552091020889752}\n",
            "validation accuracy:\n",
            " {'micro_f1': 0.9309878213802436, 'macro_f1': 0.9250597712212422}\n",
            "\n",
            "Epoch: 36/40\n",
            "----------\n",
            "train loss: 0.09175850803914823\n",
            "validation loss: 0.16135888367891313\n",
            "train accuracy:\n",
            " {'micro_f1': 0.9669025336681123, 'macro_f1': 0.9644578175418829}\n",
            "validation accuracy:\n",
            " {'micro_f1': 0.9253112033195021, 'macro_f1': 0.9178714183923885}\n",
            "\n",
            "Epoch: 37/40\n",
            "----------\n",
            "train loss: 0.08733861834595077\n",
            "validation loss: 0.13435334652662279\n",
            "train accuracy:\n",
            " {'micro_f1': 0.9673262770363552, 'macro_f1': 0.9642029364519086}\n",
            "validation accuracy:\n",
            " {'micro_f1': 0.9378925331472435, 'macro_f1': 0.9318372464245668}\n",
            "\n",
            "Epoch: 38/40\n",
            "----------\n",
            "train loss: 0.08599901179734029\n",
            "validation loss: 0.1600971570611\n",
            "train accuracy:\n",
            " {'micro_f1': 0.9692378328741964, 'macro_f1': 0.9666960547674781}\n",
            "validation accuracy:\n",
            " {'micro_f1': 0.934173669467787, 'macro_f1': 0.9244494275794372}\n",
            "\n",
            "Epoch: 39/40\n",
            "----------\n",
            "train loss: 0.07894349137419149\n",
            "validation loss: 0.1351957568526268\n",
            "train accuracy:\n",
            " {'micro_f1': 0.9698919788554355, 'macro_f1': 0.96751473692026}\n",
            "validation accuracy:\n",
            " {'micro_f1': 0.9417409184372858, 'macro_f1': 0.9360925136944613}\n",
            "\n",
            "Epoch: 40/40\n",
            "----------\n",
            "train loss: 0.07625849368540864\n",
            "validation loss: 0.13098390519618988\n",
            "train accuracy:\n",
            " {'micro_f1': 0.9680973146660545, 'macro_f1': 0.9658315870437082}\n",
            "validation accuracy:\n",
            " {'micro_f1': 0.9450549450549451, 'macro_f1': 0.9401960471162982}\n",
            "\n",
            "Training complete in 10m 56s\n"
          ],
          "name": "stdout"
        }
      ]
    },
    {
      "cell_type": "code",
      "metadata": {
        "id": "oFp9Da91Ep9F",
        "colab": {
          "base_uri": "https://localhost:8080/",
          "height": 295
        },
        "outputId": "f8e6025b-da35-45ba-e727-e33e3cd4d86a"
      },
      "source": [
        "plt.plot(Bottleneck_train_loss, label='Train Loss')\n",
        "plt.plot(Bottleneck_val_loss, label='Validation Loss')\n",
        "plt.legend()\n",
        "plt.title(\"Loss curves\")\n",
        "plt.xlabel(\"Epoch\")\n",
        "plt.ylabel(\"Loss\")\n",
        "plt.grid()"
      ],
      "execution_count": 17,
      "outputs": [
        {
          "output_type": "display_data",
          "data": {
            "image/png": "[encoded data removed]",
            "text/plain": [
              "<Figure size 432x288 with 1 Axes>"
            ]
          },
          "metadata": {
            "tags": [],
            "needs_background": "light"
          }
        }
      ]
    },
    {
      "cell_type": "code",
      "metadata": {
        "id": "RXIkbxTyEs7-",
        "colab": {
          "base_uri": "https://localhost:8080/",
          "height": 295
        },
        "outputId": "531ba70d-7a0a-4f47-8d48-3280454e392b"
      },
      "source": [
        "a = []\n",
        "b = []\n",
        "for result in Bottleneck_train_result:\n",
        "  a.append(result[\"micro_f1\"]*100)\n",
        "\n",
        "for result in Bottleneck_val_result:\n",
        "  b.append(result[\"micro_f1\"]*100)\n",
        "\n",
        "plt.plot(a, label='Train Accuracy')\n",
        "plt.plot(b, label='Validation Accuracy')\n",
        "plt.legend()\n",
        "plt.title(\"Mirco-average F1 metric over 50 epochs\")\n",
        "plt.xlabel(\"Epoch\")\n",
        "plt.ylabel(\"Micro-average F1\")\n",
        "plt.grid()"
      ],
      "execution_count": 18,
      "outputs": [
        {
          "output_type": "display_data",
          "data": {
            "image/png": "[encoded data removed]",
            "text/plain": [
              "<Figure size 432x288 with 1 Axes>"
            ]
          },
          "metadata": {
            "tags": [],
            "needs_background": "light"
          }
        }
      ]
    },
    {
      "cell_type": "code",
      "metadata": {
        "id": "S-nihpkzEt2e",
        "colab": {
          "base_uri": "https://localhost:8080/",
          "height": 295
        },
        "outputId": "20f5db42-98ed-4c7d-fdc8-4d4f6a93988c"
      },
      "source": [
        "a = []\n",
        "b = []\n",
        "for result in Bottleneck_train_result:\n",
        "  a.append(result[\"macro_f1\"]*100)\n",
        "\n",
        "for result in Bottleneck_val_result:\n",
        "  b.append(result[\"macro_f1\"]*100)\n",
        "\n",
        "plt.plot(a, label='Train Accuracy')\n",
        "plt.plot(b, label='Validation Accuracy')\n",
        "plt.legend()\n",
        "plt.title(\"Marco-average F1 metric over 50 epochs\")\n",
        "plt.xlabel(\"Epoch\")\n",
        "plt.ylabel(\"Macro-average F1\")\n",
        "plt.grid()"
      ],
      "execution_count": 19,
      "outputs": [
        {
          "output_type": "display_data",
          "data": {
            "image/png": "[encoded data removed]",
            "text/plain": [
              "<Figure size 432x288 with 1 Axes>"
            ]
          },
          "metadata": {
            "tags": [],
            "needs_background": "light"
          }
        }
      ]
    },
    {
      "cell_type": "code",
      "metadata": {
        "id": "5snC5oeMEu2F"
      },
      "source": [
        "def test_model(test_dataloader, optimizer, criterion, net, threshold):\n",
        "  test_outputs = []\n",
        "  test_labels = []\n",
        "\n",
        "  net.eval()\n",
        "\n",
        "  for idx, data in enumerate(test_dataloader):\n",
        "    img, label = data\n",
        "    img = img.to(device)\n",
        "    label = label.to(device)\n",
        "\n",
        "    outputs = net(img)\n",
        "\n",
        "    pred = outputs.data > threshold\n",
        "    pred = pred.type(torch.float)\n",
        "      \n",
        "    test_outputs.extend(pred.cpu().to(torch.int).numpy())\n",
        "    test_labels.extend(label.cpu().to(torch.int).numpy())\n",
        "\n",
        "  test_result = calculate_metrics(np.array(test_outputs), np.array(test_labels))\n",
        "\n",
        "  return np.asarray(test_outputs), np.asarray(test_labels), test_result "
      ],
      "execution_count": 20,
      "outputs": []
    },
    {
      "cell_type": "code",
      "metadata": {
        "id": "Gk8Vb-_j1Ke8"
      },
      "source": [
        "Bottleneck_test_outputs, Bottleneck_test_labels, Bottleneck_test_result = test_model(test_dataloader, optimizer, criterion, train_ft, 0.5)"
      ],
      "execution_count": 21,
      "outputs": []
    },
    {
      "cell_type": "code",
      "metadata": {
        "colab": {
          "base_uri": "https://localhost:8080/"
        },
        "id": "qUlrjFKE5aQO",
        "outputId": "df85bd83-b0a2-458c-c850-f9e4823a88c8"
      },
      "source": [
        "Bottleneck_test_result"
      ],
      "execution_count": 22,
      "outputs": [
        {
          "output_type": "execute_result",
          "data": {
            "text/plain": [
              "{'macro_f1': 0.9358434305671889, 'micro_f1': 0.9415807560137457}"
            ]
          },
          "metadata": {
            "tags": []
          },
          "execution_count": 22
        }
      ]
    },
    {
      "cell_type": "code",
      "metadata": {
        "colab": {
          "base_uri": "https://localhost:8080/"
        },
        "id": "YB9BIuub5n7w",
        "outputId": "5fbaff73-152d-436f-8983-f4d5f7a8b16e"
      },
      "source": [
        "fpr = dict()\n",
        "tpr = dict()\n",
        "roc_auc = dict()\n",
        "\n",
        "for idx in range(4):\n",
        "    fpr[idx], tpr[idx], _ = roc_curve(Bottleneck_test_labels[:, idx], Bottleneck_test_outputs[:, idx])\n",
        "    roc_auc[idx] = auc(fpr[idx], tpr[idx])\n",
        "\n",
        "fpr[\"micro\"], tpr[\"micro\"], _ = roc_curve(Bottleneck_test_labels.ravel(), Bottleneck_test_outputs.ravel())\n",
        "roc_auc[\"micro\"] = auc(fpr[\"micro\"], tpr[\"micro\"])\n",
        "\n",
        "all_fpr = np.unique(np.concatenate([fpr[i] for i in range(4)]))\n",
        "\n",
        "mean_tpr = np.zeros_like(all_fpr)\n",
        "for i in range(4):\n",
        "    mean_tpr += interp(all_fpr, fpr[i], tpr[i])\n",
        "\n",
        "mean_tpr /= 4\n",
        "\n",
        "fpr[\"macro\"] = all_fpr\n",
        "tpr[\"macro\"] = mean_tpr\n",
        "roc_auc[\"macro\"] = auc(fpr[\"macro\"], tpr[\"macro\"])"
      ],
      "execution_count": 23,
      "outputs": [
        {
          "output_type": "stream",
          "text": [
            "/usr/local/lib/python3.7/dist-packages/ipykernel_launcher.py:16: DeprecationWarning: scipy.interp is deprecated and will be removed in SciPy 2.0.0, use numpy.interp instead\n",
            "  app.launch_new_instance()\n"
          ],
          "name": "stderr"
        }
      ]
    },
    {
      "cell_type": "code",
      "metadata": {
        "id": "kPhh_iUC5qr_",
        "colab": {
          "base_uri": "https://localhost:8080/",
          "height": 301
        },
        "outputId": "a3be851c-39fa-489c-ca63-5427ff12420b"
      },
      "source": [
        "x = np.linspace(0,1)\n",
        "y = x\n",
        "plt.plot(x,y,linestyle=\"dashed\",color='black')\n",
        "plt.plot(fpr[\"micro\"], tpr[\"micro\"],\n",
        "         label='micro-average ROC curve (area = {0:0.2f})'.format(roc_auc[\"micro\"]))\n",
        "plt.plot(fpr[\"macro\"], tpr[\"macro\"],\n",
        "         label='macro-average ROC curve (area = {0:0.2f})'.format(roc_auc[\"macro\"]))\n",
        "plt.xlim([0,1])\n",
        "plt.ylim([0,1])\n",
        "plt.xlabel(\"False Positive Rate\")\n",
        "plt.ylabel(\"True Positive Rate\")\n",
        "plt.legend()"
      ],
      "execution_count": 24,
      "outputs": [
        {
          "output_type": "execute_result",
          "data": {
            "text/plain": [
              "<matplotlib.legend.Legend at 0x7fb1747b9590>"
            ]
          },
          "metadata": {
            "tags": []
          },
          "execution_count": 24
        },
        {
          "output_type": "display_data",
          "data": {
            "image/png": "[encoded data removed]",
            "text/plain": [
              "<Figure size 432x288 with 1 Axes>"
            ]
          },
          "metadata": {
            "tags": [],
            "needs_background": "light"
          }
        }
      ]
    },
    {
      "cell_type": "code",
      "metadata": {
        "id": "PeZDiHx9su4B"
      },
      "source": [
        "final_df = pd.DataFrame(data=Bottleneck_train_loss, columns=[\"train_loss\"])\n",
        "final_df[\"train_result_micro\"] = [data['micro_f1'] for data in Bottleneck_train_result]\n",
        "final_df[\"train_result_macro\"] = [data['macro_f1'] for data in Bottleneck_train_result]\n",
        "final_df[\"val_loss\"] = Bottleneck_val_loss\n",
        "final_df[\"val_result_micro\"] = [data['micro_f1'] for data in Bottleneck_val_result]\n",
        "final_df[\"val_result_macro\"] = [data['macro_f1'] for data in Bottleneck_val_result]\n",
        "\n",
        "final_df.to_csv(\"/content/drive/MyDrive/Output/Bottleneck_train\",index=False)"
      ],
      "execution_count": 25,
      "outputs": []
    },
    {
      "cell_type": "code",
      "metadata": {
        "id": "kAiRxIOIuVr4"
      },
      "source": [
        "final_df_train = pd.DataFrame(data=Bottleneck_test_labels, columns=[\"label1\",\"label2\",\"label3\",\"label4\"])\n",
        "final_df_train[\"pred1\"] = Bottleneck_test_outputs[:,0]\n",
        "final_df_train[\"pred2\"] = Bottleneck_test_outputs[:,1]\n",
        "final_df_train[\"pred3\"] = Bottleneck_test_outputs[:,2]\n",
        "final_df_train[\"pred4\"] = Bottleneck_test_outputs[:,3]\n",
        "\n",
        "final_df_train.to_csv(\"/content/drive/MyDrive/Output/Bottleneck_test\",index=False)"
      ],
      "execution_count": 26,
      "outputs": []
    },
    {
      "cell_type": "code",
      "metadata": {
        "id": "gf51XeM5uxzK"
      },
      "source": [
        ""
      ],
      "execution_count": 26,
      "outputs": []
    }
  ]
}