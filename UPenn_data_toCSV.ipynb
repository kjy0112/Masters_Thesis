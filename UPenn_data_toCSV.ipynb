{
  "nbformat": 4,
  "nbformat_minor": 0,
  "metadata": {
    "colab": {
      "name": "UPenn_data_toCSV.ipynb",
      "provenance": [],
      "collapsed_sections": []
    },
    "kernelspec": {
      "display_name": "Python 3",
      "name": "python3"
    },
    "language_info": {
      "name": "python"
    }
  },
  "cells": [
    {
      "cell_type": "code",
      "metadata": {
        "colab": {
          "base_uri": "https://localhost:8080/"
        },
        "id": "p2MTguqIqEmq",
        "outputId": "a6ddd015-bbd0-46d9-b135-c0cdc00e5382"
      },
      "source": [
        "from google.colab import drive\n",
        "drive.mount('/content/drive')"
      ],
      "execution_count": 1,
      "outputs": [
        {
          "output_type": "stream",
          "text": [
            "Mounted at /content/drive\n"
          ],
          "name": "stdout"
        }
      ]
    },
    {
      "cell_type": "code",
      "metadata": {
        "id": "iVheB1zsPMRF",
        "colab": {
          "base_uri": "https://localhost:8080/"
        },
        "outputId": "42d43b62-9510-4bb2-a028-5b262192e2ca"
      },
      "source": [
        "!python --version"
      ],
      "execution_count": 2,
      "outputs": [
        {
          "output_type": "stream",
          "text": [
            "Python 3.7.10\n"
          ],
          "name": "stdout"
        }
      ]
    },
    {
      "cell_type": "code",
      "metadata": {
        "colab": {
          "base_uri": "https://localhost:8080/"
        },
        "id": "KXMx1v-UqKI_",
        "outputId": "09ebb9ce-73ea-4634-b54c-4698be3f477f"
      },
      "source": [
        "pip install pytesseract"
      ],
      "execution_count": 3,
      "outputs": [
        {
          "output_type": "stream",
          "text": [
            "Collecting pytesseract\n",
            "  Downloading https://files.pythonhosted.org/packages/a0/e6/a4e9fc8a93c1318540e8de6d8d4beb5749b7960388a7c7f27799fc2dd016/pytesseract-0.3.7.tar.gz\n",
            "Requirement already satisfied: Pillow in /usr/local/lib/python3.7/dist-packages (from pytesseract) (7.1.2)\n",
            "Building wheels for collected packages: pytesseract\n",
            "  Building wheel for pytesseract (setup.py) ... \u001b[?25l\u001b[?25hdone\n",
            "  Created wheel for pytesseract: filename=pytesseract-0.3.7-py2.py3-none-any.whl size=13945 sha256=c6006aacbea82410634d67c460d4af526f30da6b62e8e9ebe5dd06145679cd4f\n",
            "  Stored in directory: /root/.cache/pip/wheels/81/20/7e/1dd0daad1575d5260916bb1e9781246430647adaef4b3ca3b3\n",
            "Successfully built pytesseract\n",
            "Installing collected packages: pytesseract\n",
            "Successfully installed pytesseract-0.3.7\n"
          ],
          "name": "stdout"
        }
      ]
    },
    {
      "cell_type": "code",
      "metadata": {
        "colab": {
          "base_uri": "https://localhost:8080/"
        },
        "id": "LiHL_tYzqKLO",
        "outputId": "b665361d-b2b8-4241-9132-7f9c719206c2"
      },
      "source": [
        "pip install pydicom"
      ],
      "execution_count": 4,
      "outputs": [
        {
          "output_type": "stream",
          "text": [
            "Collecting pydicom\n",
            "\u001b[?25l  Downloading https://files.pythonhosted.org/packages/f4/15/df16546bc59bfca390cf072d473fb2c8acd4231636f64356593a63137e55/pydicom-2.1.2-py3-none-any.whl (1.9MB)\n",
            "\r\u001b[K     |▏                               | 10kB 15.9MB/s eta 0:00:01\r\u001b[K     |▍                               | 20kB 22.8MB/s eta 0:00:01\r\u001b[K     |▌                               | 30kB 27.5MB/s eta 0:00:01\r\u001b[K     |▊                               | 40kB 30.1MB/s eta 0:00:01\r\u001b[K     |▉                               | 51kB 27.5MB/s eta 0:00:01\r\u001b[K     |█                               | 61kB 23.4MB/s eta 0:00:01\r\u001b[K     |█▏                              | 71kB 21.1MB/s eta 0:00:01\r\u001b[K     |█▍                              | 81kB 16.7MB/s eta 0:00:01\r\u001b[K     |█▋                              | 92kB 17.9MB/s eta 0:00:01\r\u001b[K     |█▊                              | 102kB 17.4MB/s eta 0:00:01\r\u001b[K     |██                              | 112kB 17.4MB/s eta 0:00:01\r\u001b[K     |██                              | 122kB 17.4MB/s eta 0:00:01\r\u001b[K     |██▎                             | 133kB 17.4MB/s eta 0:00:01\r\u001b[K     |██▍                             | 143kB 17.4MB/s eta 0:00:01\r\u001b[K     |██▋                             | 153kB 17.4MB/s eta 0:00:01\r\u001b[K     |██▉                             | 163kB 17.4MB/s eta 0:00:01\r\u001b[K     |███                             | 174kB 17.4MB/s eta 0:00:01\r\u001b[K     |███▏                            | 184kB 17.4MB/s eta 0:00:01\r\u001b[K     |███▎                            | 194kB 17.4MB/s eta 0:00:01\r\u001b[K     |███▌                            | 204kB 17.4MB/s eta 0:00:01\r\u001b[K     |███▋                            | 215kB 17.4MB/s eta 0:00:01\r\u001b[K     |███▉                            | 225kB 17.4MB/s eta 0:00:01\r\u001b[K     |████                            | 235kB 17.4MB/s eta 0:00:01\r\u001b[K     |████▏                           | 245kB 17.4MB/s eta 0:00:01\r\u001b[K     |████▍                           | 256kB 17.4MB/s eta 0:00:01\r\u001b[K     |████▌                           | 266kB 17.4MB/s eta 0:00:01\r\u001b[K     |████▊                           | 276kB 17.4MB/s eta 0:00:01\r\u001b[K     |████▉                           | 286kB 17.4MB/s eta 0:00:01\r\u001b[K     |█████                           | 296kB 17.4MB/s eta 0:00:01\r\u001b[K     |█████▎                          | 307kB 17.4MB/s eta 0:00:01\r\u001b[K     |█████▍                          | 317kB 17.4MB/s eta 0:00:01\r\u001b[K     |█████▋                          | 327kB 17.4MB/s eta 0:00:01\r\u001b[K     |█████▊                          | 337kB 17.4MB/s eta 0:00:01\r\u001b[K     |██████                          | 348kB 17.4MB/s eta 0:00:01\r\u001b[K     |██████                          | 358kB 17.4MB/s eta 0:00:01\r\u001b[K     |██████▎                         | 368kB 17.4MB/s eta 0:00:01\r\u001b[K     |██████▌                         | 378kB 17.4MB/s eta 0:00:01\r\u001b[K     |██████▋                         | 389kB 17.4MB/s eta 0:00:01\r\u001b[K     |██████▉                         | 399kB 17.4MB/s eta 0:00:01\r\u001b[K     |███████                         | 409kB 17.4MB/s eta 0:00:01\r\u001b[K     |███████▏                        | 419kB 17.4MB/s eta 0:00:01\r\u001b[K     |███████▎                        | 430kB 17.4MB/s eta 0:00:01\r\u001b[K     |███████▌                        | 440kB 17.4MB/s eta 0:00:01\r\u001b[K     |███████▊                        | 450kB 17.4MB/s eta 0:00:01\r\u001b[K     |███████▉                        | 460kB 17.4MB/s eta 0:00:01\r\u001b[K     |████████                        | 471kB 17.4MB/s eta 0:00:01\r\u001b[K     |████████▏                       | 481kB 17.4MB/s eta 0:00:01\r\u001b[K     |████████▍                       | 491kB 17.4MB/s eta 0:00:01\r\u001b[K     |████████▌                       | 501kB 17.4MB/s eta 0:00:01\r\u001b[K     |████████▊                       | 512kB 17.4MB/s eta 0:00:01\r\u001b[K     |█████████                       | 522kB 17.4MB/s eta 0:00:01\r\u001b[K     |█████████                       | 532kB 17.4MB/s eta 0:00:01\r\u001b[K     |█████████▎                      | 542kB 17.4MB/s eta 0:00:01\r\u001b[K     |█████████▍                      | 552kB 17.4MB/s eta 0:00:01\r\u001b[K     |█████████▋                      | 563kB 17.4MB/s eta 0:00:01\r\u001b[K     |█████████▊                      | 573kB 17.4MB/s eta 0:00:01\r\u001b[K     |██████████                      | 583kB 17.4MB/s eta 0:00:01\r\u001b[K     |██████████▏                     | 593kB 17.4MB/s eta 0:00:01\r\u001b[K     |██████████▎                     | 604kB 17.4MB/s eta 0:00:01\r\u001b[K     |██████████▌                     | 614kB 17.4MB/s eta 0:00:01\r\u001b[K     |██████████▋                     | 624kB 17.4MB/s eta 0:00:01\r\u001b[K     |██████████▉                     | 634kB 17.4MB/s eta 0:00:01\r\u001b[K     |███████████                     | 645kB 17.4MB/s eta 0:00:01\r\u001b[K     |███████████▏                    | 655kB 17.4MB/s eta 0:00:01\r\u001b[K     |███████████▍                    | 665kB 17.4MB/s eta 0:00:01\r\u001b[K     |███████████▌                    | 675kB 17.4MB/s eta 0:00:01\r\u001b[K     |███████████▊                    | 686kB 17.4MB/s eta 0:00:01\r\u001b[K     |███████████▉                    | 696kB 17.4MB/s eta 0:00:01\r\u001b[K     |████████████                    | 706kB 17.4MB/s eta 0:00:01\r\u001b[K     |████████████▏                   | 716kB 17.4MB/s eta 0:00:01\r\u001b[K     |████████████▍                   | 727kB 17.4MB/s eta 0:00:01\r\u001b[K     |████████████▋                   | 737kB 17.4MB/s eta 0:00:01\r\u001b[K     |████████████▊                   | 747kB 17.4MB/s eta 0:00:01\r\u001b[K     |█████████████                   | 757kB 17.4MB/s eta 0:00:01\r\u001b[K     |█████████████                   | 768kB 17.4MB/s eta 0:00:01\r\u001b[K     |█████████████▎                  | 778kB 17.4MB/s eta 0:00:01\r\u001b[K     |█████████████▍                  | 788kB 17.4MB/s eta 0:00:01\r\u001b[K     |█████████████▋                  | 798kB 17.4MB/s eta 0:00:01\r\u001b[K     |█████████████▉                  | 808kB 17.4MB/s eta 0:00:01\r\u001b[K     |██████████████                  | 819kB 17.4MB/s eta 0:00:01\r\u001b[K     |██████████████▏                 | 829kB 17.4MB/s eta 0:00:01\r\u001b[K     |██████████████▎                 | 839kB 17.4MB/s eta 0:00:01\r\u001b[K     |██████████████▌                 | 849kB 17.4MB/s eta 0:00:01\r\u001b[K     |██████████████▋                 | 860kB 17.4MB/s eta 0:00:01\r\u001b[K     |██████████████▉                 | 870kB 17.4MB/s eta 0:00:01\r\u001b[K     |███████████████                 | 880kB 17.4MB/s eta 0:00:01\r\u001b[K     |███████████████▏                | 890kB 17.4MB/s eta 0:00:01\r\u001b[K     |███████████████▍                | 901kB 17.4MB/s eta 0:00:01\r\u001b[K     |███████████████▌                | 911kB 17.4MB/s eta 0:00:01\r\u001b[K     |███████████████▊                | 921kB 17.4MB/s eta 0:00:01\r\u001b[K     |███████████████▉                | 931kB 17.4MB/s eta 0:00:01\r\u001b[K     |████████████████                | 942kB 17.4MB/s eta 0:00:01\r\u001b[K     |████████████████▎               | 952kB 17.4MB/s eta 0:00:01\r\u001b[K     |████████████████▍               | 962kB 17.4MB/s eta 0:00:01\r\u001b[K     |████████████████▋               | 972kB 17.4MB/s eta 0:00:01\r\u001b[K     |████████████████▊               | 983kB 17.4MB/s eta 0:00:01\r\u001b[K     |█████████████████               | 993kB 17.4MB/s eta 0:00:01\r\u001b[K     |█████████████████               | 1.0MB 17.4MB/s eta 0:00:01\r\u001b[K     |█████████████████▎              | 1.0MB 17.4MB/s eta 0:00:01\r\u001b[K     |█████████████████▌              | 1.0MB 17.4MB/s eta 0:00:01\r\u001b[K     |█████████████████▋              | 1.0MB 17.4MB/s eta 0:00:01\r\u001b[K     |█████████████████▉              | 1.0MB 17.4MB/s eta 0:00:01\r\u001b[K     |██████████████████              | 1.1MB 17.4MB/s eta 0:00:01\r\u001b[K     |██████████████████▏             | 1.1MB 17.4MB/s eta 0:00:01\r\u001b[K     |██████████████████▎             | 1.1MB 17.4MB/s eta 0:00:01\r\u001b[K     |██████████████████▌             | 1.1MB 17.4MB/s eta 0:00:01\r\u001b[K     |██████████████████▊             | 1.1MB 17.4MB/s eta 0:00:01\r\u001b[K     |██████████████████▉             | 1.1MB 17.4MB/s eta 0:00:01\r\u001b[K     |███████████████████             | 1.1MB 17.4MB/s eta 0:00:01\r\u001b[K     |███████████████████▏            | 1.1MB 17.4MB/s eta 0:00:01\r\u001b[K     |███████████████████▍            | 1.1MB 17.4MB/s eta 0:00:01\r\u001b[K     |███████████████████▌            | 1.1MB 17.4MB/s eta 0:00:01\r\u001b[K     |███████████████████▊            | 1.2MB 17.4MB/s eta 0:00:01\r\u001b[K     |████████████████████            | 1.2MB 17.4MB/s eta 0:00:01\r\u001b[K     |████████████████████            | 1.2MB 17.4MB/s eta 0:00:01\r\u001b[K     |████████████████████▎           | 1.2MB 17.4MB/s eta 0:00:01\r\u001b[K     |████████████████████▍           | 1.2MB 17.4MB/s eta 0:00:01\r\u001b[K     |████████████████████▋           | 1.2MB 17.4MB/s eta 0:00:01\r\u001b[K     |████████████████████▊           | 1.2MB 17.4MB/s eta 0:00:01\r\u001b[K     |█████████████████████           | 1.2MB 17.4MB/s eta 0:00:01\r\u001b[K     |█████████████████████▏          | 1.2MB 17.4MB/s eta 0:00:01\r\u001b[K     |█████████████████████▎          | 1.2MB 17.4MB/s eta 0:00:01\r\u001b[K     |█████████████████████▌          | 1.3MB 17.4MB/s eta 0:00:01\r\u001b[K     |█████████████████████▋          | 1.3MB 17.4MB/s eta 0:00:01\r\u001b[K     |█████████████████████▉          | 1.3MB 17.4MB/s eta 0:00:01\r\u001b[K     |██████████████████████          | 1.3MB 17.4MB/s eta 0:00:01\r\u001b[K     |██████████████████████▏         | 1.3MB 17.4MB/s eta 0:00:01\r\u001b[K     |██████████████████████▍         | 1.3MB 17.4MB/s eta 0:00:01\r\u001b[K     |██████████████████████▌         | 1.3MB 17.4MB/s eta 0:00:01\r\u001b[K     |██████████████████████▊         | 1.3MB 17.4MB/s eta 0:00:01\r\u001b[K     |██████████████████████▉         | 1.3MB 17.4MB/s eta 0:00:01\r\u001b[K     |███████████████████████         | 1.4MB 17.4MB/s eta 0:00:01\r\u001b[K     |███████████████████████▏        | 1.4MB 17.4MB/s eta 0:00:01\r\u001b[K     |███████████████████████▍        | 1.4MB 17.4MB/s eta 0:00:01\r\u001b[K     |███████████████████████▋        | 1.4MB 17.4MB/s eta 0:00:01\r\u001b[K     |███████████████████████▊        | 1.4MB 17.4MB/s eta 0:00:01\r\u001b[K     |████████████████████████        | 1.4MB 17.4MB/s eta 0:00:01\r\u001b[K     |████████████████████████        | 1.4MB 17.4MB/s eta 0:00:01\r\u001b[K     |████████████████████████▎       | 1.4MB 17.4MB/s eta 0:00:01\r\u001b[K     |████████████████████████▍       | 1.4MB 17.4MB/s eta 0:00:01\r\u001b[K     |████████████████████████▋       | 1.4MB 17.4MB/s eta 0:00:01\r\u001b[K     |████████████████████████▉       | 1.5MB 17.4MB/s eta 0:00:01\r\u001b[K     |█████████████████████████       | 1.5MB 17.4MB/s eta 0:00:01\r\u001b[K     |█████████████████████████▏      | 1.5MB 17.4MB/s eta 0:00:01\r\u001b[K     |█████████████████████████▎      | 1.5MB 17.4MB/s eta 0:00:01\r\u001b[K     |█████████████████████████▌      | 1.5MB 17.4MB/s eta 0:00:01\r\u001b[K     |█████████████████████████▋      | 1.5MB 17.4MB/s eta 0:00:01\r\u001b[K     |█████████████████████████▉      | 1.5MB 17.4MB/s eta 0:00:01\r\u001b[K     |██████████████████████████      | 1.5MB 17.4MB/s eta 0:00:01\r\u001b[K     |██████████████████████████▏     | 1.5MB 17.4MB/s eta 0:00:01\r\u001b[K     |██████████████████████████▍     | 1.5MB 17.4MB/s eta 0:00:01\r\u001b[K     |██████████████████████████▌     | 1.6MB 17.4MB/s eta 0:00:01\r\u001b[K     |██████████████████████████▊     | 1.6MB 17.4MB/s eta 0:00:01\r\u001b[K     |██████████████████████████▉     | 1.6MB 17.4MB/s eta 0:00:01\r\u001b[K     |███████████████████████████     | 1.6MB 17.4MB/s eta 0:00:01\r\u001b[K     |███████████████████████████▎    | 1.6MB 17.4MB/s eta 0:00:01\r\u001b[K     |███████████████████████████▍    | 1.6MB 17.4MB/s eta 0:00:01\r\u001b[K     |███████████████████████████▋    | 1.6MB 17.4MB/s eta 0:00:01\r\u001b[K     |███████████████████████████▊    | 1.6MB 17.4MB/s eta 0:00:01\r\u001b[K     |████████████████████████████    | 1.6MB 17.4MB/s eta 0:00:01\r\u001b[K     |████████████████████████████    | 1.6MB 17.4MB/s eta 0:00:01\r\u001b[K     |████████████████████████████▎   | 1.7MB 17.4MB/s eta 0:00:01\r\u001b[K     |████████████████████████████▌   | 1.7MB 17.4MB/s eta 0:00:01\r\u001b[K     |████████████████████████████▋   | 1.7MB 17.4MB/s eta 0:00:01\r\u001b[K     |████████████████████████████▉   | 1.7MB 17.4MB/s eta 0:00:01\r\u001b[K     |█████████████████████████████   | 1.7MB 17.4MB/s eta 0:00:01\r\u001b[K     |█████████████████████████████▏  | 1.7MB 17.4MB/s eta 0:00:01\r\u001b[K     |█████████████████████████████▎  | 1.7MB 17.4MB/s eta 0:00:01\r\u001b[K     |█████████████████████████████▌  | 1.7MB 17.4MB/s eta 0:00:01\r\u001b[K     |█████████████████████████████▊  | 1.7MB 17.4MB/s eta 0:00:01\r\u001b[K     |█████████████████████████████▉  | 1.8MB 17.4MB/s eta 0:00:01\r\u001b[K     |██████████████████████████████  | 1.8MB 17.4MB/s eta 0:00:01\r\u001b[K     |██████████████████████████████▏ | 1.8MB 17.4MB/s eta 0:00:01\r\u001b[K     |██████████████████████████████▍ | 1.8MB 17.4MB/s eta 0:00:01\r\u001b[K     |██████████████████████████████▌ | 1.8MB 17.4MB/s eta 0:00:01\r\u001b[K     |██████████████████████████████▊ | 1.8MB 17.4MB/s eta 0:00:01\r\u001b[K     |███████████████████████████████ | 1.8MB 17.4MB/s eta 0:00:01\r\u001b[K     |███████████████████████████████ | 1.8MB 17.4MB/s eta 0:00:01\r\u001b[K     |███████████████████████████████▎| 1.8MB 17.4MB/s eta 0:00:01\r\u001b[K     |███████████████████████████████▍| 1.8MB 17.4MB/s eta 0:00:01\r\u001b[K     |███████████████████████████████▋| 1.9MB 17.4MB/s eta 0:00:01\r\u001b[K     |███████████████████████████████▊| 1.9MB 17.4MB/s eta 0:00:01\r\u001b[K     |████████████████████████████████| 1.9MB 17.4MB/s eta 0:00:01\r\u001b[K     |████████████████████████████████| 1.9MB 17.4MB/s \n",
            "\u001b[?25hInstalling collected packages: pydicom\n",
            "Successfully installed pydicom-2.1.2\n"
          ],
          "name": "stdout"
        }
      ]
    },
    {
      "cell_type": "code",
      "metadata": {
        "id": "X5xXEOTTqKRm"
      },
      "source": [
        "import os\n",
        "import re\n",
        "import shutil\n",
        "import pydicom\n",
        "import pytesseract\n",
        "import cv2\n",
        "from PIL import Image\n",
        "import numpy as np\n",
        "import pandas as pd\n",
        "from matplotlib import pyplot as plt\n",
        "import matplotlib.patches as patches\n",
        "import torch\n",
        "import torch.nn as nn\n",
        "import torch.nn.functional as F\n",
        "import torch.optim as optim\n",
        "from torchvision import datasets, models, transforms\n",
        "from torch.utils.data import Dataset, DataLoader\n",
        "from torch.optim import lr_scheduler\n",
        "from sklearn.metrics import precision_score, recall_score, f1_score"
      ],
      "execution_count": 5,
      "outputs": []
    },
    {
      "cell_type": "code",
      "metadata": {
        "id": "5Dux8IzEqKT2",
        "colab": {
          "base_uri": "https://localhost:8080/"
        },
        "outputId": "33e8c410-1794-465f-9631-3709c646ebc6"
      },
      "source": [
        "count = 0\n",
        "for r,d,f in os.walk(\"/content/drive/MyDrive/Data_testing\"):\n",
        "  for file in f:\n",
        "    if \".dcm\" in file:\n",
        "      count += 1\n",
        "print(\"Total number of DICOM files:\", count)"
      ],
      "execution_count": 6,
      "outputs": [
        {
          "output_type": "stream",
          "text": [
            "Total number of DICOM files: 2116\n"
          ],
          "name": "stdout"
        }
      ]
    },
    {
      "cell_type": "code",
      "metadata": {
        "colab": {
          "base_uri": "https://localhost:8080/"
        },
        "id": "bcNIk0idwlIH",
        "outputId": "a4889964-8af6-462e-df2e-60b056110a18"
      },
      "source": [
        "data = pydicom.dcmread(\"/content/drive/MyDrive/Data_testing/0-002 _002/1.2.840.113654.2.70.1.272234866199386504052807420495208842726/Bladder/Sagittal/1.2.840.113654.2.70.1.162524936614728192684386116639330353731.dcm\")\n",
        "np.max(data.pixel_array)\n"
      ],
      "execution_count": 7,
      "outputs": [
        {
          "output_type": "execute_result",
          "data": {
            "text/plain": [
              "254"
            ]
          },
          "metadata": {
            "tags": []
          },
          "execution_count": 7
        }
      ]
    },
    {
      "cell_type": "code",
      "metadata": {
        "colab": {
          "base_uri": "https://localhost:8080/"
        },
        "id": "55AJEbtQmy7N",
        "outputId": "f278430b-9568-411e-d417-246cb92962ac"
      },
      "source": [
        "manufacturers = []\n",
        "for r,d,f in os.walk(\"/content/drive/MyDrive/Data_testing\"):\n",
        "  for file in f:\n",
        "    if \".dcm\" in file:\n",
        "      data = pydicom.dcmread(os.path.join(r,file))\n",
        "      manufacturer = data.Manufacturer\n",
        "      manufacturers.append(manufacturer)\n",
        "results = set(manufacturers)\n",
        "print(results)"
      ],
      "execution_count": 8,
      "outputs": [
        {
          "output_type": "stream",
          "text": [
            "{'Philips Medical Systems', 'SIEMENS', 'ATL'}\n"
          ],
          "name": "stdout"
        }
      ]
    },
    {
      "cell_type": "code",
      "metadata": {
        "id": "BDY0J3aRqOn-"
      },
      "source": [
        "kidney_path = []\n",
        "for r,d,f in os.walk(\"/content/drive/MyDrive/Data_testing\"):\n",
        "  for directory in d:\n",
        "    if directory == \"Kidney\":\n",
        "      kidney_path.append(os.path.join(r,directory))\n",
        "\n",
        "kidney_files = []\n",
        "for path in kidney_path:\n",
        "  for r,d,f in os.walk(path):\n",
        "    for file in f:\n",
        "      if \".dcm\" in file:\n",
        "        kidney_files.append(os.path.join(r,file))"
      ],
      "execution_count": 9,
      "outputs": []
    },
    {
      "cell_type": "code",
      "metadata": {
        "id": "qbw05B-MqOqO"
      },
      "source": [
        "bladder_path = []\n",
        "for r,d,f in os.walk(\"/content/drive/MyDrive/Data_testing\"):\n",
        "  for directory in d:\n",
        "    if directory == \"Bladder\":\n",
        "      bladder_path.append(os.path.join(r,directory))\n",
        "\n",
        "bladder_files = []\n",
        "for path in bladder_path:\n",
        "  for r,d,f in os.walk(path):\n",
        "    for file in f:\n",
        "      if \".dcm\" in file:\n",
        "        bladder_files.append(os.path.join(r,file))"
      ],
      "execution_count": 10,
      "outputs": []
    },
    {
      "cell_type": "code",
      "metadata": {
        "id": "tSa4ptN1qOsI",
        "colab": {
          "base_uri": "https://localhost:8080/"
        },
        "outputId": "8e6fca76-d175-4278-b126-c0e5e80761f1"
      },
      "source": [
        "tot_num = len(kidney_files)+len(bladder_files)\n",
        "df = pd.DataFrame(index=range(0,tot_num), columns=[\"image_name\",\"Kidney\", \"Bladder\", \"Sagittal\", \"Transverse\"])\n",
        "print(df)\n",
        "print(\"Total:\", tot_num)"
      ],
      "execution_count": 11,
      "outputs": [
        {
          "output_type": "stream",
          "text": [
            "     image_name Kidney Bladder Sagittal Transverse\n",
            "0           NaN    NaN     NaN      NaN        NaN\n",
            "1           NaN    NaN     NaN      NaN        NaN\n",
            "2           NaN    NaN     NaN      NaN        NaN\n",
            "3           NaN    NaN     NaN      NaN        NaN\n",
            "4           NaN    NaN     NaN      NaN        NaN\n",
            "...         ...    ...     ...      ...        ...\n",
            "1942        NaN    NaN     NaN      NaN        NaN\n",
            "1943        NaN    NaN     NaN      NaN        NaN\n",
            "1944        NaN    NaN     NaN      NaN        NaN\n",
            "1945        NaN    NaN     NaN      NaN        NaN\n",
            "1946        NaN    NaN     NaN      NaN        NaN\n",
            "\n",
            "[1947 rows x 5 columns]\n",
            "Total: 1947\n"
          ],
          "name": "stdout"
        }
      ]
    },
    {
      "cell_type": "code",
      "metadata": {
        "id": "LsJ6h1ZRqOuO"
      },
      "source": [
        "for idx in range(len(kidney_files)):\n",
        "  n = kidney_files[idx]\n",
        "  df['image_name'][idx] = n\n",
        "\n",
        "  if \"Kidney\" in n:\n",
        "    df['Kidney'][idx] = 1\n",
        "  else:\n",
        "    df['Kidney'][idx] = 0\n",
        "\n",
        "  if \"Bladder\" in n:\n",
        "    df['Bladder'][idx] = 1\n",
        "  else:\n",
        "    df['Bladder'][idx] = 0\n",
        "\n",
        "  if \"Sagittal\" in n:\n",
        "    df['Sagittal'][idx] = 1\n",
        "  else:\n",
        "    df['Sagittal'][idx] = 0\n",
        "\n",
        "  if \"Transverse\" in n:\n",
        "    df['Transverse'][idx] = 1\n",
        "  else:\n",
        "    df['Transverse'][idx] = 0\n",
        "\n",
        "num_end = idx + 1"
      ],
      "execution_count": 12,
      "outputs": []
    },
    {
      "cell_type": "code",
      "metadata": {
        "id": "BBLfCOTrqoMm"
      },
      "source": [
        "for idx in range(len(bladder_files)):\n",
        "  n = bladder_files[idx]\n",
        "  df['image_name'][num_end+idx] = n\n",
        "  \n",
        "  if \"Kidney\" in n:\n",
        "    df['Kidney'][num_end+idx] = 1\n",
        "  else:\n",
        "    df['Kidney'][num_end+idx] = 0\n",
        "\n",
        "  if \"Bladder\" in n:\n",
        "    df['Bladder'][num_end+idx] = 1\n",
        "  else:\n",
        "    df['Bladder'][num_end+idx] = 0\n",
        "\n",
        "  if \"Sagittal\" in n:\n",
        "    df['Sagittal'][num_end+idx] = 1\n",
        "  else:\n",
        "    df['Sagittal'][num_end+idx] = 0\n",
        "\n",
        "  if \"Transverse\" in n:\n",
        "    df['Transverse'][num_end+idx] = 1\n",
        "  else:\n",
        "    df['Transverse'][num_end+idx] = 0"
      ],
      "execution_count": 13,
      "outputs": []
    },
    {
      "cell_type": "code",
      "metadata": {
        "id": "kCU0GAbaqoQG",
        "colab": {
          "base_uri": "https://localhost:8080/",
          "height": 369
        },
        "outputId": "d6b881df-3ecd-4e7f-92c3-80749d1e2d30"
      },
      "source": [
        "df2 = df\n",
        "df2 = df2.drop(columns=['image_name'], axis=1)\n",
        "labels = ['Kidney','Bladder','Sagittal','Transverse']\n",
        "values = []\n",
        "value = df2.sum(axis=0)\n",
        "for name in labels:\n",
        "  values.append(value[name])\n",
        "\n",
        "plt.figure(figsize=(10,5))\n",
        "plt.subplot(1,2,1)\n",
        "plt.bar(labels, values)\n",
        "plt.title('Label Class Distribution', fontsize=15)\n",
        "plt.xlabel('Label', fontsize=13)\n",
        "plt.ylabel('Counts', fontsize=13)\n",
        "\n",
        "a = 0\n",
        "b = 0 \n",
        "result = []\n",
        "for idx in range(len(df2)):\n",
        "  if sum(df2.iloc[idx].values) == 1:\n",
        "    a += 1\n",
        "  else:\n",
        "    b += 1\n",
        "result.append(a)\n",
        "result.append(b)\n",
        "result.append(0)\n",
        "result.append(0)\n",
        "\n",
        "label = [\"1\",\"2\",\"3\",\"4\"]\n",
        "plt.subplot(1,2,2)\n",
        "plt.bar(label, result)\n",
        "plt.title('Label Distribution', fontsize=15)\n",
        "plt.xlabel('Number of class in Label', fontsize=13)\n",
        "plt.ylabel('Counts', fontsize=13)\n",
        "plt.tight_layout()"
      ],
      "execution_count": 23,
      "outputs": [
        {
          "output_type": "display_data",
          "data": {
            "image/png": "[encoded data removed]",
            "text/plain": [
              "<Figure size 720x360 with 2 Axes>"
            ]
          },
          "metadata": {
            "tags": [],
            "needs_background": "light"
          }
        }
      ]
    },
    {
      "cell_type": "code",
      "metadata": {
        "colab": {
          "base_uri": "https://localhost:8080/",
          "height": 313
        },
        "id": "gfHMb3sSGk_F",
        "outputId": "b435adbe-b6f1-4b82-d4a7-dd0a4e3f99dd"
      },
      "source": [
        "a = 0\n",
        "b = 0 \n",
        "result = []\n",
        "for idx in range(len(df2)):\n",
        "  if sum(df2.iloc[idx].values) == 1:\n",
        "    a += 1\n",
        "  else:\n",
        "    b += 1\n",
        "result.append(a)\n",
        "result.append(b)\n",
        "result.append(0)\n",
        "result.append(0)\n",
        "\n",
        "label = [\"1\",\"2\",\"3\",\"4\"]\n",
        "plt.bar(label, result)\n",
        "plt.title('Label Distribution')\n",
        "plt.xlabel('Number of class in Label')\n",
        "plt.ylabel('Counts')"
      ],
      "execution_count": 17,
      "outputs": [
        {
          "output_type": "execute_result",
          "data": {
            "text/plain": [
              "Text(0, 0.5, 'Counts')"
            ]
          },
          "metadata": {
            "tags": []
          },
          "execution_count": 17
        },
        {
          "output_type": "display_data",
          "data": {
            "image/png": "[encoded data removed]",
            "text/plain": [
              "<Figure size 432x288 with 1 Axes>"
            ]
          },
          "metadata": {
            "tags": [],
            "needs_background": "light"
          }
        }
      ]
    },
    {
      "cell_type": "code",
      "metadata": {
        "id": "yY-gGQG2qoR-"
      },
      "source": [
        "df.to_csv(\"/content/drive/MyDrive/Data_testing/file_names.csv\",index=False)"
      ],
      "execution_count": null,
      "outputs": []
    },
    {
      "cell_type": "code",
      "metadata": {
        "id": "az6sNpluqoT_"
      },
      "source": [
        "df"
      ],
      "execution_count": null,
      "outputs": []
    },
    {
      "cell_type": "code",
      "metadata": {
        "id": "WeynJe3Uyioi"
      },
      "source": [
        ""
      ],
      "execution_count": null,
      "outputs": []
    }
  ]
}