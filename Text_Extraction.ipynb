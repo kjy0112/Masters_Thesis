{
  "nbformat": 4,
  "nbformat_minor": 0,
  "metadata": {
    "kernelspec": {
      "display_name": "Python 3",
      "language": "python",
      "name": "python3"
    },
    "language_info": {
      "codemirror_mode": {
        "name": "ipython",
        "version": 3
      },
      "file_extension": ".py",
      "mimetype": "text/x-python",
      "name": "python",
      "nbconvert_exporter": "python",
      "pygments_lexer": "ipython3",
      "version": "3.7.3"
    },
    "colab": {
      "name": "Text_Extraction.ipynb",
      "provenance": []
    }
  },
  "cells": [
    {
      "cell_type": "code",
      "metadata": {
        "id": "CBSS8y0BemSx",
        "outputId": "940a1a2b-6f41-4622-b279-d65dfcc5bba9"
      },
      "source": [
        "pip install pytesseract"
      ],
      "execution_count": null,
      "outputs": [
        {
          "output_type": "stream",
          "text": [
            "Requirement already satisfied: pytesseract in c:\\programdata\\anaconda3\\lib\\site-packages (0.3.0)\n",
            "Requirement already satisfied: Pillow in c:\\programdata\\anaconda3\\lib\\site-packages (from pytesseract) (6.1.0)\n",
            "Note: you may need to restart the kernel to use updated packages.\n"
          ],
          "name": "stdout"
        }
      ]
    },
    {
      "cell_type": "code",
      "metadata": {
        "id": "s_31Ny_JemS0",
        "outputId": "acc72f13-70f1-43d0-8515-cd09e8f24c92"
      },
      "source": [
        "pip install pydicom"
      ],
      "execution_count": null,
      "outputs": [
        {
          "output_type": "stream",
          "text": [
            "Requirement already satisfied: pydicom in c:\\programdata\\anaconda3\\lib\\site-packages (2.0.0)\n",
            "Note: you may need to restart the kernel to use updated packages.\n"
          ],
          "name": "stdout"
        }
      ]
    },
    {
      "cell_type": "code",
      "metadata": {
        "id": "Pc5s-DhVemS1"
      },
      "source": [
        "# Instruction to install and set up pytesseract (OCR tool for Python) is following:\n",
        "# https://pypi.org/project/pytesseract/\n",
        "# It might be necessary to download pytesseract.pytesseract.tesseract_cmd and put it in your data directory"
      ],
      "execution_count": null,
      "outputs": []
    },
    {
      "cell_type": "code",
      "metadata": {
        "id": "ndQOfoGNemS1"
      },
      "source": [
        "import os\n",
        "import re\n",
        "import shutil\n",
        "import pydicom\n",
        "import numpy as np\n",
        "import matplotlib.pyplot as plt\n",
        "import pytesseract\n",
        "import cv2"
      ],
      "execution_count": null,
      "outputs": []
    },
    {
      "cell_type": "code",
      "metadata": {
        "id": "QpiDxh5nemS1"
      },
      "source": [
        "# This will need different directory\n",
        "pytesseract.pytesseract.tesseract_cmd = r'D:/UPENN/Research/Data/Tesseract-OCR/tesseract.exe' "
      ],
      "execution_count": null,
      "outputs": []
    },
    {
      "cell_type": "code",
      "metadata": {
        "id": "qpKtgvHNemS1"
      },
      "source": [
        "paths = [] #List of directories for inidividual patients\n",
        "\n",
        "for r,d,f in os.walk(\"D:/UPENN/Research/Data_testing\"):\n",
        "    for directory in d:\n",
        "        if directory[0] == \"1\":\n",
        "            paths.append(os.path.join(r,directory,\"\"))\n",
        "            \n",
        "for idx in list(range(len(paths))):\n",
        "    paths[idx] = paths[idx].replace(\"\\\\\", \"/\")"
      ],
      "execution_count": null,
      "outputs": []
    },
    {
      "cell_type": "code",
      "metadata": {
        "id": "V2D31dIyemS2"
      },
      "source": [
        "for path in paths:\n",
        "    count = 0\n",
        "    \n",
        "    # Changing directory\n",
        "    os.chdir(path)\n",
        "    print(path)                            # Print a directory for individual patients\n",
        "    \n",
        "    #Creating directories for organs\n",
        "#     os.mkdir(\"Ureter\")\n",
        "#     os.mkdir(\"Kidney\")\n",
        "#     os.mkdir(\"Bladder\")\n",
        "#     os.mkdir(\"Unknown\")\n",
        "    \n",
        "#     ureter_path = os.path.join(path,'Ureter')\n",
        "#     kidney_path = os.path.join(path,'Kidney')\n",
        "#     bladder_path = os.path.join(path,'Bladder')\n",
        "#     unknown_path = os.path.join(path,'Unknown')\n",
        "    \n",
        "    # Text Extraction\n",
        "    for r,d,f in os.walk(path):\n",
        "        for file in f:\n",
        "            if \".dcm\" in file:\n",
        "                count += 1\n",
        "                data = pydicom.dcmread(os.path.join(r,file))\n",
        "                arr = data.pixel_array\n",
        "                shape = arr.shape               # Depending on the file, shape varies from 2 to 4. Most DICOM files have shape of 2. \n",
        "                if len(shape) == 4:            # In other cases, assuming that the text informations are consistant, I use first slide.\n",
        "                    i, x, y, z = arr.shape\n",
        "                    arr = arr[0,:,:,0]\n",
        "                elif len(shape) == 3:\n",
        "                    x, y, z = arr.shape\n",
        "                    arr = arr[:,:,0]\n",
        "                else:\n",
        "                    x, y = arr.shape\n",
        "                img = cv2.cvtColor(arr, cv2.COLOR_GRAY2BGR)\n",
        "                (thresh, bw) = cv2.threshold(img, 127, 255, cv2.THRESH_BINARY_INV)   \n",
        "                bw = bw[int(x*0.86)::,:]         # Can change the area of interest in the image with different value (0.86 in this case)\n",
        "                text = pytesseract.image_to_string(bw,lang='eng')\n",
        "                text = text.split()\n",
        "                for i in list(range(len(text))):\n",
        "                    text[i] = text[i].lower()\n",
        "                    text[i] = re.sub(r\"[^A-Za-z]+\", '', text[i])\n",
        "                text = [i for i in text if i] \n",
        "                \n",
        "                # Move files based on the text results\n",
        "                if 'kidney' in text:\n",
        "                    shutil.move(file, kidney_path)\n",
        "                elif 'ureter' in text:\n",
        "                    shutil.move(file,ureter_path)\n",
        "                elif 'bladder' in text:\n",
        "                    shutil.move(file,bladder_path)\n",
        "                else:\n",
        "                    shutil.move(file,unknown_path)\n",
        "        break\n",
        "    \n",
        "    print(\"Number of files: \", count)         # Print number of files in each patients"
      ],
      "execution_count": null,
      "outputs": []
    },
    {
      "cell_type": "code",
      "metadata": {
        "id": "7c_Tb374emS2"
      },
      "source": [
        "# This is a testing code with figure of area of interest and extracted text results\n",
        "\n",
        "for r,d,f in os.walk(paths[6]):\n",
        "    for file in f:\n",
        "        if \".dcm\" in file:\n",
        "            data = pydicom.dcmread(os.path.join(r,file))\n",
        "            arr = data.pixel_array\n",
        "            shape = arr.shape\n",
        "            if len(shape) == 4:\n",
        "                i, x, y, z = arr.shape\n",
        "                arr = arr[0,:,:,0]\n",
        "            elif len(shape) == 3:\n",
        "                x, y, z = arr.shape\n",
        "                arr = arr[:,:,0]\n",
        "            else:\n",
        "                x, y = arr.shape\n",
        "            img = cv2.cvtColor(arr, cv2.COLOR_GRAY2BGR)\n",
        "            (thresh, bw) = cv2.threshold(img, 127, 255, cv2.THRESH_BINARY_INV)\n",
        "            bw = bw[int(x*0.85)::,:]\n",
        "            text = pytesseract.image_to_string(bw,lang='eng')\n",
        "            text = text.split()\n",
        "            for i in list(range(len(text))):\n",
        "                text[i] = text[i].lower()\n",
        "                text[i] = re.sub(r\"[^A-Za-z]+\", '', text[i])\n",
        "            text = [i for i in text if i] \n",
        "            print(text)\n",
        "            plt.imshow(bw, cmap=\"gray\")\n",
        "            plt.show()\n",
        "            print(\"\")"
      ],
      "execution_count": null,
      "outputs": []
    }
  ]
}