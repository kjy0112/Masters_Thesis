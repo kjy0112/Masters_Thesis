{
  "nbformat": 4,
  "nbformat_minor": 0,
  "metadata": {
    "colab": {
      "name": "UPenn_CNN.ipynb",
      "provenance": [],
      "collapsed_sections": [],
      "machine_shape": "hm"
    },
    "kernelspec": {
      "name": "python3",
      "display_name": "Python 3"
    },
    "language_info": {
      "name": "python"
    },
    "accelerator": "GPU"
  },
  "cells": [
    {
      "cell_type": "code",
      "metadata": {
        "colab": {
          "base_uri": "https://localhost:8080/"
        },
        "id": "yZIzJX8E7SQr",
        "outputId": "f2e115d6-330f-4a94-eb7b-9b1f7214c3e1"
      },
      "source": [
        "from google.colab import drive\n",
        "drive.mount('/content/drive')"
      ],
      "execution_count": 1,
      "outputs": [
        {
          "output_type": "stream",
          "text": [
            "Drive already mounted at /content/drive; to attempt to forcibly remount, call drive.mount(\"/content/drive\", force_remount=True).\n"
          ],
          "name": "stdout"
        }
      ]
    },
    {
      "cell_type": "code",
      "metadata": {
        "colab": {
          "base_uri": "https://localhost:8080/"
        },
        "id": "_yd2D2lo7VcQ",
        "outputId": "8d3e29ad-896b-430f-98be-585cb5ae3c2e"
      },
      "source": [
        "gpu_info = !nvidia-smi\n",
        "gpu_info = '\\n'.join(gpu_info)\n",
        "if gpu_info.find('failed') >= 0:\n",
        "  print('Select the Runtime > \"Change runtime type\" menu to enable a GPU accelerator, ')\n",
        "  print('and then re-execute this cell.')\n",
        "else:\n",
        "  print(gpu_info)"
      ],
      "execution_count": 2,
      "outputs": [
        {
          "output_type": "stream",
          "text": [
            "Mon Apr 26 00:37:45 2021       \n",
            "+-----------------------------------------------------------------------------+\n",
            "| NVIDIA-SMI 465.19.01    Driver Version: 460.32.03    CUDA Version: 11.2     |\n",
            "|-------------------------------+----------------------+----------------------+\n",
            "| GPU  Name        Persistence-M| Bus-Id        Disp.A | Volatile Uncorr. ECC |\n",
            "| Fan  Temp  Perf  Pwr:Usage/Cap|         Memory-Usage | GPU-Util  Compute M. |\n",
            "|                               |                      |               MIG M. |\n",
            "|===============================+======================+======================|\n",
            "|   0  Tesla P100-PCIE...  Off  | 00000000:00:04.0 Off |                    0 |\n",
            "| N/A   43C    P0    27W / 250W |      0MiB / 16280MiB |      0%      Default |\n",
            "|                               |                      |                  N/A |\n",
            "+-------------------------------+----------------------+----------------------+\n",
            "                                                                               \n",
            "+-----------------------------------------------------------------------------+\n",
            "| Processes:                                                                  |\n",
            "|  GPU   GI   CI        PID   Type   Process name                  GPU Memory |\n",
            "|        ID   ID                                                   Usage      |\n",
            "|=============================================================================|\n",
            "|  No running processes found                                                 |\n",
            "+-----------------------------------------------------------------------------+\n"
          ],
          "name": "stdout"
        }
      ]
    },
    {
      "cell_type": "code",
      "metadata": {
        "colab": {
          "base_uri": "https://localhost:8080/"
        },
        "id": "U27GGnYS7WlD",
        "outputId": "a9be59e5-ff6d-483c-96ef-a1e15553897d"
      },
      "source": [
        "from psutil import virtual_memory\n",
        "ram_gb = virtual_memory().total / 1e9\n",
        "print('Your runtime has {:.1f} gigabytes of available RAM\\n'.format(ram_gb))\n",
        "\n",
        "if ram_gb < 20:\n",
        "  print('To enable a high-RAM runtime, select the Runtime > \"Change runtime type\"')\n",
        "  print('menu, and then select High-RAM in the Runtime shape dropdown. Then, ')\n",
        "  print('re-execute this cell.')\n",
        "else:\n",
        "  print('You are using a high-RAM runtime!')"
      ],
      "execution_count": 3,
      "outputs": [
        {
          "output_type": "stream",
          "text": [
            "Your runtime has 27.4 gigabytes of available RAM\n",
            "\n",
            "You are using a high-RAM runtime!\n"
          ],
          "name": "stdout"
        }
      ]
    },
    {
      "cell_type": "code",
      "metadata": {
        "colab": {
          "base_uri": "https://localhost:8080/"
        },
        "id": "6FZGYTkM7WnA",
        "outputId": "e9c8a94c-987c-4f48-c78e-4a88ab0bea10"
      },
      "source": [
        "pip install pytesseract"
      ],
      "execution_count": 4,
      "outputs": [
        {
          "output_type": "stream",
          "text": [
            "Collecting pytesseract\n",
            "  Downloading https://files.pythonhosted.org/packages/a0/e6/a4e9fc8a93c1318540e8de6d8d4beb5749b7960388a7c7f27799fc2dd016/pytesseract-0.3.7.tar.gz\n",
            "Requirement already satisfied: Pillow in /usr/local/lib/python3.7/dist-packages (from pytesseract) (7.1.2)\n",
            "Building wheels for collected packages: pytesseract\n",
            "  Building wheel for pytesseract (setup.py) ... \u001b[?25l\u001b[?25hdone\n",
            "  Created wheel for pytesseract: filename=pytesseract-0.3.7-py2.py3-none-any.whl size=13945 sha256=99039fd1ddc4fa6f3206c700467c18d4b0d215ef0b40f885e8d9368a157e7d52\n",
            "  Stored in directory: /root/.cache/pip/wheels/81/20/7e/1dd0daad1575d5260916bb1e9781246430647adaef4b3ca3b3\n",
            "Successfully built pytesseract\n",
            "Installing collected packages: pytesseract\n",
            "Successfully installed pytesseract-0.3.7\n"
          ],
          "name": "stdout"
        }
      ]
    },
    {
      "cell_type": "code",
      "metadata": {
        "colab": {
          "base_uri": "https://localhost:8080/"
        },
        "id": "IteOtJo67WpQ",
        "outputId": "0d8b24d2-090c-4bc9-a5ae-aa298292d167"
      },
      "source": [
        "pip install pydicom"
      ],
      "execution_count": 5,
      "outputs": [
        {
          "output_type": "stream",
          "text": [
            "Collecting pydicom\n",
            "\u001b[?25l  Downloading https://files.pythonhosted.org/packages/f4/15/df16546bc59bfca390cf072d473fb2c8acd4231636f64356593a63137e55/pydicom-2.1.2-py3-none-any.whl (1.9MB)\n",
            "\u001b[K     |████████████████████████████████| 1.9MB 7.2MB/s \n",
            "\u001b[?25hInstalling collected packages: pydicom\n",
            "Successfully installed pydicom-2.1.2\n"
          ],
          "name": "stdout"
        }
      ]
    },
    {
      "cell_type": "code",
      "metadata": {
        "colab": {
          "base_uri": "https://localhost:8080/"
        },
        "id": "xcFoKnnA7WrS",
        "outputId": "32c7b95b-eb9d-4793-ce98-d710fa96d21d"
      },
      "source": [
        "pip install albumentations"
      ],
      "execution_count": 6,
      "outputs": [
        {
          "output_type": "stream",
          "text": [
            "Requirement already satisfied: albumentations in /usr/local/lib/python3.7/dist-packages (0.1.12)\n",
            "Requirement already satisfied: scipy in /usr/local/lib/python3.7/dist-packages (from albumentations) (1.4.1)\n",
            "Collecting imgaug<0.2.7,>=0.2.5\n",
            "\u001b[?25l  Downloading https://files.pythonhosted.org/packages/ad/2e/748dbb7bb52ec8667098bae9b585f448569ae520031932687761165419a2/imgaug-0.2.6.tar.gz (631kB)\n",
            "\u001b[K     |████████████████████████████████| 634kB 8.3MB/s \n",
            "\u001b[?25hRequirement already satisfied: opencv-python in /usr/local/lib/python3.7/dist-packages (from albumentations) (4.1.2.30)\n",
            "Requirement already satisfied: numpy>=1.11.1 in /usr/local/lib/python3.7/dist-packages (from albumentations) (1.19.5)\n",
            "Requirement already satisfied: scikit-image>=0.11.0 in /usr/local/lib/python3.7/dist-packages (from imgaug<0.2.7,>=0.2.5->albumentations) (0.16.2)\n",
            "Requirement already satisfied: six in /usr/local/lib/python3.7/dist-packages (from imgaug<0.2.7,>=0.2.5->albumentations) (1.15.0)\n",
            "Requirement already satisfied: PyWavelets>=0.4.0 in /usr/local/lib/python3.7/dist-packages (from scikit-image>=0.11.0->imgaug<0.2.7,>=0.2.5->albumentations) (1.1.1)\n",
            "Requirement already satisfied: imageio>=2.3.0 in /usr/local/lib/python3.7/dist-packages (from scikit-image>=0.11.0->imgaug<0.2.7,>=0.2.5->albumentations) (2.4.1)\n",
            "Requirement already satisfied: matplotlib!=3.0.0,>=2.0.0 in /usr/local/lib/python3.7/dist-packages (from scikit-image>=0.11.0->imgaug<0.2.7,>=0.2.5->albumentations) (3.2.2)\n",
            "Requirement already satisfied: networkx>=2.0 in /usr/local/lib/python3.7/dist-packages (from scikit-image>=0.11.0->imgaug<0.2.7,>=0.2.5->albumentations) (2.5.1)\n",
            "Requirement already satisfied: pillow>=4.3.0 in /usr/local/lib/python3.7/dist-packages (from scikit-image>=0.11.0->imgaug<0.2.7,>=0.2.5->albumentations) (7.1.2)\n",
            "Requirement already satisfied: kiwisolver>=1.0.1 in /usr/local/lib/python3.7/dist-packages (from matplotlib!=3.0.0,>=2.0.0->scikit-image>=0.11.0->imgaug<0.2.7,>=0.2.5->albumentations) (1.3.1)\n",
            "Requirement already satisfied: pyparsing!=2.0.4,!=2.1.2,!=2.1.6,>=2.0.1 in /usr/local/lib/python3.7/dist-packages (from matplotlib!=3.0.0,>=2.0.0->scikit-image>=0.11.0->imgaug<0.2.7,>=0.2.5->albumentations) (2.4.7)\n",
            "Requirement already satisfied: cycler>=0.10 in /usr/local/lib/python3.7/dist-packages (from matplotlib!=3.0.0,>=2.0.0->scikit-image>=0.11.0->imgaug<0.2.7,>=0.2.5->albumentations) (0.10.0)\n",
            "Requirement already satisfied: python-dateutil>=2.1 in /usr/local/lib/python3.7/dist-packages (from matplotlib!=3.0.0,>=2.0.0->scikit-image>=0.11.0->imgaug<0.2.7,>=0.2.5->albumentations) (2.8.1)\n",
            "Requirement already satisfied: decorator<5,>=4.3 in /usr/local/lib/python3.7/dist-packages (from networkx>=2.0->scikit-image>=0.11.0->imgaug<0.2.7,>=0.2.5->albumentations) (4.4.2)\n",
            "Building wheels for collected packages: imgaug\n",
            "  Building wheel for imgaug (setup.py) ... \u001b[?25l\u001b[?25hdone\n",
            "  Created wheel for imgaug: filename=imgaug-0.2.6-cp37-none-any.whl size=654019 sha256=00af5a549f099463fd29fba1fd71d76edb8099330aca3ce864d924af10328dd4\n",
            "  Stored in directory: /root/.cache/pip/wheels/97/ec/48/0d25896c417b715af6236dbcef8f0bed136a1a5e52972fc6d0\n",
            "Successfully built imgaug\n",
            "Installing collected packages: imgaug\n",
            "  Found existing installation: imgaug 0.2.9\n",
            "    Uninstalling imgaug-0.2.9:\n",
            "      Successfully uninstalled imgaug-0.2.9\n",
            "Successfully installed imgaug-0.2.6\n"
          ],
          "name": "stdout"
        }
      ]
    },
    {
      "cell_type": "code",
      "metadata": {
        "id": "Nk_gLhuY7Wta"
      },
      "source": [
        "import time\n",
        "import os\n",
        "import copy\n",
        "import re\n",
        "import shutil\n",
        "import pydicom\n",
        "import pytesseract\n",
        "import cv2\n",
        "import numpy as np\n",
        "import pandas as pd\n",
        "from matplotlib import pyplot as plt\n",
        "import torch\n",
        "import torch.nn as nn\n",
        "import torch.nn.functional as F\n",
        "import torch.optim as optim\n",
        "from torchvision import datasets, models, transforms\n",
        "from torch.utils.data import Dataset, DataLoader\n",
        "from sklearn.metrics import precision_score, recall_score, f1_score, roc_curve, auc\n",
        "import albumentations as A\n",
        "from albumentations.pytorch import ToTensor\n",
        "from scipy import interp"
      ],
      "execution_count": 7,
      "outputs": []
    },
    {
      "cell_type": "code",
      "metadata": {
        "colab": {
          "base_uri": "https://localhost:8080/"
        },
        "id": "_21HMG4i7Wvg",
        "outputId": "45d84eed-cc7c-4e5e-c057-3a805a2f6a8c"
      },
      "source": [
        "device = torch.device(\"cuda:0\" if torch.cuda.is_available() else \"cpu\")\n",
        "device"
      ],
      "execution_count": 8,
      "outputs": [
        {
          "output_type": "execute_result",
          "data": {
            "text/plain": [
              "device(type='cuda', index=0)"
            ]
          },
          "metadata": {
            "tags": []
          },
          "execution_count": 8
        }
      ]
    },
    {
      "cell_type": "code",
      "metadata": {
        "id": "vg1kRjhS7Wxh"
      },
      "source": [
        "class ImageDataset(Dataset):\n",
        "  def __init__(self, df, transform=None):\n",
        "    self.df = df\n",
        "    self.transform = transform         \n",
        "  \n",
        "  def __len__(self):\n",
        "    return len(self.df)\n",
        "\n",
        "  def __getitem__(self, idx):\n",
        "    img_name = self.df.iloc[idx,0]\n",
        "    data = pydicom.dcmread(img_name) # read dicom file\n",
        "    arr = data.pixel_array # read image into pixel data\n",
        "    shape = arr.shape\n",
        "    if len(shape) == 4:\n",
        "      arr = arr[0,:,:,0] # get the first slide of image\n",
        "    elif len(shape) == 3:\n",
        "      arr = arr[:,:,0] # get the first slide of image\n",
        "    else:\n",
        "      arr = arr\n",
        "    image = cv2.cvtColor(arr, cv2.COLOR_BGR2RGB)\n",
        "\n",
        "    labels = np.array(self.df.drop(['image_name'],axis=1))\n",
        "    label = labels[idx]\n",
        "\n",
        "    if self.transform:\n",
        "      image = self.transform(image=image)[\"image\"]\n",
        "    \n",
        "    return image, label"
      ],
      "execution_count": 9,
      "outputs": []
    },
    {
      "cell_type": "code",
      "metadata": {
        "id": "jdONTcfg7Wzg"
      },
      "source": [
        "from sklearn.model_selection import train_test_split\n",
        "\n",
        "df = pd.read_csv(\"/content/drive/MyDrive/Data_testing/file_names.csv\")\n",
        "\n",
        "means = (0.485, 0.456, 0.406)\n",
        "stds = (0.229, 0.224, 0.225)\n",
        "\n",
        "albumentation_train_transform = A.Compose([\n",
        "                                      A.Resize(256,256),\n",
        "                                      A.ShiftScaleRotate(shift_limit=0.05, scale_limit=0.05, rotate_limit=15, p=0.5),\n",
        "                                      A.RandomCrop(height=224, width=224),\n",
        "                                      A.RGBShift(r_shift_limit=15, g_shift_limit=15, b_shift_limit=15, p=0.5),\n",
        "                                      A.RandomBrightnessContrast(p=0.5),\n",
        "                                      A.Normalize(mean=means, std=stds),\n",
        "                                      ToTensor(),\n",
        "                                    ])\n",
        "albumentation_val_transform = A.Compose([\n",
        "                                      A.Resize(256,256),\n",
        "                                      A.CenterCrop(height=224, width=224),\n",
        "                                      A.Normalize(mean=means, std=stds),\n",
        "                                      ToTensor(),\n",
        "                                  ])\n",
        "\n",
        "(train_df, val_df) = train_test_split(df, test_size = 0.4)\n",
        "(val_df, test_df) = train_test_split(val_df, test_size = 0.5)\n",
        "\n",
        "train_dataset = ImageDataset(train_df, transform=albumentation_train_transform)\n",
        "val_dataset = ImageDataset(val_df, transform=albumentation_val_transform)\n",
        "test_dataset = ImageDataset(test_df, transform=albumentation_val_transform)\n",
        "\n",
        "batch_num = 64\n",
        "\n",
        "train_dataloader = DataLoader(train_dataset, batch_size=batch_num, shuffle=True, num_workers=2, pin_memory=True)\n",
        "val_dataloader = DataLoader(val_dataset, batch_size=batch_num//4, shuffle=False, num_workers=2, pin_memory=True)\n",
        "test_dataloader = DataLoader(test_dataset, batch_size=batch_num//4, shuffle=False, num_workers=2, pin_memory=True)"
      ],
      "execution_count": 10,
      "outputs": []
    },
    {
      "cell_type": "code",
      "metadata": {
        "id": "MBrRBfRw7W1w"
      },
      "source": [
        "class SimpleCNN(torch.nn.Module):\n",
        "  def __init__(self):\n",
        "    super(SimpleCNN, self).__init__()\n",
        "    self.ConvLayer1 = nn.Sequential(\n",
        "        nn.Conv2d(in_channels=3, out_channels=32, kernel_size=3), \n",
        "        nn.ReLU(inplace=True),\n",
        "        nn.MaxPool2d(kernel_size=2, stride=2),\n",
        "    )\n",
        "    self.ConvLayer2 = nn.Sequential(\n",
        "        nn.Conv2d(in_channels=32, out_channels=64, kernel_size=3), \n",
        "        nn.ReLU(inplace=True), \n",
        "        nn.MaxPool2d(kernel_size=2, stride=2),  \n",
        "    )\n",
        "    self.ConvLayer3 = nn.Sequential(\n",
        "        nn.Conv2d(in_channels=64, out_channels=128, kernel_size=3), \n",
        "        nn.ReLU(inplace=True),   \n",
        "        nn.MaxPool2d(kernel_size=2, stride=2),                                          \n",
        "    )\n",
        "\n",
        "    self.linear1 = nn.Linear(128*26*26, 4096)\n",
        "    self.linear2 = nn.Linear(4096, 1024)\n",
        "    self.linear3 = nn.Linear(1024, 4)\n",
        "    self.sigmoid = nn.Sigmoid()\n",
        "    self.relu = nn.ReLU(inplace=True)\n",
        "\n",
        "  def forward(self, x):\n",
        "    x = self.ConvLayer1(x)\n",
        "    x = self.ConvLayer2(x)\n",
        "    x = self.ConvLayer3(x)\n",
        "    x = x.view(x.size(0),-1)\n",
        "    x = self.relu(self.linear1(x))\n",
        "    x = self.relu(self.linear2(x))\n",
        "    x = self.linear3(x)\n",
        "    x = self.sigmoid(x)\n",
        "\n",
        "    return x"
      ],
      "execution_count": 11,
      "outputs": []
    },
    {
      "cell_type": "code",
      "metadata": {
        "id": "MSQbM1FA8mvK"
      },
      "source": [
        "def calculate_metrics(pred, label):  \n",
        "  return {\n",
        "      \"micro_f1\":f1_score(y_true=label, y_pred=pred, average='micro'),\n",
        "      \"macro_f1\":f1_score(y_true=label, y_pred=pred, average='macro'),\n",
        "  }"
      ],
      "execution_count": 12,
      "outputs": []
    },
    {
      "cell_type": "code",
      "metadata": {
        "id": "iUmxhqHI8pFp"
      },
      "source": [
        "def train_model(train_dataloader, val_dataloader, optimizer, criterion, net, threshold, num_epochs):\n",
        "  since = time.time()\n",
        "\n",
        "  tot_train_loss = []\n",
        "  tot_val_loss = []\n",
        "\n",
        "  tot_train_acc = []\n",
        "  tot_val_acc = []\n",
        "  \n",
        "  for epoch in range(num_epochs-1):\n",
        "    print(\"Epoch: {}/{}\".format(epoch, num_epochs-1))\n",
        "    print('-' * 10)\n",
        "\n",
        "    net.train()\n",
        "    \n",
        "    train_running_loss = 0.0\n",
        "    train_loss_values = []\n",
        "\n",
        "    train_outputs = []\n",
        "    train_labels = []\n",
        "\n",
        "    for idx, data in enumerate(train_dataloader):\n",
        "      img, label = data\n",
        "      img = img.to(device)\n",
        "      label = label.to(device)\n",
        "\n",
        "      optimizer.zero_grad()\n",
        "\n",
        "      outputs = net(img)\n",
        "      loss = criterion(outputs, label.type(torch.float))\n",
        "\n",
        "      pred = outputs.data > threshold\n",
        "      pred = pred.type(torch.float)\n",
        "\n",
        "      loss.backward()\n",
        "      optimizer.step()\n",
        "      \n",
        "      train_loss_values.append(loss.item())\n",
        "      train_running_loss += loss.item()\n",
        "\n",
        "      train_outputs.extend(pred.cpu().to(torch.int).numpy())\n",
        "      train_labels.extend(label.cpu().to(torch.int).numpy())\n",
        "\n",
        "    train_result = calculate_metrics(np.array(train_outputs), np.array(train_labels))\n",
        "\n",
        "    net.eval()\n",
        "\n",
        "    validation_running_loss = 0.0\n",
        "    val_loss_values = []\n",
        "\n",
        "    with torch.no_grad():\n",
        "      val_outputs = []\n",
        "      val_labels = []\n",
        "      for val_idx, val_data in enumerate(val_dataloader):\n",
        "        val_img, val_label = val_data\n",
        "        val_img = val_img.to(device) \n",
        "        val_label = val_label.to(device)\n",
        "\n",
        "        val_output = net(val_img)\n",
        "\n",
        "        val_loss = criterion(val_output, val_label.type(torch.float))\n",
        "\n",
        "        val_pred = val_output.data > threshold\n",
        "        val_pred = val_pred.type(torch.float)\n",
        "\n",
        "        val_outputs.extend(val_pred.cpu().to(torch.int).numpy())\n",
        "        val_labels.extend(val_label.cpu().to(torch.int).numpy())\n",
        "\n",
        "        val_loss_values.append(val_loss.item())\n",
        "        validation_running_loss += val_loss.item()\n",
        "\n",
        "    val_result = calculate_metrics(np.array(val_outputs), np.array(val_labels))\n",
        "\n",
        "    final_train_loss = train_running_loss/len(train_dataloader)\n",
        "    final_test_loss = validation_running_loss/len(val_dataloader)\n",
        "\n",
        "    tot_train_loss.append(final_train_loss)\n",
        "    tot_val_loss.append(final_test_loss)\n",
        "\n",
        "    tot_train_acc.append(train_result)\n",
        "    tot_val_acc.append(val_result)\n",
        "\n",
        "    print(\"train loss: {}\".format(final_train_loss))\n",
        "    print(\"validation loss: {}\".format(final_test_loss))\n",
        "    print(\"train accuracy:\\n\",train_result)\n",
        "    print(\"validation accuracy:\\n\",val_result)\n",
        "    print()\n",
        "\n",
        "  tot_time = time.time() - since\n",
        "  print('Training complete in {:.0f}m {:.0f}s'.format(tot_time // 60, tot_time % 60))\n",
        "\n",
        "  return net, tot_train_loss, tot_val_loss, tot_train_acc, tot_val_acc "
      ],
      "execution_count": 13,
      "outputs": []
    },
    {
      "cell_type": "code",
      "metadata": {
        "id": "ce1F6k5O8qjp"
      },
      "source": [
        "# Using ImageNet Classification with Deep Convolutional Neural Networks\n",
        "network = SimpleCNN()\n",
        "network = network.to(device)\n",
        "criterion = torch.nn.BCELoss()\n",
        "optimizer = optim.Adam(network.parameters(), lr=0.00001)"
      ],
      "execution_count": 14,
      "outputs": []
    },
    {
      "cell_type": "code",
      "metadata": {
        "colab": {
          "base_uri": "https://localhost:8080/"
        },
        "id": "AOTgNVns8sC5",
        "outputId": "97e34fc2-b81a-410f-c864-9877c47428cb"
      },
      "source": [
        "train_ft, Baseline_CNN_train_loss, Baseline_CNN_val_loss, Baseline_CNN_train_result, Baseline_CNN_val_result = train_model(train_dataloader, val_dataloader, optimizer, criterion, network, 0.5, 41)"
      ],
      "execution_count": 15,
      "outputs": [
        {
          "output_type": "stream",
          "text": [
            "Epoch: 0/40\n",
            "----------\n",
            "train loss: 0.6167484584607577\n",
            "validation loss: 0.6123507404327393\n",
            "train accuracy:\n",
            " {'micro_f1': 0.5615538417594973, 'macro_f1': 0.27356848538886713}\n",
            "validation accuracy:\n",
            " {'micro_f1': 0.5355871886120998, 'macro_f1': 0.21811594202898552}\n",
            "\n",
            "Epoch: 1/40\n",
            "----------\n",
            "train loss: 0.5944167375564575\n",
            "validation loss: 0.6016377544403076\n",
            "train accuracy:\n",
            " {'micro_f1': 0.5563549160671462, 'macro_f1': 0.2213740458015267}\n",
            "validation accuracy:\n",
            " {'micro_f1': 0.5355871886120998, 'macro_f1': 0.21811594202898552}\n",
            "\n",
            "Epoch: 2/40\n",
            "----------\n",
            "train loss: 0.5857258878256145\n",
            "validation loss: 0.5889879763126373\n",
            "train accuracy:\n",
            " {'micro_f1': 0.568737120989108, 'macro_f1': 0.2570017431189623}\n",
            "validation accuracy:\n",
            " {'micro_f1': 0.546572934973638, 'macro_f1': 0.2431159420289855}\n",
            "\n",
            "Epoch: 3/40\n",
            "----------\n",
            "train loss: 0.5704721902546129\n",
            "validation loss: 0.5783360147476196\n",
            "train accuracy:\n",
            " {'micro_f1': 0.5799126637554585, 'macro_f1': 0.2821581383693005}\n",
            "validation accuracy:\n",
            " {'micro_f1': 0.5977011494252874, 'macro_f1': 0.34213169006048155}\n",
            "\n",
            "Epoch: 4/40\n",
            "----------\n",
            "train loss: 0.5489158159808109\n",
            "validation loss: 0.5523329615592957\n",
            "train accuracy:\n",
            " {'micro_f1': 0.6050847457627119, 'macro_f1': 0.33637147774811116}\n",
            "validation accuracy:\n",
            " {'micro_f1': 0.636085626911315, 'macro_f1': 0.3934468351701923}\n",
            "\n",
            "Epoch: 5/40\n",
            "----------\n",
            "train loss: 0.5245442453183626\n",
            "validation loss: 0.5112660348415374\n",
            "train accuracy:\n",
            " {'micro_f1': 0.6370010787486515, 'macro_f1': 0.4087206185796185}\n",
            "validation accuracy:\n",
            " {'micro_f1': 0.6692015209125475, 'macro_f1': 0.48380129663059623}\n",
            "\n",
            "Epoch: 6/40\n",
            "----------\n",
            "train loss: 0.4978230862241042\n",
            "validation loss: 0.4804150998592377\n",
            "train accuracy:\n",
            " {'micro_f1': 0.688084998735138, 'macro_f1': 0.533165370319932}\n",
            "validation accuracy:\n",
            " {'micro_f1': 0.7510853835021708, 'macro_f1': 0.6885287461531442}\n",
            "\n",
            "Epoch: 7/40\n",
            "----------\n",
            "train loss: 0.48282068654110555\n",
            "validation loss: 0.45519351720809936\n",
            "train accuracy:\n",
            " {'micro_f1': 0.7279920870425323, 'macro_f1': 0.6364031140982391}\n",
            "validation accuracy:\n",
            " {'micro_f1': 0.7815428983417448, 'macro_f1': 0.7364008578105413}\n",
            "\n",
            "Epoch: 8/40\n",
            "----------\n",
            "train loss: 0.4562516902622424\n",
            "validation loss: 0.43784992218017577\n",
            "train accuracy:\n",
            " {'micro_f1': 0.7519646365422397, 'macro_f1': 0.6874903829950729}\n",
            "validation accuracy:\n",
            " {'micro_f1': 0.7889908256880734, 'macro_f1': 0.7448776673050735}\n",
            "\n",
            "Epoch: 9/40\n",
            "----------\n",
            "train loss: 0.43826937518621745\n",
            "validation loss: 0.4187727415561676\n",
            "train accuracy:\n",
            " {'micro_f1': 0.7725736359246741, 'macro_f1': 0.7121751141914132}\n",
            "validation accuracy:\n",
            " {'micro_f1': 0.7957142857142857, 'macro_f1': 0.7593413810073892}\n",
            "\n",
            "Epoch: 10/40\n",
            "----------\n",
            "train loss: 0.43074479542280497\n",
            "validation loss: 0.4038077926635742\n",
            "train accuracy:\n",
            " {'micro_f1': 0.7735803070923715, 'macro_f1': 0.7205060921121302}\n",
            "validation accuracy:\n",
            " {'micro_f1': 0.7908309455587393, 'macro_f1': 0.7494114704315233}\n",
            "\n",
            "Epoch: 11/40\n",
            "----------\n",
            "train loss: 0.41667619347572327\n",
            "validation loss: 0.4214958429336548\n",
            "train accuracy:\n",
            " {'micro_f1': 0.7734412184673966, 'macro_f1': 0.7274831942159616}\n",
            "validation accuracy:\n",
            " {'micro_f1': 0.7890410958904109, 'macro_f1': 0.7438580189664257}\n",
            "\n",
            "Epoch: 12/40\n",
            "----------\n",
            "train loss: 0.40916011992253754\n",
            "validation loss: 0.39450389266014096\n",
            "train accuracy:\n",
            " {'micro_f1': 0.776843622387701, 'macro_f1': 0.7293663116062987}\n",
            "validation accuracy:\n",
            " {'micro_f1': 0.8084815321477429, 'macro_f1': 0.7752586092221352}\n",
            "\n",
            "Epoch: 13/40\n",
            "----------\n",
            "train loss: 0.4004416120679755\n",
            "validation loss: 0.3779339408874512\n",
            "train accuracy:\n",
            " {'micro_f1': 0.7883457741391765, 'macro_f1': 0.7445470035213911}\n",
            "validation accuracy:\n",
            " {'micro_f1': 0.8051948051948052, 'macro_f1': 0.7677371178939429}\n",
            "\n",
            "Epoch: 14/40\n",
            "----------\n",
            "train loss: 0.3881818228646329\n",
            "validation loss: 0.37266542911529543\n",
            "train accuracy:\n",
            " {'micro_f1': 0.798462647129474, 'macro_f1': 0.75888568711653}\n",
            "validation accuracy:\n",
            " {'micro_f1': 0.8138222849083216, 'macro_f1': 0.7828189067360936}\n",
            "\n",
            "Epoch: 15/40\n",
            "----------\n",
            "train loss: 0.3826928452441567\n",
            "validation loss: 0.36447621941566466\n",
            "train accuracy:\n",
            " {'micro_f1': 0.7980997624703089, 'macro_f1': 0.760514069359673}\n",
            "validation accuracy:\n",
            " {'micro_f1': 0.8140703517587939, 'macro_f1': 0.7793147780542168}\n",
            "\n",
            "Epoch: 16/40\n",
            "----------\n",
            "train loss: 0.3800026021505657\n",
            "validation loss: 0.35674680173397066\n",
            "train accuracy:\n",
            " {'micro_f1': 0.8006668254346272, 'macro_f1': 0.7643995975175635}\n",
            "validation accuracy:\n",
            " {'micro_f1': 0.8129496402877697, 'macro_f1': 0.7791229516793674}\n",
            "\n",
            "Epoch: 17/40\n",
            "----------\n",
            "train loss: 0.37499531789829854\n",
            "validation loss: 0.3695540988445282\n",
            "train accuracy:\n",
            " {'micro_f1': 0.7965492451473759, 'macro_f1': 0.7570284716371402}\n",
            "validation accuracy:\n",
            " {'micro_f1': 0.8132956152758134, 'macro_f1': 0.7767542053967393}\n",
            "\n",
            "Epoch: 18/40\n",
            "----------\n",
            "train loss: 0.36880695349291753\n",
            "validation loss: 0.35395596027374265\n",
            "train accuracy:\n",
            " {'micro_f1': 0.8030231459612659, 'macro_f1': 0.7653065170783528}\n",
            "validation accuracy:\n",
            " {'micro_f1': 0.8198133524766691, 'macro_f1': 0.7873702918438159}\n",
            "\n",
            "Epoch: 19/40\n",
            "----------\n",
            "train loss: 0.3685800919407292\n",
            "validation loss: 0.34856496393680575\n",
            "train accuracy:\n",
            " {'micro_f1': 0.7975990396158464, 'macro_f1': 0.7597112389835208}\n",
            "validation accuracy:\n",
            " {'micro_f1': 0.8152777777777778, 'macro_f1': 0.785193318207813}\n",
            "\n",
            "Epoch: 20/40\n",
            "----------\n",
            "train loss: 0.3680191165522525\n",
            "validation loss: 0.3371224236488342\n",
            "train accuracy:\n",
            " {'micro_f1': 0.8098859315589354, 'macro_f1': 0.7741750940613348}\n",
            "validation accuracy:\n",
            " {'micro_f1': 0.8359486447931528, 'macro_f1': 0.810592321545569}\n",
            "\n",
            "Epoch: 21/40\n",
            "----------\n",
            "train loss: 0.3548905959254817\n",
            "validation loss: 0.36013409435749055\n",
            "train accuracy:\n",
            " {'micro_f1': 0.8155893536121674, 'macro_f1': 0.785064624604354}\n",
            "validation accuracy:\n",
            " {'micro_f1': 0.8252631578947368, 'macro_f1': 0.7920145860417354}\n",
            "\n",
            "Epoch: 22/40\n",
            "----------\n",
            "train loss: 0.3587175105747424\n",
            "validation loss: 0.3302713048458099\n",
            "train accuracy:\n",
            " {'micro_f1': 0.8035882908404155, 'macro_f1': 0.7692919280824753}\n",
            "validation accuracy:\n",
            " {'micro_f1': 0.8426966292134832, 'macro_f1': 0.8212844254819093}\n",
            "\n",
            "Epoch: 23/40\n",
            "----------\n",
            "train loss: 0.35116942305313914\n",
            "validation loss: 0.32830820500850677\n",
            "train accuracy:\n",
            " {'micro_f1': 0.8197577772500594, 'macro_f1': 0.7899058416617725}\n",
            "validation accuracy:\n",
            " {'micro_f1': 0.8347457627118644, 'macro_f1': 0.8085915047275135}\n",
            "\n",
            "Epoch: 24/40\n",
            "----------\n",
            "train loss: 0.3448421327691329\n",
            "validation loss: 0.33147272348403933\n",
            "train accuracy:\n",
            " {'micro_f1': 0.8179034157832745, 'macro_f1': 0.7860987823075184}\n",
            "validation accuracy:\n",
            " {'micro_f1': 0.8375350140056022, 'macro_f1': 0.8121808006723654}\n",
            "\n",
            "Epoch: 25/40\n",
            "----------\n",
            "train loss: 0.33897727884744344\n",
            "validation loss: 0.32518869698047637\n",
            "train accuracy:\n",
            " {'micro_f1': 0.8200142281242591, 'macro_f1': 0.7878814833052997}\n",
            "validation accuracy:\n",
            " {'micro_f1': 0.8369098712446351, 'macro_f1': 0.8090180075996127}\n",
            "\n",
            "Epoch: 26/40\n",
            "----------\n",
            "train loss: 0.33543705626537923\n",
            "validation loss: 0.31511987566947935\n",
            "train accuracy:\n",
            " {'micro_f1': 0.8180300500834724, 'macro_f1': 0.78678838185731}\n",
            "validation accuracy:\n",
            " {'micro_f1': 0.8417317246273954, 'macro_f1': 0.8190159864253443}\n",
            "\n",
            "Epoch: 27/40\n",
            "----------\n",
            "train loss: 0.3499737915239836\n",
            "validation loss: 0.32037047028541565\n",
            "train accuracy:\n",
            " {'micro_f1': 0.8106956933270232, 'macro_f1': 0.7790363697536498}\n",
            "validation accuracy:\n",
            " {'micro_f1': 0.8302687411598302, 'macro_f1': 0.8027051210189169}\n",
            "\n",
            "Epoch: 28/40\n",
            "----------\n",
            "train loss: 0.34301524570113734\n",
            "validation loss: 0.3135070300102234\n",
            "train accuracy:\n",
            " {'micro_f1': 0.819362455726092, 'macro_f1': 0.7885626148062812}\n",
            "validation accuracy:\n",
            " {'micro_f1': 0.8456284153005463, 'macro_f1': 0.8264136635008092}\n",
            "\n",
            "Epoch: 29/40\n",
            "----------\n",
            "train loss: 0.32084681328974274\n",
            "validation loss: 0.31550770580768583\n",
            "train accuracy:\n",
            " {'micro_f1': 0.8345458812485332, 'macro_f1': 0.8087015295236459}\n",
            "validation accuracy:\n",
            " {'micro_f1': 0.8367783321454028, 'macro_f1': 0.8091698526181224}\n",
            "\n",
            "Epoch: 30/40\n",
            "----------\n",
            "train loss: 0.3258683775600634\n",
            "validation loss: 0.31283000588417054\n",
            "train accuracy:\n",
            " {'micro_f1': 0.8253068932955618, 'macro_f1': 0.7963068133645838}\n",
            "validation accuracy:\n",
            " {'micro_f1': 0.8432203389830509, 'macro_f1': 0.8194877628832424}\n",
            "\n",
            "Epoch: 31/40\n",
            "----------\n",
            "train loss: 0.33101368577856766\n",
            "validation loss: 0.3102095705270767\n",
            "train accuracy:\n",
            " {'micro_f1': 0.8236127508854781, 'macro_f1': 0.7949715086183928}\n",
            "validation accuracy:\n",
            " {'micro_f1': 0.844475721323012, 'macro_f1': 0.8214698772800106}\n",
            "\n",
            "Epoch: 32/40\n",
            "----------\n",
            "train loss: 0.32890964495508296\n",
            "validation loss: 0.3161351728439331\n",
            "train accuracy:\n",
            " {'micro_f1': 0.8291647003303445, 'macro_f1': 0.8021282776895886}\n",
            "validation accuracy:\n",
            " {'micro_f1': 0.8371767994409504, 'macro_f1': 0.8114098468629526}\n",
            "\n",
            "Epoch: 33/40\n",
            "----------\n",
            "train loss: 0.3314278298302701\n",
            "validation loss: 0.3191144472360611\n",
            "train accuracy:\n",
            " {'micro_f1': 0.821768060836502, 'macro_f1': 0.7926293093737209}\n",
            "validation accuracy:\n",
            " {'micro_f1': 0.8438584316446912, 'macro_f1': 0.820675015870899}\n",
            "\n",
            "Epoch: 34/40\n",
            "----------\n",
            "train loss: 0.32915137316051285\n",
            "validation loss: 0.3055436497926712\n",
            "train accuracy:\n",
            " {'micro_f1': 0.8202352941176471, 'macro_f1': 0.7912141124725508}\n",
            "validation accuracy:\n",
            " {'micro_f1': 0.8503162333099087, 'macro_f1': 0.8272829411582102}\n",
            "\n",
            "Epoch: 35/40\n",
            "----------\n",
            "train loss: 0.3133858567789981\n",
            "validation loss: 0.3042587226629257\n",
            "train accuracy:\n",
            " {'micro_f1': 0.8360462373201227, 'macro_f1': 0.8097168792734102}\n",
            "validation accuracy:\n",
            " {'micro_f1': 0.8524822695035461, 'macro_f1': 0.8296970270254969}\n",
            "\n",
            "Epoch: 36/40\n",
            "----------\n",
            "train loss: 0.33462491631507874\n",
            "validation loss: 0.30470602214336395\n",
            "train accuracy:\n",
            " {'micro_f1': 0.8243052284503063, 'macro_f1': 0.7957427397681509}\n",
            "validation accuracy:\n",
            " {'micro_f1': 0.8484419263456091, 'macro_f1': 0.8247254270414207}\n",
            "\n",
            "Epoch: 37/40\n",
            "----------\n",
            "train loss: 0.33150923252105713\n",
            "validation loss: 0.30592991173267364\n",
            "train accuracy:\n",
            " {'micro_f1': 0.8230550284629982, 'macro_f1': 0.7937579885753971}\n",
            "validation accuracy:\n",
            " {'micro_f1': 0.8401433691756273, 'macro_f1': 0.8122881850175849}\n",
            "\n",
            "Epoch: 38/40\n",
            "----------\n",
            "train loss: 0.32789504371191325\n",
            "validation loss: 0.3014392977952957\n",
            "train accuracy:\n",
            " {'micro_f1': 0.8255539839698255, 'macro_f1': 0.7981727227069461}\n",
            "validation accuracy:\n",
            " {'micro_f1': 0.8460987831066571, 'macro_f1': 0.8209662334235628}\n",
            "\n",
            "Epoch: 39/40\n",
            "----------\n",
            "train loss: 0.31054145254586873\n",
            "validation loss: 0.30146106660366057\n",
            "train accuracy:\n",
            " {'micro_f1': 0.8365090566925428, 'macro_f1': 0.8104026087749607}\n",
            "validation accuracy:\n",
            " {'micro_f1': 0.8443157132512673, 'macro_f1': 0.8164697372389441}\n",
            "\n",
            "Training complete in 15m 40s\n"
          ],
          "name": "stdout"
        }
      ]
    },
    {
      "cell_type": "code",
      "metadata": {
        "id": "8ZKJF2xn9MyW",
        "colab": {
          "base_uri": "https://localhost:8080/",
          "height": 295
        },
        "outputId": "21ebd837-810d-4290-e8e6-9d5a995f6d20"
      },
      "source": [
        "plt.plot(Baseline_CNN_train_loss, label='Train Loss')\n",
        "plt.plot(Baseline_CNN_val_loss, label='Validation Loss')\n",
        "plt.legend()\n",
        "plt.title(\"Loss curves\")\n",
        "plt.xlabel(\"Epoch\")\n",
        "plt.ylabel(\"Loss\")\n",
        "plt.grid()"
      ],
      "execution_count": 16,
      "outputs": [
        {
          "output_type": "display_data",
          "data": {
            "image/png": "[encoded data removed]",
            "text/plain": [
              "<Figure size 432x288 with 1 Axes>"
            ]
          },
          "metadata": {
            "tags": [],
            "needs_background": "light"
          }
        }
      ]
    },
    {
      "cell_type": "code",
      "metadata": {
        "id": "KfPq0qOt9Xbv",
        "colab": {
          "base_uri": "https://localhost:8080/",
          "height": 295
        },
        "outputId": "1fc639cf-ba9d-4f14-af29-44133197eec3"
      },
      "source": [
        "a = []\n",
        "b = []\n",
        "for result in Baseline_CNN_train_result:\n",
        "  a.append(result[\"micro_f1\"]*100)\n",
        "\n",
        "for result in Baseline_CNN_val_result:\n",
        "  b.append(result[\"micro_f1\"]*100)\n",
        "\n",
        "plt.plot(a, label='Train Accuracy')\n",
        "plt.plot(b, label='Validation Accuracy')\n",
        "plt.legend()\n",
        "plt.title(\"Mirco-average F1 metric over 50 epochs\")\n",
        "plt.xlabel(\"Epoch\")\n",
        "plt.ylabel(\"Micro-average F1\")\n",
        "plt.grid()"
      ],
      "execution_count": 17,
      "outputs": [
        {
          "output_type": "display_data",
          "data": {
            "image/png": "[encoded data removed]",
            "text/plain": [
              "<Figure size 432x288 with 1 Axes>"
            ]
          },
          "metadata": {
            "tags": [],
            "needs_background": "light"
          }
        }
      ]
    },
    {
      "cell_type": "code",
      "metadata": {
        "id": "akFnyzCC9YnP",
        "colab": {
          "base_uri": "https://localhost:8080/",
          "height": 295
        },
        "outputId": "b0a92484-c68f-4fa9-ba33-7ead767078e9"
      },
      "source": [
        "a = []\n",
        "b = []\n",
        "for result in Baseline_CNN_train_result:\n",
        "  a.append(result[\"macro_f1\"]*100)\n",
        "\n",
        "for result in Baseline_CNN_val_result:\n",
        "  b.append(result[\"macro_f1\"]*100)\n",
        "\n",
        "plt.plot(a, label='Train Accuracy')\n",
        "plt.plot(b, label='Validation Accuracy')\n",
        "plt.legend()\n",
        "plt.title(\"Marco-average F1 metric over 50 epochs\")\n",
        "plt.xlabel(\"Epoch\")\n",
        "plt.ylabel(\"Macro-average F1\")\n",
        "plt.grid()"
      ],
      "execution_count": 18,
      "outputs": [
        {
          "output_type": "display_data",
          "data": {
            "image/png": "[encoded data removed]",
            "text/plain": [
              "<Figure size 432x288 with 1 Axes>"
            ]
          },
          "metadata": {
            "tags": [],
            "needs_background": "light"
          }
        }
      ]
    },
    {
      "cell_type": "code",
      "metadata": {
        "id": "VUNYTDKGHjx-"
      },
      "source": [
        "def test_model(test_dataloader, optimizer, criterion, net, threshold):\n",
        "  test_outputs = []\n",
        "  test_labels = []\n",
        "\n",
        "  net.eval()\n",
        "\n",
        "  for idx, data in enumerate(test_dataloader):\n",
        "    img, label = data\n",
        "    img = img.to(device)\n",
        "    label = label.to(device)\n",
        "\n",
        "    outputs = net(img)\n",
        "\n",
        "    pred = outputs.data > threshold\n",
        "    pred = pred.type(torch.float)\n",
        "      \n",
        "    test_outputs.extend(pred.cpu().to(torch.int).numpy())\n",
        "    test_labels.extend(label.cpu().to(torch.int).numpy())\n",
        "\n",
        "  test_result = calculate_metrics(np.array(test_outputs), np.array(test_labels))\n",
        "\n",
        "  return np.asarray(test_outputs), np.asarray(test_labels), test_result "
      ],
      "execution_count": 19,
      "outputs": []
    },
    {
      "cell_type": "code",
      "metadata": {
        "id": "QRSCRb_wHka1"
      },
      "source": [
        "Baseline_CNN_test_outputs, Baseline_CNN_test_labels, Baseline_CNN_test_result = test_model(test_dataloader, optimizer, criterion, train_ft, 0.5)"
      ],
      "execution_count": 20,
      "outputs": []
    },
    {
      "cell_type": "code",
      "metadata": {
        "colab": {
          "base_uri": "https://localhost:8080/"
        },
        "id": "24dN-Ksjm0yH",
        "outputId": "6f3685b4-a833-4605-9a0d-5dd581730122"
      },
      "source": [
        "Baseline_CNN_test_result"
      ],
      "execution_count": 21,
      "outputs": [
        {
          "output_type": "execute_result",
          "data": {
            "text/plain": [
              "{'macro_f1': 0.8113170163170162, 'micro_f1': 0.8383321141185076}"
            ]
          },
          "metadata": {
            "tags": []
          },
          "execution_count": 21
        }
      ]
    },
    {
      "cell_type": "code",
      "metadata": {
        "colab": {
          "base_uri": "https://localhost:8080/"
        },
        "id": "8yLHaXOvOW-_",
        "outputId": "9536ebad-7899-44c8-b889-ff5061c5f5de"
      },
      "source": [
        "fpr = dict()\n",
        "tpr = dict()\n",
        "roc_auc = dict()\n",
        "\n",
        "for idx in range(4):\n",
        "    fpr[idx], tpr[idx], _ = roc_curve(Baseline_CNN_test_labels[:, idx], Baseline_CNN_test_outputs[:, idx])\n",
        "    roc_auc[idx] = auc(fpr[idx], tpr[idx])\n",
        "\n",
        "fpr[\"micro\"], tpr[\"micro\"], _ = roc_curve(Baseline_CNN_test_labels.ravel(), Baseline_CNN_test_outputs.ravel())\n",
        "roc_auc[\"micro\"] = auc(fpr[\"micro\"], tpr[\"micro\"])\n",
        "\n",
        "all_fpr = np.unique(np.concatenate([fpr[i] for i in range(4)]))\n",
        "\n",
        "mean_tpr = np.zeros_like(all_fpr)\n",
        "for i in range(4):\n",
        "    mean_tpr += interp(all_fpr, fpr[i], tpr[i])\n",
        "\n",
        "mean_tpr /= 4\n",
        "\n",
        "fpr[\"macro\"] = all_fpr\n",
        "tpr[\"macro\"] = mean_tpr\n",
        "roc_auc[\"macro\"] = auc(fpr[\"macro\"], tpr[\"macro\"])"
      ],
      "execution_count": 22,
      "outputs": [
        {
          "output_type": "stream",
          "text": [
            "/usr/local/lib/python3.7/dist-packages/ipykernel_launcher.py:16: DeprecationWarning: scipy.interp is deprecated and will be removed in SciPy 2.0.0, use numpy.interp instead\n",
            "  app.launch_new_instance()\n"
          ],
          "name": "stderr"
        }
      ]
    },
    {
      "cell_type": "code",
      "metadata": {
        "colab": {
          "base_uri": "https://localhost:8080/",
          "height": 301
        },
        "id": "SPNJe3EjP0ie",
        "outputId": "9315463e-c713-4157-8350-3738c5cb6204"
      },
      "source": [
        "x = np.linspace(0,1)\n",
        "y = x\n",
        "plt.plot(x,y,linestyle=\"dashed\",color='black')\n",
        "plt.plot(fpr[\"micro\"], tpr[\"micro\"],\n",
        "         label='micro-average ROC curve (area = {0:0.2f})'.format(roc_auc[\"micro\"]))\n",
        "plt.plot(fpr[\"macro\"], tpr[\"macro\"],\n",
        "         label='macro-average ROC curve (area = {0:0.2f})'.format(roc_auc[\"macro\"]))\n",
        "plt.xlim([0,1])\n",
        "plt.ylim([0,1])\n",
        "plt.xlabel(\"False Positive Rate\")\n",
        "plt.ylabel(\"True Positive Rate\")\n",
        "plt.legend()"
      ],
      "execution_count": 23,
      "outputs": [
        {
          "output_type": "execute_result",
          "data": {
            "text/plain": [
              "<matplotlib.legend.Legend at 0x7f9a060c7a10>"
            ]
          },
          "metadata": {
            "tags": []
          },
          "execution_count": 23
        },
        {
          "output_type": "display_data",
          "data": {
            "image/png": "[encoded data removed]",
            "text/plain": [
              "<Figure size 432x288 with 1 Axes>"
            ]
          },
          "metadata": {
            "tags": [],
            "needs_background": "light"
          }
        }
      ]
    },
    {
      "cell_type": "code",
      "metadata": {
        "id": "jvFTj7yhdpF7"
      },
      "source": [
        "final_df = pd.DataFrame(data=Baseline_CNN_train_loss, columns=[\"BC_train_loss\"])\n",
        "final_df[\"BC_train_result_micro\"] = [data['micro_f1'] for data in Baseline_CNN_train_result]\n",
        "final_df[\"BC_train_result_macro\"] = [data['macro_f1'] for data in Baseline_CNN_train_result]\n",
        "final_df[\"BC_val_loss\"] = Baseline_CNN_val_loss\n",
        "final_df[\"BC_val_result_micro\"] = [data['micro_f1'] for data in Baseline_CNN_val_result]\n",
        "final_df[\"BC_val_result_macro\"] = [data['macro_f1'] for data in Baseline_CNN_val_result]\n",
        "\n",
        "final_df.to_csv(\"/content/drive/MyDrive/Output/BC_train\",index=False)"
      ],
      "execution_count": 24,
      "outputs": []
    },
    {
      "cell_type": "code",
      "metadata": {
        "id": "BhpN9YEtfIdD"
      },
      "source": [
        "final_df_train = pd.DataFrame(data=Baseline_CNN_test_labels, columns=[\"label1\",\"label2\",\"label3\",\"label4\"])\n",
        "final_df_train[\"pred1\"] = Baseline_CNN_test_outputs[:,0]\n",
        "final_df_train[\"pred2\"] = Baseline_CNN_test_outputs[:,1]\n",
        "final_df_train[\"pred3\"] = Baseline_CNN_test_outputs[:,2]\n",
        "final_df_train[\"pred4\"] = Baseline_CNN_test_outputs[:,3]\n",
        "\n",
        "final_df_train.to_csv(\"/content/drive/MyDrive/Output/BC_test\",index=False)"
      ],
      "execution_count": 25,
      "outputs": []
    },
    {
      "cell_type": "code",
      "metadata": {
        "id": "WeEdANMkbgyD"
      },
      "source": [
        ""
      ],
      "execution_count": 25,
      "outputs": []
    }
  ]
}