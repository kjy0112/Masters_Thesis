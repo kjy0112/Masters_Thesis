{
  "nbformat": 4,
  "nbformat_minor": 0,
  "metadata": {
    "colab": {
      "name": "UPenn_CNN.ipynb",
      "provenance": [],
      "collapsed_sections": [],
      "machine_shape": "hm"
    },
    "kernelspec": {
      "name": "python3",
      "display_name": "Python 3"
    },
    "language_info": {
      "name": "python"
    },
    "accelerator": "GPU"
  },
  "cells": [
    {
      "cell_type": "code",
      "metadata": {
        "colab": {
          "base_uri": "https://localhost:8080/"
        },
        "id": "yZIzJX8E7SQr",
        "outputId": "641216c2-3e05-426f-82ee-ec56c65e3ce1"
      },
      "source": [
        "from google.colab import drive\n",
        "drive.mount('/content/drive')"
      ],
      "execution_count": 2,
      "outputs": [
        {
          "output_type": "stream",
          "text": [
            "Drive already mounted at /content/drive; to attempt to forcibly remount, call drive.mount(\"/content/drive\", force_remount=True).\n"
          ],
          "name": "stdout"
        }
      ]
    },
    {
      "cell_type": "code",
      "metadata": {
        "colab": {
          "base_uri": "https://localhost:8080/"
        },
        "id": "_yd2D2lo7VcQ",
        "outputId": "87af0dfa-9a7e-4e1f-8d53-0e5cc93ba284"
      },
      "source": [
        "gpu_info = !nvidia-smi\n",
        "gpu_info = '\\n'.join(gpu_info)\n",
        "if gpu_info.find('failed') >= 0:\n",
        "  print('Select the Runtime > \"Change runtime type\" menu to enable a GPU accelerator, ')\n",
        "  print('and then re-execute this cell.')\n",
        "else:\n",
        "  print(gpu_info)"
      ],
      "execution_count": 3,
      "outputs": [
        {
          "output_type": "stream",
          "text": [
            "Sat May 15 23:11:09 2021       \n",
            "+-----------------------------------------------------------------------------+\n",
            "| NVIDIA-SMI 465.19.01    Driver Version: 460.32.03    CUDA Version: 11.2     |\n",
            "|-------------------------------+----------------------+----------------------+\n",
            "| GPU  Name        Persistence-M| Bus-Id        Disp.A | Volatile Uncorr. ECC |\n",
            "| Fan  Temp  Perf  Pwr:Usage/Cap|         Memory-Usage | GPU-Util  Compute M. |\n",
            "|                               |                      |               MIG M. |\n",
            "|===============================+======================+======================|\n",
            "|   0  Tesla P100-PCIE...  Off  | 00000000:00:04.0 Off |                    0 |\n",
            "| N/A   39C    P0    27W / 250W |      0MiB / 16280MiB |      0%      Default |\n",
            "|                               |                      |                  N/A |\n",
            "+-------------------------------+----------------------+----------------------+\n",
            "                                                                               \n",
            "+-----------------------------------------------------------------------------+\n",
            "| Processes:                                                                  |\n",
            "|  GPU   GI   CI        PID   Type   Process name                  GPU Memory |\n",
            "|        ID   ID                                                   Usage      |\n",
            "|=============================================================================|\n",
            "|  No running processes found                                                 |\n",
            "+-----------------------------------------------------------------------------+\n"
          ],
          "name": "stdout"
        }
      ]
    },
    {
      "cell_type": "code",
      "metadata": {
        "colab": {
          "base_uri": "https://localhost:8080/"
        },
        "id": "U27GGnYS7WlD",
        "outputId": "305b9d38-7e1e-42e4-e1d3-6cf35a6218b4"
      },
      "source": [
        "from psutil import virtual_memory\n",
        "ram_gb = virtual_memory().total / 1e9\n",
        "print('Your runtime has {:.1f} gigabytes of available RAM\\n'.format(ram_gb))\n",
        "\n",
        "if ram_gb < 20:\n",
        "  print('To enable a high-RAM runtime, select the Runtime > \"Change runtime type\"')\n",
        "  print('menu, and then select High-RAM in the Runtime shape dropdown. Then, ')\n",
        "  print('re-execute this cell.')\n",
        "else:\n",
        "  print('You are using a high-RAM runtime!')"
      ],
      "execution_count": 4,
      "outputs": [
        {
          "output_type": "stream",
          "text": [
            "Your runtime has 27.3 gigabytes of available RAM\n",
            "\n",
            "You are using a high-RAM runtime!\n"
          ],
          "name": "stdout"
        }
      ]
    },
    {
      "cell_type": "code",
      "metadata": {
        "colab": {
          "base_uri": "https://localhost:8080/"
        },
        "id": "6FZGYTkM7WnA",
        "outputId": "873e3960-0ac9-4bcc-886e-12ac1cf8a2f7"
      },
      "source": [
        "pip install pytesseract"
      ],
      "execution_count": 5,
      "outputs": [
        {
          "output_type": "stream",
          "text": [
            "Collecting pytesseract\n",
            "  Downloading https://files.pythonhosted.org/packages/a0/e6/a4e9fc8a93c1318540e8de6d8d4beb5749b7960388a7c7f27799fc2dd016/pytesseract-0.3.7.tar.gz\n",
            "Requirement already satisfied: Pillow in /usr/local/lib/python3.7/dist-packages (from pytesseract) (7.1.2)\n",
            "Building wheels for collected packages: pytesseract\n",
            "  Building wheel for pytesseract (setup.py) ... \u001b[?25l\u001b[?25hdone\n",
            "  Created wheel for pytesseract: filename=pytesseract-0.3.7-py2.py3-none-any.whl size=13945 sha256=c26e1c274a4dcc7cc118d42a268c7d5de9bcbb3b5be536ed927f68753581310e\n",
            "  Stored in directory: /root/.cache/pip/wheels/81/20/7e/1dd0daad1575d5260916bb1e9781246430647adaef4b3ca3b3\n",
            "Successfully built pytesseract\n",
            "Installing collected packages: pytesseract\n",
            "Successfully installed pytesseract-0.3.7\n"
          ],
          "name": "stdout"
        }
      ]
    },
    {
      "cell_type": "code",
      "metadata": {
        "colab": {
          "base_uri": "https://localhost:8080/"
        },
        "id": "IteOtJo67WpQ",
        "outputId": "986b2e73-b836-439b-e4d5-45f4c3c631c6"
      },
      "source": [
        "pip install pydicom"
      ],
      "execution_count": 6,
      "outputs": [
        {
          "output_type": "stream",
          "text": [
            "Collecting pydicom\n",
            "\u001b[?25l  Downloading https://files.pythonhosted.org/packages/f4/15/df16546bc59bfca390cf072d473fb2c8acd4231636f64356593a63137e55/pydicom-2.1.2-py3-none-any.whl (1.9MB)\n",
            "\u001b[K     |████████████████████████████████| 1.9MB 10.9MB/s \n",
            "\u001b[?25hInstalling collected packages: pydicom\n",
            "Successfully installed pydicom-2.1.2\n"
          ],
          "name": "stdout"
        }
      ]
    },
    {
      "cell_type": "code",
      "metadata": {
        "colab": {
          "base_uri": "https://localhost:8080/"
        },
        "id": "xcFoKnnA7WrS",
        "outputId": "c96f2131-957d-4e0b-d9bc-a79970cb1f1c"
      },
      "source": [
        "pip install albumentations"
      ],
      "execution_count": 7,
      "outputs": [
        {
          "output_type": "stream",
          "text": [
            "Requirement already satisfied: albumentations in /usr/local/lib/python3.7/dist-packages (0.1.12)\n",
            "Requirement already satisfied: scipy in /usr/local/lib/python3.7/dist-packages (from albumentations) (1.4.1)\n",
            "Collecting imgaug<0.2.7,>=0.2.5\n",
            "\u001b[?25l  Downloading https://files.pythonhosted.org/packages/ad/2e/748dbb7bb52ec8667098bae9b585f448569ae520031932687761165419a2/imgaug-0.2.6.tar.gz (631kB)\n",
            "\u001b[K     |████████████████████████████████| 634kB 8.0MB/s \n",
            "\u001b[?25hRequirement already satisfied: numpy>=1.11.1 in /usr/local/lib/python3.7/dist-packages (from albumentations) (1.19.5)\n",
            "Requirement already satisfied: opencv-python in /usr/local/lib/python3.7/dist-packages (from albumentations) (4.1.2.30)\n",
            "Requirement already satisfied: scikit-image>=0.11.0 in /usr/local/lib/python3.7/dist-packages (from imgaug<0.2.7,>=0.2.5->albumentations) (0.16.2)\n",
            "Requirement already satisfied: six in /usr/local/lib/python3.7/dist-packages (from imgaug<0.2.7,>=0.2.5->albumentations) (1.15.0)\n",
            "Requirement already satisfied: networkx>=2.0 in /usr/local/lib/python3.7/dist-packages (from scikit-image>=0.11.0->imgaug<0.2.7,>=0.2.5->albumentations) (2.5.1)\n",
            "Requirement already satisfied: imageio>=2.3.0 in /usr/local/lib/python3.7/dist-packages (from scikit-image>=0.11.0->imgaug<0.2.7,>=0.2.5->albumentations) (2.4.1)\n",
            "Requirement already satisfied: matplotlib!=3.0.0,>=2.0.0 in /usr/local/lib/python3.7/dist-packages (from scikit-image>=0.11.0->imgaug<0.2.7,>=0.2.5->albumentations) (3.2.2)\n",
            "Requirement already satisfied: PyWavelets>=0.4.0 in /usr/local/lib/python3.7/dist-packages (from scikit-image>=0.11.0->imgaug<0.2.7,>=0.2.5->albumentations) (1.1.1)\n",
            "Requirement already satisfied: pillow>=4.3.0 in /usr/local/lib/python3.7/dist-packages (from scikit-image>=0.11.0->imgaug<0.2.7,>=0.2.5->albumentations) (7.1.2)\n",
            "Requirement already satisfied: decorator<5,>=4.3 in /usr/local/lib/python3.7/dist-packages (from networkx>=2.0->scikit-image>=0.11.0->imgaug<0.2.7,>=0.2.5->albumentations) (4.4.2)\n",
            "Requirement already satisfied: kiwisolver>=1.0.1 in /usr/local/lib/python3.7/dist-packages (from matplotlib!=3.0.0,>=2.0.0->scikit-image>=0.11.0->imgaug<0.2.7,>=0.2.5->albumentations) (1.3.1)\n",
            "Requirement already satisfied: pyparsing!=2.0.4,!=2.1.2,!=2.1.6,>=2.0.1 in /usr/local/lib/python3.7/dist-packages (from matplotlib!=3.0.0,>=2.0.0->scikit-image>=0.11.0->imgaug<0.2.7,>=0.2.5->albumentations) (2.4.7)\n",
            "Requirement already satisfied: python-dateutil>=2.1 in /usr/local/lib/python3.7/dist-packages (from matplotlib!=3.0.0,>=2.0.0->scikit-image>=0.11.0->imgaug<0.2.7,>=0.2.5->albumentations) (2.8.1)\n",
            "Requirement already satisfied: cycler>=0.10 in /usr/local/lib/python3.7/dist-packages (from matplotlib!=3.0.0,>=2.0.0->scikit-image>=0.11.0->imgaug<0.2.7,>=0.2.5->albumentations) (0.10.0)\n",
            "Building wheels for collected packages: imgaug\n",
            "  Building wheel for imgaug (setup.py) ... \u001b[?25l\u001b[?25hdone\n",
            "  Created wheel for imgaug: filename=imgaug-0.2.6-cp37-none-any.whl size=654019 sha256=b451fdd5811a83f2254cb1dbadb44dcbb6a2be86f4d6609a9a491d7a8ad944d1\n",
            "  Stored in directory: /root/.cache/pip/wheels/97/ec/48/0d25896c417b715af6236dbcef8f0bed136a1a5e52972fc6d0\n",
            "Successfully built imgaug\n",
            "Installing collected packages: imgaug\n",
            "  Found existing installation: imgaug 0.2.9\n",
            "    Uninstalling imgaug-0.2.9:\n",
            "      Successfully uninstalled imgaug-0.2.9\n",
            "Successfully installed imgaug-0.2.6\n"
          ],
          "name": "stdout"
        }
      ]
    },
    {
      "cell_type": "code",
      "metadata": {
        "id": "Nk_gLhuY7Wta"
      },
      "source": [
        "import time\n",
        "import os\n",
        "import copy\n",
        "import re\n",
        "import shutil\n",
        "import pydicom\n",
        "import pytesseract\n",
        "import cv2\n",
        "import numpy as np\n",
        "import pandas as pd\n",
        "from matplotlib import pyplot as plt\n",
        "import torch\n",
        "import torch.nn as nn\n",
        "import torch.nn.functional as F\n",
        "import torch.optim as optim\n",
        "from torchvision import datasets, models, transforms\n",
        "from torch.utils.data import Dataset, DataLoader\n",
        "from sklearn.metrics import precision_score, recall_score, f1_score, roc_curve, auc\n",
        "import albumentations as A\n",
        "from albumentations.pytorch import ToTensor\n",
        "from scipy import interp"
      ],
      "execution_count": 8,
      "outputs": []
    },
    {
      "cell_type": "code",
      "metadata": {
        "colab": {
          "base_uri": "https://localhost:8080/"
        },
        "id": "_21HMG4i7Wvg",
        "outputId": "f672acd5-578b-4010-8eff-dd83d97ea144"
      },
      "source": [
        "device = torch.device(\"cuda:0\" if torch.cuda.is_available() else \"cpu\")\n",
        "device"
      ],
      "execution_count": 9,
      "outputs": [
        {
          "output_type": "execute_result",
          "data": {
            "text/plain": [
              "device(type='cuda', index=0)"
            ]
          },
          "metadata": {
            "tags": []
          },
          "execution_count": 9
        }
      ]
    },
    {
      "cell_type": "code",
      "metadata": {
        "id": "vg1kRjhS7Wxh"
      },
      "source": [
        "class ImageDataset(Dataset):\n",
        "  def __init__(self, df, transform=None):\n",
        "    self.df = df\n",
        "    self.transform = transform         \n",
        "  \n",
        "  def __len__(self):\n",
        "    return len(self.df)\n",
        "\n",
        "  def __getitem__(self, idx):\n",
        "    img_name = self.df.iloc[idx,0]\n",
        "    data = pydicom.dcmread(img_name) # read dicom file\n",
        "    arr = data.pixel_array # read image into pixel data\n",
        "    shape = arr.shape\n",
        "    if len(shape) == 4:\n",
        "      arr = arr[0,:,:,0] # get the first slide of image\n",
        "    elif len(shape) == 3:\n",
        "      arr = arr[:,:,0] # get the first slide of image\n",
        "    else:\n",
        "      arr = arr\n",
        "    image = cv2.cvtColor(arr, cv2.COLOR_BGR2RGB)\n",
        "\n",
        "    labels = np.array(self.df.drop(['image_name'],axis=1))\n",
        "    label = labels[idx]\n",
        "\n",
        "    if self.transform:\n",
        "      image = self.transform(image=image)[\"image\"]\n",
        "    \n",
        "    return image, label"
      ],
      "execution_count": 10,
      "outputs": []
    },
    {
      "cell_type": "code",
      "metadata": {
        "id": "jdONTcfg7Wzg"
      },
      "source": [
        "from sklearn.model_selection import train_test_split\n",
        "\n",
        "df = pd.read_csv(\"/content/drive/MyDrive/Data_testing/file_names.csv\")\n",
        "\n",
        "means = (0.485, 0.456, 0.406)\n",
        "stds = (0.229, 0.224, 0.225)\n",
        "\n",
        "albumentation_train_transform = A.Compose([\n",
        "                                      A.Resize(256,256),\n",
        "                                      A.ShiftScaleRotate(shift_limit=0.05, scale_limit=0.05, rotate_limit=15, p=0.5),\n",
        "                                      A.RandomCrop(height=224, width=224),\n",
        "                                      A.RGBShift(r_shift_limit=15, g_shift_limit=15, b_shift_limit=15, p=0.5),\n",
        "                                      A.RandomBrightnessContrast(p=0.5),\n",
        "                                      A.Normalize(mean=means, std=stds),\n",
        "                                      ToTensor(),\n",
        "                                    ])\n",
        "albumentation_val_transform = A.Compose([\n",
        "                                      A.Resize(256,256),\n",
        "                                      A.CenterCrop(height=224, width=224),\n",
        "                                      A.Normalize(mean=means, std=stds),\n",
        "                                      ToTensor(),\n",
        "                                  ])\n",
        "\n",
        "(train_df, val_df) = train_test_split(df, test_size = 0.4)\n",
        "(val_df, test_df) = train_test_split(val_df, test_size = 0.5)\n",
        "\n",
        "train_dataset = ImageDataset(train_df, transform=albumentation_train_transform)\n",
        "val_dataset = ImageDataset(val_df, transform=albumentation_val_transform)\n",
        "test_dataset = ImageDataset(test_df, transform=albumentation_val_transform)\n",
        "\n",
        "batch_num = 64\n",
        "\n",
        "train_dataloader = DataLoader(train_dataset, batch_size=batch_num, shuffle=True, num_workers=2, pin_memory=True)\n",
        "val_dataloader = DataLoader(val_dataset, batch_size=batch_num//4, shuffle=False, num_workers=2, pin_memory=True)\n",
        "test_dataloader = DataLoader(test_dataset, batch_size=batch_num//4, shuffle=False, num_workers=2, pin_memory=True)"
      ],
      "execution_count": 11,
      "outputs": []
    },
    {
      "cell_type": "code",
      "metadata": {
        "id": "MBrRBfRw7W1w"
      },
      "source": [
        "class SimpleCNN(torch.nn.Module):\n",
        "  def __init__(self):\n",
        "    super(SimpleCNN, self).__init__()\n",
        "    self.ConvLayer1 = nn.Sequential(\n",
        "        nn.Conv2d(in_channels=3, out_channels=32, kernel_size=3), \n",
        "        nn.ReLU(inplace=True),\n",
        "        nn.MaxPool2d(kernel_size=2, stride=2),\n",
        "    )\n",
        "    self.ConvLayer2 = nn.Sequential(\n",
        "        nn.Conv2d(in_channels=32, out_channels=64, kernel_size=3), \n",
        "        nn.ReLU(inplace=True), \n",
        "        nn.MaxPool2d(kernel_size=2, stride=2),  \n",
        "    )\n",
        "    self.ConvLayer3 = nn.Sequential(\n",
        "        nn.Conv2d(in_channels=64, out_channels=128, kernel_size=3), \n",
        "        nn.ReLU(inplace=True),   \n",
        "        nn.MaxPool2d(kernel_size=2, stride=2),                                          \n",
        "    )\n",
        "\n",
        "    self.linear1 = nn.Linear(128*26*26, 4096)\n",
        "    self.linear2 = nn.Linear(4096, 1024)\n",
        "    self.linear3 = nn.Linear(1024, 4)\n",
        "    self.sigmoid = nn.Sigmoid()\n",
        "    self.relu = nn.ReLU(inplace=True)\n",
        "\n",
        "  def forward(self, x):\n",
        "    x = self.ConvLayer1(x)\n",
        "    x = self.ConvLayer2(x)\n",
        "    x = self.ConvLayer3(x)\n",
        "    x = x.view(x.size(0),-1)\n",
        "    x = self.relu(self.linear1(x))\n",
        "    x = self.relu(self.linear2(x))\n",
        "    x = self.linear3(x)\n",
        "    x = self.sigmoid(x)\n",
        "\n",
        "    return x"
      ],
      "execution_count": 12,
      "outputs": []
    },
    {
      "cell_type": "code",
      "metadata": {
        "id": "MSQbM1FA8mvK"
      },
      "source": [
        "def calculate_metrics(pred, label):  \n",
        "  return {\n",
        "      \"micro_f1\":f1_score(y_true=label, y_pred=pred, average='micro'),\n",
        "      \"macro_f1\":f1_score(y_true=label, y_pred=pred, average='macro'),\n",
        "  }"
      ],
      "execution_count": 13,
      "outputs": []
    },
    {
      "cell_type": "code",
      "metadata": {
        "id": "iUmxhqHI8pFp"
      },
      "source": [
        "def train_model(train_dataloader, val_dataloader, optimizer, criterion, net, threshold, num_epochs):\n",
        "  since = time.time()\n",
        "\n",
        "  tot_train_loss = []\n",
        "  tot_val_loss = []\n",
        "\n",
        "  tot_train_acc = []\n",
        "  tot_val_acc = []\n",
        "  \n",
        "  for epoch in range(num_epochs-1):\n",
        "    print(\"Epoch: {}/{}\".format(epoch, num_epochs-1))\n",
        "    print('-' * 10)\n",
        "\n",
        "    net.train()\n",
        "    \n",
        "    train_running_loss = 0.0\n",
        "    train_loss_values = []\n",
        "\n",
        "    train_outputs = []\n",
        "    train_labels = []\n",
        "\n",
        "    for idx, data in enumerate(train_dataloader):\n",
        "      img, label = data\n",
        "      img = img.to(device)\n",
        "      label = label.to(device)\n",
        "\n",
        "      optimizer.zero_grad()\n",
        "\n",
        "      outputs = net(img)\n",
        "      loss = criterion(outputs, label.type(torch.float))\n",
        "\n",
        "      pred = outputs.data > threshold\n",
        "      pred = pred.type(torch.float)\n",
        "\n",
        "      loss.backward()\n",
        "      optimizer.step()\n",
        "      \n",
        "      train_loss_values.append(loss.item())\n",
        "      train_running_loss += loss.item()\n",
        "\n",
        "      train_outputs.extend(pred.cpu().to(torch.int).numpy())\n",
        "      train_labels.extend(label.cpu().to(torch.int).numpy())\n",
        "\n",
        "    train_result = calculate_metrics(np.array(train_outputs), np.array(train_labels))\n",
        "\n",
        "    net.eval()\n",
        "\n",
        "    validation_running_loss = 0.0\n",
        "    val_loss_values = []\n",
        "\n",
        "    with torch.no_grad():\n",
        "      val_outputs = []\n",
        "      val_labels = []\n",
        "      for val_idx, val_data in enumerate(val_dataloader):\n",
        "        val_img, val_label = val_data\n",
        "        val_img = val_img.to(device) \n",
        "        val_label = val_label.to(device)\n",
        "\n",
        "        val_output = net(val_img)\n",
        "\n",
        "        val_loss = criterion(val_output, val_label.type(torch.float))\n",
        "\n",
        "        val_pred = val_output.data > threshold\n",
        "        val_pred = val_pred.type(torch.float)\n",
        "\n",
        "        val_outputs.extend(val_pred.cpu().to(torch.int).numpy())\n",
        "        val_labels.extend(val_label.cpu().to(torch.int).numpy())\n",
        "\n",
        "        val_loss_values.append(val_loss.item())\n",
        "        validation_running_loss += val_loss.item()\n",
        "\n",
        "    val_result = calculate_metrics(np.array(val_outputs), np.array(val_labels))\n",
        "\n",
        "    final_train_loss = train_running_loss/len(train_dataloader)\n",
        "    final_test_loss = validation_running_loss/len(val_dataloader)\n",
        "\n",
        "    tot_train_loss.append(final_train_loss)\n",
        "    tot_val_loss.append(final_test_loss)\n",
        "\n",
        "    tot_train_acc.append(train_result)\n",
        "    tot_val_acc.append(val_result)\n",
        "\n",
        "    print(\"train loss: {}\".format(final_train_loss))\n",
        "    print(\"validation loss: {}\".format(final_test_loss))\n",
        "    print(\"train accuracy:\\n\",train_result)\n",
        "    print(\"validation accuracy:\\n\",val_result)\n",
        "    print()\n",
        "\n",
        "  tot_time = time.time() - since\n",
        "  print('Training complete in {:.0f}m {:.0f}s'.format(tot_time // 60, tot_time % 60))\n",
        "\n",
        "  return net, tot_train_loss, tot_val_loss, tot_train_acc, tot_val_acc "
      ],
      "execution_count": 14,
      "outputs": []
    },
    {
      "cell_type": "code",
      "metadata": {
        "id": "ce1F6k5O8qjp"
      },
      "source": [
        "# Using ImageNet Classification with Deep Convolutional Neural Networks\n",
        "network = SimpleCNN()\n",
        "network = network.to(device)\n",
        "criterion = torch.nn.BCELoss()\n",
        "optimizer = optim.Adam(network.parameters(), lr=0.00001)"
      ],
      "execution_count": 15,
      "outputs": []
    },
    {
      "cell_type": "code",
      "metadata": {
        "colab": {
          "base_uri": "https://localhost:8080/"
        },
        "id": "AOTgNVns8sC5",
        "outputId": "cf369515-9219-4c35-d85c-282351f42a64"
      },
      "source": [
        "train_ft, Baseline_CNN_train_loss, Baseline_CNN_val_loss, Baseline_CNN_train_result, Baseline_CNN_val_result = train_model(train_dataloader, val_dataloader, optimizer, criterion, network, 0.5, 41)"
      ],
      "execution_count": 16,
      "outputs": [
        {
          "output_type": "stream",
          "text": [
            "Epoch: 0/40\n",
            "----------\n",
            "train loss: 0.6254513828377974\n",
            "validation loss: 0.6324092257022857\n",
            "train accuracy:\n",
            " {'micro_f1': 0.5472608572239568, 'macro_f1': 0.2964557481788364}\n",
            "validation accuracy:\n",
            " {'micro_f1': 0.513876454789615, 'macro_f1': 0.21227810650887574}\n",
            "\n",
            "Epoch: 1/40\n",
            "----------\n",
            "train loss: 0.5974977298786766\n",
            "validation loss: 0.6284293365478516\n",
            "train accuracy:\n",
            " {'micro_f1': 0.6065956894313165, 'macro_f1': 0.33580437580437583}\n",
            "validation accuracy:\n",
            " {'micro_f1': 0.513876454789615, 'macro_f1': 0.21227810650887574}\n",
            "\n",
            "Epoch: 2/40\n",
            "----------\n",
            "train loss: 0.5902003771380374\n",
            "validation loss: 0.616908791065216\n",
            "train accuracy:\n",
            " {'micro_f1': 0.5581812743045169, 'macro_f1': 0.2228517316017316}\n",
            "validation accuracy:\n",
            " {'micro_f1': 0.513876454789615, 'macro_f1': 0.21227810650887574}\n",
            "\n",
            "Epoch: 3/40\n",
            "----------\n",
            "train loss: 0.5766064869730096\n",
            "validation loss: 0.5972879016399384\n",
            "train accuracy:\n",
            " {'micro_f1': 0.5577498503889886, 'macro_f1': 0.2219047619047619}\n",
            "validation accuracy:\n",
            " {'micro_f1': 0.5321585903083701, 'macro_f1': 0.25196064619141545}\n",
            "\n",
            "Epoch: 4/40\n",
            "----------\n",
            "train loss: 0.5667181893398887\n",
            "validation loss: 0.5808081698417663\n",
            "train accuracy:\n",
            " {'micro_f1': 0.5943342776203966, 'macro_f1': 0.30372294372294373}\n",
            "validation accuracy:\n",
            " {'micro_f1': 0.5191793041926851, 'macro_f1': 0.22370667793744717}\n",
            "\n",
            "Epoch: 5/40\n",
            "----------\n",
            "train loss: 0.5446795632964686\n",
            "validation loss: 0.5540235781669617\n",
            "train accuracy:\n",
            " {'micro_f1': 0.5829466357308585, 'macro_f1': 0.27999656088404107}\n",
            "validation accuracy:\n",
            " {'micro_f1': 0.5661331086773379, 'macro_f1': 0.330152016636307}\n",
            "\n",
            "Epoch: 6/40\n",
            "----------\n",
            "train loss: 0.5174359412569749\n",
            "validation loss: 0.5104945075511932\n",
            "train accuracy:\n",
            " {'micro_f1': 0.6453175457481163, 'macro_f1': 0.42002410503662585}\n",
            "validation accuracy:\n",
            " {'micro_f1': 0.6474258970358814, 'macro_f1': 0.4983188697311244}\n",
            "\n",
            "Epoch: 7/40\n",
            "----------\n",
            "train loss: 0.4933317962445711\n",
            "validation loss: 0.4786751365661621\n",
            "train accuracy:\n",
            " {'micro_f1': 0.6822381930184804, 'macro_f1': 0.5294549212573205}\n",
            "validation accuracy:\n",
            " {'micro_f1': 0.7084592145015107, 'macro_f1': 0.6215230856674341}\n",
            "\n",
            "Epoch: 8/40\n",
            "----------\n",
            "train loss: 0.4665908954645458\n",
            "validation loss: 0.47558521151542665\n",
            "train accuracy:\n",
            " {'micro_f1': 0.7356321839080461, 'macro_f1': 0.6509739836714639}\n",
            "validation accuracy:\n",
            " {'micro_f1': 0.6903039073806077, 'macro_f1': 0.5934297271346438}\n",
            "\n",
            "Epoch: 9/40\n",
            "----------\n",
            "train loss: 0.44590906720412404\n",
            "validation loss: 0.4323559319972992\n",
            "train accuracy:\n",
            " {'micro_f1': 0.7389714842797953, 'macro_f1': 0.6634511076102573}\n",
            "validation accuracy:\n",
            " {'micro_f1': 0.7674418604651162, 'macro_f1': 0.719615632337959}\n",
            "\n",
            "Epoch: 10/40\n",
            "----------\n",
            "train loss: 0.41557486120023224\n",
            "validation loss: 0.42250967741012574\n",
            "train accuracy:\n",
            " {'micro_f1': 0.7708434909800098, 'macro_f1': 0.7162591048805659}\n",
            "validation accuracy:\n",
            " {'micro_f1': 0.766906474820144, 'macro_f1': 0.7262928622010439}\n",
            "\n",
            "Epoch: 11/40\n",
            "----------\n",
            "train loss: 0.41561473043341385\n",
            "validation loss: 0.42060914158821106\n",
            "train accuracy:\n",
            " {'micro_f1': 0.7775357056402807, 'macro_f1': 0.7274670624539517}\n",
            "validation accuracy:\n",
            " {'micro_f1': 0.7595473833097596, 'macro_f1': 0.7176358274309894}\n",
            "\n",
            "Epoch: 12/40\n",
            "----------\n",
            "train loss: 0.40352182325563934\n",
            "validation loss: 0.437430921792984\n",
            "train accuracy:\n",
            " {'micro_f1': 0.7801961253288686, 'macro_f1': 0.7336501823078491}\n",
            "validation accuracy:\n",
            " {'micro_f1': 0.729905865314989, 'macro_f1': 0.6462930647220385}\n",
            "\n",
            "Epoch: 13/40\n",
            "----------\n",
            "train loss: 0.4127397411747983\n",
            "validation loss: 0.3809762078523636\n",
            "train accuracy:\n",
            " {'micro_f1': 0.7698924731182795, 'macro_f1': 0.722871215356388}\n",
            "validation accuracy:\n",
            " {'micro_f1': 0.8111498257839721, 'macro_f1': 0.782674071208569}\n",
            "\n",
            "Epoch: 14/40\n",
            "----------\n",
            "train loss: 0.3985670224616402\n",
            "validation loss: 0.38571800708770754\n",
            "train accuracy:\n",
            " {'micro_f1': 0.7771455666192508, 'macro_f1': 0.7326028767026002}\n",
            "validation accuracy:\n",
            " {'micro_f1': 0.8033826638477801, 'macro_f1': 0.7721065179388249}\n",
            "\n",
            "Epoch: 15/40\n",
            "----------\n",
            "train loss: 0.3921571264141484\n",
            "validation loss: 0.3828374832868576\n",
            "train accuracy:\n",
            " {'micro_f1': 0.7818615751789977, 'macro_f1': 0.7417273316567867}\n",
            "validation accuracy:\n",
            " {'micro_f1': 0.807017543859649, 'macro_f1': 0.7734938736595289}\n",
            "\n",
            "Epoch: 16/40\n",
            "----------\n",
            "train loss: 0.37477568576210424\n",
            "validation loss: 0.38622199416160585\n",
            "train accuracy:\n",
            " {'micro_f1': 0.7952718676122932, 'macro_f1': 0.7581204988373986}\n",
            "validation accuracy:\n",
            " {'micro_f1': 0.7999999999999999, 'macro_f1': 0.7700109328781994}\n",
            "\n",
            "Epoch: 17/40\n",
            "----------\n",
            "train loss: 0.3738352452453814\n",
            "validation loss: 0.36193237483501434\n",
            "train accuracy:\n",
            " {'micro_f1': 0.7961859356376638, 'macro_f1': 0.7593358551039702}\n",
            "validation accuracy:\n",
            " {'micro_f1': 0.8152249134948096, 'macro_f1': 0.7900400338066009}\n",
            "\n",
            "Epoch: 18/40\n",
            "----------\n",
            "train loss: 0.37980538763498006\n",
            "validation loss: 0.3638839602470398\n",
            "train accuracy:\n",
            " {'micro_f1': 0.7907860365708858, 'macro_f1': 0.7506388406457862}\n",
            "validation accuracy:\n",
            " {'micro_f1': 0.8123249299719889, 'macro_f1': 0.7828196856857099}\n",
            "\n",
            "Epoch: 19/40\n",
            "----------\n",
            "train loss: 0.3682422920277244\n",
            "validation loss: 0.3834950977563858\n",
            "train accuracy:\n",
            " {'micro_f1': 0.8039538714991763, 'macro_f1': 0.7701101639374202}\n",
            "validation accuracy:\n",
            " {'micro_f1': 0.789587852494577, 'macro_f1': 0.7542635063427932}\n",
            "\n",
            "Epoch: 20/40\n",
            "----------\n",
            "train loss: 0.366597338726646\n",
            "validation loss: 0.3732804000377655\n",
            "train accuracy:\n",
            " {'micro_f1': 0.8140200286123034, 'macro_f1': 0.7795151897986337}\n",
            "validation accuracy:\n",
            " {'micro_f1': 0.8017118402282454, 'macro_f1': 0.7725226447904783}\n",
            "\n",
            "Epoch: 21/40\n",
            "----------\n",
            "train loss: 0.3550918682625419\n",
            "validation loss: 0.3617745566368103\n",
            "train accuracy:\n",
            " {'micro_f1': 0.8071599045346063, 'macro_f1': 0.7714431170915608}\n",
            "validation accuracy:\n",
            " {'micro_f1': 0.8180555555555555, 'macro_f1': 0.7929891698236327}\n",
            "\n",
            "Epoch: 22/40\n",
            "----------\n",
            "train loss: 0.3519686178157204\n",
            "validation loss: 0.34969032406806944\n",
            "train accuracy:\n",
            " {'micro_f1': 0.8053371455801763, 'macro_f1': 0.7680971359796853}\n",
            "validation accuracy:\n",
            " {'micro_f1': 0.8118948824343016, 'macro_f1': 0.7917020940104692}\n",
            "\n",
            "Epoch: 23/40\n",
            "----------\n",
            "train loss: 0.3568462776510339\n",
            "validation loss: 0.3508617401123047\n",
            "train accuracy:\n",
            " {'micro_f1': 0.8124270030366736, 'macro_f1': 0.782354313254252}\n",
            "validation accuracy:\n",
            " {'micro_f1': 0.7979870596693026, 'macro_f1': 0.7671232050558401}\n",
            "\n",
            "Epoch: 24/40\n",
            "----------\n",
            "train loss: 0.36432417599778427\n",
            "validation loss: 0.33403108417987826\n",
            "train accuracy:\n",
            " {'micro_f1': 0.8080188679245284, 'macro_f1': 0.7758203297958305}\n",
            "validation accuracy:\n",
            " {'micro_f1': 0.818941504178273, 'macro_f1': 0.7954192475564805}\n",
            "\n",
            "Epoch: 25/40\n",
            "----------\n",
            "train loss: 0.36669134152562993\n",
            "validation loss: 0.36931631445884705\n",
            "train accuracy:\n",
            " {'micro_f1': 0.8127810650887575, 'macro_f1': 0.7797492574969432}\n",
            "validation accuracy:\n",
            " {'micro_f1': 0.8117977528089887, 'macro_f1': 0.786755964682343}\n",
            "\n",
            "Epoch: 26/40\n",
            "----------\n",
            "train loss: 0.3459342812236987\n",
            "validation loss: 0.34008497595787046\n",
            "train accuracy:\n",
            " {'micro_f1': 0.8165289256198347, 'macro_f1': 0.7859820343924595}\n",
            "validation accuracy:\n",
            " {'micro_f1': 0.8240165631469979, 'macro_f1': 0.8027296580419235}\n",
            "\n",
            "Epoch: 27/40\n",
            "----------\n",
            "train loss: 0.3528797501011899\n",
            "validation loss: 0.3354849135875702\n",
            "train accuracy:\n",
            " {'micro_f1': 0.8222222222222222, 'macro_f1': 0.7901310539960151}\n",
            "validation accuracy:\n",
            " {'micro_f1': 0.8214037526059763, 'macro_f1': 0.7928772565296014}\n",
            "\n",
            "Epoch: 28/40\n",
            "----------\n",
            "train loss: 0.35096731625105204\n",
            "validation loss: 0.32877467691898343\n",
            "train accuracy:\n",
            " {'micro_f1': 0.8117036337895234, 'macro_f1': 0.7805664268339293}\n",
            "validation accuracy:\n",
            " {'micro_f1': 0.8204400283889283, 'macro_f1': 0.7942036817534018}\n",
            "\n",
            "Epoch: 29/40\n",
            "----------\n",
            "train loss: 0.3308567247892681\n",
            "validation loss: 0.3207357913255692\n",
            "train accuracy:\n",
            " {'micro_f1': 0.8194411833763794, 'macro_f1': 0.7913086460607961}\n",
            "validation accuracy:\n",
            " {'micro_f1': 0.8202959830866808, 'macro_f1': 0.7952296351454426}\n",
            "\n",
            "Epoch: 30/40\n",
            "----------\n",
            "train loss: 0.33471731919991343\n",
            "validation loss: 0.3240754896402359\n",
            "train accuracy:\n",
            " {'micro_f1': 0.8284714119019837, 'macro_f1': 0.8019371362877901}\n",
            "validation accuracy:\n",
            " {'micro_f1': 0.8135349172066235, 'macro_f1': 0.7859823984920138}\n",
            "\n",
            "Epoch: 31/40\n",
            "----------\n",
            "train loss: 0.33555454486294795\n",
            "validation loss: 0.3326824766397476\n",
            "train accuracy:\n",
            " {'micro_f1': 0.8199197545433089, 'macro_f1': 0.7893562118361075}\n",
            "validation accuracy:\n",
            " {'micro_f1': 0.8131241084165479, 'macro_f1': 0.7877466820149794}\n",
            "\n",
            "Epoch: 32/40\n",
            "----------\n",
            "train loss: 0.33847629396538986\n",
            "validation loss: 0.3166206806898117\n",
            "train accuracy:\n",
            " {'micro_f1': 0.8256664307619722, 'macro_f1': 0.7965680169081751}\n",
            "validation accuracy:\n",
            " {'micro_f1': 0.8204758471521268, 'macro_f1': 0.7945982312492211}\n",
            "\n",
            "Epoch: 33/40\n",
            "----------\n",
            "train loss: 0.337261101132945\n",
            "validation loss: 0.33462207913398745\n",
            "train accuracy:\n",
            " {'micro_f1': 0.8193686209352006, 'macro_f1': 0.7870794967098109}\n",
            "validation accuracy:\n",
            " {'micro_f1': 0.8188105117565698, 'macro_f1': 0.7958533214914433}\n",
            "\n",
            "Epoch: 34/40\n",
            "----------\n",
            "train loss: 0.3184302355113782\n",
            "validation loss: 0.3419721138477325\n",
            "train accuracy:\n",
            " {'micro_f1': 0.8321202160131486, 'macro_f1': 0.8060082581001591}\n",
            "validation accuracy:\n",
            " {'micro_f1': 0.8170391061452514, 'macro_f1': 0.7924920244219755}\n",
            "\n",
            "Epoch: 35/40\n",
            "----------\n",
            "train loss: 0.3275884342821021\n",
            "validation loss: 0.31551203429698943\n",
            "train accuracy:\n",
            " {'micro_f1': 0.8277959756668226, 'macro_f1': 0.7987162700584928}\n",
            "validation accuracy:\n",
            " {'micro_f1': 0.8202080237741457, 'macro_f1': 0.7880956633408841}\n",
            "\n",
            "Epoch: 36/40\n",
            "----------\n",
            "train loss: 0.3332141935825348\n",
            "validation loss: 0.3431933039426804\n",
            "train accuracy:\n",
            " {'micro_f1': 0.8291991495393339, 'macro_f1': 0.8004901205374986}\n",
            "validation accuracy:\n",
            " {'micro_f1': 0.8159771754636232, 'macro_f1': 0.7900865506404549}\n",
            "\n",
            "Epoch: 37/40\n",
            "----------\n",
            "train loss: 0.320645294691387\n",
            "validation loss: 0.31163825273513795\n",
            "train accuracy:\n",
            " {'micro_f1': 0.8329400660689004, 'macro_f1': 0.8064101015578776}\n",
            "validation accuracy:\n",
            " {'micro_f1': 0.8244491826581378, 'macro_f1': 0.8009898490926783}\n",
            "\n",
            "Epoch: 38/40\n",
            "----------\n",
            "train loss: 0.31908627246555527\n",
            "validation loss: 0.32736744165420534\n",
            "train accuracy:\n",
            " {'micro_f1': 0.8390266729059428, 'macro_f1': 0.8152910069903991}\n",
            "validation accuracy:\n",
            " {'micro_f1': 0.8258426966292135, 'macro_f1': 0.8038515543531077}\n",
            "\n",
            "Epoch: 39/40\n",
            "----------\n",
            "train loss: 0.3271934578293248\n",
            "validation loss: 0.3157099509239197\n",
            "train accuracy:\n",
            " {'micro_f1': 0.8277974087161367, 'macro_f1': 0.7988049378811737}\n",
            "validation accuracy:\n",
            " {'micro_f1': 0.8343728343728344, 'macro_f1': 0.8169445532367258}\n",
            "\n",
            "Training complete in 14m 48s\n"
          ],
          "name": "stdout"
        }
      ]
    },
    {
      "cell_type": "code",
      "metadata": {
        "id": "8ZKJF2xn9MyW",
        "colab": {
          "base_uri": "https://localhost:8080/",
          "height": 295
        },
        "outputId": "c419cfd8-7d6d-4e4d-9603-99b7267831e8"
      },
      "source": [
        "plt.plot(Baseline_CNN_train_loss, label='Train Loss')\n",
        "plt.plot(Baseline_CNN_val_loss, label='Validation Loss')\n",
        "plt.legend()\n",
        "plt.title(\"Loss curves\")\n",
        "plt.xlabel(\"Epoch\")\n",
        "plt.ylabel(\"Loss\")\n",
        "plt.grid()"
      ],
      "execution_count": 17,
      "outputs": [
        {
          "output_type": "display_data",
          "data": {
            "image/png": "[encoded data removed]",
            "text/plain": [
              "<Figure size 432x288 with 1 Axes>"
            ]
          },
          "metadata": {
            "tags": [],
            "needs_background": "light"
          }
        }
      ]
    },
    {
      "cell_type": "code",
      "metadata": {
        "id": "KfPq0qOt9Xbv",
        "colab": {
          "base_uri": "https://localhost:8080/",
          "height": 295
        },
        "outputId": "b0a80f60-6c6e-4918-e9f8-7fcddd036f89"
      },
      "source": [
        "a = []\n",
        "b = []\n",
        "for result in Baseline_CNN_train_result:\n",
        "  a.append(result[\"micro_f1\"]*100)\n",
        "\n",
        "for result in Baseline_CNN_val_result:\n",
        "  b.append(result[\"micro_f1\"]*100)\n",
        "\n",
        "plt.plot(a, label='Train Accuracy')\n",
        "plt.plot(b, label='Validation Accuracy')\n",
        "plt.legend()\n",
        "plt.title(\"Mirco-average F1 metric over 50 epochs\")\n",
        "plt.xlabel(\"Epoch\")\n",
        "plt.ylabel(\"Micro-average F1\")\n",
        "plt.grid()"
      ],
      "execution_count": 18,
      "outputs": [
        {
          "output_type": "display_data",
          "data": {
            "image/png": "[encoded data removed]",
            "text/plain": [
              "<Figure size 432x288 with 1 Axes>"
            ]
          },
          "metadata": {
            "tags": [],
            "needs_background": "light"
          }
        }
      ]
    },
    {
      "cell_type": "code",
      "metadata": {
        "id": "akFnyzCC9YnP",
        "colab": {
          "base_uri": "https://localhost:8080/",
          "height": 295
        },
        "outputId": "5b45d25a-aeb6-42cb-ceaf-71c015f32f21"
      },
      "source": [
        "a = []\n",
        "b = []\n",
        "for result in Baseline_CNN_train_result:\n",
        "  a.append(result[\"macro_f1\"]*100)\n",
        "\n",
        "for result in Baseline_CNN_val_result:\n",
        "  b.append(result[\"macro_f1\"]*100)\n",
        "\n",
        "plt.plot(a, label='Train Accuracy')\n",
        "plt.plot(b, label='Validation Accuracy')\n",
        "plt.legend()\n",
        "plt.title(\"Marco-average F1 metric over 50 epochs\")\n",
        "plt.xlabel(\"Epoch\")\n",
        "plt.ylabel(\"Macro-average F1\")\n",
        "plt.grid()"
      ],
      "execution_count": 19,
      "outputs": [
        {
          "output_type": "display_data",
          "data": {
            "image/png": "[encoded data removed]",
            "text/plain": [
              "<Figure size 432x288 with 1 Axes>"
            ]
          },
          "metadata": {
            "tags": [],
            "needs_background": "light"
          }
        }
      ]
    },
    {
      "cell_type": "code",
      "metadata": {
        "id": "VUNYTDKGHjx-"
      },
      "source": [
        "def test_model(test_dataloader, optimizer, criterion, net, threshold):\n",
        "  test_outputs = []\n",
        "  test_labels = []\n",
        "  since = time.time()\n",
        "\n",
        "  net.eval()\n",
        "\n",
        "  for idx, data in enumerate(test_dataloader):\n",
        "    img, label = data\n",
        "    img = img.to(device)\n",
        "    label = label.to(device)\n",
        "\n",
        "    outputs = net(img)\n",
        "\n",
        "    pred = outputs.data > threshold\n",
        "    pred = pred.type(torch.float)\n",
        "      \n",
        "    test_outputs.extend(pred.cpu().to(torch.int).numpy())\n",
        "    test_labels.extend(label.cpu().to(torch.int).numpy())\n",
        "\n",
        "  test_result = calculate_metrics(np.array(test_outputs), np.array(test_labels))\n",
        "\n",
        "  tot_time = time.time() - since\n",
        "  print('Testing complete in {:.0f}m {:.0f}s'.format(tot_time // 60, tot_time % 60))\n",
        "\n",
        "\n",
        "  return np.asarray(test_outputs), np.asarray(test_labels), test_result "
      ],
      "execution_count": 20,
      "outputs": []
    },
    {
      "cell_type": "code",
      "metadata": {
        "id": "QRSCRb_wHka1",
        "colab": {
          "base_uri": "https://localhost:8080/"
        },
        "outputId": "f5a1f0e4-fa8f-4379-d0c7-349d347d6b45"
      },
      "source": [
        "Baseline_CNN_test_outputs, Baseline_CNN_test_labels, Baseline_CNN_test_result = test_model(test_dataloader, optimizer, criterion, train_ft, 0.5)"
      ],
      "execution_count": 21,
      "outputs": [
        {
          "output_type": "stream",
          "text": [
            "Testing complete in 1m 39s\n"
          ],
          "name": "stdout"
        }
      ]
    },
    {
      "cell_type": "code",
      "metadata": {
        "colab": {
          "base_uri": "https://localhost:8080/"
        },
        "id": "24dN-Ksjm0yH",
        "outputId": "b7043c66-ef43-4da6-d5ff-bd3391994ed3"
      },
      "source": [
        "Baseline_CNN_test_result"
      ],
      "execution_count": 22,
      "outputs": [
        {
          "output_type": "execute_result",
          "data": {
            "text/plain": [
              "{'macro_f1': 0.8378322461716464, 'micro_f1': 0.8553546592489569}"
            ]
          },
          "metadata": {
            "tags": []
          },
          "execution_count": 22
        }
      ]
    },
    {
      "cell_type": "code",
      "metadata": {
        "colab": {
          "base_uri": "https://localhost:8080/"
        },
        "id": "8yLHaXOvOW-_",
        "outputId": "b16fda50-8542-4ea4-fa7e-9dc97f13ce8e"
      },
      "source": [
        "fpr = dict()\n",
        "tpr = dict()\n",
        "roc_auc = dict()\n",
        "\n",
        "for idx in range(4):\n",
        "    fpr[idx], tpr[idx], _ = roc_curve(Baseline_CNN_test_labels[:, idx], Baseline_CNN_test_outputs[:, idx])\n",
        "    roc_auc[idx] = auc(fpr[idx], tpr[idx])\n",
        "\n",
        "fpr[\"micro\"], tpr[\"micro\"], _ = roc_curve(Baseline_CNN_test_labels.ravel(), Baseline_CNN_test_outputs.ravel())\n",
        "roc_auc[\"micro\"] = auc(fpr[\"micro\"], tpr[\"micro\"])\n",
        "\n",
        "all_fpr = np.unique(np.concatenate([fpr[i] for i in range(4)]))\n",
        "\n",
        "mean_tpr = np.zeros_like(all_fpr)\n",
        "for i in range(4):\n",
        "    mean_tpr += interp(all_fpr, fpr[i], tpr[i])\n",
        "\n",
        "mean_tpr /= 4\n",
        "\n",
        "fpr[\"macro\"] = all_fpr\n",
        "tpr[\"macro\"] = mean_tpr\n",
        "roc_auc[\"macro\"] = auc(fpr[\"macro\"], tpr[\"macro\"])"
      ],
      "execution_count": 23,
      "outputs": [
        {
          "output_type": "stream",
          "text": [
            "/usr/local/lib/python3.7/dist-packages/ipykernel_launcher.py:16: DeprecationWarning: scipy.interp is deprecated and will be removed in SciPy 2.0.0, use numpy.interp instead\n",
            "  app.launch_new_instance()\n"
          ],
          "name": "stderr"
        }
      ]
    },
    {
      "cell_type": "code",
      "metadata": {
        "colab": {
          "base_uri": "https://localhost:8080/",
          "height": 301
        },
        "id": "SPNJe3EjP0ie",
        "outputId": "d97ee123-87f7-4c11-fcca-2d37a6f56de1"
      },
      "source": [
        "x = np.linspace(0,1)\n",
        "y = x\n",
        "plt.plot(x,y,linestyle=\"dashed\",color='black')\n",
        "plt.plot(fpr[\"micro\"], tpr[\"micro\"],\n",
        "         label='micro-average ROC curve (area = {0:0.2f})'.format(roc_auc[\"micro\"]))\n",
        "plt.plot(fpr[\"macro\"], tpr[\"macro\"],\n",
        "         label='macro-average ROC curve (area = {0:0.2f})'.format(roc_auc[\"macro\"]))\n",
        "plt.xlim([0,1])\n",
        "plt.ylim([0,1])\n",
        "plt.xlabel(\"False Positive Rate\")\n",
        "plt.ylabel(\"True Positive Rate\")\n",
        "plt.legend()"
      ],
      "execution_count": 24,
      "outputs": [
        {
          "output_type": "execute_result",
          "data": {
            "text/plain": [
              "<matplotlib.legend.Legend at 0x7f4fa838ecd0>"
            ]
          },
          "metadata": {
            "tags": []
          },
          "execution_count": 24
        },
        {
          "output_type": "display_data",
          "data": {
            "image/png": "[encoded data removed]",
            "text/plain": [
              "<Figure size 432x288 with 1 Axes>"
            ]
          },
          "metadata": {
            "tags": [],
            "needs_background": "light"
          }
        }
      ]
    },
    {
      "cell_type": "code",
      "metadata": {
        "id": "jvFTj7yhdpF7"
      },
      "source": [
        "final_df = pd.DataFrame(data=Baseline_CNN_train_loss, columns=[\"BC_train_loss\"])\n",
        "final_df[\"BC_train_result_micro\"] = [data['micro_f1'] for data in Baseline_CNN_train_result]\n",
        "final_df[\"BC_train_result_macro\"] = [data['macro_f1'] for data in Baseline_CNN_train_result]\n",
        "final_df[\"BC_val_loss\"] = Baseline_CNN_val_loss\n",
        "final_df[\"BC_val_result_micro\"] = [data['micro_f1'] for data in Baseline_CNN_val_result]\n",
        "final_df[\"BC_val_result_macro\"] = [data['macro_f1'] for data in Baseline_CNN_val_result]\n",
        "\n",
        "final_df.to_csv(\"/content/drive/MyDrive/Output/BC_train\",index=False)"
      ],
      "execution_count": 25,
      "outputs": []
    },
    {
      "cell_type": "code",
      "metadata": {
        "id": "BhpN9YEtfIdD"
      },
      "source": [
        "final_df_train = pd.DataFrame(data=Baseline_CNN_test_labels, columns=[\"label1\",\"label2\",\"label3\",\"label4\"])\n",
        "final_df_train[\"pred1\"] = Baseline_CNN_test_outputs[:,0]\n",
        "final_df_train[\"pred2\"] = Baseline_CNN_test_outputs[:,1]\n",
        "final_df_train[\"pred3\"] = Baseline_CNN_test_outputs[:,2]\n",
        "final_df_train[\"pred4\"] = Baseline_CNN_test_outputs[:,3]\n",
        "\n",
        "final_df_train.to_csv(\"/content/drive/MyDrive/Output/BC_test\",index=False)"
      ],
      "execution_count": 26,
      "outputs": []
    },
    {
      "cell_type": "code",
      "metadata": {
        "id": "WeEdANMkbgyD"
      },
      "source": [
        ""
      ],
      "execution_count": 26,
      "outputs": []
    }
  ]
}