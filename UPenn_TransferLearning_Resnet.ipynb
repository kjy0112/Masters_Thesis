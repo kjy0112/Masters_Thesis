{
  "nbformat": 4,
  "nbformat_minor": 0,
  "metadata": {
    "colab": {
      "name": "UPenn_TransferLearning_Resnet.ipynb",
      "provenance": [],
      "collapsed_sections": [],
      "machine_shape": "hm"
    },
    "kernelspec": {
      "name": "python3",
      "display_name": "Python 3"
    },
    "language_info": {
      "name": "python"
    },
    "accelerator": "GPU"
  },
  "cells": [
    {
      "cell_type": "code",
      "metadata": {
        "colab": {
          "base_uri": "https://localhost:8080/"
        },
        "id": "4xepquPiGEVV",
        "outputId": "80c96a20-6433-4cf1-e0dc-f4aa75a5cee7"
      },
      "source": [
        "from google.colab import drive\n",
        "drive.mount('/content/drive')"
      ],
      "execution_count": 1,
      "outputs": [
        {
          "output_type": "stream",
          "text": [
            "Drive already mounted at /content/drive; to attempt to forcibly remount, call drive.mount(\"/content/drive\", force_remount=True).\n"
          ],
          "name": "stdout"
        }
      ]
    },
    {
      "cell_type": "code",
      "metadata": {
        "colab": {
          "base_uri": "https://localhost:8080/"
        },
        "id": "Gc_WiGyGGG3h",
        "outputId": "1fbcabac-68db-42ac-80d6-4d4fd9293cf3"
      },
      "source": [
        "gpu_info = !nvidia-smi\n",
        "gpu_info = '\\n'.join(gpu_info)\n",
        "if gpu_info.find('failed') >= 0:\n",
        "  print('Select the Runtime > \"Change runtime type\" menu to enable a GPU accelerator, ')\n",
        "  print('and then re-execute this cell.')\n",
        "else:\n",
        "  print(gpu_info)"
      ],
      "execution_count": 2,
      "outputs": [
        {
          "output_type": "stream",
          "text": [
            "Sun Apr 25 19:35:08 2021       \n",
            "+-----------------------------------------------------------------------------+\n",
            "| NVIDIA-SMI 465.19.01    Driver Version: 460.32.03    CUDA Version: 11.2     |\n",
            "|-------------------------------+----------------------+----------------------+\n",
            "| GPU  Name        Persistence-M| Bus-Id        Disp.A | Volatile Uncorr. ECC |\n",
            "| Fan  Temp  Perf  Pwr:Usage/Cap|         Memory-Usage | GPU-Util  Compute M. |\n",
            "|                               |                      |               MIG M. |\n",
            "|===============================+======================+======================|\n",
            "|   0  Tesla P100-PCIE...  Off  | 00000000:00:04.0 Off |                    0 |\n",
            "| N/A   37C    P0    26W / 250W |      0MiB / 16280MiB |      0%      Default |\n",
            "|                               |                      |                  N/A |\n",
            "+-------------------------------+----------------------+----------------------+\n",
            "                                                                               \n",
            "+-----------------------------------------------------------------------------+\n",
            "| Processes:                                                                  |\n",
            "|  GPU   GI   CI        PID   Type   Process name                  GPU Memory |\n",
            "|        ID   ID                                                   Usage      |\n",
            "|=============================================================================|\n",
            "|  No running processes found                                                 |\n",
            "+-----------------------------------------------------------------------------+\n"
          ],
          "name": "stdout"
        }
      ]
    },
    {
      "cell_type": "code",
      "metadata": {
        "colab": {
          "base_uri": "https://localhost:8080/"
        },
        "id": "QX3AHXnfGG5v",
        "outputId": "9dd39a19-f77b-41dc-feca-dad3462dac8f"
      },
      "source": [
        "from psutil import virtual_memory\n",
        "ram_gb = virtual_memory().total / 1e9\n",
        "print('Your runtime has {:.1f} gigabytes of available RAM\\n'.format(ram_gb))\n",
        "\n",
        "if ram_gb < 20:\n",
        "  print('To enable a high-RAM runtime, select the Runtime > \"Change runtime type\"')\n",
        "  print('menu, and then select High-RAM in the Runtime shape dropdown. Then, ')\n",
        "  print('re-execute this cell.')\n",
        "else:\n",
        "  print('You are using a high-RAM runtime!')"
      ],
      "execution_count": 3,
      "outputs": [
        {
          "output_type": "stream",
          "text": [
            "Your runtime has 27.4 gigabytes of available RAM\n",
            "\n",
            "You are using a high-RAM runtime!\n"
          ],
          "name": "stdout"
        }
      ]
    },
    {
      "cell_type": "code",
      "metadata": {
        "colab": {
          "base_uri": "https://localhost:8080/"
        },
        "id": "JeZvpT64GG-A",
        "outputId": "0690f292-cc37-4815-ead6-a5d3bc955d08"
      },
      "source": [
        "pip install pytesseract"
      ],
      "execution_count": 4,
      "outputs": [
        {
          "output_type": "stream",
          "text": [
            "Requirement already satisfied: pytesseract in /usr/local/lib/python3.7/dist-packages (0.3.7)\n",
            "Requirement already satisfied: Pillow in /usr/local/lib/python3.7/dist-packages (from pytesseract) (7.1.2)\n"
          ],
          "name": "stdout"
        }
      ]
    },
    {
      "cell_type": "code",
      "metadata": {
        "colab": {
          "base_uri": "https://localhost:8080/"
        },
        "id": "S-q60gyuGHA9",
        "outputId": "f5ab9d78-74e3-4b28-8eff-02bed956125f"
      },
      "source": [
        "pip install pydicom"
      ],
      "execution_count": 5,
      "outputs": [
        {
          "output_type": "stream",
          "text": [
            "Requirement already satisfied: pydicom in /usr/local/lib/python3.7/dist-packages (2.1.2)\n"
          ],
          "name": "stdout"
        }
      ]
    },
    {
      "cell_type": "code",
      "metadata": {
        "colab": {
          "base_uri": "https://localhost:8080/"
        },
        "id": "WP7mCx1jGHEX",
        "outputId": "9e78e417-0741-4a8b-d779-c9cee36c2920"
      },
      "source": [
        "pip install albumentations"
      ],
      "execution_count": 6,
      "outputs": [
        {
          "output_type": "stream",
          "text": [
            "Requirement already satisfied: albumentations in /usr/local/lib/python3.7/dist-packages (0.1.12)\n",
            "Requirement already satisfied: scipy in /usr/local/lib/python3.7/dist-packages (from albumentations) (1.4.1)\n",
            "Requirement already satisfied: opencv-python in /usr/local/lib/python3.7/dist-packages (from albumentations) (4.1.2.30)\n",
            "Requirement already satisfied: imgaug<0.2.7,>=0.2.5 in /usr/local/lib/python3.7/dist-packages (from albumentations) (0.2.6)\n",
            "Requirement already satisfied: numpy>=1.11.1 in /usr/local/lib/python3.7/dist-packages (from albumentations) (1.19.5)\n",
            "Requirement already satisfied: six in /usr/local/lib/python3.7/dist-packages (from imgaug<0.2.7,>=0.2.5->albumentations) (1.15.0)\n",
            "Requirement already satisfied: scikit-image>=0.11.0 in /usr/local/lib/python3.7/dist-packages (from imgaug<0.2.7,>=0.2.5->albumentations) (0.16.2)\n",
            "Requirement already satisfied: networkx>=2.0 in /usr/local/lib/python3.7/dist-packages (from scikit-image>=0.11.0->imgaug<0.2.7,>=0.2.5->albumentations) (2.5.1)\n",
            "Requirement already satisfied: matplotlib!=3.0.0,>=2.0.0 in /usr/local/lib/python3.7/dist-packages (from scikit-image>=0.11.0->imgaug<0.2.7,>=0.2.5->albumentations) (3.2.2)\n",
            "Requirement already satisfied: PyWavelets>=0.4.0 in /usr/local/lib/python3.7/dist-packages (from scikit-image>=0.11.0->imgaug<0.2.7,>=0.2.5->albumentations) (1.1.1)\n",
            "Requirement already satisfied: imageio>=2.3.0 in /usr/local/lib/python3.7/dist-packages (from scikit-image>=0.11.0->imgaug<0.2.7,>=0.2.5->albumentations) (2.4.1)\n",
            "Requirement already satisfied: pillow>=4.3.0 in /usr/local/lib/python3.7/dist-packages (from scikit-image>=0.11.0->imgaug<0.2.7,>=0.2.5->albumentations) (7.1.2)\n",
            "Requirement already satisfied: decorator<5,>=4.3 in /usr/local/lib/python3.7/dist-packages (from networkx>=2.0->scikit-image>=0.11.0->imgaug<0.2.7,>=0.2.5->albumentations) (4.4.2)\n",
            "Requirement already satisfied: pyparsing!=2.0.4,!=2.1.2,!=2.1.6,>=2.0.1 in /usr/local/lib/python3.7/dist-packages (from matplotlib!=3.0.0,>=2.0.0->scikit-image>=0.11.0->imgaug<0.2.7,>=0.2.5->albumentations) (2.4.7)\n",
            "Requirement already satisfied: cycler>=0.10 in /usr/local/lib/python3.7/dist-packages (from matplotlib!=3.0.0,>=2.0.0->scikit-image>=0.11.0->imgaug<0.2.7,>=0.2.5->albumentations) (0.10.0)\n",
            "Requirement already satisfied: python-dateutil>=2.1 in /usr/local/lib/python3.7/dist-packages (from matplotlib!=3.0.0,>=2.0.0->scikit-image>=0.11.0->imgaug<0.2.7,>=0.2.5->albumentations) (2.8.1)\n",
            "Requirement already satisfied: kiwisolver>=1.0.1 in /usr/local/lib/python3.7/dist-packages (from matplotlib!=3.0.0,>=2.0.0->scikit-image>=0.11.0->imgaug<0.2.7,>=0.2.5->albumentations) (1.3.1)\n"
          ],
          "name": "stdout"
        }
      ]
    },
    {
      "cell_type": "code",
      "metadata": {
        "id": "i0BOo_6-GHGf"
      },
      "source": [
        "import time\n",
        "import csv\n",
        "import os\n",
        "import copy\n",
        "import re\n",
        "import shutil\n",
        "import pydicom\n",
        "import pytesseract\n",
        "import cv2\n",
        "import numpy as np\n",
        "import pandas as pd\n",
        "from matplotlib import pyplot as plt\n",
        "import torch\n",
        "import torch.nn as nn\n",
        "import torch.nn.functional as F\n",
        "import torch.optim as optim\n",
        "from torchvision import datasets, models, transforms\n",
        "from torch.utils.data import Dataset, DataLoader\n",
        "from sklearn.metrics import precision_score, recall_score, f1_score, roc_curve, auc\n",
        "import albumentations as A\n",
        "from albumentations.pytorch import ToTensor\n",
        "from scipy import interp"
      ],
      "execution_count": 7,
      "outputs": []
    },
    {
      "cell_type": "code",
      "metadata": {
        "colab": {
          "base_uri": "https://localhost:8080/"
        },
        "id": "NQ0HNu54GHIn",
        "outputId": "ab7ca38c-9fb6-4cc7-8bc7-cdef705e42cf"
      },
      "source": [
        "device = torch.device(\"cuda:0\" if torch.cuda.is_available() else \"cpu\")\n",
        "device"
      ],
      "execution_count": 8,
      "outputs": [
        {
          "output_type": "execute_result",
          "data": {
            "text/plain": [
              "device(type='cuda', index=0)"
            ]
          },
          "metadata": {
            "tags": []
          },
          "execution_count": 8
        }
      ]
    },
    {
      "cell_type": "code",
      "metadata": {
        "id": "DETS7_KlGHKn"
      },
      "source": [
        "class ImageDataset(Dataset):\n",
        "  def __init__(self, df, transform=None):\n",
        "    self.df = df\n",
        "    self.transform = transform         \n",
        "  \n",
        "  def __len__(self):\n",
        "    return len(self.df)\n",
        "\n",
        "  def __getitem__(self, idx):\n",
        "    img_name = self.df.iloc[idx,0]\n",
        "    data = pydicom.dcmread(img_name) # read dicom file\n",
        "    arr = data.pixel_array # read image into pixel data\n",
        "    shape = arr.shape\n",
        "    if len(shape) == 4:\n",
        "      arr = arr[0,:,:,0] # get the first slide of image\n",
        "    elif len(shape) == 3:\n",
        "      arr = arr[:,:,0] # get the first slide of image\n",
        "    else:\n",
        "      arr = arr\n",
        "    image = cv2.cvtColor(arr, cv2.COLOR_BGR2RGB)\n",
        "\n",
        "    labels = np.array(self.df.drop(['image_name'],axis=1))\n",
        "    label = labels[idx]\n",
        "\n",
        "    if self.transform:\n",
        "      image = self.transform(image=image)[\"image\"]\n",
        "    \n",
        "    return image, label"
      ],
      "execution_count": 9,
      "outputs": []
    },
    {
      "cell_type": "code",
      "metadata": {
        "id": "fPWlpzziGHM4"
      },
      "source": [
        "from sklearn.model_selection import train_test_split\n",
        "\n",
        "df = pd.read_csv(\"/content/drive/MyDrive/Data_testing/file_names.csv\")\n",
        "\n",
        "means=(0.485, 0.456, 0.406)\n",
        "stds=(0.229, 0.224, 0.225)\n",
        "\n",
        "albumentation_train_transform = A.Compose([\n",
        "                                      A.Resize(256,256),\n",
        "                                      A.ShiftScaleRotate(shift_limit=0.05, scale_limit=0.05, rotate_limit=15, p=0.5),\n",
        "                                      A.RandomCrop(height=224, width=224),\n",
        "                                      A.RGBShift(r_shift_limit=15, g_shift_limit=15, b_shift_limit=15, p=0.5),\n",
        "                                      A.RandomBrightnessContrast(p=0.5),\n",
        "                                      A.Normalize(mean=means, std=stds),\n",
        "                                      ToTensor(),\n",
        "                                    ])\n",
        "albumentation_val_transform = A.Compose([\n",
        "                                      A.Resize(256,256),\n",
        "                                      A.CenterCrop(height=224, width=224),\n",
        "                                      A.Normalize(mean=means, std=stds),\n",
        "                                      ToTensor(),\n",
        "                                  ])\n",
        "\n",
        "(train_df, val_df) = train_test_split(df, test_size = 0.4)\n",
        "(val_df, test_df) = train_test_split(val_df, test_size = 0.5)\n",
        "\n",
        "train_dataset = ImageDataset(train_df, transform=albumentation_train_transform)\n",
        "val_dataset = ImageDataset(val_df, transform=albumentation_val_transform)\n",
        "test_dataset = ImageDataset(test_df, transform=albumentation_val_transform)\n",
        "\n",
        "batch_num = 64\n",
        "\n",
        "train_dataloader = DataLoader(train_dataset, batch_size=batch_num, shuffle=True, num_workers=2, pin_memory=True)\n",
        "val_dataloader = DataLoader(val_dataset, batch_size=batch_num//4, shuffle=False, num_workers=2, pin_memory=True)\n",
        "test_dataloader = DataLoader(test_dataset, batch_size=batch_num//4, shuffle=False, num_workers=2, pin_memory=True)"
      ],
      "execution_count": 10,
      "outputs": []
    },
    {
      "cell_type": "code",
      "metadata": {
        "id": "_4qUXZypIjXM"
      },
      "source": [
        "class MultiLabelResnet(nn.Module):\n",
        "  def __init__(self):\n",
        "    super(MultiLabelResnet, self).__init__()\n",
        "    self.resnet = models.resnet18(pretrained=True) \n",
        "    self.linear = nn.Linear(1000, 4)\n",
        "    self.relu = nn.ReLU()\n",
        "    self.sigmoid = nn.Sigmoid()\n",
        "\n",
        "  def forward(self, x):\n",
        "    x = self.resnet(x)\n",
        "    x = self.relu(x)\n",
        "    x = self.linear(x)\n",
        "    x = self.sigmoid(x)\n",
        "    \n",
        "    return x"
      ],
      "execution_count": 11,
      "outputs": []
    },
    {
      "cell_type": "code",
      "metadata": {
        "id": "J5VSnFokKuAB"
      },
      "source": [
        "def calculate_metric(pred, label):\n",
        "  return {\n",
        "      \"micro_f1\":f1_score(y_true=label, y_pred=pred, average='micro'),\n",
        "      \"macro_f1\":f1_score(y_true=label, y_pred=pred, average='macro'),\n",
        "  }"
      ],
      "execution_count": 12,
      "outputs": []
    },
    {
      "cell_type": "code",
      "metadata": {
        "id": "hLHf4d-DGHOv"
      },
      "source": [
        "def train_model(train_dataloader, val_dataloader, optimizer, criterion, net, threshold, num_epochs):\n",
        "  since = time.time()\n",
        "\n",
        "  tot_train_loss = []\n",
        "  tot_val_loss = []\n",
        "\n",
        "  tot_train_acc = []\n",
        "  tot_val_acc = []\n",
        "  \n",
        "  for epoch in range(num_epochs):\n",
        "    print(\"Epoch: {}/{}\".format(epoch+1, num_epochs-1))\n",
        "    print('-' * 10)\n",
        "\n",
        "    net.train()\n",
        "    \n",
        "    train_running_loss = 0.0\n",
        "    train_loss_values = []\n",
        "\n",
        "    train_outputs = []\n",
        "    train_labels = []\n",
        "\n",
        "    for idx, data in enumerate(train_dataloader):\n",
        "      img, label = data\n",
        "      img = img.to(device)\n",
        "      label = label.to(device)\n",
        "\n",
        "      optimizer.zero_grad()\n",
        "\n",
        "      outputs = net(img)\n",
        "      loss = criterion(outputs, label.type(torch.float))\n",
        "\n",
        "      pred = outputs.data > threshold\n",
        "      pred = pred.type(torch.float)\n",
        "\n",
        "      loss.backward()\n",
        "      optimizer.step()\n",
        "      \n",
        "      train_loss_values.append(loss.item())\n",
        "      train_running_loss += loss.item()\n",
        "\n",
        "      train_outputs.extend(pred.cpu().to(torch.int).numpy())\n",
        "      train_labels.extend(label.cpu().to(torch.int).numpy())\n",
        "\n",
        "    train_result = calculate_metric(np.array(train_outputs), np.array(train_labels))\n",
        "\n",
        "    net.eval()\n",
        "\n",
        "    validation_running_loss = 0.0\n",
        "    val_loss_values = []\n",
        "\n",
        "    with torch.no_grad():\n",
        "      val_outputs = []\n",
        "      val_labels = []\n",
        "      for val_idx, val_data in enumerate(val_dataloader):\n",
        "        val_img, val_label = val_data\n",
        "        val_img = val_img.to(device) \n",
        "        val_label = val_label.to(device)\n",
        "\n",
        "        val_output = net(val_img)\n",
        "\n",
        "        val_loss = criterion(val_output, val_label.type(torch.float))\n",
        "\n",
        "        val_pred = val_output.data > threshold\n",
        "        val_pred = val_pred.type(torch.float)\n",
        "\n",
        "        val_outputs.extend(val_pred.cpu().to(torch.int).numpy())\n",
        "        val_labels.extend(val_label.cpu().to(torch.int).numpy())\n",
        "\n",
        "        val_loss_values.append(val_loss.item())\n",
        "        validation_running_loss += val_loss.item()\n",
        "\n",
        "    val_result = calculate_metric(np.array(val_outputs), np.array(val_labels))\n",
        "\n",
        "    final_train_loss = train_running_loss/len(train_dataloader)\n",
        "    final_val_loss = validation_running_loss/len(val_dataloader)\n",
        "\n",
        "    tot_train_loss.append(final_train_loss)\n",
        "    tot_val_loss.append(final_val_loss)\n",
        "\n",
        "    tot_train_acc.append(train_result)\n",
        "    tot_val_acc.append(val_result)\n",
        "\n",
        "    print(\"train loss: {}\".format(final_train_loss))\n",
        "    print(\"validation loss: {}\".format(final_val_loss))\n",
        "    print(\"train accuracy:\\n\",train_result)\n",
        "    print(\"validation accuracy:\\n\",val_result)\n",
        "    print()\n",
        "\n",
        "  tot_time = time.time() - since\n",
        "  print('Training complete in {:.0f}m {:.0f}s'.format(tot_time // 60, tot_time % 60))\n",
        "\n",
        "  return net, tot_train_loss, tot_val_loss, tot_train_acc, tot_val_acc "
      ],
      "execution_count": 13,
      "outputs": []
    },
    {
      "cell_type": "code",
      "metadata": {
        "id": "hJH72OtbGaCQ"
      },
      "source": [
        "network = MultiLabelResnet()\n",
        "network = network.to(device)\n",
        "criterion = torch.nn.BCELoss()\n",
        "optimizer = optim.Adam(network.parameters(), lr=0.00001)"
      ],
      "execution_count": 14,
      "outputs": []
    },
    {
      "cell_type": "code",
      "metadata": {
        "colab": {
          "base_uri": "https://localhost:8080/"
        },
        "id": "EhUL9-V1Gby7",
        "outputId": "2f2e7997-b946-4509-c8bb-6142093fa253"
      },
      "source": [
        "train_ft, resnet_train_loss, resnet_val_loss, resnet_train_result, resnet_val_result = train_model(train_dataloader, val_dataloader, optimizer, criterion, network, 0.5, 41)"
      ],
      "execution_count": 15,
      "outputs": [
        {
          "output_type": "stream",
          "text": [
            "Epoch: 1/40\n",
            "----------\n",
            "train loss: 0.6911681639520746\n",
            "validation loss: 0.5815611100196838\n",
            "train accuracy:\n",
            " {'micro_f1': 0.554274526865347, 'macro_f1': 0.49362398040756666}\n",
            "validation accuracy:\n",
            " {'micro_f1': 0.714926329276105, 'macro_f1': 0.610967971027518}\n",
            "\n",
            "Epoch: 2/40\n",
            "----------\n",
            "train loss: 0.5523276611378318\n",
            "validation loss: 0.4657581806182861\n",
            "train accuracy:\n",
            " {'micro_f1': 0.708458170085273, 'macro_f1': 0.6447933417583682}\n",
            "validation accuracy:\n",
            " {'micro_f1': 0.7751937984496123, 'macro_f1': 0.7248204791241145}\n",
            "\n",
            "Epoch: 3/40\n",
            "----------\n",
            "train loss: 0.46578215454754074\n",
            "validation loss: 0.4115209317207336\n",
            "train accuracy:\n",
            " {'micro_f1': 0.7685339690107271, 'macro_f1': 0.720854467685465}\n",
            "validation accuracy:\n",
            " {'micro_f1': 0.802826855123675, 'macro_f1': 0.7658397371834896}\n",
            "\n",
            "Epoch: 4/40\n",
            "----------\n",
            "train loss: 0.4151136843781722\n",
            "validation loss: 0.3695859253406525\n",
            "train accuracy:\n",
            " {'micro_f1': 0.7984772781346657, 'macro_f1': 0.7658587019424263}\n",
            "validation accuracy:\n",
            " {'micro_f1': 0.8245243128964058, 'macro_f1': 0.7948462000568364}\n",
            "\n",
            "Epoch: 5/40\n",
            "----------\n",
            "train loss: 0.3760421762340947\n",
            "validation loss: 0.33665838837623596\n",
            "train accuracy:\n",
            " {'micro_f1': 0.8224030636668263, 'macro_f1': 0.7942616551544632}\n",
            "validation accuracy:\n",
            " {'micro_f1': 0.8502484031227822, 'macro_f1': 0.824927403025337}\n",
            "\n",
            "Epoch: 6/40\n",
            "----------\n",
            "train loss: 0.3377003246232083\n",
            "validation loss: 0.31176228523254396\n",
            "train accuracy:\n",
            " {'micro_f1': 0.8485423086039345, 'macro_f1': 0.8242902828970171}\n",
            "validation accuracy:\n",
            " {'micro_f1': 0.8549404344779257, 'macro_f1': 0.8308166261699418}\n",
            "\n",
            "Epoch: 7/40\n",
            "----------\n",
            "train loss: 0.31218072458317403\n",
            "validation loss: 0.284356883764267\n",
            "train accuracy:\n",
            " {'micro_f1': 0.8636257309941521, 'macro_f1': 0.8465236634519022}\n",
            "validation accuracy:\n",
            " {'micro_f1': 0.8764044943820225, 'macro_f1': 0.8606202572714328}\n",
            "\n",
            "Epoch: 8/40\n",
            "----------\n",
            "train loss: 0.28788959823156657\n",
            "validation loss: 0.2639173138141632\n",
            "train accuracy:\n",
            " {'micro_f1': 0.8768726591760299, 'macro_f1': 0.8601372624306465}\n",
            "validation accuracy:\n",
            " {'micro_f1': 0.8907446068197633, 'macro_f1': 0.8791961470589829}\n",
            "\n",
            "Epoch: 9/40\n",
            "----------\n",
            "train loss: 0.261598496844894\n",
            "validation loss: 0.24558469533920288\n",
            "train accuracy:\n",
            " {'micro_f1': 0.8939429101879788, 'macro_f1': 0.8818654487379844}\n",
            "validation accuracy:\n",
            " {'micro_f1': 0.8919667590027701, 'macro_f1': 0.8796511515926109}\n",
            "\n",
            "Epoch: 10/40\n",
            "----------\n",
            "train loss: 0.2488315113280949\n",
            "validation loss: 0.2306130176782608\n",
            "train accuracy:\n",
            " {'micro_f1': 0.898611111111111, 'macro_f1': 0.8877063423651814}\n",
            "validation accuracy:\n",
            " {'micro_f1': 0.9022038567493113, 'macro_f1': 0.8931276942676902}\n",
            "\n",
            "Epoch: 11/40\n",
            "----------\n",
            "train loss: 0.2228884093071285\n",
            "validation loss: 0.21672617137432099\n",
            "train accuracy:\n",
            " {'micro_f1': 0.907695884677982, 'macro_f1': 0.8974582551109646}\n",
            "validation accuracy:\n",
            " {'micro_f1': 0.9119669876203577, 'macro_f1': 0.9044673868526347}\n",
            "\n",
            "Epoch: 12/40\n",
            "----------\n",
            "train loss: 0.21057303014554477\n",
            "validation loss: 0.20522874653339385\n",
            "train accuracy:\n",
            " {'micro_f1': 0.9194029850746268, 'macro_f1': 0.910533052368897}\n",
            "validation accuracy:\n",
            " {'micro_f1': 0.9158110882956879, 'macro_f1': 0.9092533959418861}\n",
            "\n",
            "Epoch: 13/40\n",
            "----------\n",
            "train loss: 0.19506530934258512\n",
            "validation loss: 0.196750048995018\n",
            "train accuracy:\n",
            " {'micro_f1': 0.9283417547083141, 'macro_f1': 0.9212032401051621}\n",
            "validation accuracy:\n",
            " {'micro_f1': 0.9209809264305178, 'macro_f1': 0.9153701357045433}\n",
            "\n",
            "Epoch: 14/40\n",
            "----------\n",
            "train loss: 0.1841905791508524\n",
            "validation loss: 0.18605899155139924\n",
            "train accuracy:\n",
            " {'micro_f1': 0.9349574810388416, 'macro_f1': 0.9290278708451389}\n",
            "validation accuracy:\n",
            " {'micro_f1': 0.9246575342465754, 'macro_f1': 0.918382848446644}\n",
            "\n",
            "Epoch: 15/40\n",
            "----------\n",
            "train loss: 0.17409431463793704\n",
            "validation loss: 0.18044805109500886\n",
            "train accuracy:\n",
            " {'micro_f1': 0.9345880192793206, 'macro_f1': 0.928340629168009}\n",
            "validation accuracy:\n",
            " {'micro_f1': 0.9255972696245733, 'macro_f1': 0.9195363201495492}\n",
            "\n",
            "Epoch: 16/40\n",
            "----------\n",
            "train loss: 0.16400629360424845\n",
            "validation loss: 0.17434093862771988\n",
            "train accuracy:\n",
            " {'micro_f1': 0.9442413162705667, 'macro_f1': 0.9387585034049011}\n",
            "validation accuracy:\n",
            " {'micro_f1': 0.9253935660506502, 'macro_f1': 0.9195041269975902}\n",
            "\n",
            "Epoch: 17/40\n",
            "----------\n",
            "train loss: 0.15134036619412272\n",
            "validation loss: 0.16905569463968276\n",
            "train accuracy:\n",
            " {'micro_f1': 0.9475843208751139, 'macro_f1': 0.9430859218827312}\n",
            "validation accuracy:\n",
            " {'micro_f1': 0.9285228046289992, 'macro_f1': 0.9234003399891771}\n",
            "\n",
            "Epoch: 18/40\n",
            "----------\n",
            "train loss: 0.1474529226359568\n",
            "validation loss: 0.16153549075126647\n",
            "train accuracy:\n",
            " {'micro_f1': 0.946983546617916, 'macro_f1': 0.9425064935835632}\n",
            "validation accuracy:\n",
            " {'micro_f1': 0.9304229195088677, 'macro_f1': 0.9250965566581706}\n",
            "\n",
            "Epoch: 19/40\n",
            "----------\n",
            "train loss: 0.14875688443058416\n",
            "validation loss: 0.155942562520504\n",
            "train accuracy:\n",
            " {'micro_f1': 0.9495087959789811, 'macro_f1': 0.9460876345983502}\n",
            "validation accuracy:\n",
            " {'micro_f1': 0.9352419904567144, 'macro_f1': 0.930234327449787}\n",
            "\n",
            "Epoch: 20/40\n",
            "----------\n",
            "train loss: 0.12939422420765223\n",
            "validation loss: 0.15475333213806153\n",
            "train accuracy:\n",
            " {'micro_f1': 0.9597989949748743, 'macro_f1': 0.9560815091449592}\n",
            "validation accuracy:\n",
            " {'micro_f1': 0.9324232081911262, 'macro_f1': 0.9269080401155874}\n",
            "\n",
            "Epoch: 21/40\n",
            "----------\n",
            "train loss: 0.11567516389646028\n",
            "validation loss: 0.14985980331897736\n",
            "train accuracy:\n",
            " {'micro_f1': 0.9612226277372263, 'macro_f1': 0.9582303050371682}\n",
            "validation accuracy:\n",
            " {'micro_f1': 0.9396433470507545, 'macro_f1': 0.934564190424171}\n",
            "\n",
            "Epoch: 22/40\n",
            "----------\n",
            "train loss: 0.12322692925992765\n",
            "validation loss: 0.14617849618196488\n",
            "train accuracy:\n",
            " {'micro_f1': 0.9557481751824818, 'macro_f1': 0.9525009195445977}\n",
            "validation accuracy:\n",
            " {'micro_f1': 0.9398084815321477, 'macro_f1': 0.9350600215858401}\n",
            "\n",
            "Epoch: 23/40\n",
            "----------\n",
            "train loss: 0.11688699416424099\n",
            "validation loss: 0.14183271139860154\n",
            "train accuracy:\n",
            " {'micro_f1': 0.9588853357697579, 'macro_f1': 0.9546247185015692}\n",
            "validation accuracy:\n",
            " {'micro_f1': 0.9404517453798769, 'macro_f1': 0.9352039343290104}\n",
            "\n",
            "Epoch: 24/40\n",
            "----------\n",
            "train loss: 0.10360120315300791\n",
            "validation loss: 0.13948256254196167\n",
            "train accuracy:\n",
            " {'micro_f1': 0.9681994966826813, 'macro_f1': 0.9657181809845061}\n",
            "validation accuracy:\n",
            " {'micro_f1': 0.9417409184372858, 'macro_f1': 0.9367537405060915}\n",
            "\n",
            "Epoch: 25/40\n",
            "----------\n",
            "train loss: 0.10633255737392526\n",
            "validation loss: 0.13569088846445085\n",
            "train accuracy:\n",
            " {'micro_f1': 0.9639598540145985, 'macro_f1': 0.9610380805938505}\n",
            "validation accuracy:\n",
            " {'micro_f1': 0.944558521560575, 'macro_f1': 0.9402266147549166}\n",
            "\n",
            "Epoch: 26/40\n",
            "----------\n",
            "train loss: 0.09274246778927352\n",
            "validation loss: 0.1343879744410515\n",
            "train accuracy:\n",
            " {'micro_f1': 0.97022050466015, 'macro_f1': 0.9683243418643857}\n",
            "validation accuracy:\n",
            " {'micro_f1': 0.945280437756498, 'macro_f1': 0.9410232253035379}\n",
            "\n",
            "Epoch: 27/40\n",
            "----------\n",
            "train loss: 0.0859010376428303\n",
            "validation loss: 0.13312757804989814\n",
            "train accuracy:\n",
            " {'micro_f1': 0.9724937485792227, 'macro_f1': 0.9700464729609658}\n",
            "validation accuracy:\n",
            " {'micro_f1': 0.9430336307481126, 'macro_f1': 0.9384560526166377}\n",
            "\n",
            "Epoch: 28/40\n",
            "----------\n",
            "train loss: 0.08727044925877922\n",
            "validation loss: 0.13208992823958396\n",
            "train accuracy:\n",
            " {'micro_f1': 0.9746169677566888, 'macro_f1': 0.9726489841576313}\n",
            "validation accuracy:\n",
            " {'micro_f1': 0.9446343130553656, 'macro_f1': 0.9401400957425226}\n",
            "\n",
            "Epoch: 29/40\n",
            "----------\n",
            "train loss: 0.07934082221043737\n",
            "validation loss: 0.12984012201428413\n",
            "train accuracy:\n",
            " {'micro_f1': 0.975609756097561, 'macro_f1': 0.9739908808981453}\n",
            "validation accuracy:\n",
            " {'micro_f1': 0.9451303155006858, 'macro_f1': 0.9405406283792966}\n",
            "\n",
            "Epoch: 30/40\n",
            "----------\n",
            "train loss: 0.09131709701920811\n",
            "validation loss: 0.12888873144984245\n",
            "train accuracy:\n",
            " {'micro_f1': 0.9718985606579849, 'macro_f1': 0.9690097806735335}\n",
            "validation accuracy:\n",
            " {'micro_f1': 0.9417409184372858, 'macro_f1': 0.9379573435061557}\n",
            "\n",
            "Epoch: 31/40\n",
            "----------\n",
            "train loss: 0.07635313586184853\n",
            "validation loss: 0.1270983837544918\n",
            "train accuracy:\n",
            " {'micro_f1': 0.9774230330672747, 'macro_f1': 0.9759389772238933}\n",
            "validation accuracy:\n",
            " {'micro_f1': 0.9466484268125854, 'macro_f1': 0.9423637078772644}\n",
            "\n",
            "Epoch: 32/40\n",
            "----------\n",
            "train loss: 0.0683180415316632\n",
            "validation loss: 0.1254343232512474\n",
            "train accuracy:\n",
            " {'micro_f1': 0.9817434961204929, 'macro_f1': 0.9805840858436157}\n",
            "validation accuracy:\n",
            " {'micro_f1': 0.9494535519125684, 'macro_f1': 0.9454328924306048}\n",
            "\n",
            "Epoch: 33/40\n",
            "----------\n",
            "train loss: 0.07479883906872649\n",
            "validation loss: 0.1237703487277031\n",
            "train accuracy:\n",
            " {'micro_f1': 0.9756319744932818, 'macro_f1': 0.9734704996308842}\n",
            "validation accuracy:\n",
            " {'micro_f1': 0.9508196721311475, 'macro_f1': 0.9465963686974861}\n",
            "\n",
            "Epoch: 34/40\n",
            "----------\n",
            "train loss: 0.07198215726959079\n",
            "validation loss: 0.12430516481399537\n",
            "train accuracy:\n",
            " {'micro_f1': 0.9814517975727044, 'macro_f1': 0.980225447202585}\n",
            "validation accuracy:\n",
            " {'micro_f1': 0.9501706484641638, 'macro_f1': 0.9459215735680537}\n",
            "\n",
            "Epoch: 35/40\n",
            "----------\n",
            "train loss: 0.05824344683634607\n",
            "validation loss: 0.11922339275479317\n",
            "train accuracy:\n",
            " {'micro_f1': 0.9853546910755149, 'macro_f1': 0.9841508108040953}\n",
            "validation accuracy:\n",
            " {'micro_f1': 0.9491758241758242, 'macro_f1': 0.9449783445066463}\n",
            "\n",
            "Epoch: 36/40\n",
            "----------\n",
            "train loss: 0.0611408115609696\n",
            "validation loss: 0.12143601402640343\n",
            "train accuracy:\n",
            " {'micro_f1': 0.9815279361459521, 'macro_f1': 0.9804788166168437}\n",
            "validation accuracy:\n",
            " {'micro_f1': 0.948016415868673, 'macro_f1': 0.9436749847839319}\n",
            "\n",
            "Epoch: 37/40\n",
            "----------\n",
            "train loss: 0.059440607695203075\n",
            "validation loss: 0.11694983199238777\n",
            "train accuracy:\n",
            " {'micro_f1': 0.9837862525690796, 'macro_f1': 0.9824089470792832}\n",
            "validation accuracy:\n",
            " {'micro_f1': 0.9514031485284052, 'macro_f1': 0.9475152956104764}\n",
            "\n",
            "Epoch: 38/40\n",
            "----------\n",
            "train loss: 0.05445830112225131\n",
            "validation loss: 0.11798538170754909\n",
            "train accuracy:\n",
            " {'micro_f1': 0.9874170670327155, 'macro_f1': 0.9864099977831523}\n",
            "validation accuracy:\n",
            " {'micro_f1': 0.952054794520548, 'macro_f1': 0.9478222937291305}\n",
            "\n",
            "Epoch: 39/40\n",
            "----------\n",
            "train loss: 0.055848311240735804\n",
            "validation loss: 0.11807569421827793\n",
            "train accuracy:\n",
            " {'micro_f1': 0.9839963420210334, 'macro_f1': 0.9826843935164048}\n",
            "validation accuracy:\n",
            " {'micro_f1': 0.9542036910457963, 'macro_f1': 0.950581070347876}\n",
            "\n",
            "Epoch: 40/40\n",
            "----------\n",
            "train loss: 0.04485736767712392\n",
            "validation loss: 0.11597712256014348\n",
            "train accuracy:\n",
            " {'micro_f1': 0.9901669334552938, 'macro_f1': 0.989569536423841}\n",
            "validation accuracy:\n",
            " {'micro_f1': 0.9528366370471634, 'macro_f1': 0.9490046882289014}\n",
            "\n",
            "Epoch: 41/40\n",
            "----------\n",
            "train loss: 0.04758824800190173\n",
            "validation loss: 0.12201384201645851\n",
            "train accuracy:\n",
            " {'micro_f1': 0.9917695473251028, 'macro_f1': 0.9911935414158255}\n",
            "validation accuracy:\n",
            " {'micro_f1': 0.9496598639455782, 'macro_f1': 0.9461739883204004}\n",
            "\n",
            "Training complete in 9m 14s\n"
          ],
          "name": "stdout"
        }
      ]
    },
    {
      "cell_type": "code",
      "metadata": {
        "colab": {
          "base_uri": "https://localhost:8080/",
          "height": 295
        },
        "id": "wfjTGwtpGex4",
        "outputId": "de8de453-0d46-407a-99b7-25c8e6de69fd"
      },
      "source": [
        "plt.plot(resnet_train_loss, label='Train Loss')\n",
        "plt.plot(resnet_val_loss, label='Validation Loss')\n",
        "plt.legend()\n",
        "plt.title(\"Loss curves\")\n",
        "plt.xlabel(\"Epoch\")\n",
        "plt.ylabel(\"Loss\")\n",
        "plt.grid()"
      ],
      "execution_count": 16,
      "outputs": [
        {
          "output_type": "display_data",
          "data": {
            "image/png": "[encoded data removed]",
            "text/plain": [
              "<Figure size 432x288 with 1 Axes>"
            ]
          },
          "metadata": {
            "tags": [],
            "needs_background": "light"
          }
        }
      ]
    },
    {
      "cell_type": "code",
      "metadata": {
        "colab": {
          "base_uri": "https://localhost:8080/",
          "height": 295
        },
        "id": "t6sUCAdGGkvJ",
        "outputId": "b680030a-3921-4f3a-bd5f-715eaabee96e"
      },
      "source": [
        "a = []\n",
        "b = []\n",
        "for result in resnet_train_result:\n",
        "  a.append(result[\"micro_f1\"]*100)\n",
        "\n",
        "for result in resnet_val_result:\n",
        "  b.append(result[\"micro_f1\"]*100)\n",
        "\n",
        "plt.plot(a, label='Train Accuracy')\n",
        "plt.plot(b, label='Validation Accuracy')\n",
        "plt.legend()\n",
        "plt.title(\"Accuracy curves for micro f1\")\n",
        "plt.xlabel(\"Epoch\")\n",
        "plt.ylabel(\"Accuracy\")\n",
        "plt.grid()"
      ],
      "execution_count": 17,
      "outputs": [
        {
          "output_type": "display_data",
          "data": {
            "image/png": "[encoded data removed]",
            "text/plain": [
              "<Figure size 432x288 with 1 Axes>"
            ]
          },
          "metadata": {
            "tags": [],
            "needs_background": "light"
          }
        }
      ]
    },
    {
      "cell_type": "code",
      "metadata": {
        "colab": {
          "base_uri": "https://localhost:8080/",
          "height": 295
        },
        "id": "ViiV5uMRGkxL",
        "outputId": "e1e6de47-e38b-45ab-c5ed-55f91979bcb5"
      },
      "source": [
        "a = []\n",
        "b = []\n",
        "for result in resnet_train_result:\n",
        "  a.append(result[\"macro_f1\"]*100)\n",
        "\n",
        "for result in resnet_val_result:\n",
        "  b.append(result[\"macro_f1\"]*100)\n",
        "\n",
        "plt.plot(a, label='Train Accuracy')\n",
        "plt.plot(b, label='Validation Accuracy')\n",
        "plt.legend()\n",
        "plt.title(\"Accuracy curves for macro f1\")\n",
        "plt.xlabel(\"Epoch\")\n",
        "plt.ylabel(\"Accuracy\")\n",
        "plt.grid()"
      ],
      "execution_count": 18,
      "outputs": [
        {
          "output_type": "display_data",
          "data": {
            "image/png": "[encoded data removed]",
            "text/plain": [
              "<Figure size 432x288 with 1 Axes>"
            ]
          },
          "metadata": {
            "tags": [],
            "needs_background": "light"
          }
        }
      ]
    },
    {
      "cell_type": "code",
      "metadata": {
        "id": "7vEpOSXRHCu9"
      },
      "source": [
        "def test_model(test_dataloader, optimizer, criterion, net, threshold):\n",
        "  test_outputs = []\n",
        "  test_labels = []\n",
        "\n",
        "  net.eval()\n",
        "\n",
        "  for idx, data in enumerate(test_dataloader):\n",
        "    img, label = data\n",
        "    img = img.to(device)\n",
        "    label = label.to(device)\n",
        "\n",
        "    outputs = net(img)\n",
        "\n",
        "    pred = outputs.data > threshold\n",
        "    pred = pred.type(torch.float)\n",
        "      \n",
        "    test_outputs.extend(pred.cpu().to(torch.int).numpy())\n",
        "    test_labels.extend(label.cpu().to(torch.int).numpy())\n",
        "\n",
        "  test_result = calculate_metric(np.array(test_outputs), np.array(test_labels))\n",
        "\n",
        "  return np.asarray(test_outputs), np.asarray(test_labels), test_result "
      ],
      "execution_count": 19,
      "outputs": []
    },
    {
      "cell_type": "code",
      "metadata": {
        "id": "DCp8fQBTPAVh"
      },
      "source": [
        "resnet_test_outputs, resnet_test_labels, resnet_test_result = test_model(test_dataloader, optimizer, criterion, train_ft, 0.5)"
      ],
      "execution_count": 20,
      "outputs": []
    },
    {
      "cell_type": "code",
      "metadata": {
        "colab": {
          "base_uri": "https://localhost:8080/"
        },
        "id": "A9HXy-3JXUkH",
        "outputId": "bc7810be-c50c-445f-abd8-248f79307095"
      },
      "source": [
        "resnet_test_result"
      ],
      "execution_count": 21,
      "outputs": [
        {
          "output_type": "execute_result",
          "data": {
            "text/plain": [
              "{'macro_f1': 0.9473651019280762, 'micro_f1': 0.9523809523809523}"
            ]
          },
          "metadata": {
            "tags": []
          },
          "execution_count": 21
        }
      ]
    },
    {
      "cell_type": "code",
      "metadata": {
        "id": "ChJM_yRV9_B-",
        "colab": {
          "base_uri": "https://localhost:8080/"
        },
        "outputId": "5e55b4d6-70b1-4bae-cb15-0c226d61cdeb"
      },
      "source": [
        "fpr = dict()\n",
        "tpr = dict()\n",
        "roc_auc = dict()\n",
        "\n",
        "for idx in range(4):\n",
        "    fpr[idx], tpr[idx], _ = roc_curve(resnet_test_labels[:, idx], resnet_test_outputs[:, idx])\n",
        "    roc_auc[idx] = auc(fpr[idx], tpr[idx])\n",
        "\n",
        "fpr[\"micro\"], tpr[\"micro\"], _ = roc_curve(resnet_test_labels.ravel(), resnet_test_outputs.ravel())\n",
        "roc_auc[\"micro\"] = auc(fpr[\"micro\"], tpr[\"micro\"])\n",
        "\n",
        "all_fpr = np.unique(np.concatenate([fpr[i] for i in range(4)]))\n",
        "\n",
        "mean_tpr = np.zeros_like(all_fpr)\n",
        "for i in range(4):\n",
        "    mean_tpr += interp(all_fpr, fpr[i], tpr[i])\n",
        "\n",
        "mean_tpr /= 4\n",
        "\n",
        "fpr[\"macro\"] = all_fpr\n",
        "tpr[\"macro\"] = mean_tpr\n",
        "roc_auc[\"macro\"] = auc(fpr[\"macro\"], tpr[\"macro\"])"
      ],
      "execution_count": 22,
      "outputs": [
        {
          "output_type": "stream",
          "text": [
            "/usr/local/lib/python3.7/dist-packages/ipykernel_launcher.py:16: DeprecationWarning: scipy.interp is deprecated and will be removed in SciPy 2.0.0, use numpy.interp instead\n",
            "  app.launch_new_instance()\n"
          ],
          "name": "stderr"
        }
      ]
    },
    {
      "cell_type": "code",
      "metadata": {
        "colab": {
          "base_uri": "https://localhost:8080/",
          "height": 301
        },
        "id": "UKSMUQL_eeyo",
        "outputId": "c2e5582c-0510-4f17-eab8-c3df984e6212"
      },
      "source": [
        "x = np.linspace(0,1)\n",
        "y = x\n",
        "plt.plot(x,y,linestyle=\"dashed\",color='black')\n",
        "plt.plot(fpr[\"micro\"], tpr[\"micro\"],\n",
        "         label='micro-average ROC curve (area = {0:0.2f})'.format(roc_auc[\"micro\"]))\n",
        "plt.plot(fpr[\"macro\"], tpr[\"macro\"],\n",
        "         label='macro-average ROC curve (area = {0:0.2f})'.format(roc_auc[\"macro\"]))\n",
        "plt.xlim([0,1])\n",
        "plt.ylim([0,1])\n",
        "plt.xlabel(\"False Positive Rate\")\n",
        "plt.ylabel(\"True Positive Rate\")\n",
        "plt.legend()"
      ],
      "execution_count": 23,
      "outputs": [
        {
          "output_type": "execute_result",
          "data": {
            "text/plain": [
              "<matplotlib.legend.Legend at 0x7f5383133bd0>"
            ]
          },
          "metadata": {
            "tags": []
          },
          "execution_count": 23
        },
        {
          "output_type": "display_data",
          "data": {
            "image/png": "[encoded data removed]",
            "text/plain": [
              "<Figure size 432x288 with 1 Axes>"
            ]
          },
          "metadata": {
            "tags": [],
            "needs_background": "light"
          }
        }
      ]
    },
    {
      "cell_type": "code",
      "metadata": {
        "id": "P5PzD_KknrWn"
      },
      "source": [
        "final_df = pd.DataFrame(data=resnet_train_loss, columns=[\"train_loss\"])\n",
        "final_df[\"train_result_micro\"] = [data['micro_f1'] for data in resnet_train_result]\n",
        "final_df[\"train_result_macro\"] = [data['macro_f1'] for data in resnet_train_result]\n",
        "final_df[\"val_loss\"] = resnet_val_loss\n",
        "final_df[\"val_result_micro\"] = [data['micro_f1'] for data in resnet_val_result]\n",
        "final_df[\"val_result_macro\"] = [data['macro_f1'] for data in resnet_val_result]\n",
        "\n",
        "\n",
        "final_df.to_csv(\"/content/drive/MyDrive/Output/resnet_train\",index=False)"
      ],
      "execution_count": 24,
      "outputs": []
    },
    {
      "cell_type": "code",
      "metadata": {
        "id": "ccQ9NX-1u519"
      },
      "source": [
        "final_df_train = pd.DataFrame(data=resnet_test_labels, columns=[\"label1\",\"label2\",\"label3\",\"label4\"])\n",
        "final_df_train[\"pred1\"] = resnet_test_outputs[:,0]\n",
        "final_df_train[\"pred2\"] = resnet_test_outputs[:,1]\n",
        "final_df_train[\"pred3\"] = resnet_test_outputs[:,2]\n",
        "final_df_train[\"pred4\"] = resnet_test_outputs[:,3]\n",
        "\n",
        "final_df_train.to_csv(\"/content/drive/MyDrive/Output/resnet_test\",index=False)"
      ],
      "execution_count": 25,
      "outputs": []
    },
    {
      "cell_type": "code",
      "metadata": {
        "id": "rAl9hbkO0djU"
      },
      "source": [
        ""
      ],
      "execution_count": 25,
      "outputs": []
    }
  ]
}