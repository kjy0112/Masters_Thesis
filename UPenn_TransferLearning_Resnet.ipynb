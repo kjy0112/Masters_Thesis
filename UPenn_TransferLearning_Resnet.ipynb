{
  "nbformat": 4,
  "nbformat_minor": 0,
  "metadata": {
    "colab": {
      "name": "UPenn_TransferLearning_Resnet.ipynb",
      "provenance": [],
      "collapsed_sections": [],
      "machine_shape": "hm"
    },
    "kernelspec": {
      "name": "python3",
      "display_name": "Python 3"
    },
    "language_info": {
      "name": "python"
    },
    "accelerator": "GPU",
    "widgets": {
      "application/vnd.jupyter.widget-state+json": {
        "2def329102f14ef3a7d4820471614cc3": {
          "model_module": "@jupyter-widgets/controls",
          "model_name": "HBoxModel",
          "state": {
            "_view_name": "HBoxView",
            "_dom_classes": [],
            "_model_name": "HBoxModel",
            "_view_module": "@jupyter-widgets/controls",
            "_model_module_version": "1.5.0",
            "_view_count": null,
            "_view_module_version": "1.5.0",
            "box_style": "",
            "layout": "IPY_MODEL_bfab7dd9d47846a29dc3f9b89020de8f",
            "_model_module": "@jupyter-widgets/controls",
            "children": [
              "IPY_MODEL_57729ac7c2074df597462ed1043b2b99",
              "IPY_MODEL_19e5b06e68434db680a86a14684f417f"
            ]
          }
        },
        "bfab7dd9d47846a29dc3f9b89020de8f": {
          "model_module": "@jupyter-widgets/base",
          "model_name": "LayoutModel",
          "state": {
            "_view_name": "LayoutView",
            "grid_template_rows": null,
            "right": null,
            "justify_content": null,
            "_view_module": "@jupyter-widgets/base",
            "overflow": null,
            "_model_module_version": "1.2.0",
            "_view_count": null,
            "flex_flow": null,
            "width": null,
            "min_width": null,
            "border": null,
            "align_items": null,
            "bottom": null,
            "_model_module": "@jupyter-widgets/base",
            "top": null,
            "grid_column": null,
            "overflow_y": null,
            "overflow_x": null,
            "grid_auto_flow": null,
            "grid_area": null,
            "grid_template_columns": null,
            "flex": null,
            "_model_name": "LayoutModel",
            "justify_items": null,
            "grid_row": null,
            "max_height": null,
            "align_content": null,
            "visibility": null,
            "align_self": null,
            "height": null,
            "min_height": null,
            "padding": null,
            "grid_auto_rows": null,
            "grid_gap": null,
            "max_width": null,
            "order": null,
            "_view_module_version": "1.2.0",
            "grid_template_areas": null,
            "object_position": null,
            "object_fit": null,
            "grid_auto_columns": null,
            "margin": null,
            "display": null,
            "left": null
          }
        },
        "57729ac7c2074df597462ed1043b2b99": {
          "model_module": "@jupyter-widgets/controls",
          "model_name": "FloatProgressModel",
          "state": {
            "_view_name": "ProgressView",
            "style": "IPY_MODEL_0498c56e50934edcb02a5f61139aa5b1",
            "_dom_classes": [],
            "description": "100%",
            "_model_name": "FloatProgressModel",
            "bar_style": "success",
            "max": 46827520,
            "_view_module": "@jupyter-widgets/controls",
            "_model_module_version": "1.5.0",
            "value": 46827520,
            "_view_count": null,
            "_view_module_version": "1.5.0",
            "orientation": "horizontal",
            "min": 0,
            "description_tooltip": null,
            "_model_module": "@jupyter-widgets/controls",
            "layout": "IPY_MODEL_bea45abc87754106a53654b7b9fd7253"
          }
        },
        "19e5b06e68434db680a86a14684f417f": {
          "model_module": "@jupyter-widgets/controls",
          "model_name": "HTMLModel",
          "state": {
            "_view_name": "HTMLView",
            "style": "IPY_MODEL_38063ea88e7841778a0aa939e06ad680",
            "_dom_classes": [],
            "description": "",
            "_model_name": "HTMLModel",
            "placeholder": "​",
            "_view_module": "@jupyter-widgets/controls",
            "_model_module_version": "1.5.0",
            "value": " 44.7M/44.7M [09:56&lt;00:00, 78.6kB/s]",
            "_view_count": null,
            "_view_module_version": "1.5.0",
            "description_tooltip": null,
            "_model_module": "@jupyter-widgets/controls",
            "layout": "IPY_MODEL_3a1ce943e6074aaa81c9652a0cdfa964"
          }
        },
        "0498c56e50934edcb02a5f61139aa5b1": {
          "model_module": "@jupyter-widgets/controls",
          "model_name": "ProgressStyleModel",
          "state": {
            "_view_name": "StyleView",
            "_model_name": "ProgressStyleModel",
            "description_width": "initial",
            "_view_module": "@jupyter-widgets/base",
            "_model_module_version": "1.5.0",
            "_view_count": null,
            "_view_module_version": "1.2.0",
            "bar_color": null,
            "_model_module": "@jupyter-widgets/controls"
          }
        },
        "bea45abc87754106a53654b7b9fd7253": {
          "model_module": "@jupyter-widgets/base",
          "model_name": "LayoutModel",
          "state": {
            "_view_name": "LayoutView",
            "grid_template_rows": null,
            "right": null,
            "justify_content": null,
            "_view_module": "@jupyter-widgets/base",
            "overflow": null,
            "_model_module_version": "1.2.0",
            "_view_count": null,
            "flex_flow": null,
            "width": null,
            "min_width": null,
            "border": null,
            "align_items": null,
            "bottom": null,
            "_model_module": "@jupyter-widgets/base",
            "top": null,
            "grid_column": null,
            "overflow_y": null,
            "overflow_x": null,
            "grid_auto_flow": null,
            "grid_area": null,
            "grid_template_columns": null,
            "flex": null,
            "_model_name": "LayoutModel",
            "justify_items": null,
            "grid_row": null,
            "max_height": null,
            "align_content": null,
            "visibility": null,
            "align_self": null,
            "height": null,
            "min_height": null,
            "padding": null,
            "grid_auto_rows": null,
            "grid_gap": null,
            "max_width": null,
            "order": null,
            "_view_module_version": "1.2.0",
            "grid_template_areas": null,
            "object_position": null,
            "object_fit": null,
            "grid_auto_columns": null,
            "margin": null,
            "display": null,
            "left": null
          }
        },
        "38063ea88e7841778a0aa939e06ad680": {
          "model_module": "@jupyter-widgets/controls",
          "model_name": "DescriptionStyleModel",
          "state": {
            "_view_name": "StyleView",
            "_model_name": "DescriptionStyleModel",
            "description_width": "",
            "_view_module": "@jupyter-widgets/base",
            "_model_module_version": "1.5.0",
            "_view_count": null,
            "_view_module_version": "1.2.0",
            "_model_module": "@jupyter-widgets/controls"
          }
        },
        "3a1ce943e6074aaa81c9652a0cdfa964": {
          "model_module": "@jupyter-widgets/base",
          "model_name": "LayoutModel",
          "state": {
            "_view_name": "LayoutView",
            "grid_template_rows": null,
            "right": null,
            "justify_content": null,
            "_view_module": "@jupyter-widgets/base",
            "overflow": null,
            "_model_module_version": "1.2.0",
            "_view_count": null,
            "flex_flow": null,
            "width": null,
            "min_width": null,
            "border": null,
            "align_items": null,
            "bottom": null,
            "_model_module": "@jupyter-widgets/base",
            "top": null,
            "grid_column": null,
            "overflow_y": null,
            "overflow_x": null,
            "grid_auto_flow": null,
            "grid_area": null,
            "grid_template_columns": null,
            "flex": null,
            "_model_name": "LayoutModel",
            "justify_items": null,
            "grid_row": null,
            "max_height": null,
            "align_content": null,
            "visibility": null,
            "align_self": null,
            "height": null,
            "min_height": null,
            "padding": null,
            "grid_auto_rows": null,
            "grid_gap": null,
            "max_width": null,
            "order": null,
            "_view_module_version": "1.2.0",
            "grid_template_areas": null,
            "object_position": null,
            "object_fit": null,
            "grid_auto_columns": null,
            "margin": null,
            "display": null,
            "left": null
          }
        }
      }
    }
  },
  "cells": [
    {
      "cell_type": "code",
      "metadata": {
        "colab": {
          "base_uri": "https://localhost:8080/"
        },
        "id": "4xepquPiGEVV",
        "outputId": "f5d479eb-56a5-4708-bb00-45c4f3cc36cf"
      },
      "source": [
        "from google.colab import drive\n",
        "drive.mount('/content/drive')"
      ],
      "execution_count": 2,
      "outputs": [
        {
          "output_type": "stream",
          "text": [
            "Drive already mounted at /content/drive; to attempt to forcibly remount, call drive.mount(\"/content/drive\", force_remount=True).\n"
          ],
          "name": "stdout"
        }
      ]
    },
    {
      "cell_type": "code",
      "metadata": {
        "colab": {
          "base_uri": "https://localhost:8080/"
        },
        "id": "Gc_WiGyGGG3h",
        "outputId": "23204fb5-319b-4890-fd6d-021f6a6850d8"
      },
      "source": [
        "gpu_info = !nvidia-smi\n",
        "gpu_info = '\\n'.join(gpu_info)\n",
        "if gpu_info.find('failed') >= 0:\n",
        "  print('Select the Runtime > \"Change runtime type\" menu to enable a GPU accelerator, ')\n",
        "  print('and then re-execute this cell.')\n",
        "else:\n",
        "  print(gpu_info)"
      ],
      "execution_count": 3,
      "outputs": [
        {
          "output_type": "stream",
          "text": [
            "Sat May 15 23:30:18 2021       \n",
            "+-----------------------------------------------------------------------------+\n",
            "| NVIDIA-SMI 465.19.01    Driver Version: 460.32.03    CUDA Version: 11.2     |\n",
            "|-------------------------------+----------------------+----------------------+\n",
            "| GPU  Name        Persistence-M| Bus-Id        Disp.A | Volatile Uncorr. ECC |\n",
            "| Fan  Temp  Perf  Pwr:Usage/Cap|         Memory-Usage | GPU-Util  Compute M. |\n",
            "|                               |                      |               MIG M. |\n",
            "|===============================+======================+======================|\n",
            "|   0  Tesla P100-PCIE...  Off  | 00000000:00:04.0 Off |                    0 |\n",
            "| N/A   38C    P0    27W / 250W |      0MiB / 16280MiB |      0%      Default |\n",
            "|                               |                      |                  N/A |\n",
            "+-------------------------------+----------------------+----------------------+\n",
            "                                                                               \n",
            "+-----------------------------------------------------------------------------+\n",
            "| Processes:                                                                  |\n",
            "|  GPU   GI   CI        PID   Type   Process name                  GPU Memory |\n",
            "|        ID   ID                                                   Usage      |\n",
            "|=============================================================================|\n",
            "|  No running processes found                                                 |\n",
            "+-----------------------------------------------------------------------------+\n"
          ],
          "name": "stdout"
        }
      ]
    },
    {
      "cell_type": "code",
      "metadata": {
        "colab": {
          "base_uri": "https://localhost:8080/"
        },
        "id": "QX3AHXnfGG5v",
        "outputId": "3a434687-5e79-4a76-cc40-aac14d401725"
      },
      "source": [
        "from psutil import virtual_memory\n",
        "ram_gb = virtual_memory().total / 1e9\n",
        "print('Your runtime has {:.1f} gigabytes of available RAM\\n'.format(ram_gb))\n",
        "\n",
        "if ram_gb < 20:\n",
        "  print('To enable a high-RAM runtime, select the Runtime > \"Change runtime type\"')\n",
        "  print('menu, and then select High-RAM in the Runtime shape dropdown. Then, ')\n",
        "  print('re-execute this cell.')\n",
        "else:\n",
        "  print('You are using a high-RAM runtime!')"
      ],
      "execution_count": 4,
      "outputs": [
        {
          "output_type": "stream",
          "text": [
            "Your runtime has 27.3 gigabytes of available RAM\n",
            "\n",
            "You are using a high-RAM runtime!\n"
          ],
          "name": "stdout"
        }
      ]
    },
    {
      "cell_type": "code",
      "metadata": {
        "colab": {
          "base_uri": "https://localhost:8080/"
        },
        "id": "JeZvpT64GG-A",
        "outputId": "edcdf870-c5e0-440c-87bc-6bb4dd3f464d"
      },
      "source": [
        "pip install pytesseract"
      ],
      "execution_count": 5,
      "outputs": [
        {
          "output_type": "stream",
          "text": [
            "Collecting pytesseract\n",
            "  Downloading https://files.pythonhosted.org/packages/a0/e6/a4e9fc8a93c1318540e8de6d8d4beb5749b7960388a7c7f27799fc2dd016/pytesseract-0.3.7.tar.gz\n",
            "Requirement already satisfied: Pillow in /usr/local/lib/python3.7/dist-packages (from pytesseract) (7.1.2)\n",
            "Building wheels for collected packages: pytesseract\n",
            "  Building wheel for pytesseract (setup.py) ... \u001b[?25l\u001b[?25hdone\n",
            "  Created wheel for pytesseract: filename=pytesseract-0.3.7-py2.py3-none-any.whl size=13945 sha256=8cf521e7b7573c9b20b84b793a82bf34d53252c38227b94b3d9268ad281c0a1e\n",
            "  Stored in directory: /root/.cache/pip/wheels/81/20/7e/1dd0daad1575d5260916bb1e9781246430647adaef4b3ca3b3\n",
            "Successfully built pytesseract\n",
            "Installing collected packages: pytesseract\n",
            "Successfully installed pytesseract-0.3.7\n"
          ],
          "name": "stdout"
        }
      ]
    },
    {
      "cell_type": "code",
      "metadata": {
        "colab": {
          "base_uri": "https://localhost:8080/"
        },
        "id": "S-q60gyuGHA9",
        "outputId": "43ca0205-5979-4519-a0ac-12e7155f54e2"
      },
      "source": [
        "pip install pydicom"
      ],
      "execution_count": 6,
      "outputs": [
        {
          "output_type": "stream",
          "text": [
            "Collecting pydicom\n",
            "\u001b[?25l  Downloading https://files.pythonhosted.org/packages/f4/15/df16546bc59bfca390cf072d473fb2c8acd4231636f64356593a63137e55/pydicom-2.1.2-py3-none-any.whl (1.9MB)\n",
            "\u001b[K     |████████████████████████████████| 1.9MB 9.8MB/s \n",
            "\u001b[?25hInstalling collected packages: pydicom\n",
            "Successfully installed pydicom-2.1.2\n"
          ],
          "name": "stdout"
        }
      ]
    },
    {
      "cell_type": "code",
      "metadata": {
        "colab": {
          "base_uri": "https://localhost:8080/"
        },
        "id": "WP7mCx1jGHEX",
        "outputId": "a8928c94-6949-4c3b-f729-a1b528419337"
      },
      "source": [
        "pip install albumentations"
      ],
      "execution_count": 7,
      "outputs": [
        {
          "output_type": "stream",
          "text": [
            "Requirement already satisfied: albumentations in /usr/local/lib/python3.7/dist-packages (0.1.12)\n",
            "Requirement already satisfied: numpy>=1.11.1 in /usr/local/lib/python3.7/dist-packages (from albumentations) (1.19.5)\n",
            "Requirement already satisfied: scipy in /usr/local/lib/python3.7/dist-packages (from albumentations) (1.4.1)\n",
            "Collecting imgaug<0.2.7,>=0.2.5\n",
            "\u001b[?25l  Downloading https://files.pythonhosted.org/packages/ad/2e/748dbb7bb52ec8667098bae9b585f448569ae520031932687761165419a2/imgaug-0.2.6.tar.gz (631kB)\n",
            "\u001b[K     |████████████████████████████████| 634kB 11.8MB/s \n",
            "\u001b[?25hRequirement already satisfied: opencv-python in /usr/local/lib/python3.7/dist-packages (from albumentations) (4.1.2.30)\n",
            "Requirement already satisfied: scikit-image>=0.11.0 in /usr/local/lib/python3.7/dist-packages (from imgaug<0.2.7,>=0.2.5->albumentations) (0.16.2)\n",
            "Requirement already satisfied: six in /usr/local/lib/python3.7/dist-packages (from imgaug<0.2.7,>=0.2.5->albumentations) (1.15.0)\n",
            "Requirement already satisfied: matplotlib!=3.0.0,>=2.0.0 in /usr/local/lib/python3.7/dist-packages (from scikit-image>=0.11.0->imgaug<0.2.7,>=0.2.5->albumentations) (3.2.2)\n",
            "Requirement already satisfied: imageio>=2.3.0 in /usr/local/lib/python3.7/dist-packages (from scikit-image>=0.11.0->imgaug<0.2.7,>=0.2.5->albumentations) (2.4.1)\n",
            "Requirement already satisfied: PyWavelets>=0.4.0 in /usr/local/lib/python3.7/dist-packages (from scikit-image>=0.11.0->imgaug<0.2.7,>=0.2.5->albumentations) (1.1.1)\n",
            "Requirement already satisfied: networkx>=2.0 in /usr/local/lib/python3.7/dist-packages (from scikit-image>=0.11.0->imgaug<0.2.7,>=0.2.5->albumentations) (2.5.1)\n",
            "Requirement already satisfied: pillow>=4.3.0 in /usr/local/lib/python3.7/dist-packages (from scikit-image>=0.11.0->imgaug<0.2.7,>=0.2.5->albumentations) (7.1.2)\n",
            "Requirement already satisfied: kiwisolver>=1.0.1 in /usr/local/lib/python3.7/dist-packages (from matplotlib!=3.0.0,>=2.0.0->scikit-image>=0.11.0->imgaug<0.2.7,>=0.2.5->albumentations) (1.3.1)\n",
            "Requirement already satisfied: python-dateutil>=2.1 in /usr/local/lib/python3.7/dist-packages (from matplotlib!=3.0.0,>=2.0.0->scikit-image>=0.11.0->imgaug<0.2.7,>=0.2.5->albumentations) (2.8.1)\n",
            "Requirement already satisfied: pyparsing!=2.0.4,!=2.1.2,!=2.1.6,>=2.0.1 in /usr/local/lib/python3.7/dist-packages (from matplotlib!=3.0.0,>=2.0.0->scikit-image>=0.11.0->imgaug<0.2.7,>=0.2.5->albumentations) (2.4.7)\n",
            "Requirement already satisfied: cycler>=0.10 in /usr/local/lib/python3.7/dist-packages (from matplotlib!=3.0.0,>=2.0.0->scikit-image>=0.11.0->imgaug<0.2.7,>=0.2.5->albumentations) (0.10.0)\n",
            "Requirement already satisfied: decorator<5,>=4.3 in /usr/local/lib/python3.7/dist-packages (from networkx>=2.0->scikit-image>=0.11.0->imgaug<0.2.7,>=0.2.5->albumentations) (4.4.2)\n",
            "Building wheels for collected packages: imgaug\n",
            "  Building wheel for imgaug (setup.py) ... \u001b[?25l\u001b[?25hdone\n",
            "  Created wheel for imgaug: filename=imgaug-0.2.6-cp37-none-any.whl size=654019 sha256=6fbd0e7fd426a74388687bf7785fc78f2e0c976cd01d7817496178a0553d576b\n",
            "  Stored in directory: /root/.cache/pip/wheels/97/ec/48/0d25896c417b715af6236dbcef8f0bed136a1a5e52972fc6d0\n",
            "Successfully built imgaug\n",
            "Installing collected packages: imgaug\n",
            "  Found existing installation: imgaug 0.2.9\n",
            "    Uninstalling imgaug-0.2.9:\n",
            "      Successfully uninstalled imgaug-0.2.9\n",
            "Successfully installed imgaug-0.2.6\n"
          ],
          "name": "stdout"
        }
      ]
    },
    {
      "cell_type": "code",
      "metadata": {
        "id": "i0BOo_6-GHGf"
      },
      "source": [
        "import time\n",
        "import csv\n",
        "import os\n",
        "import copy\n",
        "import re\n",
        "import shutil\n",
        "import pydicom\n",
        "import pytesseract\n",
        "import cv2\n",
        "import numpy as np\n",
        "import pandas as pd\n",
        "from matplotlib import pyplot as plt\n",
        "import torch\n",
        "import torch.nn as nn\n",
        "import torch.nn.functional as F\n",
        "import torch.optim as optim\n",
        "from torchvision import datasets, models, transforms\n",
        "from torch.utils.data import Dataset, DataLoader\n",
        "from sklearn.metrics import precision_score, recall_score, f1_score, roc_curve, auc\n",
        "import albumentations as A\n",
        "from albumentations.pytorch import ToTensor\n",
        "from scipy import interp"
      ],
      "execution_count": 8,
      "outputs": []
    },
    {
      "cell_type": "code",
      "metadata": {
        "colab": {
          "base_uri": "https://localhost:8080/"
        },
        "id": "NQ0HNu54GHIn",
        "outputId": "c9ebb7e9-0482-4129-d907-81dc17f5da93"
      },
      "source": [
        "device = torch.device(\"cuda:0\" if torch.cuda.is_available() else \"cpu\")\n",
        "device"
      ],
      "execution_count": 9,
      "outputs": [
        {
          "output_type": "execute_result",
          "data": {
            "text/plain": [
              "device(type='cuda', index=0)"
            ]
          },
          "metadata": {
            "tags": []
          },
          "execution_count": 9
        }
      ]
    },
    {
      "cell_type": "code",
      "metadata": {
        "id": "DETS7_KlGHKn"
      },
      "source": [
        "class ImageDataset(Dataset):\n",
        "  def __init__(self, df, transform=None):\n",
        "    self.df = df\n",
        "    self.transform = transform         \n",
        "  \n",
        "  def __len__(self):\n",
        "    return len(self.df)\n",
        "\n",
        "  def __getitem__(self, idx):\n",
        "    img_name = self.df.iloc[idx,0]\n",
        "    data = pydicom.dcmread(img_name) # read dicom file\n",
        "    arr = data.pixel_array # read image into pixel data\n",
        "    shape = arr.shape\n",
        "    if len(shape) == 4:\n",
        "      arr = arr[0,:,:,0] # get the first slide of image\n",
        "    elif len(shape) == 3:\n",
        "      arr = arr[:,:,0] # get the first slide of image\n",
        "    else:\n",
        "      arr = arr\n",
        "    image = cv2.cvtColor(arr, cv2.COLOR_BGR2RGB)\n",
        "\n",
        "    labels = np.array(self.df.drop(['image_name'],axis=1))\n",
        "    label = labels[idx]\n",
        "\n",
        "    if self.transform:\n",
        "      image = self.transform(image=image)[\"image\"]\n",
        "    \n",
        "    return image, label"
      ],
      "execution_count": 10,
      "outputs": []
    },
    {
      "cell_type": "code",
      "metadata": {
        "id": "fPWlpzziGHM4"
      },
      "source": [
        "from sklearn.model_selection import train_test_split\n",
        "\n",
        "df = pd.read_csv(\"/content/drive/MyDrive/Data_testing/file_names.csv\")\n",
        "\n",
        "means=(0.485, 0.456, 0.406)\n",
        "stds=(0.229, 0.224, 0.225)\n",
        "\n",
        "albumentation_train_transform = A.Compose([\n",
        "                                      A.Resize(256,256),\n",
        "                                      A.ShiftScaleRotate(shift_limit=0.05, scale_limit=0.05, rotate_limit=15, p=0.5),\n",
        "                                      A.RandomCrop(height=224, width=224),\n",
        "                                      A.RGBShift(r_shift_limit=15, g_shift_limit=15, b_shift_limit=15, p=0.5),\n",
        "                                      A.RandomBrightnessContrast(p=0.5),\n",
        "                                      A.Normalize(mean=means, std=stds),\n",
        "                                      ToTensor(),\n",
        "                                    ])\n",
        "albumentation_val_transform = A.Compose([\n",
        "                                      A.Resize(256,256),\n",
        "                                      A.CenterCrop(height=224, width=224),\n",
        "                                      A.Normalize(mean=means, std=stds),\n",
        "                                      ToTensor(),\n",
        "                                  ])\n",
        "\n",
        "(train_df, val_df) = train_test_split(df, test_size = 0.4)\n",
        "(val_df, test_df) = train_test_split(val_df, test_size = 0.5)\n",
        "\n",
        "train_dataset = ImageDataset(train_df, transform=albumentation_train_transform)\n",
        "val_dataset = ImageDataset(val_df, transform=albumentation_val_transform)\n",
        "test_dataset = ImageDataset(test_df, transform=albumentation_val_transform)\n",
        "\n",
        "batch_num = 64\n",
        "\n",
        "train_dataloader = DataLoader(train_dataset, batch_size=batch_num, shuffle=True, num_workers=2, pin_memory=True)\n",
        "val_dataloader = DataLoader(val_dataset, batch_size=batch_num//4, shuffle=False, num_workers=2, pin_memory=True)\n",
        "test_dataloader = DataLoader(test_dataset, batch_size=batch_num//4, shuffle=False, num_workers=2, pin_memory=True)"
      ],
      "execution_count": 11,
      "outputs": []
    },
    {
      "cell_type": "code",
      "metadata": {
        "id": "_4qUXZypIjXM"
      },
      "source": [
        "class MultiLabelResnet(nn.Module):\n",
        "  def __init__(self):\n",
        "    super(MultiLabelResnet, self).__init__()\n",
        "    self.resnet = models.resnet18(pretrained=True) \n",
        "    self.linear = nn.Linear(1000, 4)\n",
        "    self.relu = nn.ReLU()\n",
        "    self.sigmoid = nn.Sigmoid()\n",
        "\n",
        "  def forward(self, x):\n",
        "    x = self.resnet(x)\n",
        "    x = self.relu(x)\n",
        "    x = self.linear(x)\n",
        "    x = self.sigmoid(x)\n",
        "    \n",
        "    return x"
      ],
      "execution_count": 12,
      "outputs": []
    },
    {
      "cell_type": "code",
      "metadata": {
        "id": "J5VSnFokKuAB"
      },
      "source": [
        "def calculate_metric(pred, label):\n",
        "  return {\n",
        "      \"micro_f1\":f1_score(y_true=label, y_pred=pred, average='micro'),\n",
        "      \"macro_f1\":f1_score(y_true=label, y_pred=pred, average='macro'),\n",
        "  }"
      ],
      "execution_count": 13,
      "outputs": []
    },
    {
      "cell_type": "code",
      "metadata": {
        "id": "hLHf4d-DGHOv"
      },
      "source": [
        "def train_model(train_dataloader, val_dataloader, optimizer, criterion, net, threshold, num_epochs):\n",
        "  since = time.time()\n",
        "\n",
        "  tot_train_loss = []\n",
        "  tot_val_loss = []\n",
        "\n",
        "  tot_train_acc = []\n",
        "  tot_val_acc = []\n",
        "  \n",
        "  for epoch in range(num_epochs):\n",
        "    print(\"Epoch: {}/{}\".format(epoch, num_epochs-1))\n",
        "    print('-' * 10)\n",
        "\n",
        "    net.train()\n",
        "    \n",
        "    train_running_loss = 0.0\n",
        "    train_loss_values = []\n",
        "\n",
        "    train_outputs = []\n",
        "    train_labels = []\n",
        "\n",
        "    for idx, data in enumerate(train_dataloader):\n",
        "      img, label = data\n",
        "      img = img.to(device)\n",
        "      label = label.to(device)\n",
        "\n",
        "      optimizer.zero_grad()\n",
        "\n",
        "      outputs = net(img)\n",
        "      loss = criterion(outputs, label.type(torch.float))\n",
        "\n",
        "      pred = outputs.data > threshold\n",
        "      pred = pred.type(torch.float)\n",
        "\n",
        "      loss.backward()\n",
        "      optimizer.step()\n",
        "      \n",
        "      train_loss_values.append(loss.item())\n",
        "      train_running_loss += loss.item()\n",
        "\n",
        "      train_outputs.extend(pred.cpu().to(torch.int).numpy())\n",
        "      train_labels.extend(label.cpu().to(torch.int).numpy())\n",
        "\n",
        "    train_result = calculate_metric(np.array(train_outputs), np.array(train_labels))\n",
        "\n",
        "    net.eval()\n",
        "\n",
        "    validation_running_loss = 0.0\n",
        "    val_loss_values = []\n",
        "\n",
        "    with torch.no_grad():\n",
        "      val_outputs = []\n",
        "      val_labels = []\n",
        "      for val_idx, val_data in enumerate(val_dataloader):\n",
        "        val_img, val_label = val_data\n",
        "        val_img = val_img.to(device) \n",
        "        val_label = val_label.to(device)\n",
        "\n",
        "        val_output = net(val_img)\n",
        "\n",
        "        val_loss = criterion(val_output, val_label.type(torch.float))\n",
        "\n",
        "        val_pred = val_output.data > threshold\n",
        "        val_pred = val_pred.type(torch.float)\n",
        "\n",
        "        val_outputs.extend(val_pred.cpu().to(torch.int).numpy())\n",
        "        val_labels.extend(val_label.cpu().to(torch.int).numpy())\n",
        "\n",
        "        val_loss_values.append(val_loss.item())\n",
        "        validation_running_loss += val_loss.item()\n",
        "\n",
        "    val_result = calculate_metric(np.array(val_outputs), np.array(val_labels))\n",
        "\n",
        "    final_train_loss = train_running_loss/len(train_dataloader)\n",
        "    final_val_loss = validation_running_loss/len(val_dataloader)\n",
        "\n",
        "    tot_train_loss.append(final_train_loss)\n",
        "    tot_val_loss.append(final_val_loss)\n",
        "\n",
        "    tot_train_acc.append(train_result)\n",
        "    tot_val_acc.append(val_result)\n",
        "\n",
        "    print(\"train loss: {}\".format(final_train_loss))\n",
        "    print(\"validation loss: {}\".format(final_val_loss))\n",
        "    print(\"train accuracy:\\n\",train_result)\n",
        "    print(\"validation accuracy:\\n\",val_result)\n",
        "    print()\n",
        "\n",
        "  tot_time = time.time() - since\n",
        "  print('Training complete in {:.0f}m {:.0f}s'.format(tot_time // 60, tot_time % 60))\n",
        "\n",
        "  return net, tot_train_loss, tot_val_loss, tot_train_acc, tot_val_acc "
      ],
      "execution_count": 14,
      "outputs": []
    },
    {
      "cell_type": "code",
      "metadata": {
        "id": "hJH72OtbGaCQ",
        "colab": {
          "base_uri": "https://localhost:8080/",
          "height": 85,
          "referenced_widgets": [
            "2def329102f14ef3a7d4820471614cc3",
            "bfab7dd9d47846a29dc3f9b89020de8f",
            "57729ac7c2074df597462ed1043b2b99",
            "19e5b06e68434db680a86a14684f417f",
            "0498c56e50934edcb02a5f61139aa5b1",
            "bea45abc87754106a53654b7b9fd7253",
            "38063ea88e7841778a0aa939e06ad680",
            "3a1ce943e6074aaa81c9652a0cdfa964"
          ]
        },
        "outputId": "f5fe6422-01dc-42d3-afdf-5d7b9376fdb8"
      },
      "source": [
        "network = MultiLabelResnet()\n",
        "network = network.to(device)\n",
        "criterion = torch.nn.BCELoss()\n",
        "optimizer = optim.Adam(network.parameters(), lr=0.00001)"
      ],
      "execution_count": 15,
      "outputs": [
        {
          "output_type": "stream",
          "text": [
            "Downloading: \"https://download.pytorch.org/models/resnet18-5c106cde.pth\" to /root/.cache/torch/hub/checkpoints/resnet18-5c106cde.pth\n"
          ],
          "name": "stderr"
        },
        {
          "output_type": "display_data",
          "data": {
            "application/vnd.jupyter.widget-view+json": {
              "model_id": "2def329102f14ef3a7d4820471614cc3",
              "version_minor": 0,
              "version_major": 2
            },
            "text/plain": [
              "HBox(children=(FloatProgress(value=0.0, max=46827520.0), HTML(value='')))"
            ]
          },
          "metadata": {
            "tags": []
          }
        },
        {
          "output_type": "stream",
          "text": [
            "\n"
          ],
          "name": "stdout"
        }
      ]
    },
    {
      "cell_type": "code",
      "metadata": {
        "colab": {
          "base_uri": "https://localhost:8080/"
        },
        "id": "EhUL9-V1Gby7",
        "outputId": "ae4c31a1-1885-4575-c7b9-7b09f76042e5"
      },
      "source": [
        "train_ft, resnet_train_loss, resnet_val_loss, resnet_train_result, resnet_val_result = train_model(train_dataloader, val_dataloader, optimizer, criterion, network, 0.5, 41)"
      ],
      "execution_count": 16,
      "outputs": [
        {
          "output_type": "stream",
          "text": [
            "Epoch: 0/40\n",
            "----------\n",
            "train loss: 0.6670887689841422\n",
            "validation loss: 0.5491431212425232\n",
            "train accuracy:\n",
            " {'micro_f1': 0.5319717967420374, 'macro_f1': 0.4626940049448648}\n",
            "validation accuracy:\n",
            " {'micro_f1': 0.6502384737678855, 'macro_f1': 0.5078627210154578}\n",
            "\n",
            "Epoch: 1/40\n",
            "----------\n",
            "train loss: 0.5446155039887679\n",
            "validation loss: 0.46679213881492615\n",
            "train accuracy:\n",
            " {'micro_f1': 0.6929095354523227, 'macro_f1': 0.6253264699099064}\n",
            "validation accuracy:\n",
            " {'micro_f1': 0.728813559322034, 'macro_f1': 0.6490971631579732}\n",
            "\n",
            "Epoch: 2/40\n",
            "----------\n",
            "train loss: 0.4741902570975454\n",
            "validation loss: 0.41113569498062136\n",
            "train accuracy:\n",
            " {'micro_f1': 0.7464443354585582, 'macro_f1': 0.6930956594988326}\n",
            "validation accuracy:\n",
            " {'micro_f1': 0.7810383747178329, 'macro_f1': 0.733008862041989}\n",
            "\n",
            "Epoch: 3/40\n",
            "----------\n",
            "train loss: 0.4203273277533682\n",
            "validation loss: 0.3714650344848633\n",
            "train accuracy:\n",
            " {'micro_f1': 0.7992296581608089, 'macro_f1': 0.762094303076045}\n",
            "validation accuracy:\n",
            " {'micro_f1': 0.8243045387994143, 'macro_f1': 0.7914496208851798}\n",
            "\n",
            "Epoch: 4/40\n",
            "----------\n",
            "train loss: 0.37387402277243764\n",
            "validation loss: 0.33986617922782897\n",
            "train accuracy:\n",
            " {'micro_f1': 0.8312993539124193, 'macro_f1': 0.8048743509865837}\n",
            "validation accuracy:\n",
            " {'micro_f1': 0.841799709724238, 'macro_f1': 0.8146787539697069}\n",
            "\n",
            "Epoch: 5/40\n",
            "----------\n",
            "train loss: 0.34555218407982274\n",
            "validation loss: 0.3108195447921753\n",
            "train accuracy:\n",
            " {'micro_f1': 0.8472976162379041, 'macro_f1': 0.8255490968703686}\n",
            "validation accuracy:\n",
            " {'micro_f1': 0.864321608040201, 'macro_f1': 0.8420229881002544}\n",
            "\n",
            "Epoch: 6/40\n",
            "----------\n",
            "train loss: 0.3141829606733824\n",
            "validation loss: 0.28448762953281403\n",
            "train accuracy:\n",
            " {'micro_f1': 0.8686490283306018, 'macro_f1': 0.8520671887167077}\n",
            "validation accuracy:\n",
            " {'micro_f1': 0.8748221906116642, 'macro_f1': 0.8545301473830459}\n",
            "\n",
            "Epoch: 7/40\n",
            "----------\n",
            "train loss: 0.28769282290810033\n",
            "validation loss: 0.264508421421051\n",
            "train accuracy:\n",
            " {'micro_f1': 0.8890951276102088, 'macro_f1': 0.8752415771851927}\n",
            "validation accuracy:\n",
            " {'micro_f1': 0.896600566572238, 'macro_f1': 0.8831538258428069}\n",
            "\n",
            "Epoch: 8/40\n",
            "----------\n",
            "train loss: 0.2629354211844896\n",
            "validation loss: 0.24972382485866546\n",
            "train accuracy:\n",
            " {'micro_f1': 0.8921864131694875, 'macro_f1': 0.8786161873814083}\n",
            "validation accuracy:\n",
            " {'micro_f1': 0.898102600140548, 'macro_f1': 0.884892648145898}\n",
            "\n",
            "Epoch: 9/40\n",
            "----------\n",
            "train loss: 0.2467076339219746\n",
            "validation loss: 0.23680029928684235\n",
            "train accuracy:\n",
            " {'micro_f1': 0.9013629013629013, 'macro_f1': 0.8901721406722571}\n",
            "validation accuracy:\n",
            " {'micro_f1': 0.9012693935119888, 'macro_f1': 0.8900360357167783}\n",
            "\n",
            "Epoch: 10/40\n",
            "----------\n",
            "train loss: 0.22871707771953784\n",
            "validation loss: 0.2243841630220413\n",
            "train accuracy:\n",
            " {'micro_f1': 0.9087970445624567, 'macro_f1': 0.8986374523884518}\n",
            "validation accuracy:\n",
            " {'micro_f1': 0.9097320169252469, 'macro_f1': 0.9009501225209058}\n",
            "\n",
            "Epoch: 11/40\n",
            "----------\n",
            "train loss: 0.21027478105143496\n",
            "validation loss: 0.21453982830047608\n",
            "train accuracy:\n",
            " {'micro_f1': 0.9139958496656675, 'macro_f1': 0.9038961177501057}\n",
            "validation accuracy:\n",
            " {'micro_f1': 0.9134412385643913, 'macro_f1': 0.9043699413287797}\n",
            "\n",
            "Epoch: 12/40\n",
            "----------\n",
            "train loss: 0.200117552750989\n",
            "validation loss: 0.20530060648918153\n",
            "train accuracy:\n",
            " {'micro_f1': 0.922060164083865, 'macro_f1': 0.9146657466086185}\n",
            "validation accuracy:\n",
            " {'micro_f1': 0.9168413696715583, 'macro_f1': 0.9085027877606959}\n",
            "\n",
            "Epoch: 13/40\n",
            "----------\n",
            "train loss: 0.1919278024058593\n",
            "validation loss: 0.19779136091470717\n",
            "train accuracy:\n",
            " {'micro_f1': 0.9232882986031601, 'macro_f1': 0.9146600883811271}\n",
            "validation accuracy:\n",
            " {'micro_f1': 0.92166549047283, 'macro_f1': 0.9125110796598399}\n",
            "\n",
            "Epoch: 14/40\n",
            "----------\n",
            "train loss: 0.17386390425656972\n",
            "validation loss: 0.19047577053308487\n",
            "train accuracy:\n",
            " {'micro_f1': 0.9351598173515981, 'macro_f1': 0.9296927055113428}\n",
            "validation accuracy:\n",
            " {'micro_f1': 0.9250175192711984, 'macro_f1': 0.918140150306508}\n",
            "\n",
            "Epoch: 15/40\n",
            "----------\n",
            "train loss: 0.16942082972903\n",
            "validation loss: 0.18442997097969055\n",
            "train accuracy:\n",
            " {'micro_f1': 0.9388596290359514, 'macro_f1': 0.9322351081907614}\n",
            "validation accuracy:\n",
            " {'micro_f1': 0.9236159775753328, 'macro_f1': 0.9157793362110661}\n",
            "\n",
            "Epoch: 16/40\n",
            "----------\n",
            "train loss: 0.15658472517603322\n",
            "validation loss: 0.17747744143009186\n",
            "train accuracy:\n",
            " {'micro_f1': 0.9422242521123545, 'macro_f1': 0.936424744076476}\n",
            "validation accuracy:\n",
            " {'micro_f1': 0.9308176100628931, 'macro_f1': 0.9238686346083668}\n",
            "\n",
            "Epoch: 17/40\n",
            "----------\n",
            "train loss: 0.14821222502934306\n",
            "validation loss: 0.1737585949897766\n",
            "train accuracy:\n",
            " {'micro_f1': 0.9481142857142858, 'macro_f1': 0.9440610481543296}\n",
            "validation accuracy:\n",
            " {'micro_f1': 0.9299719887955181, 'macro_f1': 0.9236068707673146}\n",
            "\n",
            "Epoch: 18/40\n",
            "----------\n",
            "train loss: 0.1401039318818795\n",
            "validation loss: 0.16831165671348572\n",
            "train accuracy:\n",
            " {'micro_f1': 0.9514874141876429, 'macro_f1': 0.9465133677383432}\n",
            "validation accuracy:\n",
            " {'micro_f1': 0.933519944016795, 'macro_f1': 0.9266967604975771}\n",
            "\n",
            "Epoch: 19/40\n",
            "----------\n",
            "train loss: 0.13572202622890472\n",
            "validation loss: 0.1608614107966423\n",
            "train accuracy:\n",
            " {'micro_f1': 0.9510073260073261, 'macro_f1': 0.9461376659238713}\n",
            "validation accuracy:\n",
            " {'micro_f1': 0.9338900487125956, 'macro_f1': 0.9276514561481977}\n",
            "\n",
            "Epoch: 20/40\n",
            "----------\n",
            "train loss: 0.1299396467052008\n",
            "validation loss: 0.15814380273222922\n",
            "train accuracy:\n",
            " {'micro_f1': 0.9590857142857143, 'macro_f1': 0.9546974369283209}\n",
            "validation accuracy:\n",
            " {'micro_f1': 0.935191637630662, 'macro_f1': 0.9289625563412828}\n",
            "\n",
            "Epoch: 21/40\n",
            "----------\n",
            "train loss: 0.123365618288517\n",
            "validation loss: 0.15573332339525223\n",
            "train accuracy:\n",
            " {'micro_f1': 0.9531214269380288, 'macro_f1': 0.9481966114178839}\n",
            "validation accuracy:\n",
            " {'micro_f1': 0.9343575418994413, 'macro_f1': 0.9278270391021615}\n",
            "\n",
            "Epoch: 22/40\n",
            "----------\n",
            "train loss: 0.10933214112331993\n",
            "validation loss: 0.15046065762639046\n",
            "train accuracy:\n",
            " {'micro_f1': 0.9654699291104505, 'macro_f1': 0.9619801353506375}\n",
            "validation accuracy:\n",
            " {'micro_f1': 0.9397759103641457, 'macro_f1': 0.9340867854209283}\n",
            "\n",
            "Epoch: 23/40\n",
            "----------\n",
            "train loss: 0.10812644052662347\n",
            "validation loss: 0.14853426665067673\n",
            "train accuracy:\n",
            " {'micro_f1': 0.9617586443782917, 'macro_f1': 0.9582065297465455}\n",
            "validation accuracy:\n",
            " {'micro_f1': 0.9384615384615385, 'macro_f1': 0.9331504861758344}\n",
            "\n",
            "Epoch: 24/40\n",
            "----------\n",
            "train loss: 0.11339421413446728\n",
            "validation loss: 0.14480604782700537\n",
            "train accuracy:\n",
            " {'micro_f1': 0.9627428571428571, 'macro_f1': 0.9596241538675749}\n",
            "validation accuracy:\n",
            " {'micro_f1': 0.9391182645206437, 'macro_f1': 0.9334647823278166}\n",
            "\n",
            "Epoch: 25/40\n",
            "----------\n",
            "train loss: 0.0945173168652936\n",
            "validation loss: 0.1426122735440731\n",
            "train accuracy:\n",
            " {'micro_f1': 0.9691428571428573, 'macro_f1': 0.9667423274561625}\n",
            "validation accuracy:\n",
            " {'micro_f1': 0.935191637630662, 'macro_f1': 0.929677752876418}\n",
            "\n",
            "Epoch: 26/40\n",
            "----------\n",
            "train loss: 0.09440154641082413\n",
            "validation loss: 0.13898571267724036\n",
            "train accuracy:\n",
            " {'micro_f1': 0.9711802378774017, 'macro_f1': 0.9690787752365637}\n",
            "validation accuracy:\n",
            " {'micro_f1': 0.9390329362298528, 'macro_f1': 0.9326111043680885}\n",
            "\n",
            "Epoch: 27/40\n",
            "----------\n",
            "train loss: 0.08454725224720805\n",
            "validation loss: 0.1371882663667202\n",
            "train accuracy:\n",
            " {'micro_f1': 0.97396071265418, 'macro_f1': 0.9718921882898496}\n",
            "validation accuracy:\n",
            " {'micro_f1': 0.939288206559665, 'macro_f1': 0.9340535187233387}\n",
            "\n",
            "Epoch: 28/40\n",
            "----------\n",
            "train loss: 0.07751517448770373\n",
            "validation loss: 0.1357349383831024\n",
            "train accuracy:\n",
            " {'micro_f1': 0.9786941580756015, 'macro_f1': 0.9767024507080633}\n",
            "validation accuracy:\n",
            " {'micro_f1': 0.9447165850244926, 'macro_f1': 0.9394779690491661}\n",
            "\n",
            "Epoch: 29/40\n",
            "----------\n",
            "train loss: 0.07906779686087057\n",
            "validation loss: 0.1339943054318428\n",
            "train accuracy:\n",
            " {'micro_f1': 0.9748628884826327, 'macro_f1': 0.9732825418089853}\n",
            "validation accuracy:\n",
            " {'micro_f1': 0.9406838799720866, 'macro_f1': 0.9357009065430401}\n",
            "\n",
            "Epoch: 30/40\n",
            "----------\n",
            "train loss: 0.07754575480756007\n",
            "validation loss: 0.1351114998757839\n",
            "train accuracy:\n",
            " {'micro_f1': 0.9740318906605923, 'macro_f1': 0.9721357184002868}\n",
            "validation accuracy:\n",
            " {'micro_f1': 0.9370629370629371, 'macro_f1': 0.9317337990223065}\n",
            "\n",
            "Epoch: 31/40\n",
            "----------\n",
            "train loss: 0.07048874838571799\n",
            "validation loss: 0.12951780378818512\n",
            "train accuracy:\n",
            " {'micro_f1': 0.9784995425434584, 'macro_f1': 0.9770548103965139}\n",
            "validation accuracy:\n",
            " {'micro_f1': 0.9456066945606695, 'macro_f1': 0.9419391420030108}\n",
            "\n",
            "Epoch: 32/40\n",
            "----------\n",
            "train loss: 0.06596685828346956\n",
            "validation loss: 0.12943226233124733\n",
            "train accuracy:\n",
            " {'micro_f1': 0.9830741079597437, 'macro_f1': 0.9811794326772587}\n",
            "validation accuracy:\n",
            " {'micro_f1': 0.9456066945606695, 'macro_f1': 0.9415711291913216}\n",
            "\n",
            "Epoch: 33/40\n",
            "----------\n",
            "train loss: 0.061529254834902916\n",
            "validation loss: 0.12786909729242324\n",
            "train accuracy:\n",
            " {'micro_f1': 0.9830741079597437, 'macro_f1': 0.9818701267091832}\n",
            "validation accuracy:\n",
            " {'micro_f1': 0.9433962264150944, 'macro_f1': 0.9381789140415145}\n",
            "\n",
            "Epoch: 34/40\n",
            "----------\n",
            "train loss: 0.06046194406716447\n",
            "validation loss: 0.1252115548402071\n",
            "train accuracy:\n",
            " {'micro_f1': 0.9819511080648846, 'macro_f1': 0.9799951738310311}\n",
            "validation accuracy:\n",
            " {'micro_f1': 0.9462665736217726, 'macro_f1': 0.9426563165364241}\n",
            "\n",
            "Epoch: 35/40\n",
            "----------\n",
            "train loss: 0.05425066912644788\n",
            "validation loss: 0.12263439759612084\n",
            "train accuracy:\n",
            " {'micro_f1': 0.9856065798492117, 'macro_f1': 0.9845724123710942}\n",
            "validation accuracy:\n",
            " {'micro_f1': 0.9475890985324947, 'macro_f1': 0.9426952473375998}\n",
            "\n",
            "Epoch: 36/40\n",
            "----------\n",
            "train loss: 0.05630467165457575\n",
            "validation loss: 0.12198978923261165\n",
            "train accuracy:\n",
            " {'micro_f1': 0.9855868222374742, 'macro_f1': 0.9842120076098648}\n",
            "validation accuracy:\n",
            " {'micro_f1': 0.950453593859037, 'macro_f1': 0.9460822899930771}\n",
            "\n",
            "Epoch: 37/40\n",
            "----------\n",
            "train loss: 0.054490298424896444\n",
            "validation loss: 0.12150284871459008\n",
            "train accuracy:\n",
            " {'micro_f1': 0.9844322344322344, 'macro_f1': 0.9830210354804911}\n",
            "validation accuracy:\n",
            " {'micro_f1': 0.9491289198606272, 'macro_f1': 0.9446560425966812}\n",
            "\n",
            "Epoch: 38/40\n",
            "----------\n",
            "train loss: 0.055885320039171925\n",
            "validation loss: 0.12449965298175812\n",
            "train accuracy:\n",
            " {'micro_f1': 0.9871853546910756, 'macro_f1': 0.9859600792805077}\n",
            "validation accuracy:\n",
            " {'micro_f1': 0.9499304589707928, 'macro_f1': 0.9456855036703262}\n",
            "\n",
            "Epoch: 39/40\n",
            "----------\n",
            "train loss: 0.044255725255138\n",
            "validation loss: 0.12211719840765\n",
            "train accuracy:\n",
            " {'micro_f1': 0.989257142857143, 'macro_f1': 0.9883801056567268}\n",
            "validation accuracy:\n",
            " {'micro_f1': 0.9518492672714586, 'macro_f1': 0.9474073363332048}\n",
            "\n",
            "Epoch: 40/40\n",
            "----------\n",
            "train loss: 0.04783335661417559\n",
            "validation loss: 0.12216782689094544\n",
            "train accuracy:\n",
            " {'micro_f1': 0.9858188472095152, 'macro_f1': 0.9848614317480271}\n",
            "validation accuracy:\n",
            " {'micro_f1': 0.9519163763066201, 'macro_f1': 0.9479177794476251}\n",
            "\n",
            "Training complete in 12m 55s\n"
          ],
          "name": "stdout"
        }
      ]
    },
    {
      "cell_type": "code",
      "metadata": {
        "colab": {
          "base_uri": "https://localhost:8080/",
          "height": 295
        },
        "id": "wfjTGwtpGex4",
        "outputId": "540964c1-76e5-4cab-be48-b73cc842bb32"
      },
      "source": [
        "plt.plot(resnet_train_loss, label='Train Loss')\n",
        "plt.plot(resnet_val_loss, label='Validation Loss')\n",
        "plt.legend()\n",
        "plt.title(\"Loss curves\")\n",
        "plt.xlabel(\"Epoch\")\n",
        "plt.ylabel(\"Loss\")\n",
        "plt.grid()"
      ],
      "execution_count": 17,
      "outputs": [
        {
          "output_type": "display_data",
          "data": {
            "image/png": "[encoded data removed]",
            "text/plain": [
              "<Figure size 432x288 with 1 Axes>"
            ]
          },
          "metadata": {
            "tags": [],
            "needs_background": "light"
          }
        }
      ]
    },
    {
      "cell_type": "code",
      "metadata": {
        "colab": {
          "base_uri": "https://localhost:8080/",
          "height": 295
        },
        "id": "t6sUCAdGGkvJ",
        "outputId": "363ab7e7-3e77-4a5d-c8ba-7a6728caa568"
      },
      "source": [
        "a = []\n",
        "b = []\n",
        "for result in resnet_train_result:\n",
        "  a.append(result[\"micro_f1\"]*100)\n",
        "\n",
        "for result in resnet_val_result:\n",
        "  b.append(result[\"micro_f1\"]*100)\n",
        "\n",
        "plt.plot(a, label='Train Accuracy')\n",
        "plt.plot(b, label='Validation Accuracy')\n",
        "plt.legend()\n",
        "plt.title(\"Accuracy curves for micro f1\")\n",
        "plt.xlabel(\"Epoch\")\n",
        "plt.ylabel(\"Accuracy\")\n",
        "plt.grid()"
      ],
      "execution_count": 18,
      "outputs": [
        {
          "output_type": "display_data",
          "data": {
            "image/png": "[encoded data removed]",
            "text/plain": [
              "<Figure size 432x288 with 1 Axes>"
            ]
          },
          "metadata": {
            "tags": [],
            "needs_background": "light"
          }
        }
      ]
    },
    {
      "cell_type": "code",
      "metadata": {
        "colab": {
          "base_uri": "https://localhost:8080/",
          "height": 295
        },
        "id": "ViiV5uMRGkxL",
        "outputId": "183cca3e-bb8c-4e5a-e54f-22142ef99733"
      },
      "source": [
        "a = []\n",
        "b = []\n",
        "for result in resnet_train_result:\n",
        "  a.append(result[\"macro_f1\"]*100)\n",
        "\n",
        "for result in resnet_val_result:\n",
        "  b.append(result[\"macro_f1\"]*100)\n",
        "\n",
        "plt.plot(a, label='Train Accuracy')\n",
        "plt.plot(b, label='Validation Accuracy')\n",
        "plt.legend()\n",
        "plt.title(\"Accuracy curves for macro f1\")\n",
        "plt.xlabel(\"Epoch\")\n",
        "plt.ylabel(\"Accuracy\")\n",
        "plt.grid()"
      ],
      "execution_count": 19,
      "outputs": [
        {
          "output_type": "display_data",
          "data": {
            "image/png": "[encoded data removed]",
            "text/plain": [
              "<Figure size 432x288 with 1 Axes>"
            ]
          },
          "metadata": {
            "tags": [],
            "needs_background": "light"
          }
        }
      ]
    },
    {
      "cell_type": "code",
      "metadata": {
        "id": "7vEpOSXRHCu9"
      },
      "source": [
        "def test_model(test_dataloader, optimizer, criterion, net, threshold):\n",
        "  test_outputs = []\n",
        "  test_labels = []\n",
        "  since = time.time()\n",
        "\n",
        "  net.eval()\n",
        "\n",
        "  for idx, data in enumerate(test_dataloader):\n",
        "    img, label = data\n",
        "    img = img.to(device)\n",
        "    label = label.to(device)\n",
        "\n",
        "    outputs = net(img)\n",
        "\n",
        "    pred = outputs.data > threshold\n",
        "    pred = pred.type(torch.float)\n",
        "      \n",
        "    test_outputs.extend(pred.cpu().to(torch.int).numpy())\n",
        "    test_labels.extend(label.cpu().to(torch.int).numpy())\n",
        "\n",
        "  test_result = calculate_metric(np.array(test_outputs), np.array(test_labels))\n",
        "  \n",
        "  tot_time = time.time() - since\n",
        "  print('Testing complete in {:.0f}m {:.0f}s'.format(tot_time // 60, tot_time % 60))\n",
        "\n",
        "  return np.asarray(test_outputs), np.asarray(test_labels), test_result "
      ],
      "execution_count": 20,
      "outputs": []
    },
    {
      "cell_type": "code",
      "metadata": {
        "id": "DCp8fQBTPAVh",
        "colab": {
          "base_uri": "https://localhost:8080/"
        },
        "outputId": "9db7c89e-f816-4af4-94f1-01efab325f2b"
      },
      "source": [
        "resnet_test_outputs, resnet_test_labels, resnet_test_result = test_model(test_dataloader, optimizer, criterion, train_ft, 0.5)"
      ],
      "execution_count": 21,
      "outputs": [
        {
          "output_type": "stream",
          "text": [
            "Testing complete in 1m 32s\n"
          ],
          "name": "stdout"
        }
      ]
    },
    {
      "cell_type": "code",
      "metadata": {
        "colab": {
          "base_uri": "https://localhost:8080/"
        },
        "id": "A9HXy-3JXUkH",
        "outputId": "0f9f83fa-d729-469b-d486-3b01c16e7e88"
      },
      "source": [
        "resnet_test_result"
      ],
      "execution_count": 22,
      "outputs": [
        {
          "output_type": "execute_result",
          "data": {
            "text/plain": [
              "{'macro_f1': 0.9440698786776246, 'micro_f1': 0.9470827679782905}"
            ]
          },
          "metadata": {
            "tags": []
          },
          "execution_count": 22
        }
      ]
    },
    {
      "cell_type": "code",
      "metadata": {
        "id": "ChJM_yRV9_B-",
        "colab": {
          "base_uri": "https://localhost:8080/"
        },
        "outputId": "487e9236-8316-4eac-cbae-cca3a4461376"
      },
      "source": [
        "fpr = dict()\n",
        "tpr = dict()\n",
        "roc_auc = dict()\n",
        "\n",
        "for idx in range(4):\n",
        "    fpr[idx], tpr[idx], _ = roc_curve(resnet_test_labels[:, idx], resnet_test_outputs[:, idx])\n",
        "    roc_auc[idx] = auc(fpr[idx], tpr[idx])\n",
        "\n",
        "fpr[\"micro\"], tpr[\"micro\"], _ = roc_curve(resnet_test_labels.ravel(), resnet_test_outputs.ravel())\n",
        "roc_auc[\"micro\"] = auc(fpr[\"micro\"], tpr[\"micro\"])\n",
        "\n",
        "all_fpr = np.unique(np.concatenate([fpr[i] for i in range(4)]))\n",
        "\n",
        "mean_tpr = np.zeros_like(all_fpr)\n",
        "for i in range(4):\n",
        "    mean_tpr += interp(all_fpr, fpr[i], tpr[i])\n",
        "\n",
        "mean_tpr /= 4\n",
        "\n",
        "fpr[\"macro\"] = all_fpr\n",
        "tpr[\"macro\"] = mean_tpr\n",
        "roc_auc[\"macro\"] = auc(fpr[\"macro\"], tpr[\"macro\"])"
      ],
      "execution_count": 23,
      "outputs": [
        {
          "output_type": "stream",
          "text": [
            "/usr/local/lib/python3.7/dist-packages/ipykernel_launcher.py:16: DeprecationWarning: scipy.interp is deprecated and will be removed in SciPy 2.0.0, use numpy.interp instead\n",
            "  app.launch_new_instance()\n"
          ],
          "name": "stderr"
        }
      ]
    },
    {
      "cell_type": "code",
      "metadata": {
        "colab": {
          "base_uri": "https://localhost:8080/",
          "height": 301
        },
        "id": "UKSMUQL_eeyo",
        "outputId": "ddc264e5-5115-4bfb-c510-d6f0bb04669d"
      },
      "source": [
        "x = np.linspace(0,1)\n",
        "y = x\n",
        "plt.plot(x,y,linestyle=\"dashed\",color='black')\n",
        "plt.plot(fpr[\"micro\"], tpr[\"micro\"],\n",
        "         label='micro-average ROC curve (area = {0:0.2f})'.format(roc_auc[\"micro\"]))\n",
        "plt.plot(fpr[\"macro\"], tpr[\"macro\"],\n",
        "         label='macro-average ROC curve (area = {0:0.2f})'.format(roc_auc[\"macro\"]))\n",
        "plt.xlim([0,1])\n",
        "plt.ylim([0,1])\n",
        "plt.xlabel(\"False Positive Rate\")\n",
        "plt.ylabel(\"True Positive Rate\")\n",
        "plt.legend()"
      ],
      "execution_count": 24,
      "outputs": [
        {
          "output_type": "execute_result",
          "data": {
            "text/plain": [
              "<matplotlib.legend.Legend at 0x7f4b11d4ed50>"
            ]
          },
          "metadata": {
            "tags": []
          },
          "execution_count": 24
        },
        {
          "output_type": "display_data",
          "data": {
            "image/png": "[encoded data removed]",
            "text/plain": [
              "<Figure size 432x288 with 1 Axes>"
            ]
          },
          "metadata": {
            "tags": [],
            "needs_background": "light"
          }
        }
      ]
    },
    {
      "cell_type": "code",
      "metadata": {
        "id": "P5PzD_KknrWn"
      },
      "source": [
        "final_df = pd.DataFrame(data=resnet_train_loss, columns=[\"train_loss\"])\n",
        "final_df[\"train_result_micro\"] = [data['micro_f1'] for data in resnet_train_result]\n",
        "final_df[\"train_result_macro\"] = [data['macro_f1'] for data in resnet_train_result]\n",
        "final_df[\"val_loss\"] = resnet_val_loss\n",
        "final_df[\"val_result_micro\"] = [data['micro_f1'] for data in resnet_val_result]\n",
        "final_df[\"val_result_macro\"] = [data['macro_f1'] for data in resnet_val_result]\n",
        "\n",
        "\n",
        "final_df.to_csv(\"/content/drive/MyDrive/Output/resnet_train\",index=False)"
      ],
      "execution_count": 25,
      "outputs": []
    },
    {
      "cell_type": "code",
      "metadata": {
        "id": "ccQ9NX-1u519"
      },
      "source": [
        "final_df_train = pd.DataFrame(data=resnet_test_labels, columns=[\"label1\",\"label2\",\"label3\",\"label4\"])\n",
        "final_df_train[\"pred1\"] = resnet_test_outputs[:,0]\n",
        "final_df_train[\"pred2\"] = resnet_test_outputs[:,1]\n",
        "final_df_train[\"pred3\"] = resnet_test_outputs[:,2]\n",
        "final_df_train[\"pred4\"] = resnet_test_outputs[:,3]\n",
        "\n",
        "final_df_train.to_csv(\"/content/drive/MyDrive/Output/resnet_test\",index=False)"
      ],
      "execution_count": 26,
      "outputs": []
    },
    {
      "cell_type": "code",
      "metadata": {
        "id": "rAl9hbkO0djU"
      },
      "source": [
        ""
      ],
      "execution_count": 26,
      "outputs": []
    }
  ]
}